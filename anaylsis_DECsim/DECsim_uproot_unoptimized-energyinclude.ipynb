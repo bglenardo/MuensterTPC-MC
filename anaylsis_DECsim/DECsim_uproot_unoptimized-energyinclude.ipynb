{
 "cells": [
  {
   "cell_type": "code",
   "execution_count": 861,
   "metadata": {},
   "outputs": [],
   "source": [
    "### import necessary packages\n",
    "import uproot\n",
    "import numpy as np\n",
    "import pandas as pd\n",
    "from matplotlib import pyplot as plt\n",
    "import time\n",
    "from tqdm import tqdm\n",
    "from itertools import permutations, product, combinations, chain\n"
   ]
  },
  {
   "cell_type": "code",
   "execution_count": 862,
   "metadata": {},
   "outputs": [],
   "source": [
    "def powerset(iterable):\n",
    "    \"powerset([1,2,3]) --> () (1,) (2,) (3,) (1,2) (1,3) (2,3) (1,2,3)\"\n",
    "    s = list(iterable)  # allows duplicate elements\n",
    "    return chain.from_iterable(combinations(s, r) for r in range(len(s)+1))"
   ]
  },
  {
   "cell_type": "code",
   "execution_count": 863,
   "metadata": {},
   "outputs": [],
   "source": [
    "### transforms a root file in a single index file\n",
    "### had issues reading out the multiindex file although I think this is the way to go for an optimized script\n",
    "### the function also sorts in zp for the further analysis\n",
    "def transform_root_file_and_sort_by_z(filename):\n",
    "    events=uproot.open(filename)[\"events\"]\n",
    "    events2=events[\"events\"]# why do I have to do that\n",
    "    df =  events2.pandas.df([\"ed\", \"zp\",\"xp\",\"yp\",\"trackid\",\"parentid\",\"etot\"]) # make a pandas data frame with the parameters of interest\n",
    "    df2 = df.sort_values('zp', ascending=False).sort_index(level='entry', sort_remaining=False) # sort by z\n",
    "    df3 = df2.reset_index(level=\"entry\") # remove multiindex1\n",
    "    df4 = df3.reset_index(level=\"subentry\") # remove multiindex2\n",
    "    return df4"
   ]
  },
  {
   "cell_type": "code",
   "execution_count": 864,
   "metadata": {},
   "outputs": [],
   "source": [
    "### this is most likely outdated and was a solution where I included the first and last index in separate cases.\n",
    "\n",
    "def get_data_frame_with_summed_energy_complicated(df4,z_res):\n",
    "    energy_in_one = 0\n",
    "    energy_list = []\n",
    "    event_list = []\n",
    "    energy_tot_list = []\n",
    "    for j in df4.index:\n",
    "    #tqdm(df4.index):#len(df2.groupby(level=0))):\n",
    "        #print(df4[\"zp\"][j])\n",
    "        #print(energy_in_one,j,df4[\"zp\"][j],\"start\",df4[\"ed\"][j])\n",
    "        #print(np.abs(df4[\"zp\"][j+1]-df4[\"zp\"][j]),\"diff_high\")\n",
    "        #print(np.abs(df4[\"zp\"][j-1]-df4[\"zp\"][j]),\"diff_low\")       \n",
    "            if(j==0): # first index\n",
    "                if((np.abs(df4.at[j+1,\"zp\"]-df4.at[j,\"zp\"]))<z_res and df4.at[j,\"entry\"]==df4.at[j+1,\"entry\"] ): # check whether two subsequent indices are within the same z\n",
    "                    #print((np.abs(df4[\"zp\"][j+1]-df4[\"zp\"][j])),\"1\")\n",
    "                    energy_in_one+=df4.at[j,\"ed\"] # if so, add it to summed energy\n",
    "            elif(j>0 and j<(len(df4)) and (np.abs(df4.at[j-1,\"zp\"]-df4.at[j,\"zp\"]))<z_res and df4.at[j,\"entry\"]==df4.at[j-1,\"entry\"]):    \n",
    "                    energy_in_one+=df4.at[j,\"ed\"]\n",
    "                    #print(df4[\"zp\"][j],(np.abs(df4[\"zp\"][j-1]-df4[\"zp\"][j])),\"3\")  \n",
    "            elif(df4.at[j,\"entry\"]!=df4.at[j+1,\"entry\"]) :\n",
    "                    energy_list.append(energy_in_one)\n",
    "                    event_list.append(df4.at[j,\"entry\"])\n",
    "                    energy_tot_list.append(df4.at[j,\"etot\"])\n",
    "                    energy_in_one = df4.at[j,\"ed\"]    \n",
    "            elif(j==(len(df4))): # last index (not working properly)\n",
    "                if((np.abs(df4.at[j-1,\"zp\"]-df4.at[j,\"zp\"]))<z_res and df4.at[j,\"entry\"]==df4.at[j-1,\"entry\"]):\n",
    "                    energy_in_one+=df4.at[j,\"ed\"]\n",
    "                    #print((np.abs(df4[\"zp\"][j+1]-df4[\"zp\"][j])),\"2\")\n",
    "            else:   # if resolveable, write out the energy summed so far                    \n",
    "                    #print(df4[\"zp\"],(np.abs(df4[\"zp\"][j-1]-df4[\"zp\"][j])),\"4\")\n",
    "                    #print((np.abs(df4[\"zp\"][j+1]-df4[\"zp\"][j])),\"5\")\n",
    "                    energy_list.append(energy_in_one)\n",
    "                    event_list.append(df4.at[j-1,\"entry\"])\n",
    "                    energy_tot_list.append(df4.at[j-1,\"etot\"])\n",
    "                    energy_in_one = df4.at[j,\"ed\"]   \n",
    "\n",
    "    df_new = pd.DataFrame()\n",
    "    df_new[\"event_id\"] = event_list\n",
    "    df_new[\"energy\"] = energy_list\n",
    "    df_new[\"etot\"] = energy_tot_list\n",
    "    return df_new\n",
    "    \n"
   ]
  },
  {
   "cell_type": "code",
   "execution_count": 865,
   "metadata": {},
   "outputs": [],
   "source": [
    "### function to obtain summed energy using z resolution only\n",
    "### the code scans trough the data frame and adds up energy values until it is resolvable in z\n",
    "### code is added to a list and put back in a df \n",
    "\n",
    "### toDO: there is a lot of ways to improve the efficience (benchmark at the moment on my machine 5min for 100k, 45min for 1M events)\n",
    "### toDO: the first and  the last energies are not correctly handled\n",
    "\n",
    "\n",
    "def get_data_frame_with_summed_energy(df4,z_res): #pick a resolution in z and a data frame\n",
    "    energy_in_one = 0 # initialize the variable to add energy if below z_res\n",
    "    energy_list = [] # lists for later\n",
    "    event_list = []\n",
    "    energy_tot_list = []\n",
    "    for j in df4.index:\n",
    "    #tqdm(df4.index):#len(df2.groupby(level=0))):\n",
    "      if(j>0 and j<(len(df4))): #ignore last and first event since it is annoying when doing +-1\n",
    "            if((np.abs(df4.at[j-1,\"zp\"]-df4.at[j,\"zp\"]))<z_res and (df4.at[j,\"entry\"]==df4.at[j-1,\"entry\"])): #if same event and below z_res add up   \n",
    "                    energy_in_one+=df4.at[j,\"ed\"] \n",
    "            elif(df4.at[j,\"entry\"]!=df4.at[j+1,\"entry\"]) : # if the event ends, add into the list the energy which is stored at the moment\n",
    "                    energy_list.append(energy_in_one)\n",
    "                    event_list.append(df4.at[j,\"entry\"]) # \n",
    "                    energy_tot_list.append(df4.at[j,\"etot\"])\n",
    "                    energy_in_one = df4.at[j,\"ed\"]    \n",
    "            else:   # if resolveable, write out the energy summed so far                    \n",
    "                    energy_list.append(energy_in_one)\n",
    "                    event_list.append(df4.at[j-1,\"entry\"]) # j-1, since we are at a point where J is already from the next event\n",
    "                    energy_tot_list.append(df4.at[j-1,\"etot\"])\n",
    "                    energy_in_one = df4.at[j,\"ed\"]      \n",
    "\n",
    "    df_new = pd.DataFrame()\n",
    "    df_new[\"event_id\"] = event_list\n",
    "    df_new[\"energy\"] = energy_list\n",
    "    df_new[\"etot\"] = energy_tot_list\n",
    "    return df_new\n",
    "    \n"
   ]
  },
  {
   "cell_type": "code",
   "execution_count": 866,
   "metadata": {},
   "outputs": [],
   "source": [
    "### in progress\n",
    "### toDO: x,y is not sorted. So there may be events which bounce crazy and cause problems if they are at the same z, this has to be checked\n",
    "### toDO: the first and the last are not handled\n",
    "\n",
    "def get_data_frame_with_summed_energy_xy(df4,z_res,xy_res):\n",
    "    energy_in_one = 0\n",
    "    energy_list = []\n",
    "    event_list = []\n",
    "    energy_tot_list = []\n",
    "    for j in df4.index:\n",
    "        if(j>0 and j<(len(df4))):\n",
    "            if  (df4.at[j,\"entry\"]==df4.at[j-1,\"entry\"] \n",
    "            and ((np.abs(df4.at[j-1,\"zp\"]-df4.at[j,\"zp\"])<z_res))\n",
    "            and ((np.abs(df4.at[j-1,\"xp\"]-df4.at[j,\"xp\"])<xy_res)) \n",
    "            and ((np.abs(df4.at[j-1,\"yp\"]-df4.at[j,\"yp\"])<xy_res))):\n",
    "                            energy_in_one+=df4.at[j,\"ed\"]\n",
    "            elif(df4.at[j,\"entry\"]!=df4.at[j+1,\"entry\"]) :\n",
    "                    energy_list.append(energy_in_one)\n",
    "                    event_list.append(df4.at[j,\"entry\"])\n",
    "                    energy_tot_list.append(df4.at[j,\"etot\"])\n",
    "                    energy_in_one = df4.at[j,\"ed\"]    \n",
    "            else:   # if resolveable, write out the energy summed so far                    \n",
    "                    energy_list.append(energy_in_one)\n",
    "                    event_list.append(df4.at[j-1,\"entry\"])\n",
    "                    energy_tot_list.append(df4.at[j-1,\"etot\"])\n",
    "                    energy_in_one = df4.at[j,\"ed\"] # j is the stored energy. The results look alright, but does this make problems in border cases?\n",
    "                \n",
    "        #else  print(j)\n",
    "            \n",
    "    df_new_with_xy  = pd.DataFrame() # make a new dataframe to fill with results (ladies and gentlemen, mr.inefficient)\n",
    "    df_new_with_xy [\"event_id\"] = event_list # the event_id\n",
    "    df_new_with_xy [\"energy\"] = energy_list # the energy\n",
    "    df_new_with_xy [\"etot\"] = energy_tot_list # the total energy deposition, important for cuts later but also cross check \n",
    "    return df_new_with_xy    "
   ]
  },
  {
   "cell_type": "code",
   "execution_count": 1051,
   "metadata": {},
   "outputs": [],
   "source": [
    "def get_number_of_scatter(df_new,number_of_events=10000,multiplicity=2): # number of events can be set by the length of your file (toDO: it may need a correction by 2), multiplicity is simply how many scatter you want\n",
    "    scatter_list = [] # I love lists apparently\n",
    "    fraction_above_multi = 0 # will be the final value for the fraction above a certain multiplicity\n",
    "    for i in np.arange(0,df_new.at[df_new.index[-1], 'event_id']):\n",
    "        scatter_list.append(len(df_new[df_new['event_id'] == i]))\n",
    "    ## list comprehension below, isn't faster\n",
    "    #different_num = [len(df_new[df_new['event_id'] == i]) for i in np.arange(0,df_new.at[df_new.index[-1], 'event_id'])]\n",
    "    fraction_above_multi = np.divide(np.count_nonzero(np.asarray(scatter_list)>(multiplicity-1)),number_of_events) # just count all events above a certain multiplicity and calculate a ratio to the total events\n",
    "    return fraction_above_multi"
   ]
  },
  {
   "cell_type": "code",
   "execution_count": 1052,
   "metadata": {},
   "outputs": [],
   "source": [
    "\n",
    "df4 = transform_root_file_and_sort_by_z(\"test10k_vol.root\")"
   ]
  },
  {
   "cell_type": "code",
   "execution_count": 1053,
   "metadata": {},
   "outputs": [
    {
     "data": {
      "text/plain": [
       "[0.783, 0.5543, 0.3777, 0.2611]"
      ]
     },
     "execution_count": 1053,
     "metadata": {},
     "output_type": "execute_result"
    }
   ],
   "source": [
    "fraction_list = []\n",
    "res_values = np.arange(10,50,10)\n",
    "for i in res_values:\n",
    "    fraction_list.append(get_number_of_scatter(get_data_frame_with_summed_energy(df4,i)))\n",
    "fraction_list    "
   ]
  },
  {
   "cell_type": "code",
   "execution_count": 1054,
   "metadata": {},
   "outputs": [
    {
     "data": {
      "text/plain": [
       "[<matplotlib.lines.Line2D at 0x7f4b3b5960b8>]"
      ]
     },
     "execution_count": 1054,
     "metadata": {},
     "output_type": "execute_result"
    },
    {
     "data": {
      "image/png": "[encoded data removed]",
      "text/plain": [
       "<Figure size 432x288 with 1 Axes>"
      ]
     },
     "metadata": {
      "needs_background": "light"
     },
     "output_type": "display_data"
    }
   ],
   "source": [
    "plt.plot(np.arange(10,50,10),fraction_list)"
   ]
  },
  {
   "cell_type": "code",
   "execution_count": 1055,
   "metadata": {},
   "outputs": [],
   "source": [
    "df_z = get_data_frame_with_summed_energy(df4,10)\n",
    "df_xy = get_data_frame_with_summed_energy_xy(df4,10,10)"
   ]
  },
  {
   "cell_type": "code",
   "execution_count": 1056,
   "metadata": {},
   "outputs": [
    {
     "data": {
      "text/plain": [
       "'\\nfor i in np.arange(0,10001,1):\\n    if(np.abs(np.sum(df_z.energy[df_z[\"event_id\"]==i])-(np.sum(df_z.etot[df_z[\"event_id\"]==i])/len(df_z.etot[df_z[\"event_id\"]==i])))>3):\\n        print(np.sum(df_z.energy[df_z[\"event_id\"]==i]),np.sum(df_z.etot[df_z[\"event_id\"]==i])/len(df_z.etot[df_z[\"event_id\"]==i]))\\n'"
      ]
     },
     "execution_count": 1056,
     "metadata": {},
     "output_type": "execute_result"
    }
   ],
   "source": [
    "## test for inconsistencies. only first and last usually respond\n",
    "'''\n",
    "for i in np.arange(0,10001,1):\n",
    "    if(np.abs(np.sum(df_z.energy[df_z[\"event_id\"]==i])-(np.sum(df_z.etot[df_z[\"event_id\"]==i])/len(df_z.etot[df_z[\"event_id\"]==i])))>3):\n",
    "        print(np.sum(df_z.energy[df_z[\"event_id\"]==i]),np.sum(df_z.etot[df_z[\"event_id\"]==i])/len(df_z.etot[df_z[\"event_id\"]==i]))\n",
    "'''    "
   ]
  },
  {
   "cell_type": "code",
   "execution_count": 1069,
   "metadata": {},
   "outputs": [],
   "source": [
    "fraction_list = []\n",
    "for i in np.arange(10,50,10):\n",
    "    fraction_list.append(get_number_of_scatter(get_data_frame_with_summed_energy(df4,i),number_of_events=10000,multiplicity=3))\n",
    "f1 = fraction_list    \n",
    "\n",
    "fraction_list = []\n",
    "for i in np.arange(10,50,10):\n",
    "    fraction_list.append(get_number_of_scatter(get_data_frame_with_summed_energy_xy(df4,i,30),number_of_events=10000,multiplicity=3))\n",
    "f3 = fraction_list    "
   ]
  },
  {
   "cell_type": "code",
   "execution_count": 1070,
   "metadata": {},
   "outputs": [
    {
     "data": {
      "image/png": "[encoded data removed]",
      "text/plain": [
       "<Figure size 432x288 with 1 Axes>"
      ]
     },
     "metadata": {
      "needs_background": "light"
     },
     "output_type": "display_data"
    }
   ],
   "source": [
    "x = np.arange(10,50,10)\n",
    "plt.plot(x,f1)\n",
    "plt.plot(x,f3)\n",
    "plt.xlabel(\"z resolution [mm]\",fontsize=\"16\")\n",
    "plt.ylabel(\"fraction of multiscatter\",fontsize=\"16\")\n",
    "plt.show()"
   ]
  },
  {
   "cell_type": "code",
   "execution_count": 1073,
   "metadata": {},
   "outputs": [],
   "source": [
    "### adding energy requirements ###\n",
    "### toDO: make energy resolution dependent on the energy \n",
    "### toDo: make permutations work with number of 511 kev counts larger than 2. At the moment it counts depositions multiple times and any 0 depositions is like a joker for the other 511 keV deposition\n",
    "\n",
    "def energy_criteria_selection(df,e_res,decay,how_many_511=1,permu=False):\n",
    "    if(decay==\"positron_test\"):\n",
    "        ## first we want only events which left the entire energy in the detetor\n",
    "        df = df[df[\"etot\"].between(2022-e_res,2022+e_res)] # this works since we have the tot column all the same within one evt_id\n",
    "        ## second we want only events where the positron left its energy in one deposition\n",
    "        criteria2 = df[\"energy\"].between(1000-e_res,1000+e_res)\n",
    "        criteria_sum = criteria2\n",
    "        list_index2 = df[criteria_sum][\"event_id\"]\n",
    "        df = df[df['event_id'].isin(list_index2)]\n",
    "\n",
    "        ## third we want to pick those events where 511 keV are deposited completed, as often as we require\n",
    "        ## can be used to filter for at least one full deposition\n",
    "        df_mult = df[df[\"energy\"].between(511-e_res,511+e_res)] # apply your criteria, here 511 keV depositions \n",
    "        list_index3 = df_mult[\"event_id\"] # get all event_ids left so far\n",
    "        list_index4=  df_mult.groupby('event_id')[\"energy\"].count() # group the event_ids full_filling and count how often\n",
    "        list_index5 = [] # create an empty list because you are AlexF the list fetish guy\n",
    "        for i in list_index3.unique(): # check for all event_ids (but only once, hence the unique) if they fulfill the criteria\n",
    "            if(list_index4[i]>(how_many_511-1)): # if the number of event_ids in the df_mult frame exceeds a certain number (here 1), save the event_id\n",
    "                list_index5.append(i)\n",
    "        df_perm = df[~df['event_id'].isin(list_index5)]\n",
    "        df = df[df['event_id'].isin(list_index5)] # now go back to your original dataframe and select only those events which have the respective multiple scatters\n",
    "        \n",
    "        \n",
    "        ## third we want to pick only those events where an algorithm would reconstruct 511 keV photons out of various energy depositions\n",
    "        if(permu==True): # permutations are not the same as combinations but screw it...\n",
    "            loop_group = df_perm.groupby(\"event_id\") # group them by event id\n",
    "            list_index6 = [] # make some more lists\n",
    "            list_index7= [] # oh yeah \n",
    "            list_index8 = [] # list it to me baby\n",
    "            for i in np.unique(df_perm.event_id): # now check all event ids in the dataframe\n",
    "                loop_group.get_group(i) # and look into the values\n",
    "                list_index7 = list(combinations(loop_group.get_group(i).energy,1)) # build a list of all possible combinations of energy given the event_id\n",
    "                for j, combo in enumerate(powerset(list_index7), 1): # powerset now goes from single entries to combinations of all entries\n",
    "                    if(np.sum(combo)>(511-e_res) and np.sum(combo)<(511.+e_res)): # check the sum and append it if fulfills your criterion\n",
    "                        list_index6.append(i) \n",
    "                if(list_index6.count(i)>(how_many_511-1)): # count how often for a given event you have fulfilled it\n",
    "                    list_index8.append(i) # add only those where the event fulfills the desired number of combinations\n",
    "            #uniq_evt = np.unique(list_index6)\n",
    "            df_perm = df_perm[df_perm['event_id'].isin(list_index8)]  # filter the frame\n",
    "            frames=[df,df_perm] # add the frames together, since you have already checked for the full depositons\n",
    "            df=pd.concat(frames)\n",
    "        \n",
    "\n",
    "    \n",
    "    '''    \n",
    "    if(decay==\"2vECB+\"): \n",
    "    elif(decay==\"2vB+B+\"):\n",
    "    elif(decay==\"0vECB+\"):\n",
    "    elif(decay==\"0vRECEC\"):\n",
    "    elif(decay==\"0vECEC\"):\n",
    "    elif(decay==\"2vECB+\"):\n",
    "    '''\n",
    "    return df\n",
    "    "
   ]
  },
  {
   "cell_type": "code",
   "execution_count": 1077,
   "metadata": {},
   "outputs": [],
   "source": [
    "def get_surival_fraction_after_energy(inital_events,df_original,z_res,xy_res,e_res,decay,how_many_511=1,permu=False):\n",
    "    df_temp = energy_criteria_selection(get_data_frame_with_summed_energy_xy(df_original,z_res,xy_res),e_res,decay,how_many_511,permu)\n",
    "    fraction = len(np.unique(df_temp.event_id))/inital_events*100\n",
    "    return fraction"
   ]
  },
  {
   "cell_type": "code",
   "execution_count": null,
   "metadata": {},
   "outputs": [],
   "source": [
    "get_surival_fraction_after_energy(10000,df4,30,3000,100,\"positron_test\",2,True)"
   ]
  },
  {
   "cell_type": "code",
   "execution_count": null,
   "metadata": {},
   "outputs": [],
   "source": []
  }
 ],
 "metadata": {
  "kernelspec": {
   "display_name": "Python 3",
   "language": "python",
   "name": "python3"
  },
  "language_info": {
   "codemirror_mode": {
    "name": "ipython",
    "version": 3
   },
   "file_extension": ".py",
   "mimetype": "text/x-python",
   "name": "python",
   "nbconvert_exporter": "python",
   "pygments_lexer": "ipython3",
   "version": "3.7.1"
  }
 },
 "nbformat": 4,
 "nbformat_minor": 2
}
