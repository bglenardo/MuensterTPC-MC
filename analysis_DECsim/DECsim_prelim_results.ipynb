{
 "cells": [
  {
   "cell_type": "code",
   "execution_count": 11,
   "metadata": {},
   "outputs": [],
   "source": [
    "### import necessary packages\n",
    "import uproot\n",
    "import numpy as np\n",
    "import pandas as pd\n",
    "\n",
    "from matplotlib import pyplot as plt\n",
    "import time\n",
    "from tqdm import tqdm\n",
    "from itertools import permutations, product, combinations, chain\n"
   ]
  },
  {
   "cell_type": "code",
   "execution_count": 12,
   "metadata": {},
   "outputs": [],
   "source": [
    "def powerset(iterable):\n",
    "    \"powerset([1,2,3]) --> () (1,) (2,) (3,) (1,2) (1,3) (2,3) (1,2,3)\"\n",
    "    s = list(iterable)  # allows duplicate elements\n",
    "    return chain.from_iterable(combinations(s, r) for r in range(len(s)+1))"
   ]
  },
  {
   "cell_type": "code",
   "execution_count": 13,
   "metadata": {},
   "outputs": [],
   "source": [
    "### transforms a root file in a single index file\n",
    "### had issues reading out the multiindex file although I think this is the way to go for an optimized script\n",
    "### the function also sorts in zp for the further analysis\n",
    "def transform_root_file_and_sort_by_z(filename):\n",
    "    events=uproot.open(filename)[\"events\"]\n",
    "    events2=events[\"events\"]# why do I have to do that\n",
    "    df =  events2.pandas.df([\"ed\", \"zp\",\"xp\",\"yp\",\"trackid\",\"parentid\",\"etot\"]) # make a pandas data frame with the parameters of interest\n",
    "    df2 = df.sort_values('zp', ascending=False).sort_index(level='entry', sort_remaining=False) # sort by z\n",
    "    df3 = df2.reset_index(level=\"entry\") # remove multiindex1\n",
    "    final_df = df3.reset_index(level=\"subentry\") # remove multiindex2\n",
    "    return final_df"
   ]
  },
  {
   "cell_type": "code",
   "execution_count": 14,
   "metadata": {},
   "outputs": [],
   "source": [
    "### function to obtain summed energy using z resolution only\n",
    "### the code scans trough the data frame and adds up energy values until it is resolvable in z\n",
    "### code is added to a list and put back in a df \n",
    "\n",
    "### toDO: there is a lot of ways to improve the efficience (benchmark at the moment on my machine 5min for 100k, 45min for 1M events)\n",
    "### toDO: the first entry is dead on arrival, just use N-1 for analysis later\n",
    "\n",
    "\n",
    "def get_data_frame_with_summed_energy(data_frame,z_res): #pick a resolution in z and a data frame\n",
    "    energy_in_one = 0 # initialize the variable to add energy if below z_res\n",
    "    energy_list = [] # lists for later\n",
    "    event_list = []\n",
    "    energy_tot_list = []\n",
    "    for j in data_frame.index:\n",
    "    #tqdm(df4.index):#len(df2.groupby(level=0))):\n",
    "      if(j>0 and j<(len(data_frame))): #ignore last and first event since it is annoying when doing +-1\n",
    "            if((np.abs(data_frame.at[j-1,\"zp\"]-data_frame.at[j,\"zp\"]))<z_res and (data_frame.at[j,\"entry\"]==data_frame.at[j-1,\"entry\"])): #if same event and below z_res add up   \n",
    "                    energy_in_one+=data_frame.at[j,\"ed\"] \n",
    "            elif(data_frame.at[j,\"entry\"]!=data_frame.at[j+1,\"entry\"]) : # if the event ends, add into the list the energy which is stored at the moment\n",
    "                    energy_list.append(energy_in_one)\n",
    "                    event_list.append(data_frame.at[j,\"entry\"]) # \n",
    "                    energy_tot_list.append(data_frame.at[j,\"etot\"])\n",
    "                    energy_in_one = data_frame.at[j,\"ed\"]    \n",
    "            else:   # if resolveable, write out the energy summed so far                    \n",
    "                    energy_list.append(energy_in_one)\n",
    "                    event_list.append(data_frame.at[j-1,\"entry\"]) # j-1, since we are at a point where J is already from the next event\n",
    "                    energy_tot_list.append(data_frame.at[j-1,\"etot\"])\n",
    "                    energy_in_one = data_frame.at[j,\"ed\"]      \n",
    "\n",
    "    df_new_with_z = pd.DataFrame()\n",
    "    df_new_with_z[\"event_id\"] = event_list\n",
    "    df_new_with_z[\"energy\"] = energy_list\n",
    "    df_new_with_z[\"etot\"] = energy_tot_list\n",
    "    return df_new_with_z\n",
    "    \n"
   ]
  },
  {
   "cell_type": "code",
   "execution_count": 15,
   "metadata": {},
   "outputs": [],
   "source": [
    "### in progress\n",
    "### toDO: x,y is not sorted. So there may be events which bounce crazy and cause problems if they are at the same z, this has to be checked\n",
    "### toDO: the first event is dead on arrival, just use N-1 for later analysis\n",
    "\n",
    "def get_data_frame_with_summed_energy_xy(data_frame,z_res,xy_res):\n",
    "    energy_in_one = 0\n",
    "    energy_list = []\n",
    "    event_list = []\n",
    "    energy_tot_list = []\n",
    "    for j in data_frame.index:\n",
    "        if(j>0 and j<(len(data_frame))):\n",
    "            if  (data_frame.at[j,\"entry\"]==data_frame.at[j-1,\"entry\"] \n",
    "            and ((np.abs(data_frame.at[j-1,\"zp\"]-data_frame.at[j,\"zp\"])<z_res))\n",
    "            and ((np.abs(data_frame.at[j-1,\"xp\"]-data_frame.at[j,\"xp\"])<xy_res)) \n",
    "            and ((np.abs(data_frame.at[j-1,\"yp\"]-data_frame.at[j,\"yp\"])<xy_res))):\n",
    "                            energy_in_one+=data_frame.at[j,\"ed\"]\n",
    "            elif(data_frame.at[j,\"entry\"]!=data_frame.at[j+1,\"entry\"]) :\n",
    "                    energy_list.append(energy_in_one)\n",
    "                    event_list.append(data_frame.at[j,\"entry\"])\n",
    "                    energy_tot_list.append(data_frame.at[j,\"etot\"])\n",
    "                    energy_in_one = data_frame.at[j,\"ed\"]    \n",
    "            else:   # if resolveable, write out the energy summed so far                    \n",
    "                    energy_list.append(energy_in_one)\n",
    "                    event_list.append(data_frame.at[j-1,\"entry\"])\n",
    "                    energy_tot_list.append(data_frame.at[j-1,\"etot\"])\n",
    "                    energy_in_one = data_frame.at[j,\"ed\"] # j is the stored energy. The results look alright, but does this make problems in border cases?\n",
    "                \n",
    "        #else  print(j)\n",
    "            \n",
    "    df_new_with_xy  = pd.DataFrame() # make a new dataframe to fill with results (ladies and gentlemen, mr.inefficient)\n",
    "    df_new_with_xy [\"event_id\"] = event_list # the event_id\n",
    "    df_new_with_xy [\"energy\"] = energy_list # the energy\n",
    "    df_new_with_xy [\"etot\"] = energy_tot_list # the total energy deposition, important for cuts later but also cross check \n",
    "    return df_new_with_xy    "
   ]
  },
  {
   "cell_type": "code",
   "execution_count": 16,
   "metadata": {},
   "outputs": [],
   "source": [
    "def get_number_of_scatter(data_frame,number_of_events=10000,multiplicity=2): # number of events can be set by the length of your file (toDO: it may need a correction by 2), multiplicity is simply how many scatter you want\n",
    "    scatter_list = [] # I love lists apparently\n",
    "    fraction_above_multi = 0 # will be the final value for the fraction above a certain multiplicity\n",
    "    for i in np.arange(0,data_frame.at[data_frame.index[-1], 'event_id']):\n",
    "        scatter_list.append(len(data_frame[data_frame['event_id'] == i]))\n",
    "    ## list comprehension below, isn't faster\n",
    "    #different_num = [len(df_new[df_new['event_id'] == i]) for i in np.arange(0,df_new.at[df_new.index[-1], 'event_id'])]\n",
    "    fraction_above_multi = np.divide(np.count_nonzero(np.asarray(scatter_list)>(multiplicity-1)),number_of_events) # just count all events above a certain multiplicity and calculate a ratio to the total events\n",
    "    return fraction_above_multi"
   ]
  },
  {
   "cell_type": "code",
   "execution_count": 38,
   "metadata": {},
   "outputs": [],
   "source": [
    "### adding energy requirements ###\n",
    "### toDO: make energy resolution dependent on the energy \n",
    "\n",
    "def energy_criteria_selection(df,e_res,decay,permu=True):\n",
    "    ### lets go through this complicated script using the positron example\n",
    "    ### toDo: make it more modular\n",
    "    \n",
    "    if(decay==\"positron_1MeV_test\"): # pick the decay of choice\n",
    "        ## first we want only events which left the entire energy in the detetor\n",
    "        df = df[df[\"etot\"].between(2022-e_res,2022+e_res)] # this works since we have the tot column all the same within one evt_id\n",
    "        ## second we want only events where the positron left its energy in one deposition\n",
    "        criteria2 = df[\"energy\"].between(1000-e_res,e1000+e_res) # careful: if resolution is able to separate the positron, a new algorithm would be needed\n",
    "        criteria_sum = criteria2\n",
    "        list_index2 = df[criteria_sum][\"event_id\"]\n",
    "        df = df[df['event_id'].isin(list_index2)] \n",
    "        ## third lets go to 511 keV detection \n",
    "        \n",
    "        if(permu==False):\n",
    "        ## this mode requires an exact deposition of 511 keV (within energy resolution)\n",
    "            df_mult = df[df[\"energy\"].between(511-e_res,511+e_res)] # apply your criteria, here 511 keV depositions \n",
    "            list_index3 = df_mult[\"event_id\"] # get all event_ids left so far\n",
    "            list_index4=  df_mult.groupby('event_id')[\"energy\"].count() # group the event_ids full_filling and count how often\n",
    "            list_index5 = [] # create an empty list because you are AlexF the list fetish guy\n",
    "            for i in list_index3.unique(): # check for all event_ids (but only once, hence the unique) if they fulfill the criteria\n",
    "                if(list_index4[i]==2): # if the number of event_ids in the df_mult frame exceeds a certain number (here 1), save the event_id\n",
    "                    list_index5.append(i)\n",
    "            df = df[df['event_id'].isin(list_index5)] # now go back to your original dataframe and select only those events which have the respective multiple scatters\n",
    "\n",
    "            \n",
    "        if(permu==True): ## permutations are not the same as combinations but screw the name...\n",
    "            ## okay tricky part starts here.\n",
    "            ## Lets assume we start with the following energy combination: [1000,511,180,329,2]\n",
    "            df_perm = df\n",
    "            loop_group = df_perm.groupby(\"event_id\") # group them by event id\n",
    "            list_index6 = [] # make some more lists\n",
    "            list_index7= [] # oh yeah \n",
    "            list_index8 = [] # list it to me baby\n",
    "            list_index9 = [] # can\"t have enough lists\n",
    "            debug_list = [] # this one is not used any more\n",
    "            removal_list = [] # last one, I promise\n",
    "\n",
    "            for i in np.unique(df_perm.event_id): # now check all event ids in the dataframe\n",
    "                counter = 0 # set a counter which keeps track of 511 keV depositions\n",
    "                if(i>0):# get rid of event 0, it fails anyway\n",
    "                    loop_group.get_group(i) # get event by event\n",
    "                    if(len(loop_group.get_group(i))>2): # only do this if there is more than 2 entries\n",
    "                        list_index7 = list(combinations(loop_group.get_group(i).energy,1)) # build a list of all possible combinations of energy given the event_id\n",
    "                        #print(list_index7)\n",
    "                        # do some pre-filtering to save computer time\n",
    "                        for element,energy_entry in enumerate(list_index7): # loop through all entries\n",
    "                            if(np.sum(energy_entry)>(511+e_res)): # if an entry is above 511keV, no need to keep it as it won't help on the sum anyway\n",
    "                                #print('remove because to high')\n",
    "                                removal_list.append(energy_entry) # add the energy to the removal list\n",
    "                                #this what we are left with: [511,180,329,2]\n",
    "                            if(np.sum(energy_entry)>(511-e_res) and np.sum(energy_entry)<(511+e_res)): # remove single 511 keV entries and count them\n",
    "                               # print('remove since energy is already working but raise counter')\n",
    "                                counter += 1 # raise the counter for each 511 keV deposition\n",
    "                                removal_list.append(energy_entry) # but remove afterwards\n",
    "                                #this what we are left with: [180,329,2]\n",
    "                        list_index7=[x for x in list_index7 if x not in removal_list] # here the actual removing happens\n",
    "                        #print(list_index7, 'filtered')\n",
    "                        #print(counter)\n",
    "                        list_index6=list(combinations(list_index7,len(list_index7))) # Here we get the combination of all remaining entries. This is done a bit stupid but I loved lists in this script \n",
    "                        #print(np.sum(list_index6))\n",
    "                        if(counter>0 and np.sum(list_index6)>(511-e_res) and np.sum(list_index6)<(511+e_res)): # if their is already a 511 keV entry and the remaining are 511 keV you are done (remember you have removed the positron)\n",
    "                            counter += 1\n",
    "                            # for our example this would be true and we were done. Let's pretend its not\n",
    "                        if(counter>=2):\n",
    "                            #print('counter high enough')\n",
    "                            list_index8.append(i)    \n",
    "                        combo_list = [] # haha you thought lists are over? Never. This one will contain possible cominbations\n",
    "                        entry_list = [] # in retrospective I think I do not need that one, but a list is a list\n",
    "                        sum_list=[] #the sum of all combos will be stored here - mhmm a list\n",
    "                        for j, combo in enumerate(powerset(list_index7), 1): # powerset now goes from single entries to combinations of all entries\n",
    "                            if(len(combo)>1 and np.sum(combo)>(511-e_res) and np.sum(combo)<(511+e_res)): \n",
    "                                ## for non single entries and with the sum within the energy resolution check now how close they are to 511keV\n",
    "                                #print('combo', combo, np.sum(combo))\n",
    "                                sum_list.append(np.abs(np.sum(combo)-511))\n",
    "                                entry_list.append(j)\n",
    "                                combo_list.append(combo)\n",
    "                                #print(np.abs(np.sum(combo)-511),j)\n",
    "                        if(len(entry_list)>0):\n",
    "                            counter +=1 # since we have something at 511, raise the counter\n",
    "                            #print(\"value\",entry_list[np.argmin(sum_list)],\"somth\",combo_list[np.argmin(sum_list)])\n",
    "                        if(len(sum_list)>0): # but now we have to take care those energy entries are not re-used\n",
    "                            for select_values in combo_list[np.argmin(sum_list)]:\n",
    "                                list_index7.remove(select_values) # in our case this will be [180,329,2]\n",
    "                                #print(list_index7,\"now without\")\n",
    "                            if(counter>0 and np.sum(list_index7)>(511-e_res) and np.sum(list_index7)<(511+e_res)): # so if the rest is 511 keV we are where we want to be\n",
    "                                counter += 1 \n",
    "                        if(counter>=2): # should be ==2, but redundancy prevents from failing this\n",
    "                        #print('yes, here I am')\n",
    "                            list_index8.append(i)\n",
    "                    #print(len(list_index8))\n",
    "                    #print(len(np.unique(list_index8)))\n",
    "            df_perm = df_perm[df_perm['event_id'].isin(list_index8)]  # filter the frame            \n",
    "            df=df_perm\n",
    "             \n",
    "    elif(decay==\"2vECB+\"): \n",
    "            ## first we want only events which left the entire energy in the detetor\n",
    "        df = df[df[\"etot\"].between(31-e_res+1022,2856+e_res)] # this works since we have the tot column all the same within one evt_id\n",
    "        ## second we want only events where the positron left its energy in one deposition\n",
    "        criteria2 = df[\"energy\"].between(0,1834+e_res) # careful: if resolution is able to separate the positron, a new algorithm would be needed\n",
    "        criteria_sum = criteria2\n",
    "        list_index2 = df[criteria_sum][\"event_id\"]\n",
    "        df = df[df['event_id'].isin(list_index2)]\n",
    "        df_perm = df\n",
    "        ## third we want to pick only those events where an algorithm would reconstruct 511 keV photons out of various energy depositions\n",
    "        if(permu==False):\n",
    "        ## can be used to filter for at least for full deposition\n",
    "        ## may be faster to use this first, to get the obvious cases?\n",
    "            df_mult = df[df[\"energy\"].between(511-e_res,511+e_res)] # apply your criteria, here 511 keV depositions \n",
    "            list_index3 = df_mult[\"event_id\"] # get all event_ids left so far\n",
    "            list_index4=  df_mult.groupby('event_id')[\"energy\"].count() # group the event_ids full_filling and count how often\n",
    "            list_index5 = [] # create an empty list because you are AlexF the list fetish guy\n",
    "            for i in list_index3.unique(): # check for all event_ids (but only once, hence the unique) if they fulfill the criteria\n",
    "                if(list_index4[i]==2): # if the number of event_ids in the df_mult frame exceeds a certain number (here 1), save the event_id\n",
    "                    list_index5.append(i)\n",
    "            df = df[df['event_id'].isin(list_index5)] # now go back to your original dataframe and select only those events which have the respective multiple scatters\n",
    "\n",
    "        if(permu==True): # permutations are not the same as combinations but screw the name...\n",
    "            df_perm = df\n",
    "            loop_group = df_perm.groupby(\"event_id\") # group them by event id\n",
    "            list_index6 = [] # make some more lists\n",
    "            list_index7= [] # oh yeah \n",
    "            list_index8 = [] # list it to me baby\n",
    "            list_index9 = []\n",
    "            debug_list = []\n",
    "            removal_list = [] # last one, I promise\n",
    "\n",
    "            for i in np.unique(df_perm.event_id): # now check all event ids in the dataframe\n",
    "                counter = 0\n",
    "                if(i>0):                    \n",
    "                    if(len(loop_group.get_group(i))>12):\n",
    "                        print(i,len(loop_group.get_group(i)),\"TOOOO LONG\") ## has to be done otherwise the permutation script part crashes. neglible\n",
    "                    if(len(loop_group.get_group(i))>2 and len(loop_group.get_group(i))<12):\n",
    "                        loop_group.get_group(i) # and look into the values\n",
    "                        list_index7 = list(combinations(loop_group.get_group(i).energy,1)) # build a list of all possible combinations of energy given the event_id\n",
    "                        #print(list_index7,i)\n",
    "                        for element,energy_entry in enumerate(list_index7):\n",
    "                            if(np.sum(energy_entry)>(511+e_res)):\n",
    "                                #print('remove because to high')\n",
    "                                removal_list.append(energy_entry)\n",
    "                            if(np.sum(energy_entry)>(511-e_res) and np.sum(energy_entry)<(511+e_res)):\n",
    "                               # print('remove since energy is already working but raise counter')\n",
    "                                counter += 1\n",
    "                                removal_list.append(energy_entry)\n",
    "                        list_index7=[x for x in list_index7 if x not in removal_list]\n",
    "                        #print(list_index7, 'filtered')\n",
    "                        #print(counter)\n",
    "                        list_index6=list(combinations(list_index7,len(list_index7)))\n",
    "                        #print(np.sum(list_index6))\n",
    "                        if(counter>0 and np.sum(list_index6)>(511-e_res) and np.sum(list_index6)<(511+e_res)):\n",
    "                            counter += 1\n",
    "                        if(counter>=2):\n",
    "                            #print('counter high enough')\n",
    "                            list_index8.append(i)    \n",
    "                        combo_list = []\n",
    "                        entry_list = []\n",
    "                        sum_list=[]\n",
    "                        for j, combo in enumerate(powerset(list_index7), 1): # powerset now goes from single entries to combinations of all entries\n",
    "                            if(len(combo)>1 and np.sum(combo)>(511-e_res) and np.sum(combo)<(511+e_res)):\n",
    "                                #print('combo', combo, np.sum(combo))\n",
    "                                sum_list.append(np.abs(np.sum(combo)-511))\n",
    "                                entry_list.append(j)\n",
    "                                combo_list.append(combo)\n",
    "                                #print(np.abs(np.sum(combo)-511),j)\n",
    "                        if(len(entry_list)>0):\n",
    "                            counter +=1\n",
    "                            #print(\"value\",entry_list[np.argmin(sum_list)],\"somth\",combo_list[np.argmin(sum_list)])\n",
    "                        if(len(sum_list)>0):\n",
    "                            for select_values in combo_list[np.argmin(sum_list)]:\n",
    "                                list_index7.remove(select_values)\n",
    "                                #print(list_index7,\"now without\")\n",
    "                            if(counter>0 and np.sum(list_index7)>(511-e_res) and np.sum(list_index7)<(511+e_res)):\n",
    "                                counter += 1\n",
    "                        if(counter>=2):\n",
    "                        #print('yes, here I am')\n",
    "                            list_index8.append(i)\n",
    "                    #print(len(list_index8))\n",
    "                    #print(len(np.unique(list_index8)))\n",
    "            df_perm = df_perm[df_perm['event_id'].isin(list_index8)]  # filter the frame            \n",
    "            df=df_perm\n",
    "    \n",
    "    elif(decay==\"0vECB+\"):\n",
    "        ## first we want only events which left the entire energy in the detetor\n",
    "        df = df[df[\"etot\"].between(2856-e_res,2856+e_res)] # this works since we have the tot column all the same within one evt_id\n",
    "        ## second we want only events where the positron left its energy in one deposition\n",
    "        criteria2 = df[\"energy\"].between(1834-e_res,1834+e_res) # careful: if resolution is able to separate the positron, a new algorithm would be needed\n",
    "        criteria_sum = criteria2\n",
    "        list_index2 = df[criteria_sum][\"event_id\"]\n",
    "        df = df[df['event_id'].isin(list_index2)]\n",
    "        df_perm = df\n",
    "        ## third we want to pick only those events where an algorithm would reconstruct 511 keV photons out of various energy depositions\n",
    "        if(permu==False):\n",
    "        ## can be used to filter for at least for full deposition\n",
    "        ## may be faster to use this first, to get the obvious cases?\n",
    "            df_mult = df[df[\"energy\"].between(511-e_res,511+e_res)] # apply your criteria, here 511 keV depositions \n",
    "            list_index3 = df_mult[\"event_id\"] # get all event_ids left so far\n",
    "            list_index4=  df_mult.groupby('event_id')[\"energy\"].count() # group the event_ids full_filling and count how often\n",
    "            list_index5 = [] # create an empty list because you are AlexF the list fetish guy\n",
    "            for i in list_index3.unique(): # check for all event_ids (but only once, hence the unique) if they fulfill the criteria\n",
    "                if(list_index4[i]==2): # if the number of event_ids in the df_mult frame exceeds a certain number (here 1), save the event_id\n",
    "                    list_index5.append(i)\n",
    "            df = df[df['event_id'].isin(list_index5)] # now go back to your original dataframe and select only those events which have the respective multiple scatters\n",
    "\n",
    "        if(permu==True): # permutations are not the same as combinations but screw the name...\n",
    "            df_perm = df\n",
    "            loop_group = df_perm.groupby(\"event_id\") # group them by event id\n",
    "            list_index6 = [] # make some more lists\n",
    "            list_index7= [] # oh yeah \n",
    "            list_index8 = [] # list it to me baby\n",
    "            list_index9 = []\n",
    "            debug_list = []\n",
    "            removal_list = [] # last one, I promise\n",
    "\n",
    "            for i in np.unique(df_perm.event_id): # now check all event ids in the dataframe\n",
    "                counter = 0\n",
    "                if(i>0):\n",
    "                    if(len(loop_group.get_group(i))>2):\n",
    "                        loop_group.get_group(i) # and look into the values\n",
    "                        list_index7 = list(combinations(loop_group.get_group(i).energy,1)) # build a list of all possible combinations of energy given the event_id\n",
    "                        #print(list_index7)\n",
    "                        for element,energy_entry in enumerate(list_index7):\n",
    "                            if(np.sum(energy_entry)>(511+e_res)):\n",
    "                                #print('remove because to high')\n",
    "                                removal_list.append(energy_entry)\n",
    "                            if(np.sum(energy_entry)>(511-e_res) and np.sum(energy_entry)<(511+e_res)):\n",
    "                               # print('remove since energy is already working but raise counter')\n",
    "                                counter += 1\n",
    "                                removal_list.append(energy_entry)\n",
    "                        list_index7=[x for x in list_index7 if x not in removal_list]\n",
    "                        #print(list_index7, 'filtered')\n",
    "                        #print(counter)\n",
    "                        list_index6=list(combinations(list_index7,len(list_index7)))\n",
    "                        #print(np.sum(list_index6))\n",
    "                        if(counter>0 and np.sum(list_index6)>(511-e_res) and np.sum(list_index6)<(511+e_res)):\n",
    "                            counter += 1\n",
    "                        if(counter>=2):\n",
    "                            #print('counter high enough')\n",
    "                            list_index8.append(i)    \n",
    "                        combo_list = []\n",
    "                        entry_list = []\n",
    "                        sum_list=[]\n",
    "                        for j, combo in enumerate(powerset(list_index7), 1): # powerset now goes from single entries to combinations of all entries\n",
    "                            if(len(combo)>1 and np.sum(combo)>(511-e_res) and np.sum(combo)<(511+e_res)):\n",
    "                                #print('combo', combo, np.sum(combo))\n",
    "                                sum_list.append(np.abs(np.sum(combo)-511))\n",
    "                                entry_list.append(j)\n",
    "                                combo_list.append(combo)\n",
    "                                #print(np.abs(np.sum(combo)-511),j)\n",
    "                        if(len(entry_list)>0):\n",
    "                            counter +=1\n",
    "                            #print(\"value\",entry_list[np.argmin(sum_list)],\"somth\",combo_list[np.argmin(sum_list)])\n",
    "                        if(len(sum_list)>0):\n",
    "                            for select_values in combo_list[np.argmin(sum_list)]:\n",
    "                                list_index7.remove(select_values)\n",
    "                                #print(list_index7,\"now without\")\n",
    "                            if(counter>0 and np.sum(list_index7)>(511-e_res) and np.sum(list_index7)<(511+e_res)):\n",
    "                                counter += 1\n",
    "                        if(counter>=2):\n",
    "                        #print('yes, here I am')\n",
    "                            list_index8.append(i)\n",
    "                    #print(len(list_index8))\n",
    "                    #print(len(np.unique(list_index8)))\n",
    "            df_perm = df_perm[df_perm['event_id'].isin(list_index8)]  # filter the frame            \n",
    "            df=df_perm \n",
    "        \n",
    "    elif(decay==\"0vECB+_strict\"):\n",
    "## first we want only events which left the entire energy in the detetor\n",
    "        df = df[df[\"etot\"].between(2856-e_res,2856+e_res)] # this works since we have the tot column all the same within one evt_id\n",
    "        ## second we want only events where the positron left its energy in one deposition\n",
    "        criteria2 = df[\"energy\"].between(1801-e_res,1801+e_res) # careful: if resolution is able to separate the positron, a new algorithm would be needed\n",
    "        criteria_sum = criteria2\n",
    "        list_index2 = df[criteria_sum][\"event_id\"]\n",
    "        df = df[df['event_id'].isin(list_index2)]\n",
    "        criteria3 = df[\"energy\"].between(31.8-3,31.8+3) # careful: if resolution is able to separate the positron, a new algorithm would be needed\n",
    "        criteria_sum = criteria3\n",
    "        list_index2 = df[criteria_sum][\"event_id\"]\n",
    "        df = df[df['event_id'].isin(list_index2)]\n",
    "        df_perm = df\n",
    "        ## third we want to pick only those events where an algorithm would reconstruct 511 keV photons out of various energy depositions\n",
    "        if(permu==False):\n",
    "        ## can be used to filter for at least for full deposition\n",
    "        ## may be faster to use this first, to get the obvious cases?\n",
    "            df_mult = df[df[\"energy\"].between(511-e_res,511+e_res)] # apply your criteria, here 511 keV depositions \n",
    "            list_index3 = df_mult[\"event_id\"] # get all event_ids left so far\n",
    "            list_index4=  df_mult.groupby('event_id')[\"energy\"].count() # group the event_ids full_filling and count how often\n",
    "            list_index5 = [] # create an empty list because you are AlexF the list fetish guy\n",
    "            for i in list_index3.unique(): # check for all event_ids (but only once, hence the unique) if they fulfill the criteria\n",
    "                if(list_index4[i]==2): # if the number of event_ids in the df_mult frame exceeds a certain number (here 1), save the event_id\n",
    "                    list_index5.append(i)\n",
    "            df = df[df['event_id'].isin(list_index5)] # now go back to your original dataframe and select only those events which have the respective multiple scatters\n",
    "\n",
    "        if(permu==True): # permutations are not the same as combinations but screw the name...\n",
    "            df_perm = df\n",
    "            loop_group = df_perm.groupby(\"event_id\") # group them by event id\n",
    "            list_index6 = [] # make some more lists\n",
    "            list_index7= [] # oh yeah \n",
    "            list_index8 = [] # list it to me baby\n",
    "            list_index9 = []\n",
    "            debug_list = []\n",
    "            removal_list = [] # last one, I promise\n",
    "\n",
    "            for i in np.unique(df_perm.event_id): # now check all event ids in the dataframe\n",
    "                counter = 0\n",
    "                if(i>0):\n",
    "                    if(len(loop_group.get_group(i))>2):\n",
    "                        loop_group.get_group(i) # and look into the values\n",
    "                        list_index7 = list(combinations(loop_group.get_group(i).energy,1)) # build a list of all possible combinations of energy given the event_id\n",
    "                        #print(list_index7)\n",
    "                        for element,energy_entry in enumerate(list_index7):\n",
    "                            if(np.sum(energy_entry)>(511+e_res)):\n",
    "                                #print('remove because to high')\n",
    "                                removal_list.append(energy_entry)\n",
    "                            if(np.sum(energy_entry)>(511-e_res) and np.sum(energy_entry)<(511+e_res)):\n",
    "                               # print('remove since energy is already working but raise counter')\n",
    "                                counter += 1\n",
    "                                removal_list.append(energy_entry)\n",
    "                        list_index7=[x for x in list_index7 if x not in removal_list]\n",
    "                        #print(list_index7, 'filtered')\n",
    "                        #print(counter)\n",
    "                        list_index6=list(combinations(list_index7,len(list_index7)))\n",
    "                        #print(np.sum(list_index6))\n",
    "                        if(counter>0 and np.sum(list_index6)>(511-e_res) and np.sum(list_index6)<(511+e_res)):\n",
    "                            counter += 1\n",
    "                        if(counter>=2):\n",
    "                            #print('counter high enough')\n",
    "                            list_index8.append(i)    \n",
    "                        combo_list = []\n",
    "                        entry_list = []\n",
    "                        sum_list=[]\n",
    "                        for j, combo in enumerate(powerset(list_index7), 1): # powerset now goes from single entries to combinations of all entries\n",
    "                            if(len(combo)>1 and np.sum(combo)>(511-e_res) and np.sum(combo)<(511+e_res)):\n",
    "                                #print('combo', combo, np.sum(combo))\n",
    "                                sum_list.append(np.abs(np.sum(combo)-511))\n",
    "                                entry_list.append(j)\n",
    "                                combo_list.append(combo)\n",
    "                                #print(np.abs(np.sum(combo)-511),j)\n",
    "                        if(len(entry_list)>0):\n",
    "                            counter +=1\n",
    "                            #print(\"value\",entry_list[np.argmin(sum_list)],\"somth\",combo_list[np.argmin(sum_list)])\n",
    "                        if(len(sum_list)>0):\n",
    "                            for select_values in combo_list[np.argmin(sum_list)]:\n",
    "                                list_index7.remove(select_values)\n",
    "                                #print(list_index7,\"now without\")\n",
    "                            if(counter>0 and np.sum(list_index7)>(511-e_res) and np.sum(list_index7)<(511+e_res)):\n",
    "                                counter += 1\n",
    "                        if(counter>=2):\n",
    "                        #print('yes, here I am')\n",
    "                            list_index8.append(i)\n",
    "                    #print(len(list_index8))\n",
    "                    #print(len(np.unique(list_index8)))\n",
    "            df_perm = df_perm[df_perm['event_id'].isin(list_index8)]  # filter the frame            \n",
    "            df=df_perm \n",
    "        \n",
    "        \n",
    "\n",
    "    '''\n",
    "    elif(decay==\"2vB+B+\"):\n",
    "    elif(decay==\"0vRECEC\"):\n",
    "    elif(decay==\"0vECEC\"):\n",
    "    elif(decay==\"0vB+B+\"):\n",
    "    '''\n",
    "    return df\n",
    "    "
   ]
  },
  {
   "cell_type": "code",
   "execution_count": 18,
   "metadata": {},
   "outputs": [],
   "source": [
    "def get_surival_fraction_after_energy(inital_events,data_frame,z_res,xy_res,e_res,decay,permu=True):\n",
    "    df_temp = energy_criteria_selection(get_data_frame_with_summed_energy_xy(data_frame,z_res,xy_res),e_res,decay,permu)\n",
    "    fraction = len(np.unique(df_temp.event_id))/inital_events*100\n",
    "    #return df_temp\n",
    "    return fraction"
   ]
  },
  {
   "cell_type": "code",
   "execution_count": 19,
   "metadata": {},
   "outputs": [],
   "source": [
    "df_2vecb = transform_root_file_and_sort_by_z(\"../example_spectra_decay0/2019-6-12_13-20-14_Decay0_Xe124_2nukbplus.root\")\n",
    "df_pos = transform_root_file_and_sort_by_z(\"test10k_vol.root\")\n",
    "df_0vecb = transform_root_file_and_sort_by_z(\"../example_spectra_decay0/2019-6-12_13-19-32_Decay0_Xe124_0nukbplus.root\")\n"
   ]
  },
  {
   "cell_type": "code",
   "execution_count": 20,
   "metadata": {},
   "outputs": [],
   "source": [
    "df_z_2vecb = get_data_frame_with_summed_energy(data_frame = df_2vecb,z_res = 10)\n",
    "df_zxy_2vecb = get_data_frame_with_summed_energy_xy(data_frame = df_2vecb, z_res = 30, xy_res = 10)"
   ]
  },
  {
   "cell_type": "code",
   "execution_count": 21,
   "metadata": {},
   "outputs": [],
   "source": [
    "df_z_pos = get_data_frame_with_summed_energy(data_frame = df_pos,z_res = 10)\n",
    "df_zxy_pos = get_data_frame_with_summed_energy_xy(data_frame = df_pos,z_res = 30,xy_res =10)"
   ]
  },
  {
   "cell_type": "code",
   "execution_count": 22,
   "metadata": {},
   "outputs": [],
   "source": [
    "df_z_0vecb = get_data_frame_with_summed_energy(data_frame = df_0vecb,z_res = 10)\n",
    "df_zxy_0vecb = get_data_frame_with_summed_energy_xy(data_frame = df_0vecb, z_res = 30, xy_res = 10)"
   ]
  },
  {
   "cell_type": "code",
   "execution_count": 23,
   "metadata": {},
   "outputs": [
    {
     "name": "stderr",
     "output_type": "stream",
     "text": [
      "100%|██████████| 9/9 [25:12<00:00, 165.59s/it]"
     ]
    },
    {
     "name": "stdout",
     "output_type": "stream",
     "text": [
      "1512.969861984253\n"
     ]
    },
    {
     "name": "stderr",
     "output_type": "stream",
     "text": [
      "\n"
     ]
    }
   ],
   "source": [
    "start = time.time()\n",
    "fraction_list_pos_with_xy = []\n",
    "fraction_list_pos_with_z = []\n",
    "fraction_list_pos_with_xy_no_permu = []\n",
    "fraction_list_pos_with_z_no_permu = []\n",
    "for i in tqdm(np.arange(5,50,5)):\n",
    "    fraction_list_pos_with_z.append(get_surival_fraction_after_energy(9999,data_frame=df_pos,z_res=i,xy_res=10000,e_res=50,decay=\"positron_1MeV_test\",permu=True))\n",
    "    fraction_list_pos_with_xy.append(get_surival_fraction_after_energy(9999,data_frame=df_pos,z_res=i,xy_res=10,e_res=50,decay=\"positron_1MeV_test\",permu=True))\n",
    "    fraction_list_pos_with_z_no_permu.append(get_surival_fraction_after_energy(9999,data_frame=df_pos,z_res=i,xy_res=10000,e_res=50,decay=\"positron_1MeV_test\",permu=False))\n",
    "    fraction_list_pos_with_xy_no_permu.append(get_surival_fraction_after_energy(9999,data_frame=df_pos,z_res=i,xy_res=10,e_res=50,decay=\"positron_1MeV_test\",permu=False))\n",
    "end= time.time()\n",
    "print(end-start)    "
   ]
  },
  {
   "cell_type": "code",
   "execution_count": 24,
   "metadata": {},
   "outputs": [
    {
     "data": {
      "image/png": "[encoded data removed]",
      "text/plain": [
       "<Figure size 432x288 with 1 Axes>"
      ]
     },
     "metadata": {
      "needs_background": "light"
     },
     "output_type": "display_data"
    }
   ],
   "source": [
    "x = np.arange(5,50,5)\n",
    "plt.plot(x,fraction_list_pos_with_z)\n",
    "plt.plot(x,fraction_list_pos_with_xy,color=\"red\")\n",
    "plt.plot(x,fraction_list_pos_with_z_no_permu,color=\"lightgreen\")\n",
    "plt.plot(x,fraction_list_pos_with_xy_no_permu,color=\"darkgreen\")\n",
    "plt.savefig(\"pos.jpg\")\n",
    "plt.show()"
   ]
  },
  {
   "cell_type": "code",
   "execution_count": 25,
   "metadata": {},
   "outputs": [
    {
     "name": "stderr",
     "output_type": "stream",
     "text": [
      "\r",
      "  0%|          | 0/9 [00:00<?, ?it/s]"
     ]
    },
    {
     "name": "stdout",
     "output_type": "stream",
     "text": [
      "8102 13 TOOOO LONG\n",
      "1470 15 TOOOO LONG\n",
      "8102 13 TOOOO LONG\n"
     ]
    },
    {
     "name": "stderr",
     "output_type": "stream",
     "text": [
      "\r",
      " 11%|█         | 1/9 [03:31<28:15, 211.98s/it]"
     ]
    },
    {
     "name": "stdout",
     "output_type": "stream",
     "text": [
      "1470 15 TOOOO LONG\n"
     ]
    },
    {
     "name": "stderr",
     "output_type": "stream",
     "text": [
      "\r",
      " 22%|██▏       | 2/9 [06:53<24:20, 208.70s/it]"
     ]
    },
    {
     "name": "stdout",
     "output_type": "stream",
     "text": [
      "1470 15 TOOOO LONG\n"
     ]
    },
    {
     "name": "stderr",
     "output_type": "stream",
     "text": [
      "\r",
      " 33%|███▎      | 3/9 [08:10<16:55, 169.28s/it]"
     ]
    },
    {
     "name": "stdout",
     "output_type": "stream",
     "text": [
      "1470 15 TOOOO LONG\n"
     ]
    },
    {
     "name": "stderr",
     "output_type": "stream",
     "text": [
      "\r",
      " 44%|████▍     | 4/9 [09:29<11:51, 142.32s/it]"
     ]
    },
    {
     "name": "stdout",
     "output_type": "stream",
     "text": [
      "1470 15 TOOOO LONG\n"
     ]
    },
    {
     "name": "stderr",
     "output_type": "stream",
     "text": [
      "\r",
      " 56%|█████▌    | 5/9 [10:50<08:15, 123.79s/it]"
     ]
    },
    {
     "name": "stdout",
     "output_type": "stream",
     "text": [
      "1470 15 TOOOO LONG\n"
     ]
    },
    {
     "name": "stderr",
     "output_type": "stream",
     "text": [
      "\r",
      " 67%|██████▋   | 6/9 [12:10<05:32, 110.80s/it]"
     ]
    },
    {
     "name": "stdout",
     "output_type": "stream",
     "text": [
      "1470 15 TOOOO LONG\n"
     ]
    },
    {
     "name": "stderr",
     "output_type": "stream",
     "text": [
      "\r",
      " 78%|███████▊  | 7/9 [13:27<03:21, 100.69s/it]"
     ]
    },
    {
     "name": "stdout",
     "output_type": "stream",
     "text": [
      "1470 15 TOOOO LONG\n"
     ]
    },
    {
     "name": "stderr",
     "output_type": "stream",
     "text": [
      "\r",
      " 89%|████████▉ | 8/9 [14:44<01:33, 93.36s/it] "
     ]
    },
    {
     "name": "stdout",
     "output_type": "stream",
     "text": [
      "1470 15 TOOOO LONG\n"
     ]
    },
    {
     "name": "stderr",
     "output_type": "stream",
     "text": [
      "\r",
      "100%|██████████| 9/9 [16:00<00:00, 88.36s/it]"
     ]
    },
    {
     "name": "stdout",
     "output_type": "stream",
     "text": [
      "960.8334562778473\n"
     ]
    },
    {
     "name": "stderr",
     "output_type": "stream",
     "text": [
      "\n"
     ]
    }
   ],
   "source": [
    "start = time.time()\n",
    "fraction_list_2v_with_xy = []\n",
    "fraction_list_2v_with_z = []\n",
    "fraction_list_2v_with_xy_no_permu = []\n",
    "fraction_list_2v_with_z_no_permu = []\n",
    "for i in tqdm(np.arange(5,50,5)):\n",
    "    fraction_list_2v_with_z.append(get_surival_fraction_after_energy(9999,data_frame=df_2vecb,z_res=i,xy_res=10000,e_res=50,decay=\"2vECB+\",permu=True))\n",
    "    fraction_list_2v_with_xy.append(get_surival_fraction_after_energy(9999,data_frame=df_2vecb,z_res=i,xy_res=10,e_res=50,decay=\"2vECB+\",permu=True))\n",
    "    fraction_list_2v_with_z_no_permu.append(get_surival_fraction_after_energy(9999,data_frame=df_2vecb,z_res=i,xy_res=10000,e_res=50,decay=\"2vECB+\",permu=False))\n",
    "    fraction_list_2v_with_xy_no_permu.append(get_surival_fraction_after_energy(9999,data_frame=df_2vecb,z_res=i,xy_res=10,e_res=50,decay=\"2vECB+\",permu=False))\n",
    "end= time.time()\n",
    "print(end-start)    "
   ]
  },
  {
   "cell_type": "code",
   "execution_count": 26,
   "metadata": {},
   "outputs": [
    {
     "data": {
      "image/png": "[encoded data removed]",
      "text/plain": [
       "<Figure size 432x288 with 1 Axes>"
      ]
     },
     "metadata": {
      "needs_background": "light"
     },
     "output_type": "display_data"
    }
   ],
   "source": [
    "x = np.arange(5,50,5) # z_res is running, xy is fixed at 10 cm or not implemented (see labels)\n",
    "plt.plot(x,fraction_list_2v_with_z)\n",
    "plt.plot(x,fraction_list_2v_with_xy,color=\"red\")\n",
    "plt.plot(x,fraction_list_2v_with_z_no_permu,color=\"lightgreen\")\n",
    "plt.plot(x,fraction_list_2v_with_xy_no_permu,color=\"darkgreen\")\n",
    "plt.xlabel(\"z_res [mm]\")\n",
    "plt.ylabel(\"survival fraction [%]\")\n",
    "plt.savefig(\"z_res.jpg\")\n",
    "plt.show()"
   ]
  },
  {
   "cell_type": "code",
   "execution_count": 27,
   "metadata": {},
   "outputs": [
    {
     "name": "stderr",
     "output_type": "stream",
     "text": [
      "\r",
      "  0%|          | 0/9 [00:00<?, ?it/s]"
     ]
    },
    {
     "name": "stdout",
     "output_type": "stream",
     "text": [
      "684 13 TOOOO LONG\n",
      "1470 15 TOOOO LONG\n"
     ]
    },
    {
     "name": "stderr",
     "output_type": "stream",
     "text": [
      "\r",
      " 11%|█         | 1/9 [00:48<06:30, 48.82s/it]"
     ]
    },
    {
     "name": "stdout",
     "output_type": "stream",
     "text": [
      "1470 15 TOOOO LONG\n"
     ]
    },
    {
     "name": "stderr",
     "output_type": "stream",
     "text": [
      "100%|██████████| 9/9 [05:57<00:00, 37.46s/it]"
     ]
    },
    {
     "name": "stdout",
     "output_type": "stream",
     "text": [
      "357.3292381763458\n"
     ]
    },
    {
     "name": "stderr",
     "output_type": "stream",
     "text": [
      "\n"
     ]
    }
   ],
   "source": [
    "start = time.time()\n",
    "fraction_list_2v_with_xy = []\n",
    "fraction_list_2v_with_z = []\n",
    "fraction_list_2v_with_xy_no_permu = []\n",
    "fraction_list_2v_with_z_no_permu = []\n",
    "for i in tqdm(np.arange(5,50,5)):\n",
    "    #fraction_list_2v_with_z.append(get_surival_fraction_after_energy(9999,data_frame=df_2vecb,z_res=30,xy_res=10000,e_res=50,decay=\"2vECB+\",permu=True))\n",
    "    fraction_list_2v_with_xy.append(get_surival_fraction_after_energy(9999,data_frame=df_2vecb,z_res=30,xy_res=i,e_res=50,decay=\"2vECB+\",permu=True))\n",
    "   # fraction_list_2v_with_z_no_permu.append(get_surival_fraction_after_energy(9999,data_frame=df_2vecb,z_res=30,xy_res=10000,e_res=50,decay=\"2vECB+\",permu=False))\n",
    "    fraction_list_2v_with_xy_no_permu.append(get_surival_fraction_after_energy(9999,data_frame=df_2vecb,z_res=30,xy_res=i,e_res=50,decay=\"2vECB+\",permu=False))\n",
    "end= time.time()\n",
    "print(end-start)    "
   ]
  },
  {
   "cell_type": "code",
   "execution_count": 28,
   "metadata": {},
   "outputs": [
    {
     "data": {
      "image/png": "[encoded data removed]",
      "text/plain": [
       "<Figure size 432x288 with 1 Axes>"
      ]
     },
     "metadata": {
      "needs_background": "light"
     },
     "output_type": "display_data"
    }
   ],
   "source": [
    "x = np.arange(5,50,5) # z fixed at 30\n",
    "plt.plot(x,fraction_list_2v_with_xy,color=\"red\")\n",
    "plt.plot(x,fraction_list_2v_with_xy_no_permu,color=\"darkgreen\")\n",
    "plt.xlabel(\"xy_res [mm]\")\n",
    "plt.ylabel(\"survival fraction [%]\")\n",
    "plt.savefig(\"xy_res.jpg\")\n",
    "plt.show()"
   ]
  },
  {
   "cell_type": "code",
   "execution_count": 29,
   "metadata": {},
   "outputs": [
    {
     "name": "stderr",
     "output_type": "stream",
     "text": [
      "\r",
      "  0%|          | 0/14 [00:00<?, ?it/s]"
     ]
    },
    {
     "name": "stdout",
     "output_type": "stream",
     "text": [
      "1470 15 TOOOO LONG\n"
     ]
    },
    {
     "name": "stderr",
     "output_type": "stream",
     "text": [
      "\r",
      "  7%|▋         | 1/14 [01:16<16:35, 76.57s/it]"
     ]
    },
    {
     "name": "stdout",
     "output_type": "stream",
     "text": [
      "1470 15 TOOOO LONG\n"
     ]
    },
    {
     "name": "stderr",
     "output_type": "stream",
     "text": [
      "\r",
      " 14%|█▍        | 2/14 [02:34<15:23, 76.96s/it]"
     ]
    },
    {
     "name": "stdout",
     "output_type": "stream",
     "text": [
      "1470 15 TOOOO LONG\n"
     ]
    },
    {
     "name": "stderr",
     "output_type": "stream",
     "text": [
      "\r",
      " 21%|██▏       | 3/14 [03:54<14:15, 77.81s/it]"
     ]
    },
    {
     "name": "stdout",
     "output_type": "stream",
     "text": [
      "1470 15 TOOOO LONG\n"
     ]
    },
    {
     "name": "stderr",
     "output_type": "stream",
     "text": [
      "\r",
      " 29%|██▊       | 4/14 [05:10<12:54, 77.49s/it]"
     ]
    },
    {
     "name": "stdout",
     "output_type": "stream",
     "text": [
      "1470 15 TOOOO LONG\n"
     ]
    },
    {
     "name": "stderr",
     "output_type": "stream",
     "text": [
      "\r",
      " 36%|███▌      | 5/14 [06:27<11:35, 77.30s/it]"
     ]
    },
    {
     "name": "stdout",
     "output_type": "stream",
     "text": [
      "1470 15 TOOOO LONG\n"
     ]
    },
    {
     "name": "stderr",
     "output_type": "stream",
     "text": [
      "\r",
      " 43%|████▎     | 6/14 [07:44<10:16, 77.00s/it]"
     ]
    },
    {
     "name": "stdout",
     "output_type": "stream",
     "text": [
      "1470 15 TOOOO LONG\n"
     ]
    },
    {
     "name": "stderr",
     "output_type": "stream",
     "text": [
      "\r",
      " 50%|█████     | 7/14 [09:01<09:00, 77.24s/it]"
     ]
    },
    {
     "name": "stdout",
     "output_type": "stream",
     "text": [
      "1470 15 TOOOO LONG\n"
     ]
    },
    {
     "name": "stderr",
     "output_type": "stream",
     "text": [
      "\r",
      " 57%|█████▋    | 8/14 [10:20<07:46, 77.75s/it]"
     ]
    },
    {
     "name": "stdout",
     "output_type": "stream",
     "text": [
      "1470 15 TOOOO LONG\n"
     ]
    },
    {
     "name": "stderr",
     "output_type": "stream",
     "text": [
      "\r",
      " 64%|██████▍   | 9/14 [11:38<06:29, 77.81s/it]"
     ]
    },
    {
     "name": "stdout",
     "output_type": "stream",
     "text": [
      "1470 15 TOOOO LONG\n"
     ]
    },
    {
     "name": "stderr",
     "output_type": "stream",
     "text": [
      "\r",
      " 71%|███████▏  | 10/14 [12:56<05:11, 77.86s/it]"
     ]
    },
    {
     "name": "stdout",
     "output_type": "stream",
     "text": [
      "1470 15 TOOOO LONG\n"
     ]
    },
    {
     "name": "stderr",
     "output_type": "stream",
     "text": [
      "\r",
      " 79%|███████▊  | 11/14 [14:14<03:53, 77.71s/it]"
     ]
    },
    {
     "name": "stdout",
     "output_type": "stream",
     "text": [
      "1470 15 TOOOO LONG\n"
     ]
    },
    {
     "name": "stderr",
     "output_type": "stream",
     "text": [
      "\r",
      " 86%|████████▌ | 12/14 [15:32<02:35, 77.95s/it]"
     ]
    },
    {
     "name": "stdout",
     "output_type": "stream",
     "text": [
      "1470 15 TOOOO LONG\n"
     ]
    },
    {
     "name": "stderr",
     "output_type": "stream",
     "text": [
      "\r",
      " 93%|█████████▎| 13/14 [16:50<01:17, 77.85s/it]"
     ]
    },
    {
     "name": "stdout",
     "output_type": "stream",
     "text": [
      "1470 15 TOOOO LONG\n"
     ]
    },
    {
     "name": "stderr",
     "output_type": "stream",
     "text": [
      "\r",
      "100%|██████████| 14/14 [18:08<00:00, 78.06s/it]"
     ]
    },
    {
     "name": "stdout",
     "output_type": "stream",
     "text": [
      "1088.8255393505096\n"
     ]
    },
    {
     "name": "stderr",
     "output_type": "stream",
     "text": [
      "\n"
     ]
    }
   ],
   "source": [
    "start = time.time()\n",
    "fraction_list_2v_with_xy = []\n",
    "fraction_list_2v_with_z = []\n",
    "fraction_list_2v_with_xy_no_permu = []\n",
    "fraction_list_2v_with_z_no_permu = []\n",
    "for i in tqdm(np.arange(5,75,5)):\n",
    "    fraction_list_2v_with_z.append(get_surival_fraction_after_energy(9999,data_frame=df_2vecb,z_res=30,xy_res=10000,e_res=i,decay=\"2vECB+\",permu=True))\n",
    "    fraction_list_2v_with_xy.append(get_surival_fraction_after_energy(9999,data_frame=df_2vecb,z_res=30,xy_res=10,e_res=i,decay=\"2vECB+\",permu=True))\n",
    "    fraction_list_2v_with_z_no_permu.append(get_surival_fraction_after_energy(9999,data_frame=df_2vecb,z_res=30,xy_res=10000,e_res=i,decay=\"2vECB+\",permu=False))\n",
    "    fraction_list_2v_with_xy_no_permu.append(get_surival_fraction_after_energy(9999,data_frame=df_2vecb,z_res=30,xy_res=10,e_res=i,decay=\"2vECB+\",permu=False))\n",
    "end= time.time()\n",
    "print(end-start)    "
   ]
  },
  {
   "cell_type": "code",
   "execution_count": 30,
   "metadata": {},
   "outputs": [
    {
     "data": {
      "image/png": "[encoded data removed]",
      "text/plain": [
       "<Figure size 432x288 with 1 Axes>"
      ]
     },
     "metadata": {
      "needs_background": "light"
     },
     "output_type": "display_data"
    }
   ],
   "source": [
    "x = np.arange(5,75,5) # z fixed at 30, xy at 10, let e_res run\n",
    "plt.plot(x,fraction_list_2v_with_z)\n",
    "plt.plot(x,fraction_list_2v_with_xy,color=\"red\")\n",
    "plt.plot(x,fraction_list_2v_with_z_no_permu,color=\"lightgreen\")\n",
    "plt.plot(x,fraction_list_2v_with_xy_no_permu,color=\"darkgreen\")\n",
    "plt.xlabel(\"e_res [keV]\")\n",
    "plt.ylabel(\"survival fraction [%]\")\n",
    "plt.savefig(\"e_res.jpg\")\n",
    "plt.show()"
   ]
  },
  {
   "cell_type": "code",
   "execution_count": 31,
   "metadata": {},
   "outputs": [
    {
     "name": "stderr",
     "output_type": "stream",
     "text": [
      "100%|██████████| 9/9 [12:22<00:00, 81.79s/it]"
     ]
    },
    {
     "name": "stdout",
     "output_type": "stream",
     "text": [
      "742.8340311050415\n"
     ]
    },
    {
     "name": "stderr",
     "output_type": "stream",
     "text": [
      "\n"
     ]
    }
   ],
   "source": [
    "start = time.time()\n",
    "fraction_list_0v_with_xy = []\n",
    "fraction_list_0v_with_z = []\n",
    "fraction_list_0v_with_xy_no_permu = []\n",
    "fraction_list_0v_with_z_no_permu = []\n",
    "for i in tqdm(np.arange(5,50,5)):\n",
    "    fraction_list_0v_with_z.append(get_surival_fraction_after_energy(9999,data_frame=df_0vecb,z_res=i,xy_res=10000,e_res=50,decay=\"0vECB+\",permu=True))\n",
    "    fraction_list_0v_with_xy.append(get_surival_fraction_after_energy(9999,data_frame=df_0vecb,z_res=i,xy_res=10,e_res=50,decay=\"0vECB+\",permu=True))\n",
    "    fraction_list_0v_with_z_no_permu.append(get_surival_fraction_after_energy(9999,data_frame=df_0vecb,z_res=i,xy_res=10000,e_res=50,decay=\"0vECB+\",permu=False))\n",
    "    fraction_list_0v_with_xy_no_permu.append(get_surival_fraction_after_energy(9999,data_frame=df_0vecb,z_res=i,xy_res=10,e_res=50,decay=\"0vECB+\",permu=False))\n",
    "end= time.time()\n",
    "print(end-start)    "
   ]
  },
  {
   "cell_type": "code",
   "execution_count": 32,
   "metadata": {},
   "outputs": [
    {
     "data": {
      "image/png": "[encoded data removed]",
      "text/plain": [
       "<Figure size 432x288 with 1 Axes>"
      ]
     },
     "metadata": {
      "needs_background": "light"
     },
     "output_type": "display_data"
    }
   ],
   "source": [
    "x = np.arange(5,50,5) # z_res is running, xy is fixed at 10 cm or not implemented (see labels)\n",
    "plt.plot(x,fraction_list_0v_with_z)\n",
    "plt.plot(x,fraction_list_0v_with_xy,color=\"red\")\n",
    "plt.plot(x,fraction_list_0v_with_z_no_permu,color=\"lightgreen\")\n",
    "plt.plot(x,fraction_list_0v_with_xy_no_permu,color=\"darkgreen\")\n",
    "plt.xlabel(\"z_res [mm]\")\n",
    "plt.ylabel(\"survival fraction [%]\")\n",
    "plt.savefig(\"0v_z_res.jpg\",dpi=300)\n",
    "plt.show()"
   ]
  },
  {
   "cell_type": "code",
   "execution_count": 33,
   "metadata": {},
   "outputs": [
    {
     "name": "stderr",
     "output_type": "stream",
     "text": [
      "100%|██████████| 9/9 [06:04<00:00, 39.18s/it]"
     ]
    },
    {
     "name": "stdout",
     "output_type": "stream",
     "text": [
      "364.0385377407074\n"
     ]
    },
    {
     "name": "stderr",
     "output_type": "stream",
     "text": [
      "\n"
     ]
    }
   ],
   "source": [
    "start = time.time()\n",
    "fraction_list_0v_with_xy = []\n",
    "fraction_list_0v_with_z = []\n",
    "fraction_list_0v_with_xy_no_permu = []\n",
    "fraction_list_0v_with_z_no_permu = []\n",
    "for i in tqdm(np.arange(5,50,5)):\n",
    "    fraction_list_0v_with_xy.append(get_surival_fraction_after_energy(9999,data_frame=df_0vecb,z_res=30,xy_res=i,e_res=50,decay=\"0vECB+\",permu=True))\n",
    "    fraction_list_0v_with_xy_no_permu.append(get_surival_fraction_after_energy(9999,data_frame=df_0vecb,z_res=30,xy_res=i,e_res=50,decay=\"0vECB+\",permu=False))\n",
    "end= time.time()\n",
    "print(end-start)    "
   ]
  },
  {
   "cell_type": "code",
   "execution_count": 35,
   "metadata": {},
   "outputs": [
    {
     "data": {
      "image/png": "[encoded data removed]",
      "text/plain": [
       "<Figure size 432x288 with 1 Axes>"
      ]
     },
     "metadata": {
      "needs_background": "light"
     },
     "output_type": "display_data"
    }
   ],
   "source": [
    "x = np.arange(5,50,5) # z fixed at 30\n",
    "plt.plot(x,fraction_list_0v_with_xy,color=\"red\")\n",
    "plt.plot(x,fraction_list_0v_with_xy_no_permu,color=\"darkgreen\")\n",
    "plt.xlabel(\"xy_res [mm]\")\n",
    "plt.ylabel(\"survival fraction [%]\")\n",
    "plt.savefig(\"0v_xy_res.jpg\",dpi=300)\n",
    "plt.show()"
   ]
  },
  {
   "cell_type": "code",
   "execution_count": 36,
   "metadata": {},
   "outputs": [
    {
     "name": "stderr",
     "output_type": "stream",
     "text": [
      "100%|██████████| 14/14 [18:17<00:00, 78.78s/it]"
     ]
    },
    {
     "name": "stdout",
     "output_type": "stream",
     "text": [
      "1097.4120285511017\n"
     ]
    },
    {
     "name": "stderr",
     "output_type": "stream",
     "text": [
      "\n"
     ]
    }
   ],
   "source": [
    "start = time.time()\n",
    "fraction_list_0v_with_xy = []\n",
    "fraction_list_0v_with_z = []\n",
    "fraction_list_0v_with_xy_no_permu = []\n",
    "fraction_list_0v_with_z_no_permu = []\n",
    "for i in tqdm(np.arange(5,75,5)):\n",
    "    fraction_list_0v_with_z.append(get_surival_fraction_after_energy(9999,data_frame=df_0vecb,z_res=30,xy_res=10000,e_res=i,decay=\"0vECB+\",permu=True))\n",
    "    fraction_list_0v_with_xy.append(get_surival_fraction_after_energy(9999,data_frame=df_0vecb,z_res=30,xy_res=10,e_res=i,decay=\"0vECB+\",permu=True))\n",
    "    fraction_list_0v_with_z_no_permu.append(get_surival_fraction_after_energy(9999,data_frame=df_0vecb,z_res=30,xy_res=10000,e_res=i,decay=\"0vECB+\",permu=False))\n",
    "    fraction_list_0v_with_xy_no_permu.append(get_surival_fraction_after_energy(9999,data_frame=df_0vecb,z_res=30,xy_res=10,e_res=i,decay=\"0vECB+\",permu=False))\n",
    "end= time.time()\n",
    "print(end-start)    "
   ]
  },
  {
   "cell_type": "code",
   "execution_count": 37,
   "metadata": {},
   "outputs": [
    {
     "data": {
      "image/png": "[encoded data removed]",
      "text/plain": [
       "<Figure size 432x288 with 1 Axes>"
      ]
     },
     "metadata": {
      "needs_background": "light"
     },
     "output_type": "display_data"
    }
   ],
   "source": [
    "x = np.arange(5,75,5) # z fixed at 30, xy at 10, let e_res run\n",
    "plt.plot(x,fraction_list_0v_with_z)\n",
    "plt.plot(x,fraction_list_0v_with_xy,color=\"red\")\n",
    "plt.plot(x,fraction_list_0v_with_z_no_permu,color=\"lightgreen\")\n",
    "plt.plot(x,fraction_list_0v_with_xy_no_permu,color=\"darkgreen\")\n",
    "plt.xlabel(\"e_res [keV]\")\n",
    "plt.ylabel(\"survival fraction [%]\")\n",
    "plt.savefig(\"0v_e_res.jpg\", dpi=300)\n",
    "plt.show()"
   ]
  },
  {
   "cell_type": "code",
   "execution_count": 40,
   "metadata": {},
   "outputs": [
    {
     "name": "stderr",
     "output_type": "stream",
     "text": [
      "100%|██████████| 9/9 [11:11<00:00, 74.48s/it]"
     ]
    },
    {
     "name": "stdout",
     "output_type": "stream",
     "text": [
      "671.3316307067871\n"
     ]
    },
    {
     "name": "stderr",
     "output_type": "stream",
     "text": [
      "\n"
     ]
    }
   ],
   "source": [
    "start = time.time()\n",
    "fraction_list_0v_with_xy = []\n",
    "fraction_list_0v_with_z = []\n",
    "fraction_list_0v_with_xy_no_permu = []\n",
    "fraction_list_0v_with_z_no_permu = []\n",
    "for i in tqdm(np.arange(5,50,5)):\n",
    "    fraction_list_0v_with_z.append(get_surival_fraction_after_energy(9999,data_frame=df_0vecb,z_res=i,xy_res=10000,e_res=50,decay=\"0vECB+_strict\",permu=True))\n",
    "    fraction_list_0v_with_xy.append(get_surival_fraction_after_energy(9999,data_frame=df_0vecb,z_res=i,xy_res=10,e_res=50,decay=\"0vECB+_strict\",permu=True))\n",
    "    fraction_list_0v_with_z_no_permu.append(get_surival_fraction_after_energy(9999,data_frame=df_0vecb,z_res=i,xy_res=10000,e_res=50,decay=\"0vECB+_strict\",permu=False))\n",
    "    fraction_list_0v_with_xy_no_permu.append(get_surival_fraction_after_energy(9999,data_frame=df_0vecb,z_res=i,xy_res=10,e_res=50,decay=\"0vECB+_strict\",permu=False))\n",
    "end= time.time()\n",
    "print(end-start)    "
   ]
  },
  {
   "cell_type": "code",
   "execution_count": 41,
   "metadata": {},
   "outputs": [
    {
     "data": {
      "image/png": "[encoded data removed]",
      "text/plain": [
       "<Figure size 432x288 with 1 Axes>"
      ]
     },
     "metadata": {
      "needs_background": "light"
     },
     "output_type": "display_data"
    }
   ],
   "source": [
    "x = np.arange(5,50,5) # z_res is running, xy is fixed at 10 cm or not implemented (see labels)\n",
    "plt.plot(x,fraction_list_0v_with_z)\n",
    "plt.plot(x,fraction_list_0v_with_xy,color=\"red\")\n",
    "plt.plot(x,fraction_list_0v_with_z_no_permu,color=\"lightgreen\")\n",
    "plt.plot(x,fraction_list_0v_with_xy_no_permu,color=\"darkgreen\")\n",
    "plt.xlabel(\"z_res [mm]\")\n",
    "plt.ylabel(\"survival fraction [%]\")\n",
    "plt.savefig(\"0v_spec_z_res.jpg\",dpi=300)\n",
    "plt.show()"
   ]
  },
  {
   "cell_type": "code",
   "execution_count": null,
   "metadata": {},
   "outputs": [],
   "source": []
  }
 ],
 "metadata": {
  "kernelspec": {
   "display_name": "Python 3",
   "language": "python",
   "name": "python3"
  },
  "language_info": {
   "codemirror_mode": {
    "name": "ipython",
    "version": 3
   },
   "file_extension": ".py",
   "mimetype": "text/x-python",
   "name": "python",
   "nbconvert_exporter": "python",
   "pygments_lexer": "ipython3",
   "version": "3.7.1"
  }
 },
 "nbformat": 4,
 "nbformat_minor": 2
}
