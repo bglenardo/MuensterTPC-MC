{
 "cells": [
  {
   "cell_type": "code",
   "execution_count": 1,
   "metadata": {},
   "outputs": [],
   "source": [
    "#import matplotlib.font_manager\n",
    "#del matplotlib.font_manager.weight_dict['roman']\n",
    "#matplotlib.font_manager._rebuild()"
   ]
  },
  {
   "cell_type": "code",
   "execution_count": 2,
   "metadata": {},
   "outputs": [],
   "source": [
    "import numpy as np\n",
    "from  matplotlib import pyplot as plt\n",
    "import pandas as pd\n",
    "import matplotlib\n",
    "\n",
    "#plt.rcParams['figure.figsize'] = [8, 5]\n",
    "#plt.rcParams.update({'font.size': 18})\n",
    "#plt.rcParams[\"font.weight\"] = 'light'\n",
    "#plt.rcParams[\"axes.labelweight\"] = 'light'\n",
    "#plt.rcParams[\"font.family\"] = ['Times New Roman']\n"
   ]
  },
  {
   "cell_type": "code",
   "execution_count": 3,
   "metadata": {},
   "outputs": [],
   "source": [
    "# Make figures in the paper style\n",
    "%matplotlib inline\n",
    "plt.rcParams['figure.dpi'] = 200\n",
    "matplotlib.rcParams['axes.linewidth'] = 0.75 #set the value globally\n",
    "matplotlib.rcParams['xtick.major.width'] = 0.75\n",
    "matplotlib.rcParams['ytick.major.width'] = 0.75\n",
    "matplotlib.rcParams['axes.labelsize'] = 7\n",
    "matplotlib.rcParams['xtick.direction'] = 'in'\n",
    "matplotlib.rcParams['ytick.direction'] = 'in'\n",
    "matplotlib.rcParams['xtick.labelsize'] = 6\n",
    "matplotlib.rcParams['ytick.labelsize'] = 6\n",
    "matplotlib.rcParams['legend.fontsize'] =5\n",
    "matplotlib.rcParams['pdf.fonttype']=42\n",
    "\n",
    "\n",
    "matplotlib.rcParams['figure.figsize'] = (3.4908516673585166, 2.327234444905678)\n",
    "matplotlib.rcParams['savefig.dpi'] = 300\n",
    "matplotlib.rc('font', size= 7)\n",
    "params= {'text.latex.preamble' : [r'\\usepackage{amsmath}']}\n",
    "plt.rcParams.update(params)"
   ]
  },
  {
   "cell_type": "markdown",
   "metadata": {},
   "source": [
    "# Calculations of new physics constraints from Xe-124 decays\n",
    "\n",
    "Since we're working on a sensitivity study for Xe124 0nu B+EC decays, we are interested in how this can complement the search for 0nuBB decay of Xe136 that nEXO will undertake. "
   ]
  },
  {
   "cell_type": "markdown",
   "metadata": {},
   "source": [
    "## Repeating the calculations in Hirsch et al. (1994)\n",
    "\n",
    "The first thing I'll try to do, to familiarize myself with the plug-and-play calculations in some of these papers, is reproduce the plots presented in Hirsch 1994. Then I'll try to reproduce the plots presented in the Stefanik 2015 paper. \n",
    "\n",
    "The hope here is that I can just plug in the results of other people's calculations and get updated plots showing the complementarity of Xe124 with Xe136.\n",
    "\n",
    "$$[\\,\\,T^{0\\nu\\beta\\beta,\\alpha}_{1/2}\\,\\,]^{-1} = C^\\alpha_{mm} \\left( \\frac{\\langle m_\\nu \\rangle}{m_e} \\right)^2 + C^\\alpha_{\\eta\\eta} \\langle\\eta\\rangle^2 + C^\\alpha_{\\lambda\\lambda} \\langle\\lambda\\rangle^2 + C^\\alpha_{m\\eta}\\frac{\\langle m_\\nu\\rangle}{m_e}\\langle\\eta\\rangle + C^\\alpha_{m\\lambda}\\frac{\\langle m_\\nu\\rangle}{m_e}\\langle\\lambda\\rangle + C^\\alpha_{\\eta\\lambda} \\langle\\eta\\rangle\\langle\\lambda\\rangle$$\n"
   ]
  },
  {
   "cell_type": "code",
   "execution_count": 4,
   "metadata": {},
   "outputs": [
    {
     "name": "stdout",
     "output_type": "stream",
     "text": [
      "11\n",
      "10\n"
     ]
    },
    {
     "data": {
      "text/plain": [
       "1.461"
      ]
     },
     "execution_count": 4,
     "metadata": {},
     "output_type": "execute_result"
    }
   ],
   "source": [
    "# Let's start with the dictionaries of numbers.\n",
    "\n",
    "# Nuclear matrix elements...\n",
    "NME_Xe124_BpEC = {'GT':3.02, 'F':-1.35, 'GTw': 3.72, 'Fw':-1.19, 'GTq':2.82, 'Fq':-1.21, 'T':-0.67, 'P':-0.61, 'R':4.73}\n",
    "NME_Xe136_BmBm = {'GT':1.120, 'F':-0.461, 'GTw':1.172, 'Fw':-0.411, 'GTq':0.480, 'Fq':-0.389, 'T':-0.482, 'P':-0.360, 'R':2.193}\n",
    "NME_Ge76_BmBm = {'GT':3.014, 'F':-1.173, 'GTw':2.912, 'Fw':-1.025, 'GTq':1.945, 'Fq':-1.058, 'T':-0.612, 'P':-0.530, 'R':3.594 }\n",
    "\n",
    "# Phase space integrals\n",
    "PS_Xe136 = [1.462e14,3.679e14,9.047e15,3.099e15,4.015e13,2.275e12,1.812e10,1.657e11,4.956e10,1.165e14,3.238e15]\n",
    "PS_Ge76 = [0.237e14,0.391e14,1.305e15,0.470e15,0.566e13,0.531e12,0.270e10,0.149e11,1.223e10,0.141e14,0.476e15]\n",
    "PS_Xe124 = [5.781e-17,104.1e-17,38.11e-17,0.4553e-17,211.6e-17,1183e-17,5.463e-13,4.887e-14,1.527e-12,2.395e-17]\n",
    "\n",
    "print(len(PS_Xe136))\n",
    "print(len(PS_Xe124))\n",
    "\n",
    "\n",
    "1+0.461\n",
    "\n"
   ]
  },
  {
   "cell_type": "code",
   "execution_count": 5,
   "metadata": {},
   "outputs": [
    {
     "data": {
      "text/html": [
       "<div>\n",
       "<style scoped>\n",
       "    .dataframe tbody tr th:only-of-type {\n",
       "        vertical-align: middle;\n",
       "    }\n",
       "\n",
       "    .dataframe tbody tr th {\n",
       "        vertical-align: top;\n",
       "    }\n",
       "\n",
       "    .dataframe thead th {\n",
       "        text-align: right;\n",
       "    }\n",
       "</style>\n",
       "<table border=\"1\" class=\"dataframe\">\n",
       "  <thead>\n",
       "    <tr style=\"text-align: right;\">\n",
       "      <th></th>\n",
       "      <th>Xe124 Mixed</th>\n",
       "      <th>Xe124 B+B+</th>\n",
       "      <th>Xe136</th>\n",
       "      <th>Ge76</th>\n",
       "    </tr>\n",
       "    <tr>\n",
       "      <th>Matrix element</th>\n",
       "      <th></th>\n",
       "      <th></th>\n",
       "      <th></th>\n",
       "      <th></th>\n",
       "    </tr>\n",
       "  </thead>\n",
       "  <tbody>\n",
       "    <tr>\n",
       "      <td>GT</td>\n",
       "      <td>3.920000</td>\n",
       "      <td>NaN</td>\n",
       "      <td>1.12000</td>\n",
       "      <td>3.104000</td>\n",
       "    </tr>\n",
       "    <tr>\n",
       "      <td>F</td>\n",
       "      <td>-1.350000</td>\n",
       "      <td>NaN</td>\n",
       "      <td>-0.46144</td>\n",
       "      <td>-1.207456</td>\n",
       "    </tr>\n",
       "    <tr>\n",
       "      <td>T</td>\n",
       "      <td>-0.670000</td>\n",
       "      <td>NaN</td>\n",
       "      <td>NaN</td>\n",
       "      <td>NaN</td>\n",
       "    </tr>\n",
       "    <tr>\n",
       "      <td>GTw</td>\n",
       "      <td>3.720000</td>\n",
       "      <td>NaN</td>\n",
       "      <td>NaN</td>\n",
       "      <td>NaN</td>\n",
       "    </tr>\n",
       "    <tr>\n",
       "      <td>Fw</td>\n",
       "      <td>-1.190000</td>\n",
       "      <td>NaN</td>\n",
       "      <td>NaN</td>\n",
       "      <td>NaN</td>\n",
       "    </tr>\n",
       "    <tr>\n",
       "      <td>GTq</td>\n",
       "      <td>2.820000</td>\n",
       "      <td>NaN</td>\n",
       "      <td>NaN</td>\n",
       "      <td>NaN</td>\n",
       "    </tr>\n",
       "    <tr>\n",
       "      <td>Fq</td>\n",
       "      <td>-1.210000</td>\n",
       "      <td>NaN</td>\n",
       "      <td>NaN</td>\n",
       "      <td>NaN</td>\n",
       "    </tr>\n",
       "    <tr>\n",
       "      <td>P</td>\n",
       "      <td>-0.610000</td>\n",
       "      <td>NaN</td>\n",
       "      <td>-0.35952</td>\n",
       "      <td>-0.546304</td>\n",
       "    </tr>\n",
       "    <tr>\n",
       "      <td>R</td>\n",
       "      <td>4.730000</td>\n",
       "      <td>NaN</td>\n",
       "      <td>2.19296</td>\n",
       "      <td>3.699968</td>\n",
       "    </tr>\n",
       "    <tr>\n",
       "      <td>1+</td>\n",
       "      <td>3.210000</td>\n",
       "      <td>NaN</td>\n",
       "      <td>2.20528</td>\n",
       "      <td>2.517344</td>\n",
       "    </tr>\n",
       "    <tr>\n",
       "      <td>1-</td>\n",
       "      <td>10.470000</td>\n",
       "      <td>NaN</td>\n",
       "      <td>4.53824</td>\n",
       "      <td>9.054368</td>\n",
       "    </tr>\n",
       "    <tr>\n",
       "      <td>2+</td>\n",
       "      <td>1.366667</td>\n",
       "      <td>NaN</td>\n",
       "      <td>0.25648</td>\n",
       "      <td>0.937408</td>\n",
       "    </tr>\n",
       "    <tr>\n",
       "      <td>2-</td>\n",
       "      <td>4.553333</td>\n",
       "      <td>NaN</td>\n",
       "      <td>1.33840</td>\n",
       "      <td>3.774464</td>\n",
       "    </tr>\n",
       "  </tbody>\n",
       "</table>\n",
       "</div>"
      ],
      "text/plain": [
       "                Xe124 Mixed  Xe124 B+B+    Xe136      Ge76\n",
       "Matrix element                                            \n",
       "GT                 3.920000         NaN  1.12000  3.104000\n",
       "F                 -1.350000         NaN -0.46144 -1.207456\n",
       "T                 -0.670000         NaN      NaN       NaN\n",
       "GTw                3.720000         NaN      NaN       NaN\n",
       "Fw                -1.190000         NaN      NaN       NaN\n",
       "GTq                2.820000         NaN      NaN       NaN\n",
       "Fq                -1.210000         NaN      NaN       NaN\n",
       "P                 -0.610000         NaN -0.35952 -0.546304\n",
       "R                  4.730000         NaN  2.19296  3.699968\n",
       "1+                 3.210000         NaN  2.20528  2.517344\n",
       "1-                10.470000         NaN  4.53824  9.054368\n",
       "2+                 1.366667         NaN  0.25648  0.937408\n",
       "2-                 4.553333         NaN  1.33840  3.774464"
      ]
     },
     "execution_count": 5,
     "metadata": {},
     "output_type": "execute_result"
    }
   ],
   "source": [
    "df_nme = pd.read_csv('Double beta matrix elements - Matrix elements.csv',index_col=0,nrows=13)\n",
    "df_psf = pd.read_csv('Double beta matrix elements - Phase space factors.csv',nrows=11)\n",
    "df_sf = pd.read_csv('Double beta matrix elements - Sign factors.csv',index_col=0)\n",
    "\n",
    "\n",
    "df_nme.head(n=20)\n"
   ]
  },
  {
   "cell_type": "code",
   "execution_count": 6,
   "metadata": {},
   "outputs": [
    {
     "data": {
      "text/html": [
       "<div>\n",
       "<style scoped>\n",
       "    .dataframe tbody tr th:only-of-type {\n",
       "        vertical-align: middle;\n",
       "    }\n",
       "\n",
       "    .dataframe tbody tr th {\n",
       "        vertical-align: top;\n",
       "    }\n",
       "\n",
       "    .dataframe thead th {\n",
       "        text-align: right;\n",
       "    }\n",
       "</style>\n",
       "<table border=\"1\" class=\"dataframe\">\n",
       "  <thead>\n",
       "    <tr style=\"text-align: right;\">\n",
       "      <th></th>\n",
       "      <th>Factor</th>\n",
       "      <th>Xe124 Mixed</th>\n",
       "      <th>Xe124 B+B+</th>\n",
       "      <th>Xe136</th>\n",
       "      <th>Ge76</th>\n",
       "      <th>Xe136.1</th>\n",
       "    </tr>\n",
       "  </thead>\n",
       "  <tbody>\n",
       "    <tr>\n",
       "      <td>0</td>\n",
       "      <td>G01</td>\n",
       "      <td>5.780000e-17</td>\n",
       "      <td>3.120000e-18</td>\n",
       "      <td>4.900000e-14</td>\n",
       "      <td>2.370000e-15</td>\n",
       "      <td>1.460000e-14</td>\n",
       "    </tr>\n",
       "    <tr>\n",
       "      <td>1</td>\n",
       "      <td>G02</td>\n",
       "      <td>1.040000e-15</td>\n",
       "      <td>4.400000e-19</td>\n",
       "      <td>1.260000e-13</td>\n",
       "      <td>3.910000e-15</td>\n",
       "      <td>3.680000e-14</td>\n",
       "    </tr>\n",
       "    <tr>\n",
       "      <td>2</td>\n",
       "      <td>G03</td>\n",
       "      <td>3.810000e-16</td>\n",
       "      <td>3.740000e-19</td>\n",
       "      <td>3.020000e-14</td>\n",
       "      <td>1.310000e-15</td>\n",
       "      <td>9.050000e-15</td>\n",
       "    </tr>\n",
       "    <tr>\n",
       "      <td>3</td>\n",
       "      <td>G04</td>\n",
       "      <td>4.550000e-18</td>\n",
       "      <td>5.030000e-19</td>\n",
       "      <td>1.000000e-14</td>\n",
       "      <td>4.700000e-16</td>\n",
       "      <td>3.100000e-15</td>\n",
       "    </tr>\n",
       "    <tr>\n",
       "      <td>4</td>\n",
       "      <td>G05</td>\n",
       "      <td>2.120000e-15</td>\n",
       "      <td>-1.600000e-16</td>\n",
       "      <td>1.610000e-12</td>\n",
       "      <td>5.660000e-14</td>\n",
       "      <td>4.020000e-13</td>\n",
       "    </tr>\n",
       "    <tr>\n",
       "      <td>5</td>\n",
       "      <td>G06</td>\n",
       "      <td>1.180000e-14</td>\n",
       "      <td>8.560000e-16</td>\n",
       "      <td>7.540000e-12</td>\n",
       "      <td>5.310000e-14</td>\n",
       "      <td>2.280000e-12</td>\n",
       "    </tr>\n",
       "    <tr>\n",
       "      <td>6</td>\n",
       "      <td>G07</td>\n",
       "      <td>5.460000e-13</td>\n",
       "      <td>-4.890000e-14</td>\n",
       "      <td>7.280000e-10</td>\n",
       "      <td>2.700000e-11</td>\n",
       "      <td>1.810000e-10</td>\n",
       "    </tr>\n",
       "    <tr>\n",
       "      <td>7</td>\n",
       "      <td>G08</td>\n",
       "      <td>4.890000e-14</td>\n",
       "      <td>4.520000e-15</td>\n",
       "      <td>8.000000e-11</td>\n",
       "      <td>1.490000e-12</td>\n",
       "      <td>1.660000e-11</td>\n",
       "    </tr>\n",
       "    <tr>\n",
       "      <td>8</td>\n",
       "      <td>G09</td>\n",
       "      <td>1.530000e-12</td>\n",
       "      <td>1.320000e-13</td>\n",
       "      <td>1.660000e-09</td>\n",
       "      <td>1.220000e-10</td>\n",
       "      <td>4.960000e-10</td>\n",
       "    </tr>\n",
       "    <tr>\n",
       "      <td>9</td>\n",
       "      <td>G10</td>\n",
       "      <td>2.400000e-17</td>\n",
       "      <td>1.710000e-18</td>\n",
       "      <td>7.890000e-15</td>\n",
       "      <td>1.410000e-15</td>\n",
       "      <td>1.170000e-14</td>\n",
       "    </tr>\n",
       "    <tr>\n",
       "      <td>10</td>\n",
       "      <td>G11</td>\n",
       "      <td>NaN</td>\n",
       "      <td>NaN</td>\n",
       "      <td>NaN</td>\n",
       "      <td>4.760000e-16</td>\n",
       "      <td>3.240000e-15</td>\n",
       "    </tr>\n",
       "  </tbody>\n",
       "</table>\n",
       "</div>"
      ],
      "text/plain": [
       "   Factor   Xe124 Mixed    Xe124 B+B+         Xe136          Ge76  \\\n",
       "0     G01  5.780000e-17  3.120000e-18  4.900000e-14  2.370000e-15   \n",
       "1     G02  1.040000e-15  4.400000e-19  1.260000e-13  3.910000e-15   \n",
       "2     G03  3.810000e-16  3.740000e-19  3.020000e-14  1.310000e-15   \n",
       "3     G04  4.550000e-18  5.030000e-19  1.000000e-14  4.700000e-16   \n",
       "4     G05  2.120000e-15 -1.600000e-16  1.610000e-12  5.660000e-14   \n",
       "5     G06  1.180000e-14  8.560000e-16  7.540000e-12  5.310000e-14   \n",
       "6     G07  5.460000e-13 -4.890000e-14  7.280000e-10  2.700000e-11   \n",
       "7     G08  4.890000e-14  4.520000e-15  8.000000e-11  1.490000e-12   \n",
       "8     G09  1.530000e-12  1.320000e-13  1.660000e-09  1.220000e-10   \n",
       "9     G10  2.400000e-17  1.710000e-18  7.890000e-15  1.410000e-15   \n",
       "10    G11           NaN           NaN           NaN  4.760000e-16   \n",
       "\n",
       "         Xe136.1  \n",
       "0   1.460000e-14  \n",
       "1   3.680000e-14  \n",
       "2   9.050000e-15  \n",
       "3   3.100000e-15  \n",
       "4   4.020000e-13  \n",
       "5   2.280000e-12  \n",
       "6   1.810000e-10  \n",
       "7   1.660000e-11  \n",
       "8   4.960000e-10  \n",
       "9   1.170000e-14  \n",
       "10  3.240000e-15  "
      ]
     },
     "execution_count": 6,
     "metadata": {},
     "output_type": "execute_result"
    }
   ],
   "source": [
    "df_psf.head(n=20)"
   ]
  },
  {
   "cell_type": "code",
   "execution_count": 7,
   "metadata": {},
   "outputs": [
    {
     "name": "stdout",
     "output_type": "stream",
     "text": [
      "0     0.048367\n",
      "1     0.031032\n",
      "2     0.043377\n",
      "3     0.047000\n",
      "4     0.035155\n",
      "5     0.007042\n",
      "6     0.037088\n",
      "7     0.018625\n",
      "8     0.073494\n",
      "9     0.178707\n",
      "10         NaN\n",
      "dtype: float64\n"
     ]
    }
   ],
   "source": [
    "print(df_psf['Ge76']/df_psf['Xe136'])"
   ]
  },
  {
   "cell_type": "code",
   "execution_count": 8,
   "metadata": {},
   "outputs": [
    {
     "name": "stdout",
     "output_type": "stream",
     "text": [
      "3.92\n",
      "{'GT': 3.92, 'F': -1.35, 'T': -0.67, 'GTw': 3.72, 'Fw': -1.19, 'GTq': 2.82, 'Fq': -1.21, 'P': -0.61, 'R': 4.73, '1+': 3.21, '1-': 10.47, '2+': 1.3666666669999998, '2-': 4.553333333}\n"
     ]
    }
   ],
   "source": [
    "\n",
    "# Convert the phase space factors to numpy arrays, as they can be indexed by numbers.\n",
    "xe124_psf = df_psf['Xe124 Mixed'].values\n",
    "xe136_psf = df_psf['Xe136'].values\n",
    "ge76_psf = df_psf['Ge76'].values*3.3\n",
    "\n",
    "# Convert the nuclear matrix elements to dicts, so they can be indexed by labels\n",
    "xe124_nme = df_nme['Xe124 Mixed'].astype(float).to_dict()\n",
    "xe136_nme = df_nme['Xe136'].astype(float).to_dict()\n",
    "ge76_nme = df_nme['Ge76'].astype(float).to_dict()\n",
    "\n",
    "# Convert the constant factors to dicts, so they can be indexed by labels.\n",
    "xe124_sf = df_sf['Xe124 mixed'].to_dict()\n",
    "xe136_sf = df_sf['Xe136'].to_dict()\n",
    "ge76_sf = df_sf['Ge76'].to_dict()\n",
    "\n",
    "print(df_nme['Xe124 Mixed'].loc['GT'])\n",
    "print(xe124_nme)"
   ]
  },
  {
   "cell_type": "markdown",
   "metadata": {},
   "source": [
    "### Define the coefficients as functions acting on the matrix elements (M), phase space factors (G), and the decay type factors (F). \n",
    "\n",
    "These definitions follow those given in Hirsch 1994, which (I think) copies them straight from Doi 1993."
   ]
  },
  {
   "cell_type": "code",
   "execution_count": 9,
   "metadata": {},
   "outputs": [],
   "source": [
    "def Cmm(M,G,F):\n",
    "    return (M['GT'] - M['F'])**2*G[0]\n",
    "    \n",
    "def Cnn(M,G,F):\n",
    "    return M['2+']**2*G[1] - \\\n",
    "    1./9.*F['fe']*( 2*F['Se']*M['1-']*M['2+']*G[2] - M['1-']**2*G[3] ) -\\\n",
    "    F['Se']*M['P']*M['R']*G[6] + M['P']**2*G[7] + M['R']**2*G[8]\n",
    "    \n",
    "def Cll(M,G,F):\n",
    "    return M['2-']**2*G[1] - \\\n",
    "    1./9.*F['fe']*( 2*F['Se']*M['1+']*M['2-']*G[2] - M['1+']**2*G[3] )\n",
    "\n",
    "def Cml(M,G,F):\n",
    "    return (M['GT'] - M['F'])*\\\n",
    "            ( -F['Se']*M['2-']*G[2] + M['1+']*G[3] )\n",
    "\n",
    "def Cnl(M,G,F):\n",
    "    return -2*( M['2+']*M['2-']*G[1] - \\\n",
    "               1./9.*F['fe']*( F['Se']*( M['1+']*M['2+'] + M['1-']*M['2-'] )*G[2] - M['1+']*M['1-']*G[3] ) )\n",
    "\n",
    "def Cmn(M,G,F):\n",
    "    return (M['GT']-M['F'])* \\\n",
    "            ( F['Se']*M['2+']*G[2] - M['1-']*G[3] - F['Sb']*( M['P']*G[4] - F['Se']*M['R']*G[5] ) )"
   ]
  },
  {
   "cell_type": "code",
   "execution_count": 10,
   "metadata": {},
   "outputs": [],
   "source": [
    "def PrintCoeffs(M,G,F):\n",
    "    print('Cmm: {:1.2E}'.format(Cmm(M,G,F)))\n",
    "    print('Cmn: {:1.2E}'.format(Cmn(M,G,F)))\n",
    "    print('Cml: {:1.2E}'.format(Cml(M,G,F)))\n",
    "    print('Cnn: {:1.2E}'.format(Cnn(M,G,F)))\n",
    "    print('Cll: {:1.2E}'.format(Cll(M,G,F)))\n",
    "    print('Cnl: {:1.2E}'.format(Cnl(M,G,F)))\n",
    "    return np.array([Cmm(M,G,F),Cmn(M,G,F),Cml(M,G,F),Cnn(M,G,F),Cll(M,G,F),Cnl(M,G,F)])\n",
    "\n",
    "\n",
    "\n",
    "\n",
    "\n"
   ]
  },
  {
   "cell_type": "markdown",
   "metadata": {},
   "source": [
    "### Cross-checking with tables given in Hirsch94\n",
    "\n",
    "We can print the coefficients for the Xe124 case, and check that they match with Table 3b in Hirsch 1994. Indeed they do!"
   ]
  },
  {
   "cell_type": "code",
   "execution_count": 11,
   "metadata": {},
   "outputs": [
    {
     "name": "stdout",
     "output_type": "stream",
     "text": [
      "Cmm: 1.61E-15\n",
      "Cmn: 2.84E-13\n",
      "Cml: 9.22E-15\n",
      "Cnn: 3.27E-11\n",
      "Cll: 2.20E-14\n",
      "Cnl: -1.45E-14\n",
      "Cmm: 1.23E-13\n",
      "Cmn: 2.70E-11\n",
      "Cml: -2.90E-14\n",
      "Cnn: 8.57E-09\n",
      "Cll: 2.11E-13\n",
      "Cnl: -6.42E-14\n",
      "Cmm: 1.45E-13\n",
      "Cmn: 3.19E-12\n",
      "Cml: -5.35E-14\n",
      "Cnn: 5.69E-09\n",
      "Cll: 1.76E-13\n",
      "Cnl: -6.41E-14\n",
      "1.61E-15\t1.23E-13\t1.45E-13\n",
      "2.84E-13\t2.70E-11\t3.19E-12\n",
      "9.22E-15\t-2.90E-14\t-5.35E-14\n",
      "3.27E-11\t8.57E-09\t5.69E-09\n",
      "2.20E-14\t2.11E-13\t1.76E-13\n",
      "-1.45E-14\t-6.42E-14\t-6.41E-14\n"
     ]
    }
   ],
   "source": [
    "xe124_coeffs = PrintCoeffs(xe124_nme,xe124_psf,xe124_sf)\n",
    "xe136_coeffs = PrintCoeffs(xe136_nme,xe136_psf,xe136_sf)\n",
    "ge76_coeffs = PrintCoeffs(ge76_nme,ge76_psf,ge76_sf)\n",
    "\n",
    "for i in range(0,6):\n",
    "    print('{:1.2E}\\t{:1.2E}\\t{:1.2E}'.format(xe124_coeffs[i],xe136_coeffs[i],ge76_coeffs[i]))"
   ]
  },
  {
   "cell_type": "markdown",
   "metadata": {},
   "source": [
    "Now let's try and reproduce the calculated value of the half lives in Table 5."
   ]
  },
  {
   "cell_type": "code",
   "execution_count": 12,
   "metadata": {},
   "outputs": [],
   "source": [
    "# Define the formula for the inverse half life\n",
    "def InvT(m,n,l,M,G,F):\n",
    "    return Cmm(M,G,F)*(m/511000.)**2 + Cnn(M,G,F)*n**2 + Cll(M,G,F)*l**2 + \\\n",
    "            Cnl(M,G,F)*n*l + Cml(M,G,F)*(m/511000.)*l + Cmn(M,G,F)*(m/511000.)*n\n"
   ]
  },
  {
   "cell_type": "code",
   "execution_count": 13,
   "metadata": {},
   "outputs": [
    {
     "name": "stdout",
     "output_type": "stream",
     "text": [
      "Half life (T_1/2): 1.63E+26\n"
     ]
    }
   ],
   "source": [
    "print('Half life (T_1/2): {:1.2E}'.format(1./InvT(1.,0.,0.,xe124_nme,xe124_psf,xe124_sf)))"
   ]
  },
  {
   "cell_type": "code",
   "execution_count": 14,
   "metadata": {},
   "outputs": [],
   "source": [
    "def LambdaVsMN_pos(m,n,T,M,G,F):\n",
    "    A = Cll(M,G,F)\n",
    "    B = Cml(M,G,F)*(m/511000.) + Cnl(M,G,F)*n\n",
    "    C = Cmm(M,G,F)*(m/511000.)**2 + Cnn(M,G,F)*n**2 + Cmn(M,G,F)*(m/511000.)*n - 1./T\n",
    "    return (-B + np.sqrt(B**2 - 4.*A*C)) / (2*A)\n",
    "\n",
    "def LambdaVsMN_neg(m,n,T,M,G,F):\n",
    "    A = Cll(M,G,F)\n",
    "    B = Cml(M,G,F)*(m/511000.) + Cnl(M,G,F)*n\n",
    "    C = Cmm(M,G,F)*(m/511000.)**2 + Cnn(M,G,F)*n**2 + Cmn(M,G,F)*(m/511000.)*n - 1./T\n",
    "    return (-B - np.sqrt(B**2 - 4.*A*C)) / (2*A)\n",
    "\n",
    "def EtaVsML_pos(m,l,T,M,G,F):\n",
    "    A = Cnn(M,G,F)\n",
    "    B = Cmn(M,G,F)*(m/511000.) + Cnl(M,G,F)*l\n",
    "    C = Cmm(M,G,F)*(m/511000.)**2 + Cll(M,G,F)*l**2 + Cml(M,G,F)*(m/511000.)*l - 1./T\n",
    "    return (-B + np.sqrt(B**2 - 4.*A*C)) / (2*A)\n",
    "\n",
    "def EtaVsML_neg(m,l,T,M,G,F):\n",
    "    A = Cnn(M,G,F)\n",
    "    B = Cmn(M,G,F)*(m/511000.) + Cnl(M,G,F)*l\n",
    "    C = Cmm(M,G,F)*(m/511000.)**2 + Cll(M,G,F)*l**2 + Cml(M,G,F)*(m/511000.)*l - 1./T\n",
    "    return (-B - np.sqrt(B**2 - 4.*A*C)) / (2*A)"
   ]
  },
  {
   "cell_type": "code",
   "execution_count": 15,
   "metadata": {},
   "outputs": [
    {
     "name": "stderr",
     "output_type": "stream",
     "text": [
      "/nustorage/local/anaconda/anaconda3/lib/python3.7/site-packages/ipykernel_launcher.py:5: RuntimeWarning: invalid value encountered in sqrt\n",
      "  \"\"\"\n",
      "/nustorage/local/anaconda/anaconda3/lib/python3.7/site-packages/ipykernel_launcher.py:11: RuntimeWarning: invalid value encountered in sqrt\n",
      "  # This is added back by InteractiveShellApp.init_path()\n"
     ]
    },
    {
     "data": {
      "text/plain": [
       "[<matplotlib.lines.Line2D at 0x7f53f898a210>]"
      ]
     },
     "execution_count": 15,
     "metadata": {},
     "output_type": "execute_result"
    },
    {
     "data": {
      "image/png": "[encoded data removed]",
      "text/plain": [
       "<Figure size 698.17x465.447 with 1 Axes>"
      ]
     },
     "metadata": {
      "needs_background": "light"
     },
     "output_type": "display_data"
    }
   ],
   "source": [
    "m = np.linspace(-3.,3.,10000)\n",
    "\n",
    "lp_lo = LambdaVsMN_pos(m,0.,1.e26,xe124_nme,xe124_psf,xe124_sf)\n",
    "lp_hi = LambdaVsMN_pos(m,0.,2.e26,xe124_nme,xe124_psf,xe124_sf)\n",
    "lm_lo = LambdaVsMN_neg(m,0.,1.e26,xe124_nme,xe124_psf,xe124_sf)\n",
    "lm_hi = LambdaVsMN_neg(m,0.,2.e26,xe124_nme,xe124_psf,xe124_sf)\n",
    "#print(l)\n",
    "\n",
    "plt.fill_between(m,lp_lo*1.e6,lm_lo*1.e6,color=(0.,0.,1.,0.2))\n",
    "plt.fill_between(m,lp_hi*1.e6,lm_hi*1.e6,color=(1.,1.,1.,1.))\n",
    "\n",
    "plt.plot(m,lm_lo*1.e6,'-b')\n",
    "plt.plot(m,lm_hi*1.e6,'-b')\n",
    "plt.plot(m,lp_lo*1.e6,'-b')\n",
    "plt.plot(m,lp_hi*1.e6,'-b')\n",
    "\n"
   ]
  },
  {
   "cell_type": "markdown",
   "metadata": {},
   "source": [
    "All the checks match what's in Hirsch94. So I think all the formulae are implemented correctly. Now let's explore what this means from the physics point of view.\n",
    "\n",
    "\n",
    "\n"
   ]
  },
  {
   "cell_type": "markdown",
   "metadata": {},
   "source": [
    "## Calculating constraints based on a detection in nEXO.\n",
    "\n",
    "According to the sensitivity paper, nEXO can make a 3-sigma discovery (with 50% probability) if the half life is 5.7$\\times$10$^{27}$ yrs. Let's assume nEXO has made such a discovery, and proceed from there. We'll assume (arbitrarily) a 30% uncertainty, so $(5.7\\pm1.7)\\,\\times\\,10^{27}$yrs."
   ]
  },
  {
   "cell_type": "code",
   "execution_count": 16,
   "metadata": {},
   "outputs": [
    {
     "name": "stderr",
     "output_type": "stream",
     "text": [
      "/nustorage/local/anaconda/anaconda3/lib/python3.7/site-packages/ipykernel_launcher.py:5: RuntimeWarning: invalid value encountered in sqrt\n",
      "  \"\"\"\n",
      "/nustorage/local/anaconda/anaconda3/lib/python3.7/site-packages/ipykernel_launcher.py:11: RuntimeWarning: invalid value encountered in sqrt\n",
      "  # This is added back by InteractiveShellApp.init_path()\n"
     ]
    },
    {
     "data": {
      "image/png": "[encoded data removed]",
      "text/plain": [
       "<Figure size 698.17x465.447 with 1 Axes>"
      ]
     },
     "metadata": {
      "needs_background": "light"
     },
     "output_type": "display_data"
    }
   ],
   "source": [
    "#plt.rcParams[\"text.usetex\"] = True\n",
    "#plt.rcParams['text.latex.unicode']=False\n",
    "\n",
    "T_hi = (5.7+1.7)*1.e27\n",
    "T_lo = (5.7-1.7)*1.e27\n",
    "\n",
    "#T_lo = 5.6e25\n",
    "\n",
    "m = np.linspace(-1.8,1.8,10000)\n",
    "\n",
    "lp_lo = LambdaVsMN_pos(m,0.,T_lo,xe136_nme,xe136_psf,xe136_sf)\n",
    "lp_hi = LambdaVsMN_pos(m,0.,T_hi,xe136_nme,xe136_psf,xe136_sf)\n",
    "lm_lo = LambdaVsMN_neg(m,0.,T_lo,xe136_nme,xe136_psf,xe136_sf)\n",
    "lm_hi = LambdaVsMN_neg(m,0.,T_hi,xe136_nme,xe136_psf,xe136_sf)\n",
    "\n",
    "plt.fill_between(m,lp_lo*1.e6,lm_lo*1.e6,color=(0.,0.,1.,0.2),label='$^{136}$Xe, $T_{1/2}=5.7e27$yrs')\n",
    "plt.fill_between(m,lp_hi*1.e6,lm_hi*1.e6,color=(1.,1.,1.,1.))\n",
    "\n",
    "plt.plot(m,lm_lo*1.e6,'-b')\n",
    "plt.plot(m,lm_hi*1.e6,'-b')\n",
    "plt.plot(m,lp_lo*1.e6,'-b')\n",
    "plt.plot(m,lp_hi*1.e6,'-b')\n",
    "\n",
    "ax = plt.gca()\n",
    "ax.spines['bottom'].set_position('zero')\n",
    "ax.spines['left'].set_position('zero')\n",
    "ax.spines['right'].set_color('none')\n",
    "ax.spines['top'].set_color('none')\n",
    "\n",
    "ax.xaxis.set_ticks_position('bottom')\n",
    "ax.yaxis.set_ticks_position('left')\n",
    "ax.set_xticks([-0.02,-0.01,0.01,0.02])\n",
    "ax.set_yticks([-0.02,0.02])\n",
    "\n",
    "ax.set_xlabel(r'$\\langle m_{\\beta\\beta} \\rangle$')\n",
    "ax.xaxis.set_label_coords(1.07,0.52)\n",
    "ax.set_ylabel(r'$\\langle \\lambda \\rangle \\times 10^6$',rotation='horizontal')\n",
    "ax.yaxis.set_label_coords(0.5,1.0)\n",
    "plt.axis([-0.03,0.03,-0.04,0.04])\n",
    "plt.legend(loc='lower right',frameon=True,fontsize=14,framealpha=1.)\n",
    "\n",
    "\n",
    "\n",
    "plt.savefig('test_nexo_sensitivity_ml_plane.png',dpi=300,bbox_inches='tight')"
   ]
  },
  {
   "cell_type": "markdown",
   "metadata": {},
   "source": [
    "For the $^{124}$Xe case, we'll make the following assumptions:\n",
    "- No background\n",
    "- 50kg of $^{124}$Xe\n",
    "- 10yr livetime\n",
    "- 100% efficiency\n",
    "\n",
    "Assuming the standard 2.3cts $\\rightarrow$ 90% confidence interval relationship, what is the constraint from such a search?"
   ]
  },
  {
   "cell_type": "code",
   "execution_count": 17,
   "metadata": {},
   "outputs": [
    {
     "name": "stdout",
     "output_type": "stream",
     "text": [
      "Best half-life limit is 7.315473399317796e+26\n"
     ]
    }
   ],
   "source": [
    "# Make efficiency a variable, so we can change it\n",
    "eff = 1.\n",
    "livetime = 10. #yrs\n",
    "N_Xe = 50.e3 / 124. * 6.02e23 # Number of xenon atoms\n",
    "#N_Xe = 1000.e3 / 78. * 6.02e23 # Number of xenon atoms\n",
    "\n",
    "Tlim = eff*N_Xe*livetime*np.log(2)/2.3\n",
    "\n",
    "print('Best half-life limit is {}'.format(Tlim))\n"
   ]
  },
  {
   "cell_type": "code",
   "execution_count": 18,
   "metadata": {},
   "outputs": [],
   "source": [
    "# However, the result of Alex's calculations are slightly worse, he gets:\n",
    "Tlim = 2.88e26\n",
    "#Tlim = Tlim/2.\n",
    "TKamland = 1.07e26"
   ]
  },
  {
   "cell_type": "code",
   "execution_count": 19,
   "metadata": {},
   "outputs": [],
   "source": [
    "def ScaleNMEs( nme_dict, factor ):\n",
    "    new_nme_dict = {}\n",
    "    for key in nme_dict.keys():\n",
    "        new_nme_dict[key] = nme_dict[key]*factor\n",
    "    return new_nme_dict"
   ]
  },
  {
   "cell_type": "code",
   "execution_count": 63,
   "metadata": {},
   "outputs": [
    {
     "name": "stdout",
     "output_type": "stream",
     "text": [
      "{'GT': 3.92, 'F': -1.35, 'T': -0.67, 'GTw': 3.72, 'Fw': -1.19, 'GTq': 2.82, 'Fq': -1.21, 'P': -0.61, 'R': 4.73, '1+': 3.21, '1-': 10.47, '2+': 1.3666666669999998, '2-': 4.553333333}\n"
     ]
    }
   ],
   "source": [
    "print(xe124_nme)\n",
    "#xe124_nme_hi = ScaleNMEs(xe124_nme,8./4.)\n",
    "#xe124_nme_lo = ScaleNMEs(xe124_nme,2./4.)\n",
    "# Changed scaling from 2 to 3 on reviewers request\n",
    "xe124_nme_hi = ScaleNMEs(xe124_nme,3.)\n",
    "xe124_nme_lo = ScaleNMEs(xe124_nme,1./3.)\n"
   ]
  },
  {
   "cell_type": "code",
   "execution_count": null,
   "metadata": {},
   "outputs": [],
   "source": []
  },
  {
   "cell_type": "code",
   "execution_count": 64,
   "metadata": {},
   "outputs": [
    {
     "name": "stderr",
     "output_type": "stream",
     "text": [
      "/nustorage/local/anaconda/anaconda3/lib/python3.7/site-packages/ipykernel_launcher.py:11: RuntimeWarning: invalid value encountered in sqrt\n",
      "  # This is added back by InteractiveShellApp.init_path()\n",
      "/nustorage/local/anaconda/anaconda3/lib/python3.7/site-packages/ipykernel_launcher.py:5: RuntimeWarning: invalid value encountered in sqrt\n",
      "  \"\"\"\n"
     ]
    }
   ],
   "source": [
    "xe124_lm_hi = LambdaVsMN_neg(m,0.,Tlim,xe124_nme_hi,xe124_psf,xe124_sf)\n",
    "xe124_lm_lo = LambdaVsMN_neg(m,0.,Tlim,xe124_nme_lo,xe124_psf,xe124_sf)\n",
    "xe124_lp_hi = LambdaVsMN_pos(m,0.,Tlim,xe124_nme_hi,xe124_psf,xe124_sf)\n",
    "xe124_lp_lo = LambdaVsMN_pos(m,0.,Tlim,xe124_nme_lo,xe124_psf,xe124_sf)\n",
    "xe124_lp = LambdaVsMN_pos(m,0.,Tlim,xe124_nme,xe124_psf,xe124_sf)\n",
    "xe124_lm = LambdaVsMN_neg(m,0.,Tlim,xe124_nme,xe124_psf,xe124_sf)\n",
    "\n",
    "\n",
    "xe136_lp = LambdaVsMN_pos(m,0.,TKamland,xe136_nme,xe136_psf,xe136_sf)\n",
    "xe136_lm = LambdaVsMN_neg(m,0.,TKamland,xe136_nme,xe136_psf,xe136_sf)\n"
   ]
  },
  {
   "cell_type": "code",
   "execution_count": 66,
   "metadata": {},
   "outputs": [
    {
     "data": {
      "image/png": "[encoded data removed]",
      "text/plain": [
       "<Figure size 698.17x465.447 with 1 Axes>"
      ]
     },
     "metadata": {
      "needs_background": "light"
     },
     "output_type": "display_data"
    }
   ],
   "source": [
    "plt.fill_between(m,xe124_lp*1.e6,xe124_lm*1.e6,facecolor='royalblue',alpha=0.3, \n",
    "                 edgecolor=None,label='$T^{0\\\\nu\\\\rm{EC}\\\\beta^+,\\,124}_{1/2}>2.9\\\\cdot10^{26}\\\\,\\\\rm{yr}$')\n",
    "#plt.fill_between(m,xe124_lp_hi*1.e6,xe124_lm_hi*1.e6,color=(0.8,0.8,1.,1.),label='$^{136}$Xe, $T_{1/2}>1.07e26$yrs')\n",
    "\n",
    "#plt.fill_between(m,lp_hi*1.e6,lm_hi*1.e6,color=(1.,1.,1.,1.))\n",
    "\n",
    "plt.plot(m,xe124_lm*1.e6,linestyle='-', color='royalblue', linewidth=1.5, zorder=2)\n",
    "plt.plot(m,xe124_lm_hi*1.e6,linestyle='--', color='royalblue', zorder=2)\n",
    "plt.plot(m,xe124_lp_hi*1.e6,linestyle='--', color='royalblue', zorder=2)\n",
    "#plt.plot(m,lm_hi*1.e6,'-b')\n",
    "plt.plot(m,xe124_lp*1.e6,linestyle='-', color='royalblue', linewidth=1.5, zorder=2)\n",
    "#plt.plot(m,lp_hi*1.e6,'-b')\n",
    "\n",
    "\n",
    "plt.fill_between(m,xe136_lm*1.e6,xe136_lp*1.e6,facecolor='darkred',alpha=0.3, edgecolor=None,label='$T^{0\\\\nu\\\\beta^-\\\\beta^-,\\,136}_{1/2}>1.07\\\\cdot10^{26}\\\\,\\\\rm{yr}$')\n",
    "plt.plot(m,xe136_lm*1.e6,linestyle='-', color='darkred', linewidth=1.5, zorder=1)\n",
    "plt.plot(m,xe136_lp*1.e6,linestyle='-', color='darkred', linewidth=1.5, zorder=1)\n",
    "\n",
    "ax = plt.gca()\n",
    "ax.spines['bottom'].set_position('zero')\n",
    "ax.spines['left'].set_position('zero')\n",
    "ax.spines['right'].set_color('none')\n",
    "ax.spines['top'].set_color('none')\n",
    "\n",
    "ax.xaxis.set_ticks_position('bottom')\n",
    "ax.yaxis.set_ticks_position('left')\n",
    "#ax.set_xticks([-0.02,-0.01,0.01,0.02])\n",
    "#ax.set_yticks([-0.02,0.02])\n",
    "#ax.set_xlim(-1.2,1.2)\n",
    "#ax.set_ylim(-0.7,0.7)\n",
    "\n",
    "ax.set_xlabel(r'$\\langle m_{\\beta\\beta} \\rangle$ [eV/$c^2$]')\n",
    "ax.xaxis.set_label_coords(1.13,0.535)\n",
    "ax.set_ylabel(r'$\\langle \\lambda \\rangle \\times 10^6$',rotation='horizontal')\n",
    "ax.yaxis.set_label_coords(0.5,1.0)\n",
    "#plt.axis([-0.03,0.03,-0.04,0.04])\n",
    "leg=plt.legend(loc='upper right',frameon=True, fontsize=6, bbox_to_anchor=(1.15, 1))\n",
    "leg.get_frame().set_linewidth(0)\n",
    "plt.draw()\n",
    "plt.savefig('ellipses_plot_efficiencies_included.pdf',dpi=300,bbox_inches='tight')\n",
    "plt.show()\n",
    "#plt.savefig('ellipses_plot_efficiencies_included.svg',bbox_inches='tight')\n",
    "\n"
   ]
  },
  {
   "cell_type": "code",
   "execution_count": 67,
   "metadata": {},
   "outputs": [
    {
     "name": "stderr",
     "output_type": "stream",
     "text": [
      "/anaconda3/lib/python3.7/site-packages/ipykernel_launcher.py:23: RuntimeWarning: invalid value encountered in sqrt\n",
      "/anaconda3/lib/python3.7/site-packages/ipykernel_launcher.py:17: RuntimeWarning: invalid value encountered in sqrt\n"
     ]
    }
   ],
   "source": [
    "xe124_lm = EtaVsML_neg(m,0.,Tlim,xe124_nme,xe124_psf,xe124_sf)\n",
    "xe124_lp = EtaVsML_pos(m,0.,Tlim,xe124_nme,xe124_psf,xe124_sf)\n",
    "\n",
    "xe136_lp = EtaVsML_pos(m,0.,TKamland,xe136_nme,xe136_psf,xe136_sf)\n",
    "xe136_lm = EtaVsML_neg(m,0.,TKamland,xe136_nme,xe136_psf,xe136_sf)\n"
   ]
  },
  {
   "cell_type": "code",
   "execution_count": 48,
   "metadata": {},
   "outputs": [
    {
     "data": {
      "image/png": "[encoded data removed]",
      "text/plain": [
       "<Figure size 576x360 with 1 Axes>"
      ]
     },
     "metadata": {
      "needs_background": "light"
     },
     "output_type": "display_data"
    }
   ],
   "source": [
    "plt.fill_between(m,xe136_lp*1.e6,xe136_lm*1.e6,color=(0.,0.,1.,0.2),label='$^{136}$Xe, $T_{1/2}>1.07e26$yrs')\n",
    "#plt.fill_between(m,lp_hi*1.e6,lm_hi*1.e6,color=(1.,1.,1.,1.))\n",
    "\n",
    "plt.plot(m,xe136_lm*1.e6,'-b')\n",
    "#plt.plot(m,lm_hi*1.e6,'-b')\n",
    "plt.plot(m,xe136_lp*1.e6,'-b')\n",
    "#plt.plot(m,lp_hi*1.e6,'-b')\n",
    "\n",
    "\n",
    "plt.fill_between(m,xe124_lm*1.e6,xe124_lp*1.e6,color=(0.,1.,0.,0.2),label='$^{124}Xe, T_{1/2}>2.88e26$yrs')\n",
    "plt.plot(m,xe124_lm*1.e6,linstyle='-', color='royalblue')\n",
    "plt.plot(m,xe124_lp*1.e6,linstyle='-', color='royalblue')\n",
    "\n",
    "ax = plt.gca()\n",
    "ax.spines['bottom'].set_position('zero')\n",
    "ax.spines['left'].set_position('zero')\n",
    "ax.spines['right'].set_color('none')\n",
    "ax.spines['top'].set_color('none')\n",
    "\n",
    "ax.xaxis.set_ticks_position('bottom')\n",
    "ax.yaxis.set_ticks_position('left')\n",
    "#ax.set_xticks([-0.02,-0.01,0.01,0.02])\n",
    "#ax.set_yticks([-0.02,0.02])\n",
    "\n",
    "ax.set_xlabel(r'$\\langle m_{\\beta\\beta} \\rangle$')\n",
    "ax.xaxis.set_label_coords(1.07,0.52)\n",
    "ax.set_ylabel(r'$\\langle \\lambda \\rangle \\times 10^6$',rotation='horizontal')\n",
    "ax.yaxis.set_label_coords(0.5,1.0)\n",
    "#plt.axis([-0.03,0.03,-0.04,0.04])\n",
    "plt.legend(loc='upper right',frameon=True,fontsize=14,framealpha=1.)\n",
    "plt.savefig('ellipses_plot_efficiencies_included.png',dpi=500,bbox_inches='tight')"
   ]
  },
  {
   "cell_type": "code",
   "execution_count": null,
   "metadata": {},
   "outputs": [],
   "source": []
  },
  {
   "cell_type": "code",
   "execution_count": null,
   "metadata": {},
   "outputs": [],
   "source": []
  },
  {
   "cell_type": "markdown",
   "metadata": {},
   "source": [
    "## Next, let's assume we have a positive measurement in XENONnT or LZ\n",
    "\n",
    "We'll assume we have 5kg of $^{124}$Xe in XENONnT or LZ, and calculate the necessary halflife for a ~3sigma detection. Then, we'll see what sort of new constraints this can apply on the physical parameters, given the limits on Xe136 and Ge76 from Gerda/Kamland-Zen."
   ]
  },
  {
   "cell_type": "code",
   "execution_count": 26,
   "metadata": {},
   "outputs": [
    {
     "name": "stdout",
     "output_type": "stream",
     "text": [
      "0.0\t3.679E-01\n",
      "1.0\t3.679E-01\n",
      "2.0\t1.839E-01\n",
      "3.0\t6.131E-02\n",
      "4.0\t1.533E-02\n"
     ]
    }
   ],
   "source": [
    "from scipy.stats import poisson\n",
    "\n",
    "x = np.arange(0.,20.)\n",
    "\n",
    "bins_mean1 = poisson.pmf(x,1.)\n",
    "\n",
    "\n",
    "for i in range(0,len(bins_mean1)):\n",
    "    if bins_mean1[i] > 0.005:\n",
    "        print('{:1}\\t{:1.3E}'.format(x[i],bins_mean1[i]))\n",
    "    \n",
    "# We conclude that we need 5 events for a 3-sigma detection (<0.5% probability), \n",
    "# if the expectation is 1 background event."
   ]
  },
  {
   "cell_type": "code",
   "execution_count": 27,
   "metadata": {},
   "outputs": [
    {
     "name": "stdout",
     "output_type": "stream",
     "text": [
      "Halflife for 3-sigma detection: 3.365E+25 +/- 1.683E+25\n"
     ]
    }
   ],
   "source": [
    "# If we saw 5 events in LZ or XENONnT, what halflife would that correspond to?\n",
    "\n",
    "eff = 1.\n",
    "livetime = 10. #yrs\n",
    "mass_Xe = 5.e3 #g\n",
    "N_Xe = mass_Xe / 124. * 6.02e23 # Number of xenon atoms\n",
    "\n",
    "Tmeas = eff*N_Xe*livetime*np.log(2)/5.\n",
    "print('Halflife for 3-sigma detection: {:1.3E} +/- {:1.3E}'.format(Tmeas,Tmeas/2.))\n",
    "Terr = Tmeas/2."
   ]
  },
  {
   "cell_type": "code",
   "execution_count": 28,
   "metadata": {},
   "outputs": [
    {
     "name": "stderr",
     "output_type": "stream",
     "text": [
      "/anaconda3/lib/python3.7/site-packages/ipykernel_launcher.py:5: RuntimeWarning: invalid value encountered in sqrt\n",
      "  \"\"\"\n",
      "/anaconda3/lib/python3.7/site-packages/ipykernel_launcher.py:11: RuntimeWarning: invalid value encountered in sqrt\n",
      "  # This is added back by InteractiveShellApp.init_path()\n"
     ]
    },
    {
     "data": {
      "image/png": "[encoded data removed]",
      "text/plain": [
       "<Figure size 432x288 with 1 Axes>"
      ]
     },
     "metadata": {
      "needs_background": "light"
     },
     "output_type": "display_data"
    }
   ],
   "source": [
    "xe124_lp_lo = LambdaVsMN_pos(m,0.,Tmeas-Terr,xe124_nme,xe124_psf,xe124_sf)\n",
    "xe124_lp_hi = LambdaVsMN_pos(m,0.,Tmeas+Terr,xe124_nme,xe124_psf,xe124_sf)\n",
    "xe124_lm_lo = LambdaVsMN_neg(m,0.,Tmeas-Terr,xe124_nme,xe124_psf,xe124_sf)\n",
    "xe124_lm_hi = LambdaVsMN_neg(m,0.,Tmeas+Terr,xe124_nme,xe124_psf,xe124_sf)\n",
    "\n",
    "\n",
    "lp_lo = LambdaVsMN_pos(m,0.,5.6e25,xe136_nme,xe136_psf,xe136_sf)\n",
    "#lp_hi = LambdaVsMN_pos(m,0.,T_hi,xe136_nme,xe136_psf,xe136_sf)\n",
    "lm_lo = LambdaVsMN_neg(m,0.,5.6e25,xe136_nme,xe136_psf,xe136_sf)\n",
    "#lm_hi = LambdaVsMN_neg(m,0.,T_hi,xe136_nme,xe136_psf,xe136_sf)\n",
    "\n",
    "ge76_lp_lo = LambdaVsMN_pos(m,0.,8.e25,ge76_nme,ge76_psf,ge76_sf)\n",
    "ge76_lm_lo = LambdaVsMN_neg(m,0.,8.e25,ge76_nme,ge76_psf,ge76_sf)\n",
    "\n",
    "\n",
    "plt.fill_between(m,xe124_lm_lo*1.e6,xe124_lp_lo*1.e6,color=(1.,0.,0.,0.2),label='$^{124}Xe, T_{1/2}=(3.4\\pm1.7)e25$yrs')\n",
    "plt.fill_between(m,xe124_lp_hi*1.e6,xe124_lm_hi*1.e6,color=(1.,1.,1.,1.))\n",
    "\n",
    "plt.plot(m,xe124_lm_lo*1.e6,'-r')\n",
    "plt.plot(m,xe124_lp_lo*1.e6,'-r')\n",
    "plt.plot(m,xe124_lm_hi*1.e6,'-r')\n",
    "plt.plot(m,xe124_lp_hi*1.e6,'-r')\n",
    "\n",
    "plt.fill_between(m,lp_lo*1.e6,lm_lo*1.e6,color=(0.,0.,1.,0.2),label='$^{136}$Xe, $T_{1/2}>5.6e25$yrs')\n",
    "#plt.fill_between(m,lp_hi*1.e6,lm_hi*1.e6,color=(1.,1.,1.,1.))\n",
    "plt.fill_between(m,ge76_lp_lo*1.e6,ge76_lm_lo*1.e6,color=(1.,0.,1.,0.2),label='$^{76}$Ge, $T_{1/2}>8.0e25$yrs')\n",
    "\n",
    "\n",
    "plt.plot(m,lm_lo*1.e6,'-b')\n",
    "#plt.plot(m,lm_hi*1.e6,'-b')\n",
    "plt.plot(m,lp_lo*1.e6,'-b')\n",
    "#plt.plot(m,lp_hi*1.e6,'-b')\n",
    "\n",
    "plt.plot(m,ge76_lm_lo*1.e6,'-m')\n",
    "plt.plot(m,ge76_lp_lo*1.e6,'-m')\n",
    "\n",
    "ax = plt.gca()\n",
    "ax.spines['bottom'].set_position('zero')\n",
    "ax.spines['left'].set_position('zero')\n",
    "ax.spines['right'].set_color('none')\n",
    "ax.spines['top'].set_color('none')\n",
    "\n",
    "ax.xaxis.set_ticks_position('bottom')\n",
    "ax.yaxis.set_ticks_position('left')\n",
    "#ax.set_xticks([-0.02,-0.01,0.01,0.02])\n",
    "#ax.set_yticks([-0.02,0.02])\n",
    "\n",
    "ax.set_xlabel(r'$\\langle m_{\\beta\\beta} \\rangle$')\n",
    "ax.xaxis.set_label_coords(1.07,0.52)\n",
    "ax.set_ylabel(r'$\\langle \\lambda \\rangle \\times 10^6$',rotation='horizontal')\n",
    "ax.yaxis.set_label_coords(0.5,1.0)\n",
    "#plt.axis([-0.03,0.03,-0.04,0.04])\n",
    "plt.legend(loc='upper right',frameon=False,fontsize=12,framealpha=1.)\n",
    "\n",
    "plt.savefig('current_Ge76_Xe136_limits_plus_50kgXe124_w_3sig_detection.png',dpi=500,bbox_inches='tight')\n"
   ]
  },
  {
   "cell_type": "markdown",
   "metadata": {},
   "source": [
    "### "
   ]
  },
  {
   "cell_type": "code",
   "execution_count": null,
   "metadata": {},
   "outputs": [],
   "source": []
  },
  {
   "cell_type": "code",
   "execution_count": null,
   "metadata": {},
   "outputs": [],
   "source": []
  },
  {
   "cell_type": "code",
   "execution_count": null,
   "metadata": {},
   "outputs": [],
   "source": []
  }
 ],
 "metadata": {
  "kernelspec": {
   "display_name": "Python 3",
   "language": "python",
   "name": "python3"
  },
  "language_info": {
   "codemirror_mode": {
    "name": "ipython",
    "version": 3
   },
   "file_extension": ".py",
   "mimetype": "text/x-python",
   "name": "python",
   "nbconvert_exporter": "python",
   "pygments_lexer": "ipython3",
   "version": "3.7.4"
  }
 },
 "nbformat": 4,
 "nbformat_minor": 4
}
