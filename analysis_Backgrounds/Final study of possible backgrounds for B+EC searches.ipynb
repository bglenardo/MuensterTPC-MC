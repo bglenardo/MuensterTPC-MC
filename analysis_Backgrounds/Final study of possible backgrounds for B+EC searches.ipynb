{
 "cells": [
  {
   "cell_type": "code",
   "execution_count": 91,
   "metadata": {},
   "outputs": [],
   "source": [
    "import ReactorSpectra\n",
    "import histlite as hl\n",
    "import numpy as np\n",
    "import pandas as pd\n",
    "import Detector\n",
    "from matplotlib import pyplot as plt\n",
    "\n",
    "plt.rcParams['figure.figsize'] = [8, 6]\n",
    "plt.rcParams.update({'font.size': 18})\n",
    "plt.rcParams[\"font.weight\"] = 'light'\n",
    "plt.rcParams[\"axes.labelweight\"] = 'light'\n",
    "plt.rcParams[\"font.family\"] = ['Times New Roman']"
   ]
  },
  {
   "cell_type": "markdown",
   "metadata": {},
   "source": []
  },
  {
   "cell_type": "markdown",
   "metadata": {},
   "source": [
    "# Introduction\n",
    "\n",
    "This notebook contains our best estimate of the backgrounds in a search for 2nu- and 0nuB+EC decay. For this signal, one expects a unique event structure: a fast positron will scatter and excite/ionize the xenon in a primary track, and will then annihilate, producing two back-to-back gamma rays, each with 511 keV. The idea here is that a liquid xenon TPC will have the spatial position resolution to identify these events by their topology and reduce background to essentially zero.\n",
    "\n",
    "There are a few sources of backgrounds that we consider here:\n",
    "\n",
    "1. **Antineutrino charged-current scattering** - ~MeV-scale antineutrinos, either from geological sources or from reactors, can undergo charged-current scattering on the xenon nucleus. This process produces a positron, so if it has enough energy it will exactly mimic the signal of interest.\n",
    "\n",
    "2. **Neutrino charged-currrent scattering** - ~MeV-scale neutrinos from the sun can also undergo charged-current scattering, which produces backgrounds of two different types:\n",
    "\n",
    "    1. **Prompt neutrino capture into excited states** - The prompt signal from charged-current scattering is a fast electron, which should not meet our event selection criteria. However, if the resulting Cs nucleus is left in an excited state, the decay gammas may mimic the annihilation gammas, producing background events in our search.\n",
    "    \n",
    "    2. **Delayed emission of positrons by proton-rich Cs daughters** - Charged-current scattering on the lower-mass Xe isotopes produces Cs isotopes which decay via B+ emission. This exactly mimics our signal of interest.\n",
    "    \n",
    "    3. **Delayed beta decays into excited states** - Charged-current scattering on the higher-mass Xe isotopes can produce Cs isotopes that B-decay into excited states. The particular case here is Xe-136, since it has a low enough threshold to interact with Be7 and CNO neutrinos (which have much higher fluxes than B8 neutrinos)\n",
    "    \n",
    "3. **External gamma rays** - external gammas from natural radioactivity in the detector materials may mimic our signal topology by compton-scattering to produce multiple energy deposits. The pile-up of these gammas may have enough energy to reach the 2.8 MeV Q-value of the 0nuB+EC decay of Xe124 \n",
    "\n",
    "5. **Neutron activation via (n,g), (n,p), or (n,a) reactions** - fast neutrons may reach the detector from muon spallation or from (a,n) reactions in the surrounding materials. Any induced radioactivity in the Xe may create backgrounds if it is a B+-emitter, or decays via B-decay to excited states. \n",
    "\n",
    "4. **222Rn decay inside the liquid xenon volume** - events from the Rn-222 decay chain may produce backgrounds for us.\n",
    "\n",
    "We quantify and address each of these background sources below."
   ]
  },
  {
   "cell_type": "markdown",
   "metadata": {},
   "source": [
    "# Antineutrino charged-current scattering"
   ]
  },
  {
   "cell_type": "markdown",
   "metadata": {},
   "source": [
    "First, we load in the energy-dependent cross sections, which were published in PhysRevC **99** 014320. The energy-dependent data was obtained directly from Pekka Pirinen."
   ]
  },
  {
   "cell_type": "code",
   "execution_count": 46,
   "metadata": {},
   "outputs": [
    {
     "data": {
      "text/html": [
       "<div>\n",
       "<style scoped>\n",
       "    .dataframe tbody tr th:only-of-type {\n",
       "        vertical-align: middle;\n",
       "    }\n",
       "\n",
       "    .dataframe tbody tr th {\n",
       "        vertical-align: top;\n",
       "    }\n",
       "\n",
       "    .dataframe thead th {\n",
       "        text-align: right;\n",
       "    }\n",
       "</style>\n",
       "<table border=\"1\" class=\"dataframe\">\n",
       "  <thead>\n",
       "    <tr style=\"text-align: right;\">\n",
       "      <th></th>\n",
       "      <th>E</th>\n",
       "      <th>CS</th>\n",
       "    </tr>\n",
       "  </thead>\n",
       "  <tbody>\n",
       "    <tr>\n",
       "      <th>0</th>\n",
       "      <td>1.0</td>\n",
       "      <td>0.0</td>\n",
       "    </tr>\n",
       "    <tr>\n",
       "      <th>1</th>\n",
       "      <td>1.2</td>\n",
       "      <td>0.0</td>\n",
       "    </tr>\n",
       "    <tr>\n",
       "      <th>2</th>\n",
       "      <td>1.4</td>\n",
       "      <td>0.0</td>\n",
       "    </tr>\n",
       "    <tr>\n",
       "      <th>3</th>\n",
       "      <td>1.6</td>\n",
       "      <td>0.0</td>\n",
       "    </tr>\n",
       "    <tr>\n",
       "      <th>4</th>\n",
       "      <td>1.8</td>\n",
       "      <td>0.0</td>\n",
       "    </tr>\n",
       "  </tbody>\n",
       "</table>\n",
       "</div>"
      ],
      "text/plain": [
       "     E  CS \n",
       "0  1.0  0.0\n",
       "1  1.2  0.0\n",
       "2  1.4  0.0\n",
       "3  1.6  0.0\n",
       "4  1.8  0.0"
      ]
     },
     "execution_count": 46,
     "metadata": {},
     "output_type": "execute_result"
    }
   ],
   "source": [
    "cs_xe131 = pd.read_csv('pirinen_cross_sections/131Xe_I_antineutrino.dat',delimiter='\\t',skiprows=2,index_col=False)\n",
    "cs_xe129 = pd.read_csv('pirinen_cross_sections/129Xe_I_antineutrino.dat',delimiter='\\t',skiprows=2,index_col=False)\n",
    "cs_xe129.head()\n",
    "cs_xe131.head()"
   ]
  },
  {
   "cell_type": "code",
   "execution_count": 47,
   "metadata": {
    "scrolled": false
   },
   "outputs": [
    {
     "data": {
      "image/png": "[encoded data removed]",
      "text/plain": [
       "<Figure size 576x432 with 1 Axes>"
      ]
     },
     "metadata": {
      "needs_background": "light"
     },
     "output_type": "display_data"
    }
   ],
   "source": [
    "plt.plot(cs_xe129['E'],cs_xe129['CS'],label='Xe129')\n",
    "plt.plot(cs_xe131['E'],cs_xe131['CS '],label='Xe131')\n",
    "\n",
    "plt.ylabel('Cross section (cm^2)')\n",
    "plt.xlabel('Neutrino energy (MeV)')\n",
    "plt.legend(loc='lower right')\n",
    "\n",
    "plt.yscale('log')"
   ]
  },
  {
   "cell_type": "markdown",
   "metadata": {},
   "source": [
    "## Reactor antineutrinos\n",
    "\n",
    "Let's first look at reactors as a source of backgrounds. We can download the a table of reactors all over the world which contains their locations and their thermal power. This allows us to calculate the flux at any point on the globe. For this study, we focus on the underground labs: Homestake, LNGS, and SNOLAB. I ignore oscillations for now - note that this is a conservative assumption, since only electron antinuetrinos will interact at energies this low. \n",
    "\n",
    "\n",
    "The data was obtained from https://www.ultralytics.com/agm2015"
   ]
  },
  {
   "cell_type": "code",
   "execution_count": 48,
   "metadata": {},
   "outputs": [
    {
     "name": "stdout",
     "output_type": "stream",
     "text": [
      "     Country    Sitename                               Location  \\\n",
      "0        NaN         NaN                                    NaN   \n",
      "1    ARMENIA  ARMENIAN-1                                Armavir   \n",
      "2    ARMENIA  ARMENIAN-2                                Armavir   \n",
      "3  ARGENTINA    ATUCHA-1  Zárate Partido, Buenos Aires Province   \n",
      "4  ARGENTINA     EMBALSE        Calamuchita Department, Cordoba   \n",
      "\n",
      "               Status  Gross (MWe)  Capacity (MWt)  Mean LF (%)  2015 LF (%)  \\\n",
      "0                 NaN          NaN             NaN          NaN          NaN   \n",
      "1  Permanent Shutdown        408.0          1375.0          0.0          0.0   \n",
      "2         Operational        408.0          1375.0         65.2         78.3   \n",
      "3         Operational        357.0          1179.0         71.5         88.4   \n",
      "4         Operational        648.0          2015.0         78.7         12.2   \n",
      "\n",
      "   lat (-90 to 90)  lng (-180 to 180)  alt (m)  \n",
      "0              NaN                NaN      NaN  \n",
      "1        40.180844          44.148908    925.3  \n",
      "2        40.180844          44.148908    925.3  \n",
      "3       -33.963330         -59.186390     27.7  \n",
      "4       -32.232000         -64.443000    633.5  \n"
     ]
    }
   ],
   "source": [
    "db_reactors = pd.read_csv('Reactor_neutrinos/Copy of Ultralytics Worldwide Reactor Database - Sheet1.csv')\n",
    "print(db_reactors.head())\n",
    "op_mask = db_reactors['Status'] == 'Operational'"
   ]
  },
  {
   "cell_type": "code",
   "execution_count": 49,
   "metadata": {},
   "outputs": [],
   "source": [
    "# Coordinates of LNGS\n",
    "lngs_lat = 42.454 # degrees north\n",
    "lngs_lon = 13.576 # degrees east\n",
    "\n",
    "# Coordinates of Homestake\n",
    "home_lat = 44. + 21./60. # degrees north\n",
    "home_lon = -(103. + 45./60.) # degrees west\n",
    "\n",
    "sno_lat = 46.4719 # degrees north\n",
    "sno_lon = -81.1868 # degrees west\n",
    "\n",
    "# Radius of the earth\n",
    "R = 6371.0 # km"
   ]
  },
  {
   "cell_type": "code",
   "execution_count": 50,
   "metadata": {},
   "outputs": [],
   "source": [
    "# Write function to accept two locations in degrees on a sphere of radius R, then \n",
    "# calculate their true 3D distance from each other. We take the convention given \n",
    "# by the reactors sheet: latitude is measured from -90 to 90, and longitude is\n",
    "# measured from -180 to 180\n",
    "def distance_calc( R, lat1, lon1, lat2, lon2 ):\n",
    "    if lat1 < 0.:\n",
    "        lat1 = -1.*lat1 + 90.\n",
    "    else:\n",
    "        lat1 = 90. - lat1\n",
    "    if lat2 < 0.:\n",
    "        lat2 = -1.*lat2 + 90.\n",
    "    else:\n",
    "        lat2 = 90. - lat2\n",
    "    if lon1 < 0.:\n",
    "        lon1 = (-1.*lon1) + 180.\n",
    "    if lon2 < 0.:\n",
    "        lon2 = (-1.*lon2) + 180.\n",
    "        \n",
    "    x1 = R * np.sin(lat1*np.pi/180.) * np.cos(lon1*np.pi/180.)\n",
    "    y1 = R * np.sin(lat1*np.pi/180.) * np.sin(lon1*np.pi/180.)\n",
    "    z1 = R * np.cos(lat1*np.pi/180.)\n",
    "    \n",
    "    x2 = R * np.sin(lat2*np.pi/180.) * np.cos(lon2*np.pi/180.)\n",
    "    y2 = R * np.sin(lat2*np.pi/180.) * np.sin(lon2*np.pi/180.)\n",
    "    z2 = R * np.cos(lat2*np.pi/180.)\n",
    "    \n",
    "    #print('X1: {} Y1: {} Z1: {}'.format(x1,y1,z1))\n",
    "    #print('X2: {} Y2: {} Z2: {}'.format(x2,y2,z2))\n",
    "    #print('Dist: {}'.format(np.sqrt( (x1-x2)**2 + (y1-y2)**2 + (z1-z2)**2 )))\n",
    "    \n",
    "    return np.sqrt( (x1-x2)**2 + (y1-y2)**2 + (z1-z2)**2 )"
   ]
  },
  {
   "cell_type": "code",
   "execution_count": 51,
   "metadata": {},
   "outputs": [
    {
     "data": {
      "text/html": [
       "<div>\n",
       "<style scoped>\n",
       "    .dataframe tbody tr th:only-of-type {\n",
       "        vertical-align: middle;\n",
       "    }\n",
       "\n",
       "    .dataframe tbody tr th {\n",
       "        vertical-align: top;\n",
       "    }\n",
       "\n",
       "    .dataframe thead th {\n",
       "        text-align: right;\n",
       "    }\n",
       "</style>\n",
       "<table border=\"1\" class=\"dataframe\">\n",
       "  <thead>\n",
       "    <tr style=\"text-align: right;\">\n",
       "      <th></th>\n",
       "      <th>Country</th>\n",
       "      <th>Sitename</th>\n",
       "      <th>Location</th>\n",
       "      <th>Status</th>\n",
       "      <th>Gross (MWe)</th>\n",
       "      <th>Capacity (MWt)</th>\n",
       "      <th>Mean LF (%)</th>\n",
       "      <th>2015 LF (%)</th>\n",
       "      <th>lat (-90 to 90)</th>\n",
       "      <th>lng (-180 to 180)</th>\n",
       "      <th>alt (m)</th>\n",
       "      <th>Dist to LNGS</th>\n",
       "    </tr>\n",
       "  </thead>\n",
       "  <tbody>\n",
       "    <tr>\n",
       "      <th>0</th>\n",
       "      <td>NaN</td>\n",
       "      <td>NaN</td>\n",
       "      <td>NaN</td>\n",
       "      <td>NaN</td>\n",
       "      <td>NaN</td>\n",
       "      <td>NaN</td>\n",
       "      <td>NaN</td>\n",
       "      <td>NaN</td>\n",
       "      <td>NaN</td>\n",
       "      <td>NaN</td>\n",
       "      <td>NaN</td>\n",
       "      <td>NaN</td>\n",
       "    </tr>\n",
       "    <tr>\n",
       "      <th>1</th>\n",
       "      <td>ARMENIA</td>\n",
       "      <td>ARMENIAN-1</td>\n",
       "      <td>Armavir</td>\n",
       "      <td>Permanent Shutdown</td>\n",
       "      <td>408.0</td>\n",
       "      <td>1375.0</td>\n",
       "      <td>0.0</td>\n",
       "      <td>0.0</td>\n",
       "      <td>40.180844</td>\n",
       "      <td>44.148908</td>\n",
       "      <td>925.3</td>\n",
       "      <td>2534.847784</td>\n",
       "    </tr>\n",
       "    <tr>\n",
       "      <th>2</th>\n",
       "      <td>ARMENIA</td>\n",
       "      <td>ARMENIAN-2</td>\n",
       "      <td>Armavir</td>\n",
       "      <td>Operational</td>\n",
       "      <td>408.0</td>\n",
       "      <td>1375.0</td>\n",
       "      <td>65.2</td>\n",
       "      <td>78.3</td>\n",
       "      <td>40.180844</td>\n",
       "      <td>44.148908</td>\n",
       "      <td>925.3</td>\n",
       "      <td>2534.847784</td>\n",
       "    </tr>\n",
       "    <tr>\n",
       "      <th>3</th>\n",
       "      <td>ARGENTINA</td>\n",
       "      <td>ATUCHA-1</td>\n",
       "      <td>Zárate Partido, Buenos Aires Province</td>\n",
       "      <td>Operational</td>\n",
       "      <td>357.0</td>\n",
       "      <td>1179.0</td>\n",
       "      <td>71.5</td>\n",
       "      <td>88.4</td>\n",
       "      <td>-33.963330</td>\n",
       "      <td>-59.186390</td>\n",
       "      <td>27.7</td>\n",
       "      <td>12105.474735</td>\n",
       "    </tr>\n",
       "    <tr>\n",
       "      <th>4</th>\n",
       "      <td>ARGENTINA</td>\n",
       "      <td>EMBALSE</td>\n",
       "      <td>Calamuchita Department, Cordoba</td>\n",
       "      <td>Operational</td>\n",
       "      <td>648.0</td>\n",
       "      <td>2015.0</td>\n",
       "      <td>78.7</td>\n",
       "      <td>12.2</td>\n",
       "      <td>-32.232000</td>\n",
       "      <td>-64.443000</td>\n",
       "      <td>633.5</td>\n",
       "      <td>11932.338786</td>\n",
       "    </tr>\n",
       "  </tbody>\n",
       "</table>\n",
       "</div>"
      ],
      "text/plain": [
       "     Country    Sitename                               Location  \\\n",
       "0        NaN         NaN                                    NaN   \n",
       "1    ARMENIA  ARMENIAN-1                                Armavir   \n",
       "2    ARMENIA  ARMENIAN-2                                Armavir   \n",
       "3  ARGENTINA    ATUCHA-1  Zárate Partido, Buenos Aires Province   \n",
       "4  ARGENTINA     EMBALSE        Calamuchita Department, Cordoba   \n",
       "\n",
       "               Status  Gross (MWe)  Capacity (MWt)  Mean LF (%)  2015 LF (%)  \\\n",
       "0                 NaN          NaN             NaN          NaN          NaN   \n",
       "1  Permanent Shutdown        408.0          1375.0          0.0          0.0   \n",
       "2         Operational        408.0          1375.0         65.2         78.3   \n",
       "3         Operational        357.0          1179.0         71.5         88.4   \n",
       "4         Operational        648.0          2015.0         78.7         12.2   \n",
       "\n",
       "   lat (-90 to 90)  lng (-180 to 180)  alt (m)  Dist to LNGS  \n",
       "0              NaN                NaN      NaN           NaN  \n",
       "1        40.180844          44.148908    925.3   2534.847784  \n",
       "2        40.180844          44.148908    925.3   2534.847784  \n",
       "3       -33.963330         -59.186390     27.7  12105.474735  \n",
       "4       -32.232000         -64.443000    633.5  11932.338786  "
      ]
     },
     "execution_count": 51,
     "metadata": {},
     "output_type": "execute_result"
    }
   ],
   "source": [
    "# Add a column to the dataframe giving the distance of each reactor to each lab.\n",
    "\n",
    "db_reactors['Dist to LNGS'] = np.zeros(len(db_reactors['lat (-90 to 90)']))\n",
    "\n",
    "for index,row in db_reactors.iterrows():\n",
    "    db_reactors['Dist to LNGS'].loc[index] = distance_calc(R,lngs_lat,lngs_lon,row['lat (-90 to 90)'],row['lng (-180 to 180)'])\n",
    "\n",
    "db_reactors.head()"
   ]
  },
  {
   "cell_type": "code",
   "execution_count": 52,
   "metadata": {},
   "outputs": [
    {
     "data": {
      "text/html": [
       "<div>\n",
       "<style scoped>\n",
       "    .dataframe tbody tr th:only-of-type {\n",
       "        vertical-align: middle;\n",
       "    }\n",
       "\n",
       "    .dataframe tbody tr th {\n",
       "        vertical-align: top;\n",
       "    }\n",
       "\n",
       "    .dataframe thead th {\n",
       "        text-align: right;\n",
       "    }\n",
       "</style>\n",
       "<table border=\"1\" class=\"dataframe\">\n",
       "  <thead>\n",
       "    <tr style=\"text-align: right;\">\n",
       "      <th></th>\n",
       "      <th>Country</th>\n",
       "      <th>Sitename</th>\n",
       "      <th>Location</th>\n",
       "      <th>Status</th>\n",
       "      <th>Gross (MWe)</th>\n",
       "      <th>Capacity (MWt)</th>\n",
       "      <th>Mean LF (%)</th>\n",
       "      <th>2015 LF (%)</th>\n",
       "      <th>lat (-90 to 90)</th>\n",
       "      <th>lng (-180 to 180)</th>\n",
       "      <th>alt (m)</th>\n",
       "      <th>Dist to LNGS</th>\n",
       "      <th>Dist to Homestake</th>\n",
       "    </tr>\n",
       "  </thead>\n",
       "  <tbody>\n",
       "    <tr>\n",
       "      <th>0</th>\n",
       "      <td>NaN</td>\n",
       "      <td>NaN</td>\n",
       "      <td>NaN</td>\n",
       "      <td>NaN</td>\n",
       "      <td>NaN</td>\n",
       "      <td>NaN</td>\n",
       "      <td>NaN</td>\n",
       "      <td>NaN</td>\n",
       "      <td>NaN</td>\n",
       "      <td>NaN</td>\n",
       "      <td>NaN</td>\n",
       "      <td>NaN</td>\n",
       "      <td>NaN</td>\n",
       "    </tr>\n",
       "    <tr>\n",
       "      <th>1</th>\n",
       "      <td>ARMENIA</td>\n",
       "      <td>ARMENIAN-1</td>\n",
       "      <td>Armavir</td>\n",
       "      <td>Permanent Shutdown</td>\n",
       "      <td>408.0</td>\n",
       "      <td>1375.0</td>\n",
       "      <td>0.0</td>\n",
       "      <td>0.0</td>\n",
       "      <td>40.180844</td>\n",
       "      <td>44.148908</td>\n",
       "      <td>925.3</td>\n",
       "      <td>2534.847784</td>\n",
       "      <td>8185.837207</td>\n",
       "    </tr>\n",
       "    <tr>\n",
       "      <th>2</th>\n",
       "      <td>ARMENIA</td>\n",
       "      <td>ARMENIAN-2</td>\n",
       "      <td>Armavir</td>\n",
       "      <td>Operational</td>\n",
       "      <td>408.0</td>\n",
       "      <td>1375.0</td>\n",
       "      <td>65.2</td>\n",
       "      <td>78.3</td>\n",
       "      <td>40.180844</td>\n",
       "      <td>44.148908</td>\n",
       "      <td>925.3</td>\n",
       "      <td>2534.847784</td>\n",
       "      <td>8185.837207</td>\n",
       "    </tr>\n",
       "    <tr>\n",
       "      <th>3</th>\n",
       "      <td>ARGENTINA</td>\n",
       "      <td>ATUCHA-1</td>\n",
       "      <td>Zárate Partido, Buenos Aires Province</td>\n",
       "      <td>Operational</td>\n",
       "      <td>357.0</td>\n",
       "      <td>1179.0</td>\n",
       "      <td>71.5</td>\n",
       "      <td>88.4</td>\n",
       "      <td>-33.963330</td>\n",
       "      <td>-59.186390</td>\n",
       "      <td>27.7</td>\n",
       "      <td>12105.474735</td>\n",
       "      <td>8864.483920</td>\n",
       "    </tr>\n",
       "    <tr>\n",
       "      <th>4</th>\n",
       "      <td>ARGENTINA</td>\n",
       "      <td>EMBALSE</td>\n",
       "      <td>Calamuchita Department, Cordoba</td>\n",
       "      <td>Operational</td>\n",
       "      <td>648.0</td>\n",
       "      <td>2015.0</td>\n",
       "      <td>78.7</td>\n",
       "      <td>12.2</td>\n",
       "      <td>-32.232000</td>\n",
       "      <td>-64.443000</td>\n",
       "      <td>633.5</td>\n",
       "      <td>11932.338786</td>\n",
       "      <td>8570.328643</td>\n",
       "    </tr>\n",
       "  </tbody>\n",
       "</table>\n",
       "</div>"
      ],
      "text/plain": [
       "     Country    Sitename                               Location  \\\n",
       "0        NaN         NaN                                    NaN   \n",
       "1    ARMENIA  ARMENIAN-1                                Armavir   \n",
       "2    ARMENIA  ARMENIAN-2                                Armavir   \n",
       "3  ARGENTINA    ATUCHA-1  Zárate Partido, Buenos Aires Province   \n",
       "4  ARGENTINA     EMBALSE        Calamuchita Department, Cordoba   \n",
       "\n",
       "               Status  Gross (MWe)  Capacity (MWt)  Mean LF (%)  2015 LF (%)  \\\n",
       "0                 NaN          NaN             NaN          NaN          NaN   \n",
       "1  Permanent Shutdown        408.0          1375.0          0.0          0.0   \n",
       "2         Operational        408.0          1375.0         65.2         78.3   \n",
       "3         Operational        357.0          1179.0         71.5         88.4   \n",
       "4         Operational        648.0          2015.0         78.7         12.2   \n",
       "\n",
       "   lat (-90 to 90)  lng (-180 to 180)  alt (m)  Dist to LNGS  \\\n",
       "0              NaN                NaN      NaN           NaN   \n",
       "1        40.180844          44.148908    925.3   2534.847784   \n",
       "2        40.180844          44.148908    925.3   2534.847784   \n",
       "3       -33.963330         -59.186390     27.7  12105.474735   \n",
       "4       -32.232000         -64.443000    633.5  11932.338786   \n",
       "\n",
       "   Dist to Homestake  \n",
       "0                NaN  \n",
       "1        8185.837207  \n",
       "2        8185.837207  \n",
       "3        8864.483920  \n",
       "4        8570.328643  "
      ]
     },
     "execution_count": 52,
     "metadata": {},
     "output_type": "execute_result"
    }
   ],
   "source": [
    "db_reactors['Dist to Homestake'] = np.zeros(len(db_reactors['lat (-90 to 90)']))\n",
    "\n",
    "for index,row in db_reactors.iterrows():\n",
    "    db_reactors['Dist to Homestake'].loc[index] = distance_calc(R,home_lat,home_lon,row['lat (-90 to 90)'],row['lng (-180 to 180)'])\n",
    "\n",
    "db_reactors.head()"
   ]
  },
  {
   "cell_type": "code",
   "execution_count": 53,
   "metadata": {},
   "outputs": [
    {
     "name": "stdout",
     "output_type": "stream",
     "text": [
      "     Country    Sitename                               Location  \\\n",
      "0        NaN         NaN                                    NaN   \n",
      "1    ARMENIA  ARMENIAN-1                                Armavir   \n",
      "2    ARMENIA  ARMENIAN-2                                Armavir   \n",
      "3  ARGENTINA    ATUCHA-1  Zárate Partido, Buenos Aires Province   \n",
      "4  ARGENTINA     EMBALSE        Calamuchita Department, Cordoba   \n",
      "\n",
      "               Status  Gross (MWe)  Capacity (MWt)  Mean LF (%)  2015 LF (%)  \\\n",
      "0                 NaN          NaN             NaN          NaN          NaN   \n",
      "1  Permanent Shutdown        408.0          1375.0          0.0          0.0   \n",
      "2         Operational        408.0          1375.0         65.2         78.3   \n",
      "3         Operational        357.0          1179.0         71.5         88.4   \n",
      "4         Operational        648.0          2015.0         78.7         12.2   \n",
      "\n",
      "   lat (-90 to 90)  lng (-180 to 180)  alt (m)  Dist to LNGS  \\\n",
      "0              NaN                NaN      NaN           NaN   \n",
      "1        40.180844          44.148908    925.3   2534.847784   \n",
      "2        40.180844          44.148908    925.3   2534.847784   \n",
      "3       -33.963330         -59.186390     27.7  12105.474735   \n",
      "4       -32.232000         -64.443000    633.5  11932.338786   \n",
      "\n",
      "   Dist to Homestake  Dist to SNOLAB  \n",
      "0                NaN             NaN  \n",
      "1        8185.837207     8792.087906  \n",
      "2        8185.837207     8792.087906  \n",
      "3        8864.483920     8430.124033  \n",
      "4        8570.328643     8202.624186  \n"
     ]
    }
   ],
   "source": [
    "db_reactors['Dist to SNOLAB'] = np.zeros(len(db_reactors['lat (-90 to 90)']))\n",
    "\n",
    "for index,row in db_reactors.iterrows():\n",
    "\n",
    "    db_reactors['Dist to SNOLAB'].loc[index] = distance_calc(R,sno_lat,sno_lon,row['lat (-90 to 90)'],row['lng (-180 to 180)'])\n",
    "\n",
    "print(db_reactors.iloc[0:5])"
   ]
  },
  {
   "cell_type": "markdown",
   "metadata": {},
   "source": [
    "### Calculate the reactor spectrum\n",
    "\n",
    "Here I use the spectrum parameterized from the Huber paper (2010, I think?). The spectrum is computed for a 1MWe reactor power, allowing us to scale the results appropriately for each reactor, according to the capacity given in the table above.\n",
    "\n",
    "I also calculate the energy-averaged cross section."
   ]
  },
  {
   "cell_type": "code",
   "execution_count": 54,
   "metadata": {},
   "outputs": [
    {
     "name": "stdout",
     "output_type": "stream",
     "text": [
      "Total antineutrinos emitted per second: 1.2611155253489464e+17\n",
      "Flux factor at detector: 0.07957747037036342\n",
      "Plotting reactor neutrino spectrum...\n"
     ]
    },
    {
     "data": {
      "image/png": "[encoded data removed]",
      "text/plain": [
       "<Figure size 576x432 with 1 Axes>"
      ]
     },
     "metadata": {
      "needs_background": "light"
     },
     "output_type": "display_data"
    }
   ],
   "source": [
    "\n",
    "E_thr = np.linspace(0.,10.,200)\n",
    "E_nu = cs_xe129['E'].values\n",
    "dE_nu = E_nu[2] - E_nu[1]\n",
    "\n",
    "reactor = ReactorSpectra.ReactorSpectra()\n",
    "reactor.reactorPower = 1.e6\n",
    "reactor.ComputeFullSpectrum( E_nu )\n",
    "print('Total antineutrinos emitted per second: {}'.format(sum(reactor.fullSpectrum)*dE_nu))\n",
    "luminosity = np.sum(reactor.fullSpectrum)*dE_nu\n",
    "\n",
    "detector = Detector.XenonDetector()\n",
    "detector.distance = 0.01\n",
    "detector.ComputeSolidAngleFraction()\n",
    "print('Flux factor at detector: {}'.format(detector.fluxFactor))\n",
    "\n",
    "print('Plotting reactor neutrino spectrum...')\n",
    "plt.plot(E_nu,reactor.fullSpectrum,'-k')\n",
    "plt.axis([0.01,10.,1.e11,1.e18])\n",
    "plt.yscale('log')\n",
    "plt.xlabel('Neutrino energy (MeV)')\n",
    "plt.ylabel('Neutrinos/MeV/MWe/s')\n",
    "plt.savefig('input_reactor_antineutrino_spectrum.png',dpi=600)"
   ]
  },
  {
   "cell_type": "code",
   "execution_count": 55,
   "metadata": {},
   "outputs": [
    {
     "name": "stdout",
     "output_type": "stream",
     "text": [
      "Energy-averaged cross section for Xe-129: 3.0424094669392796e-46\n",
      "Energy-averaged cross section for Xe-131: 1.8799542898437213e-45\n"
     ]
    }
   ],
   "source": [
    "# Spectrum-averaged cross sections:\n",
    "norm_spectrum = reactor.fullSpectrum/(np.sum(reactor.fullSpectrum)*dE_nu)\n",
    "\n",
    "print('Energy-averaged cross section for Xe-129: {}'.format( \\\n",
    "                np.sum(norm_spectrum*cs_xe129['CS']*dE_nu)))\n",
    "\n",
    "print('Energy-averaged cross section for Xe-131: {}'.format( \\\n",
    "                np.sum(norm_spectrum*cs_xe131['CS ']*dE_nu)))\n",
    "\n"
   ]
  },
  {
   "cell_type": "markdown",
   "metadata": {},
   "source": [
    "### Computing the fluxes at underground lab sites\n",
    "\n",
    "We now scale the luminosity by the square of the distance (in cm) to each underground lab, to calculate the flux."
   ]
  },
  {
   "cell_type": "code",
   "execution_count": 56,
   "metadata": {},
   "outputs": [],
   "source": [
    "# Use luminosity, now multiply each by its MWe power and then scale by the 1/distance^2\n",
    "\n",
    "db_reactors['Flux at Homestake'] = np.zeros(len(db_reactors['lat (-90 to 90)']))\n",
    "db_reactors['Flux at LNGS'] = np.zeros(len(db_reactors['lat (-90 to 90)']))\n",
    "db_reactors['Flux at SNOLAB'] = np.zeros(len(db_reactors['lat (-90 to 90)']))\n",
    "\n",
    "for index,row in db_reactors.iterrows():\n",
    "    db_reactors['Flux at Homestake'].loc[index] = \\\n",
    "        luminosity * row['Gross (MWe)'] / (4 * np.pi * (row['Dist to Homestake']*1.e5)**2 )\n",
    "    db_reactors['Flux at LNGS'].loc[index] = \\\n",
    "        luminosity * row['Gross (MWe)'] / (4 * np.pi * (row['Dist to LNGS']*1.e5)**2 )\n",
    "    db_reactors['Flux at SNOLAB'].loc[index] = \\\n",
    "        luminosity * row['Gross (MWe)'] / (4 * np.pi * (row['Dist to SNOLAB']*1.e5)**2 )\n",
    "\n",
    "\n"
   ]
  },
  {
   "cell_type": "code",
   "execution_count": null,
   "metadata": {},
   "outputs": [],
   "source": []
  },
  {
   "cell_type": "code",
   "execution_count": 57,
   "metadata": {},
   "outputs": [
    {
     "name": "stdout",
     "output_type": "stream",
     "text": [
      "     Country  Dist to Homestake\n",
      "0        NaN                NaN\n",
      "1    ARMENIA        8185.837207\n",
      "2    ARMENIA        8185.837207\n",
      "3  ARGENTINA        8864.483920\n",
      "4  ARGENTINA        8570.328643\n"
     ]
    }
   ],
   "source": [
    "print(db_reactors[['Country','Dist to Homestake']].iloc[0:5])"
   ]
  },
  {
   "cell_type": "code",
   "execution_count": 58,
   "metadata": {},
   "outputs": [
    {
     "name": "stdout",
     "output_type": "stream",
     "text": [
      "Biggest contributors at Homestake:\n",
      "           Sitename           Location  Dist to Homestake  Flux at Homestake\n",
      "466      MONTICELLO  Wright County, MN         787.222503        1118.994767\n",
      "480  FORT CALHOUN-1              2, NE         698.657360        1052.656052\n",
      "488          COOPER         Nemaha, NE         799.239120        1258.415500\n",
      "563      WOLF CREEK        Hampden, KS         954.899253        1414.272277\n",
      "\n",
      "\n",
      "\n",
      "\n",
      "Biggest contributors at LNGS:\n",
      "         Country               Location  Dist to LNGS  Flux at LNGS\n",
      "51   SWITZERLAND         Olten District    701.721913   2160.333479\n",
      "52   SWITZERLAND       Zurzach District    711.509779   2527.513277\n",
      "80       GERMANY              Karlsruhe    853.224359   2023.692735\n",
      "81       GERMANY               Günzburg    717.357851   2621.033464\n",
      "83       GERMANY               Günzburg    717.357851   2621.033464\n",
      "85       GERMANY               Landshut    690.920369   3121.874704\n",
      "89       GERMANY              Heilbronn    807.314121   2155.698135\n",
      "158       FRANCE                  Isere    777.795171   2290.910919\n",
      "159       FRANCE                  Isere    777.795171   2290.910919\n",
      "403     SLOVENIA  Municipality of Krško    417.045766   4194.807021\n",
      "\n",
      "\n",
      "\n",
      "\n",
      "Biggest contributors at SNOLAB:\n",
      "           Country                          Location  Dist to SNOLAB  \\\n",
      "24          CANADA                    Kincardine, ON      240.842403   \n",
      "25          CANADA                    Kincardine, ON      240.842403   \n",
      "27          CANADA  Durham Regional Municipality, ON      339.299399   \n",
      "28          CANADA  Durham Regional Municipality, ON      339.299399   \n",
      "29          CANADA  Durham Regional Municipality, ON      339.299399   \n",
      "30          CANADA  Durham Regional Municipality, ON      339.299399   \n",
      "32          CANADA                    Kincardine, ON      240.842403   \n",
      "33          CANADA                    Kincardine, ON      240.842403   \n",
      "35          CANADA                    Kincardine, ON      240.842403   \n",
      "36          CANADA                    Kincardine, ON      240.842403   \n",
      "37          CANADA                    Clarington, ON      347.661626   \n",
      "38          CANADA                    Clarington, ON      347.661626   \n",
      "39          CANADA                    Clarington, ON      347.661626   \n",
      "40          CANADA                    Clarington, ON      347.661626   \n",
      "42          CANADA  Durham Regional Municipality, ON      339.299399   \n",
      "45          CANADA  Durham Regional Municipality, ON      339.299399   \n",
      "46          CANADA                    Kincardine, ON      240.842403   \n",
      "47          CANADA                    Kincardine, ON      240.842403   \n",
      "453  UNITED STATES                        Scriba, NY      498.645765   \n",
      "455  UNITED STATES                       Ontario, NY      468.245942   \n",
      "462  UNITED STATES               Covert Township, MI      614.970970   \n",
      "468  UNITED STATES                    Two Creeks, WI      552.174051   \n",
      "490  UNITED STATES                    Two Creeks, WI      552.174051   \n",
      "499  UNITED STATES                Berrien County, MI      657.953283   \n",
      "500  UNITED STATES                Berrien County, MI      657.953283   \n",
      "512  UNITED STATES                        Scriba, NY      498.970528   \n",
      "513  UNITED STATES                 Beaver County, PA      652.885893   \n",
      "518  UNITED STATES        Frenchtown Charter Twp, MI      527.646113   \n",
      "520  UNITED STATES              Carroll Township, OH      562.737109   \n",
      "535  UNITED STATES                Salem Township, PA      721.666168   \n",
      "536  UNITED STATES                Salem Township, PA      721.666168   \n",
      "545  UNITED STATES                        Scriba, NY      498.645765   \n",
      "546  UNITED STATES                 Beaver County, PA      652.885893   \n",
      "553  UNITED STATES                Perry Township, OH      519.267009   \n",
      "\n",
      "     Flux at SNOLAB  \n",
      "24     14360.091165  \n",
      "25     14360.091165  \n",
      "27      4707.307710  \n",
      "28      4707.307710  \n",
      "29      4707.307710  \n",
      "30      4707.307710  \n",
      "32     15086.746381  \n",
      "33     15415.471359  \n",
      "35     15086.746381  \n",
      "36     15086.746381  \n",
      "37      7754.938711  \n",
      "38      7754.938711  \n",
      "39      7754.938711  \n",
      "40      7754.938711  \n",
      "42      4724.742183  \n",
      "45      4724.742183  \n",
      "46     14360.091165  \n",
      "47     13841.051725  \n",
      "453     2591.169159  \n",
      "455     2782.918851  \n",
      "462     2255.561659  \n",
      "468     2106.555934  \n",
      "490     2106.555934  \n",
      "499     2550.043426  \n",
      "500     2668.272712  \n",
      "512     3422.180482  \n",
      "513     2257.818596  \n",
      "518     4318.335103  \n",
      "520     2931.403692  \n",
      "535     2562.854540  \n",
      "536     2562.854540  \n",
      "545     5327.637523  \n",
      "546     2255.464249  \n",
      "553     4849.622809  \n"
     ]
    }
   ],
   "source": [
    "PRINT_MAJOR_CONTRIBUTORS = True\n",
    "\n",
    "flux_at_homestake = np.sum( db_reactors['Flux at Homestake'].loc[op_mask] )\n",
    "\n",
    "flux_at_lngs = np.sum( db_reactors['Flux at LNGS'].loc[op_mask] )\n",
    "\n",
    "flux_at_snolab = np.sum( db_reactors['Flux at SNOLAB'].loc[op_mask])\n",
    "\n",
    "\n",
    "if PRINT_MAJOR_CONTRIBUTORS:\n",
    "    big_contributor_mask = (db_reactors['Flux at Homestake'] > 1.e3)&(op_mask)\n",
    "    print('Biggest contributors at Homestake:')\n",
    "    print(db_reactors[['Sitename','Location','Dist to Homestake','Flux at Homestake']].loc[big_contributor_mask])\n",
    "\n",
    "    big_contributor_mask = (db_reactors['Flux at LNGS'] > 2.e3)&(op_mask)\n",
    "    print('\\n\\n\\n')\n",
    "    print('Biggest contributors at LNGS:')\n",
    "    print(db_reactors[['Country','Location','Dist to LNGS','Flux at LNGS']].loc[big_contributor_mask])\n",
    "\n",
    "    big_contributor_mask = (db_reactors['Flux at SNOLAB'] > 2.e3)&(op_mask)\n",
    "    print('\\n\\n\\n')\n",
    "    print('Biggest contributors at SNOLAB:')\n",
    "    print(db_reactors[['Country','Location','Dist to SNOLAB','Flux at SNOLAB']].loc[big_contributor_mask])\n",
    "\n"
   ]
  },
  {
   "cell_type": "code",
   "execution_count": 59,
   "metadata": {},
   "outputs": [
    {
     "name": "stdout",
     "output_type": "stream",
     "text": [
      "Flux at Homestake: 49224.65\n",
      "Flux at LNGS: 135419.56\n",
      "Flux at SNOLAB: 298983.46\n"
     ]
    }
   ],
   "source": [
    "\n",
    "print('Flux at Homestake: {:2.2F}'.format(flux_at_homestake))\n",
    "print('Flux at LNGS: {:2.2F}'.format(flux_at_lngs))\n",
    "print('Flux at SNOLAB: {:2.2F}'.format(flux_at_snolab))\n"
   ]
  },
  {
   "cell_type": "markdown",
   "metadata": {},
   "source": [
    "### Compute the event rate \n",
    "\n",
    "And finally, we can fold the cross section in with the energy spectrum, \n",
    "scale by the flux, and the scale by the number of atoms per ton and number of seconds\n",
    "per year to get the final event rate per ton year in a natural xenon detector. "
   ]
  },
  {
   "cell_type": "code",
   "execution_count": 60,
   "metadata": {},
   "outputs": [],
   "source": [
    "#First, normalize the reactor neutrino spectrum to 1 neutrino/MeV\n",
    "norm_spectrum = reactor.fullSpectrum/(np.sum(reactor.fullSpectrum)*dE_nu)\n",
    "\n",
    "\n",
    "# Next, scale this with the flux at each site, fold it with the cross section,\n",
    "# and integrate to get the number of interactions at each site. \n",
    "num_at_homestake129 = np.sum(flux_at_homestake*norm_spectrum*cs_xe129['CS']*dE_nu)\n",
    "num_at_homestake131 = np.sum(flux_at_homestake*norm_spectrum*cs_xe131['CS ']*dE_nu)\n",
    "\n",
    "num_at_LNGS129 = np.sum(flux_at_lngs*norm_spectrum*cs_xe129['CS']*dE_nu)\n",
    "num_at_LNGS131 = np.sum(flux_at_lngs*norm_spectrum*cs_xe131['CS ']*dE_nu)\n",
    "\n",
    "num_at_SNOLAB129 = np.sum(flux_at_snolab*norm_spectrum*cs_xe129['CS']*dE_nu)\n",
    "num_at_SNOLAB131 = np.sum(flux_at_snolab*norm_spectrum*cs_xe131['CS ']*dE_nu)\n",
    "\n",
    "# Next, scale this by the number of seconds in a year and the number\n",
    "# of atoms in a ton of natXe to get an interaction rate.\n",
    "rate_at_homestake129 = num_at_homestake129*6.02e23*0.264*1.e6/131.*(60.*60.*24.*365)\n",
    "rate_at_homestake131 = num_at_homestake131*6.02e23*0.212*1.e6/131.*(60.*60.*24.*365)\n",
    "rate_at_lngs129 = num_at_LNGS129*6.02e23*0.264*1.e6/131.*(60.*60.*24.*365)\n",
    "rate_at_lngs131 = num_at_LNGS131*6.02e23*0.212*1.e6/131.*(60.*60.*24.*365)\n",
    "rate_at_snolab129 = num_at_SNOLAB129*6.02e23*0.264*1.e6/131.*(60.*60.*24.*365)\n",
    "rate_at_snolab131 = num_at_SNOLAB131*6.02e23*0.212*1.e6/131.*(60.*60.*24.*365)"
   ]
  },
  {
   "cell_type": "code",
   "execution_count": 61,
   "metadata": {},
   "outputs": [
    {
     "name": "stdout",
     "output_type": "stream",
     "text": [
      "Number of interactions at Homestake (Xe129 per ton per year): 5.730e-07\n",
      "Number of interactions at Homestake (Xe131 per ton per year): 2.843e-06\n",
      "Number of interactions at LNGS (Xe129 per ton per year): 1.576e-06\n",
      "Number of interactions at LNGS (Xe131 per ton per year): 7.822e-06\n",
      "Number of interactions at SNOLAB (Xe129 per ton per year): 3.480e-06\n",
      "Number of interactions at SNOLAB (Xe131 per ton per year): 1.727e-05\n"
     ]
    }
   ],
   "source": [
    "print(\"Number of interactions at Homestake (Xe129 per ton per year): {:.3e}\".format(rate_at_homestake129))\n",
    "print(\"Number of interactions at Homestake (Xe131 per ton per year): {:.3e}\".format(rate_at_homestake131))\n",
    "print(\"Number of interactions at LNGS (Xe129 per ton per year): {:.3e}\".format(rate_at_lngs129))\n",
    "print(\"Number of interactions at LNGS (Xe131 per ton per year): {:.3e}\".format(rate_at_lngs131))\n",
    "print(\"Number of interactions at SNOLAB (Xe129 per ton per year): {:.3e}\".format(rate_at_snolab129))\n",
    "print(\"Number of interactions at SNOLAB (Xe131 per ton per year): {:.3e}\".format(rate_at_snolab131))\n",
    "\n"
   ]
  },
  {
   "cell_type": "markdown",
   "metadata": {},
   "source": [
    "## Geo-antineutrinos\n",
    "\n",
    "Another source of antineutrinos which could create background events via charged-current scattering is geological nuclear reactions. The neutrinos here are released by Th232, U238, or K40 decays in the earth. Below we compute their spectrum, then fold this with the cross section to find an event rate."
   ]
  },
  {
   "cell_type": "code",
   "execution_count": 62,
   "metadata": {},
   "outputs": [],
   "source": [
    "import Geoneutrinos\n",
    "geo = Geoneutrinos.Geoneutrinos()"
   ]
  },
  {
   "cell_type": "code",
   "execution_count": 63,
   "metadata": {},
   "outputs": [
    {
     "name": "stdout",
     "output_type": "stream",
     "text": [
      "Adding Th234\n",
      "Adding Pa234\n",
      "Adding Pb214\n",
      "Adding Bi214\n",
      "Adding Bi210\n",
      "Adding Pb210\n",
      "Adding Bi212\n",
      "Adding Tl208\n",
      "Adding Pb212\n",
      "Adding Ra228\n",
      "Adding K40\n"
     ]
    }
   ],
   "source": [
    "geo.LoadData('Geo_neutrinos/Th_U_K decay betas.xlsx')"
   ]
  },
  {
   "cell_type": "code",
   "execution_count": 64,
   "metadata": {
    "scrolled": false
   },
   "outputs": [],
   "source": [
    "E_test = np.linspace(0.,5.,1000)\n",
    "u238specs,u238_spec = geo.U238_spectrum(E_test)\n",
    "k40specs,k40_spec = geo.K40_spectrum(E_test)\n",
    "th232specs,th232_spec = geo.Th232_spectrum(E_test)"
   ]
  },
  {
   "cell_type": "code",
   "execution_count": 65,
   "metadata": {},
   "outputs": [
    {
     "name": "stdout",
     "output_type": "stream",
     "text": [
      "Neutrinos per decay (U238): 6.0\n",
      "Neutrinos per decay (Th232): 2.77\n",
      "Neutrinos per decay (K40): 0.893\n"
     ]
    },
    {
     "data": {
      "text/plain": [
       "<matplotlib.legend.Legend at 0x131200518>"
      ]
     },
     "execution_count": 65,
     "metadata": {},
     "output_type": "execute_result"
    },
    {
     "data": {
      "image/png": "[encoded data removed]",
      "text/plain": [
       "<Figure size 576x432 with 1 Axes>"
      ]
     },
     "metadata": {
      "needs_background": "light"
     },
     "output_type": "display_data"
    }
   ],
   "source": [
    "plt.plot(E_test,u238_spec,label='U238')\n",
    "plt.plot(E_test,th232_spec,label='Th232')\n",
    "plt.plot(E_test,k40_spec,label='K40')\n",
    "plt.yscale('log')\n",
    "print('Neutrinos per decay (U238): {:.3}'.format(np.sum(u238_spec*(E_test[2]-E_test[1]))))\n",
    "print('Neutrinos per decay (Th232): {:.3}'.format(np.sum(th232_spec*(E_test[2]-E_test[1]))))\n",
    "print('Neutrinos per decay (K40): {:.3}'.format(np.sum(k40_spec*(E_test[2]-E_test[1]))))\n",
    "plt.axis([0.,3.5,1.e-4,1.e2])\n",
    "plt.xlabel('Neutrino energy (MeV)')\n",
    "plt.ylabel('Neutrinos / primary decay / MeV')\n",
    "plt.legend(loc='upper right')"
   ]
  },
  {
   "cell_type": "markdown",
   "metadata": {},
   "source": [
    "\n",
    "This is fine, but we really need a differential flux. So, we need to weight each of these by the amount of each isotope which is in the earth, then calculate an approximate total flux. The latter would require some sort of earth model, but it seems like the geoneutrino flux doesn't change all that much in different locations. So, we'll just use the one computed for KAMLAND."
   ]
  },
  {
   "cell_type": "code",
   "execution_count": 66,
   "metadata": {},
   "outputs": [
    {
     "data": {
      "text/plain": [
       "<matplotlib.legend.Legend at 0x12bf31550>"
      ]
     },
     "execution_count": 66,
     "metadata": {},
     "output_type": "execute_result"
    },
    {
     "data": {
      "image/png": "[encoded data removed]",
      "text/plain": [
       "<Figure size 576x432 with 1 Axes>"
      ]
     },
     "metadata": {
      "needs_background": "light"
     },
     "output_type": "display_data"
    }
   ],
   "source": [
    "# Weighting each of these according to some flux numbers:\n",
    "wu238_spec = u238_spec/np.sum(u238_spec*(E_test[2]-E_test[1])) * 2.e6\n",
    "wth232_spec = th232_spec/np.sum(th232_spec*(E_test[2]-E_test[1])) * 2.e6\n",
    "wk40_spec = k40_spec/np.sum(k40_spec*((E_test[2]-E_test[1]))) * 7.8e8\n",
    "\n",
    "# Note: the 7.8e8 number comes from Bezrukov, \n",
    "# but is at least an order of magnitude higher than other sources.\n",
    "# Maybe not trustworthy.\n",
    "\n",
    "\n",
    "plt.plot(E_test,wu238_spec,label='U238')\n",
    "plt.plot(E_test,wth232_spec,label='Th232')\n",
    "plt.plot(E_test,wk40_spec,label='K40')\n",
    "plt.yscale('log')\n",
    "plt.axis([0.,3.5,1.,1.e10])\n",
    "plt.xlabel('Neutrino energy (MeV)')\n",
    "plt.ylabel('Neutrinos / cm2 / MeV')\n",
    "plt.legend(loc='upper right')"
   ]
  },
  {
   "cell_type": "markdown",
   "metadata": {},
   "source": [
    "\n",
    "\n",
    "\n",
    "\n",
    "Now that I've checked that my results are roughly consistent with other work, and I can weight the distributions appropriately, I'll fold in with the Pirinen cross sections.\n",
    "\n"
   ]
  },
  {
   "cell_type": "code",
   "execution_count": 67,
   "metadata": {},
   "outputs": [
    {
     "name": "stdout",
     "output_type": "stream",
     "text": [
      "Spectrum-averaged cross-sections:\n",
      "      \tXe129    \tXe131    \n",
      "U238:\t 2.85e-48\t3.180e-46\n",
      "Th232:\t4.285e-49\t7.710e-47\n",
      "K40:\t0.000e+00\t0.000e+00\n",
      "\n",
      "\n",
      "\n",
      "Total event rate per ton*year:\n",
      "Xe129: 1.902e-07\n",
      "Xe131: 2.290e-05\n"
     ]
    }
   ],
   "source": [
    "\n",
    "u238specs,u238_spec = geo.U238_spectrum(cs_xe129['E'])\n",
    "k40specs,k40_spec = geo.K40_spectrum(cs_xe129['E'])\n",
    "th232specs,th232_spec = geo.Th232_spectrum(cs_xe129['E'])\n",
    "\n",
    "wu238_spec = u238_spec/np.sum(u238_spec*(dE_nu)) * 2.e6\n",
    "wth232_spec = th232_spec/np.sum(th232_spec*(dE_nu)) * 2.e6\n",
    "wk40_spec = k40_spec/np.sum(k40_spec*((dE_nu))) * 7.8e8\n",
    "\n",
    "total_spec = wu238_spec + wth232_spec + wk40_spec\n",
    "\n",
    "\n",
    "\n",
    "\n",
    "# This cross section is given in neutrinos/MeV/cm2/s\n",
    "print('Spectrum-averaged cross-sections:')\n",
    "print('      \\t{:<9}\\t{:<9}'.format('Xe129','Xe131'))\n",
    "print('U238:\\t{:9.2e}\\t{:9.3e}'.format(\\\n",
    "                    np.sum(wu238_spec/np.sum(wu238_spec*dE_nu)*cs_xe129['CS']),\\\n",
    "                    np.sum(wu238_spec/np.sum(wu238_spec*dE_nu)*cs_xe131['CS '])))\n",
    "print('Th232:\\t{:9.3e}\\t{:9.3e}'.format(\\\n",
    "                    np.sum(wth232_spec/np.sum(wth232_spec*dE_nu)*cs_xe129['CS']),\\\n",
    "                    np.sum(wth232_spec/np.sum(wth232_spec*dE_nu)*cs_xe131['CS '])))\n",
    "print('K40:\\t{:9.3e}\\t{:9.3e}'.format(\\\n",
    "                    np.sum(wk40_spec/np.sum(wk40_spec*dE_nu)*cs_xe129['CS']),\\\n",
    "                    np.sum(wk40_spec/np.sum(wk40_spec*dE_nu)*cs_xe131['CS '])))\n",
    "\n",
    "\n",
    "print('\\n\\n')\n",
    "print('Total event rate per ton*year:')\n",
    "print('Xe129: {:7.3e}'.format(np.sum(total_spec *cs_xe129['CS']*dE_nu) *\\\n",
    "             6.02e23*1.e6/131. * (60.*60.*24.*365.)))\n",
    "print('Xe131: {:7.3e}'.format(np.sum(total_spec *cs_xe131['CS ']*dE_nu) *\\\n",
    "             6.02e23*1.e6/131. * (60.*60.*24.*365.)))\n"
   ]
  },
  {
   "cell_type": "markdown",
   "metadata": {},
   "source": [
    "So, we can see that the event rate for geoneutrinos is also negligible. (DARWIN has an exposure of ~10^2 ton\\*year.) "
   ]
  },
  {
   "cell_type": "markdown",
   "metadata": {},
   "source": [
    "## Conclusions\n",
    "Antineutrino charge-current scattering from both reactors and geoneutrino sources are completely negligible for this search. Rates are less than 10^-2 events in the expected exposures for DARWIN. For nEXO, the threshold for neutrino capture on Xe-136 is too high, so it will not be a background here, either."
   ]
  },
  {
   "cell_type": "markdown",
   "metadata": {},
   "source": [
    "# Charged-current scattering of solar neutrinos."
   ]
  },
  {
   "cell_type": "markdown",
   "metadata": {},
   "source": [
    "## Induced radioactivity from B8 neutrinos (B+ and B- emitters)\n",
    "\n",
    "B8 neutrino capture on different isotopes of xenon can produce radioactive isotopes of Cs that may create backgrounds for a Xe-124 search. There are two types of backgrounds here:\n",
    "1. B+ emitters - Cs-128, Cs-129, and Cs-130 may decay via B+ emission, creating a direct background for our search. In particular, Cs-128 and Cs-130 have high-energy endpoints, directly sweeping out our region of interest.\n",
    "2. B- emitters - Cs-132 and Cs-136 are B- emitters with high endpoint energies, and may decay via the emission of gammas that could mask our signal. Therefore, we calculate their rates and will simulate their spectra accordingly. \n",
    "\n"
   ]
  },
  {
   "cell_type": "code",
   "execution_count": 68,
   "metadata": {},
   "outputs": [],
   "source": [
    "# These data are copied directly from Table V in PRC 99, 014320\n",
    "pirinen_b8_cs = { 'Xe128':1.22e-42,\\\n",
    "                'Xe129':21.1e-42,\\\n",
    "                'Xe130':2.15e-42,\\\n",
    "                'Xe131':30.9e-42,\\\n",
    "                'Xe132':3.63e-42,\\\n",
    "                'Xe134':5.97e-42,\\\n",
    "                'Xe136':12.1e-42 }"
   ]
  },
  {
   "cell_type": "code",
   "execution_count": 69,
   "metadata": {},
   "outputs": [
    {
     "name": "stdout",
     "output_type": "stream",
     "text": [
      "B8 neutrino capture rates for each isotope per year\n",
      "(per ton of that isotope):\n",
      "Xe128  \t  0.983\n",
      "Xe129  \t   17.0\n",
      "Xe130  \t   1.73\n",
      "Xe131  \t   24.9\n",
      "Xe132  \t   2.92\n",
      "Xe134  \t   4.81\n",
      "Xe136  \t   9.75\n"
     ]
    }
   ],
   "source": [
    "# Capture rate per ton (of each isotope) per year\n",
    "capture_rates = dict()\n",
    "print('B8 neutrino capture rates for each isotope per year\\n(per ton of that isotope):')\n",
    "for key, value in pirinen_b8_cs.items():\n",
    "    rate = value * 5.56e6 * 6.02e23*1.e6/131. * (24.*60.*60.*365.)\n",
    "    capture_rates.update( {key: rate})\n",
    "    print('{:<7}\\t{:>7.3}'.format(key,rate))"
   ]
  },
  {
   "cell_type": "markdown",
   "metadata": {},
   "source": [
    "We can safely ignore Cs131 and Cs134, since they do not decay with enough energy to be a background in our search."
   ]
  },
  {
   "cell_type": "markdown",
   "metadata": {},
   "source": [
    "## Induced radioactivity in Xe-136 (and Xe-131) from CNO, pp, and Be7 neutrinos\n",
    "\n",
    "Xe-136 and Xe-131 both have very low thresholds for neutrino capture (86 keV and 352 keV, respectively). This means they are sensitive to neutrino capture from lower-energy (but much more abundant) solar neutrinos from the CNO cycle, the Be7 reaction, and the pp-reaction.\n",
    "\n",
    "For our purposes here, Xe-131 is not an issue because the daughter (Cs-131) decays via an electron capture reaction with a Q-value too small to create backgrounds in our search. We perform all of the relevant calculations below for both Xe-131 and X-136, but only really look at Xe-136 in our final background analysis."
   ]
  },
  {
   "cell_type": "code",
   "execution_count": 70,
   "metadata": {},
   "outputs": [],
   "source": [
    "# First, load the cross sections obtained from Pekka Pirinen, then plot them.\n",
    "cs_xe131 = pd.read_csv('pirinen_cross_sections/131Xe_Cs_neutrino.dat',delimiter='\\t',skiprows=2,index_col=False)\n",
    "cs_xe136 = pd.read_csv('pirinen_cross_sections/136Xe_Cs_neutrino.dat',delimiter='\\t',skiprows=2,index_col=False)\n",
    "\n"
   ]
  },
  {
   "cell_type": "code",
   "execution_count": 93,
   "metadata": {},
   "outputs": [
    {
     "data": {
      "image/png": "[encoded data removed]",
      "text/plain": [
       "<Figure size 576x432 with 1 Axes>"
      ]
     },
     "metadata": {
      "needs_background": "light"
     },
     "output_type": "display_data"
    }
   ],
   "source": [
    "plt.plot(cs_xe136['E'],cs_xe136['CS'],label='Xe136')\n",
    "plt.plot(cs_xe131['E'],cs_xe131['CS'],label='Xe131')\n",
    "\n",
    "plt.ylabel('Cross section (cm^2)')\n",
    "plt.xlabel('Neutrino energy (MeV)')\n",
    "plt.legend()\n",
    "\n",
    "plt.ylim(1.e-49,1.e-40)\n",
    "plt.xlim(0.,5.)\n",
    "plt.yscale('log')"
   ]
  },
  {
   "cell_type": "code",
   "execution_count": 72,
   "metadata": {},
   "outputs": [],
   "source": [
    "# Need to load in the spectra for solar neutrinos. These spectra were digitized\n",
    "# from the plot in the Borexino nature paper on PP neutrinos.\n",
    "\n",
    "n13solar = pd.read_csv('CNO_neutrinos/N13_spectrum.txt',header=None)\n",
    "o15solar = pd.read_csv('CNO_neutrinos/O15_spectrum.txt',header=None)\n",
    "be7solar = pd.read_csv('CNO_neutrinos/Be7_flux.txt',header=None)\n",
    "ppsolar = pd.read_csv('CNO_neutrinos/PP_spectrum.txt',header=None)\n",
    "b8solar = pd.read_csv('CNO_neutrinos/B8_spectrum/data.txt',delimiter=' ',header=None)"
   ]
  },
  {
   "cell_type": "code",
   "execution_count": 73,
   "metadata": {},
   "outputs": [],
   "source": [
    "# To get analytic functions for each neutrino spectrum, we fit the digitized\n",
    "# data to different empirical functions.\n",
    "\n",
    "def fitfunc(x,A,mu,sig,exp):\n",
    "    return A*np.exp( -np.abs(x-mu)**exp/(2*sig**exp) )\n",
    "\n",
    "def twosidedgengauss(x,A,mu,sig1,sig2,exp):\n",
    "    mask = x < mu\n",
    "    output = np.zeros(len(x))\n",
    "    output[mask] = A*np.exp(-np.abs(x[mask]-mu)**exp/(2*sig1**exp))\n",
    "    output[np.invert(mask)] = A*np.exp(-np.abs(x[np.invert(mask)]-mu)**exp/(2*sig2**exp))\n",
    "    return output\n"
   ]
  },
  {
   "cell_type": "code",
   "execution_count": 74,
   "metadata": {},
   "outputs": [
    {
     "name": "stdout",
     "output_type": "stream",
     "text": [
      "Fit to O15:\n",
      "[ 8.03149038e+07 -4.34267242e+08  1.07448119e+09 -1.90088142e+09\n",
      "  1.61699402e+09 -4.75885973e+07  5.71485221e+06]\n",
      "Fit to N13:\n",
      "[-1.71717973e+10  5.39759822e+10 -6.22801751e+10  2.98119021e+10\n",
      " -5.04825616e+09  1.31682926e+09 -6.87366147e+07]\n",
      "Fit to PP:\n",
      "[-5.19786304e+15  6.87214494e+15 -3.62868136e+15  9.59811389e+14\n",
      " -1.33246285e+14  1.03026497e+13 -2.95903882e+11]\n",
      "Fit to B8:\n",
      "O15 endpoint: 1.69e+00\n",
      "N13 endpoint: 1.15e+00\n",
      "PP endpoint: 4.22e-01\n",
      "B8 endpoint: 1.60e+01\n"
     ]
    },
    {
     "data": {
      "image/png": "[encoded data removed]",
      "text/plain": [
       "<Figure size 576x432 with 1 Axes>"
      ]
     },
     "metadata": {
      "needs_background": "light"
     },
     "output_type": "display_data"
    }
   ],
   "source": [
    "plt.plot(n13solar[0],n13solar[1],label='N13')\n",
    "plt.plot(o15solar[0],o15solar[1],label='O15')\n",
    "plt.plot(be7solar[0],be7solar[1],'og',label='Be7')\n",
    "plt.plot(ppsolar[0],ppsolar[1],'-b')\n",
    "plt.plot(b8solar[0],b8solar[1]*5.56e6,'-r',label='B8')\n",
    "plt.axis([0.1,20.,1.e2,1.e13])\n",
    "plt.yscale('log')\n",
    "plt.xscale('log')\n",
    "\n",
    "# These spectra are analyzed by fitting 6th order polynomials, truncated at the endpoints.\n",
    "print('Fit to O15:')\n",
    "p = np.polyfit(o15solar[0],o15solar[1],6)\n",
    "print(p)\n",
    "print('Fit to N13:')\n",
    "p = np.polyfit(n13solar[0],n13solar[1],6)\n",
    "print(p)\n",
    "print('Fit to PP:')\n",
    "p = np.polyfit(ppsolar[0],ppsolar[1],6)\n",
    "print(p)\n",
    "print('Fit to B8:')\n",
    "import scipy.optimize as opt\n",
    "p,cov = opt.curve_fit(twosidedgengauss,b8solar[0],b8solar[1],p0=(0.132,6.3,2.8,3.6,2.3))\n",
    "\n",
    "#plt.clf()\n",
    "plt.plot(b8solar[0],b8solar[1],'.r',label='B8')\n",
    "#plt.plot(b8solar[0],twosidedgengauss(b8solar[0],0.132,6.3,2.8,3.6,2.3),'--k')\n",
    "plt.plot(b8solar[0],5.56e6*twosidedgengauss(b8solar[0],p[0],p[1],p[2],p[3],p[4]),'--k')\n",
    "                                     \n",
    "                                     \n",
    "                                     \n",
    "print('O15 endpoint: {:.2e}'.format(o15solar[0].iloc[-1]))\n",
    "print('N13 endpoint: {:.2e}'.format(n13solar[0].iloc[-1]))\n",
    "print('PP endpoint: {:.2e}'.format(ppsolar[0].iloc[-1]))\n",
    "print('B8 endpoint: {:.2e}'.format(b8solar[0].iloc[-1]))\n"
   ]
  },
  {
   "cell_type": "code",
   "execution_count": 75,
   "metadata": {},
   "outputs": [],
   "source": [
    "def O15spectrum( E_nu ):\n",
    "    spectrum = np.zeros(len(E_nu))\n",
    "    mask = E_nu < 1.69e+00 # MeV\n",
    "    spectrum[mask] =  8.03149038e+07*E_nu[mask]**6 - 4.34267242e+08*E_nu[mask]**5  + \\\n",
    "           1.07448119e+09*E_nu[mask]**4 - 1.90088142e+09*E_nu[mask]**3 + \\\n",
    "           1.61699402e+09*E_nu[mask]**2 - 4.75885973e+07*E_nu[mask]  + 5.71485221e+06\n",
    "    return spectrum\n",
    "    \n",
    "def N13spectrum( E_nu ):\n",
    "    spectrum = np.zeros(len(E_nu))\n",
    "    mask = E_nu < 1.15e+00 # MeV\n",
    "    spectrum[mask] = -1.71717973e+10*E_nu[mask]**6 + 5.39759822e+10*E_nu[mask]**5 - \\\n",
    "                     6.22801751e+10*E_nu[mask]**4 + 2.98119021e+10*E_nu[mask]**3 - \\\n",
    "                     5.04825616e+09*E_nu[mask]**2 + 1.31682926e+09*E_nu[mask] - 6.87366147e+07\n",
    "    return spectrum\n",
    "\n",
    "def PPspectrum( E_nu ):\n",
    "    spectrum = np.zeros(len(E_nu))\n",
    "    mask = E_nu < 4.22e-01 # MeV\n",
    "    spectrum[mask] = -5.19786304e+15*E_nu[mask]**6 + 6.87214494e+15*E_nu[mask]**5 - \\\n",
    "                      3.62868136e+15*E_nu[mask]**4 + 9.59811389e+14*E_nu[mask]**3 - \\\n",
    "                      1.33246285e+14*E_nu[mask]**2 + 1.03026497e+13*E_nu[mask] - 2.95903882e+11\n",
    "    return spectrum\n",
    "\n",
    "\n",
    "def B8spectrum( E_nu ):\n",
    "    spectrum = np.zeros(len(E_nu))\n",
    "    mask = E_nu < 1.60e+01 # MeV\n",
    "    spectrum[mask] = -7.38146863e-01*E_nu[mask]**6 + 1.66199822e+01*E_nu[mask]**5 + \\\n",
    "                      2.88622505e+02*E_nu[mask]**4 - 9.75589005e+03*E_nu[mask]**3 + \\\n",
    "                    6.04575230e+04**E_nu[mask]**2 + 3.36513246e+04*E_nu[mask] - 9.20328867e+03\n",
    "    return spectrum * 5.56e6\n"
   ]
  },
  {
   "cell_type": "markdown",
   "metadata": {},
   "source": [
    "Let's then fold this in with the cross sections from Pirinen."
   ]
  },
  {
   "cell_type": "code",
   "execution_count": 76,
   "metadata": {},
   "outputs": [
    {
     "name": "stdout",
     "output_type": "stream",
     "text": [
      "Total rate of Cs136 production from CNO neutrinos:\n",
      "6.613e-02 per ton*year\n",
      "Total rate of Cs131 production from CNO neutrinos:\n",
      "1.110e+01 per ton*year\n"
     ]
    },
    {
     "data": {
      "image/png": "[encoded data removed]",
      "text/plain": [
       "<Figure size 576x432 with 1 Axes>"
      ]
     },
     "metadata": {
      "needs_background": "light"
     },
     "output_type": "display_data"
    }
   ],
   "source": [
    "o15diffrate = cs_xe136['CS']*O15spectrum(cs_xe136['E']) * 6.02e23*1.e6/136. * (24.*24.*60.*365.)\n",
    "n13diffrate = cs_xe136['CS']*N13spectrum(cs_xe136['E']) * 6.02e23*1.e6/136. * (24.*24.*60.*365.)\n",
    "b8diffrate = cs_xe136['CS']*5.56e6*twosidedgengauss(cs_xe131['E'],p[0],p[1],p[2],p[3],p[4]) * 6.02e23*1.e6/136. * (24.*24.*60.*365.)\n",
    "ppdiffrate = cs_xe136['CS']*PPspectrum(cs_xe136['E']) * 6.02e23*1.e6/136. * (24.*24.*60.*365.)\n",
    "\n",
    "\n",
    "o15diffrate131 = cs_xe131['CS']*O15spectrum(cs_xe136['E']) * 6.02e23*1.e6/131. * (24.*24.*60.*365.)\n",
    "n13diffrate131 = cs_xe131['CS']*N13spectrum(cs_xe136['E']) * 6.02e23*1.e6/131. * (24.*24.*60.*365.)\n",
    "b8diffrate131 = cs_xe131['CS']*5.56e6*twosidedgengauss(cs_xe131['E'],p[0],p[1],p[2],p[3],p[4]) * 6.02e23*1.e6/131. * (24.*24.*60.*365.)\n",
    "ppdiffrate131 = cs_xe131['CS']*PPspectrum(cs_xe131['E']) * 6.02e23*1.e6/131. * (24.*24.*60.*365.)\n",
    "\n",
    "plt.plot(cs_xe131['E'],o15diffrate131,'-r')\n",
    "plt.plot(cs_xe131['E'],n13diffrate131,'-b')\n",
    "#plt.plot(cs_xe131['E'],b8diffrate131,'-g')\n",
    "plt.plot(cs_xe131['E'],ppdiffrate131,'-m')\n",
    "plt.plot(cs_xe136['E'],o15diffrate,'--r')\n",
    "plt.plot(cs_xe136['E'],n13diffrate,'--b')\n",
    "#plt.plot(cs_xe136['E'],b8diffrate,'--g')\n",
    "plt.plot(cs_xe136['E'],ppdiffrate,'--m')\n",
    "\n",
    "plt.yscale('log')\n",
    "plt.xscale('log')\n",
    "plt.ylabel('Events/ton/year/0.2MeV')\n",
    "plt.xlabel('Neutrino energy (MeV)')\n",
    "plt.axis([0.2,2.,1.e-12,1.e2])\n",
    "\n",
    "print('Total rate of Cs136 production from CNO neutrinos:')\n",
    "print('{:.3e} per ton*year'.format( (np.sum(o15diffrate) + np.sum(n13diffrate) + np.sum(ppdiffrate))*dE_nu ))\n",
    "\n",
    "print('Total rate of Cs131 production from CNO neutrinos:')\n",
    "print('{:.3e} per ton*year'.format( (np.sum(o15diffrate131) + np.sum(n13diffrate131) + np.sum(ppdiffrate131))*dE_nu ))\n",
    "\n",
    "\n",
    "\n"
   ]
  },
  {
   "cell_type": "code",
   "execution_count": 77,
   "metadata": {},
   "outputs": [
    {
     "name": "stdout",
     "output_type": "stream",
     "text": [
      "0    8.535454e-01\n",
      "1    4.202455e+09\n",
      "Name: 0, dtype: float64\n",
      "Be7 rate on Xe136: 7.929e-02 evts/ton/yr\n",
      "Be7 rate on Xe131: 1.877e+01 evts/ton/yr\n"
     ]
    }
   ],
   "source": [
    "print(be7solar.iloc[0])\n",
    "below = cs_xe136['CS'].loc[ cs_xe136['E']<8.535454e-01 ].iloc[-1]\n",
    "above = cs_xe136['CS'].loc[cs_xe136['E']>8.535454e-01 ].iloc[0]\n",
    "be7_xe136_cs = (below+above)/0.2*(0.853-0.8) + below\n",
    "\n",
    "below = cs_xe131['CS'].loc[ cs_xe131['E']<8.535454e-01 ].iloc[-1]\n",
    "above = cs_xe131['CS'].loc[cs_xe131['E']>8.535454e-01 ].iloc[0]\n",
    "be7_xe131_cs = (below+above)/0.2*(0.853-0.8) + below\n",
    "\n",
    "\n",
    "print('Be7 rate on Xe136: {:.3e} evts/ton/yr'.format( be7_xe136_cs * be7solar[1].iloc[0] * 6.02e23*1.e6/136. * (60.*60.*24.*365.)))\n",
    "print('Be7 rate on Xe131: {:.3e} evts/ton/yr'.format( be7_xe131_cs * be7solar[1].iloc[0] * 6.02e23*1.e6/136. * (60.*60.*24.*365.)))\n",
    "\n"
   ]
  },
  {
   "cell_type": "code",
   "execution_count": 78,
   "metadata": {},
   "outputs": [
    {
     "name": "stdout",
     "output_type": "stream",
     "text": [
      "Total production of Cs-136 from low energy solar neutrinos:\n",
      "1.45e-01 evts/ton(Xe136)/year\n"
     ]
    }
   ],
   "source": [
    "print('Total production of Cs-136 from low energy solar neutrinos:')\n",
    "print('{:.2e} evts/ton(Xe136)/year'.format(be7_xe136_cs * be7solar[1].iloc[0] * 6.02e23*1.e6/136. * (60.*60.*24.*365.) + \\\n",
    "                     (np.sum(o15diffrate) + np.sum(n13diffrate) + np.sum(ppdiffrate))*dE_nu))"
   ]
  },
  {
   "cell_type": "markdown",
   "metadata": {},
   "source": [
    "The total production of Cs-136 from low-energy solar neutrinos is negligible compared to the production from B8 neutrinos. This is due to the much higher cross section for charged-current scattering at higher energies. Therefore, we'll ignore this."
   ]
  },
  {
   "cell_type": "markdown",
   "metadata": {},
   "source": [
    "## Prompt scattering into excited states\n",
    "\n",
    "Here we quantify the rate of the prompt signal from B8 neutrinos scattering off of Xe isotopes. These may create backgrounds due to the emitted electron + gamma rays from the decay of the excited Cs daughter nucleus. However, they can only create backgrounds if the total energy is less than 2.8 MeV - we assume that events with higher total energies will be rejected by our analysis. This means that, rather than using the total cross section for B8 neutrino scatter, we need only use the partial cross sections for scattering into excited states below 2.8 MeV. Fortunately, Pirinen shows these graphically for four isotopes, reproduced below:\n",
    "\n",
    "<img src=\"CNO_neutrinos/partial_cross_sections_pirinen.png\">"
   ]
  },
  {
   "cell_type": "code",
   "execution_count": 79,
   "metadata": {},
   "outputs": [],
   "source": [
    "# Partial cross sections for energies below ~2.8MeV, digitized from the plot above:\n",
    "xe128_partial = pd.DataFrame( {'Energy': [1.99009,2.35749,3.11506],\\\n",
    "                              'CS': [4.77272,1.11570,2.024793]} )\n",
    "xe134_partial = pd.DataFrame({'Energy': [1.67741,1.741935,2.838709],\\\n",
    "                            'CS': [14.5449,8.00446,11.0931223]})\n",
    "xe129_partial = pd.DataFrame({'Energy': [0.776119,1.68801,2.13047,2.2758786],\\\n",
    "                            'CS': [0.298507,1.641791, 0.22388,2.76119]})\n",
    "xe131_partial = pd.DataFrame({'Energy': [1.09677,1.74193,2,2.32258,2.258064,2.5161290,2.838709,2.967741],\\\n",
    "                            'CS': [4.64516,0.1290,0.25806,1.87096,1.354838,0.0645161,0.1290322,2.06451612]})\n"
   ]
  },
  {
   "cell_type": "code",
   "execution_count": 80,
   "metadata": {},
   "outputs": [
    {
     "name": "stdout",
     "output_type": "stream",
     "text": [
      "Total cross sections for low-energy states:\n",
      "Xe128: 7.913e-43\n",
      "Xe131: 1.052e-42\n",
      "Xe134: 3.364e-42\n",
      "Xe129: 4.925e-43\n"
     ]
    }
   ],
   "source": [
    "print('Total cross sections for low-energy states:')\n",
    "print('Xe128: {:.3e}'.format(np.sum(xe128_partial['CS'])*1.e-43))\n",
    "print('Xe131: {:.3e}'.format(np.sum(xe131_partial['CS'])*1.e-43))\n",
    "print('Xe134: {:.3e}'.format(np.sum(xe134_partial['CS'])*1.e-43))\n",
    "print('Xe129: {:.3e}'.format(np.sum(xe129_partial['CS'])*1.e-43))"
   ]
  },
  {
   "cell_type": "code",
   "execution_count": 81,
   "metadata": {},
   "outputs": [
    {
     "name": "stdout",
     "output_type": "stream",
     "text": [
      "Isotope \tFraction\tRate    \tROI frac\tROI rate\n",
      "Xe-128  \t2.29e-01\t1.45e-01\t7.15e-03\t4.54e-03\n",
      "Xe-129  \t1.32e-01\t1.11e-01\t5.67e-03\t4.79e-03\n",
      "Xe-131  \t8.40e-02\t2.27e-01\t4.35e-03\t1.18e-02\n",
      "Xe-134  \t1.34e-01\t5.30e-02\t5.73e-03\t2.26e-03\n",
      "\n",
      "Rates are calculated per ton*year of each isotope.\n"
     ]
    },
    {
     "data": {
      "image/png": "[encoded data removed]",
      "text/plain": [
       "<Figure size 576x432 with 1 Axes>"
      ]
     },
     "metadata": {
      "needs_background": "light"
     },
     "output_type": "display_data"
    }
   ],
   "source": [
    "xfit = np.linspace(0.1,20.,10000)\n",
    "yfit = twosidedgengauss(xfit,p[0],p[1],p[2],p[3],p[4])\n",
    "yfit = 5.56e6 * yfit / (np.sum(yfit)*(xfit[2]-xfit[1]))\n",
    "\n",
    "plt.plot(xfit,yfit,'-k',label='$^8$B',linewidth=3)\n",
    "plt.xlabel('Energy (MeV)')\n",
    "plt.ylabel('Flux (/cm$^2$/s/MeV)')\n",
    "plt.gca().ticklabel_format(axis='y',style='sci',scilimits=(0,0))\n",
    "\n",
    "\n",
    "thresholds = [3.929, 1.197, 0.355, 1.233]\n",
    "isotopes = ['Xe-128','Xe-129','Xe-131','Xe-134']\n",
    "avg_cross_sec =  [7.913e-43, 1.052e-42, 3.364e-42, 4.925e-43]\n",
    "nat_abund = [0.019, 0.26401, 0.21232, 0.104356]\n",
    "\n",
    "fractions = np.zeros(len(thresholds))\n",
    "roi_fractions = np.zeros(len(thresholds))\n",
    "rate_per_ton_year = np.zeros(len(thresholds))\n",
    "rate_per_ton_year_roi = np.zeros(len(thresholds))\n",
    "\n",
    "\n",
    "print('{:<8}\\t{:<8}\\t{:<8}\\t{:<8}\\t{:<8}'.format('Isotope','Fraction','Rate','ROI frac','ROI rate'))\n",
    "for i in range(0,len(thresholds)):\n",
    "    col = (np.random.uniform(),np.random.uniform(),np.random.uniform())\n",
    "    \n",
    "    mask = (xfit>thresholds[i]+1.)&(xfit<thresholds[i]+2.8)\n",
    "    fractions[i] = np.sum(yfit[mask])/np.sum(yfit)\n",
    "    mask = (xfit>thresholds[i]+(2.8-0.01*2.8))&(xfit<thresholds[i]+(2.8+0.01*2.8))\n",
    "    roi_fractions[i] = np.sum(yfit[mask])/np.sum(yfit)\n",
    "    rate_per_ton_year[i] = 5.56e6*avg_cross_sec[i]*fractions[i]*6e23/131.*1.e6*(60*60*24*365)#*nat_abund[i]\n",
    "    rate_per_ton_year_roi[i] = 5.56e6*avg_cross_sec[i]*roi_fractions[i]*6e23/131.*1.e6*(60*60*24*365)#*nat_abund[i]\n",
    "    x1 = np.ones(10)*thresholds[i]+(2.8-0.01*2.8) #1.\n",
    "    x2p8 = np.ones(10)*thresholds[i]+(2.8+0.01*2.8) #2.8\n",
    "    y = np.linspace(0.,1.e6,10)\n",
    "    plt.fill_betweenx(y,x1,x2p8,color=col,alpha=0.5,label='{} ROI'.format(isotopes[i]))\n",
    "    x1 = np.ones(10)*thresholds[i]+1.\n",
    "    x2p8 = np.ones(10)*thresholds[i]+2.8\n",
    "    y = np.linspace(0.,1.e6,10)\n",
    "    plt.fill_betweenx(y,x1,x2p8,alpha=0.15,color=col)\n",
    "    #plt.axis([0.,16.,0.,5.e6])\n",
    "    print('{:<8}\\t{:8.2e}\\t{:8.2e}\\t{:8.2e}\\t{:8.2e}'.format(isotopes[i],fractions[i],rate_per_ton_year[i],roi_fractions[i],rate_per_ton_year_roi[i]))\n",
    "    #print('{:.5F}'.format(roi_fractions[i]))\n",
    "plt.legend(fontsize=15) \n",
    "plt.savefig('B8_spectrum_with_rois_4.png',dpi=300,bbox_inches='tight')\n",
    "\n",
    "print('\\nRates are calculated per ton*year of each isotope.')"
   ]
  },
  {
   "cell_type": "markdown",
   "metadata": {},
   "source": [
    "This is undoubtedly an overestimate - the partial cross sections given for each excited state are averaged over the entire B8 neutrino spectrum. At lower energies, between 1 - 2.8 MeV above threshold, we expect these cross sections to be about an order of magnitude smaller (near ~1e-43). This is evident in the energy-dependent cross sections shown above for Xe-136 and Xe-131. \n",
    "\n",
    "Even given this overestimate, we find that we get ~10^-1 events per ton of each isotope per year in a broad spectrum. This would produce O(1) event in the DARWIN exposure after accounting for the natural abundances of the isotopes (O(0.1) in the ROI for the 0nu searches), and would need a very specific event topolgy to mimic our expected signal. As such, we will consider this negligible.\n",
    "\n",
    "Note that the reason this is significantly smaller than the induced radioactivity is that the latter is induced by the ENTIRE B8 spectrum. The cross section goes up with the square of the neutrino energy, so the rates above are dominated by the higher energy neutrinos, which will create too much prompt energy to be counted here."
   ]
  },
  {
   "cell_type": "markdown",
   "metadata": {},
   "source": [
    "## Conclusions\n",
    "\n",
    "The only backgrounds we need worry about from neutrino charged-current interactions are the radioactive Cs daughter nuclei, Cs-128, Cs-129, Cs-130, Cs-132, and Cs-136. The production rate per ton year for each isotope is:\n",
    "\n",
    "- Xe128: 0.98 atoms/ton/year\n",
    "- Xe129: 17.0 atoms/ton/year\n",
    "- Xe130: 1.73 atoms/ton/year\n",
    "- Xe132: 2.92 atoms/ton/year\n",
    "- Xe136: 9.75 atoms/ton/year"
   ]
  },
  {
   "cell_type": "markdown",
   "metadata": {},
   "source": [
    "# External gamma scattering\n",
    "\n",
    "Residual radioactivity in the detector components will produce gamma rays that may compton scatter and thereby mimic our multiple-scatter signal of interest. To address this background, we will perform a full Geant4 simulation in which U238 and Th232 are allowed to decay in a thin copper shell around the active Xenon volume, and we will measure how many of these events pass our cuts. \n",
    "\n",
    "However, we do need to estimate a radioactivity in order to understand how to scale these events. "
   ]
  },
  {
   "cell_type": "markdown",
   "metadata": {},
   "source": [
    "The NIM paper from EXO-200 suggests that copper has O(10e-12) g/g Th and U contamination."
   ]
  },
  {
   "cell_type": "code",
   "execution_count": 82,
   "metadata": {},
   "outputs": [
    {
     "name": "stdout",
     "output_type": "stream",
     "text": [
      "Th232 activity (Bq/cc): 3.65e-07\n",
      "U238 activity (Bq/cc): 1.11e-06\n",
      "\n",
      "Over 10 years, this corresponds to:\n",
      "Th232: 1.15e+02 decays/cc\n",
      "U238:  3.52e+02 decays/cc\n"
     ]
    }
   ],
   "source": [
    "th232_halflife = 1.4e10 * (60.*60.*24.*365.) # seconds\n",
    "u238_halflife = 4.468e9 * (60.*60.*24.*365.) # seconds\n",
    "\n",
    "# How many decays per cc of coppter material, in a 10 year exposure?\n",
    "cu_density = 8.96 # g/cm3\n",
    "th_density = 10.e-12 * cu_density\n",
    "u_density = 10.e-12 * cu_density\n",
    "\n",
    "th_atoms_per_cc = 6.02e23/232. * th_density\n",
    "u_atoms_per_cc = 6.02e23/238. * u_density\n",
    "\n",
    "th232_activity_per_cc = th_atoms_per_cc/(th232_halflife/np.log(2))\n",
    "u238_activity_per_cc = u_atoms_per_cc/(u238_halflife/np.log(2))\n",
    "\n",
    "print('Th232 activity (Bq/cc): {:.2e}'.format(th232_activity_per_cc))\n",
    "print('U238 activity (Bq/cc): {:.2e}'.format(u238_activity_per_cc))\n",
    "\n",
    "print('\\nOver 10 years, this corresponds to:')\n",
    "print('Th232: {:.2e} decays/cc'.format(th232_activity_per_cc*10.*60.*60.*24.*365.))\n",
    "print('U238:  {:.2e} decays/cc'.format(u238_activity_per_cc*10.*60.*60.*24.*365.))"
   ]
  },
  {
   "cell_type": "markdown",
   "metadata": {},
   "source": [
    "So, we'll need to scale our simulations to provide this many decays, times the total volume of the copper we assume. So far, the vessel is 1cm thick. Is this a good assumption?"
   ]
  },
  {
   "cell_type": "markdown",
   "metadata": {},
   "source": [
    "# Neutron-induced backgrounds\n",
    "\n",
    "\n",
    "There are several ways in which neutrons could create backgrounds in our search:\n",
    "1. **Prompt neutron capture products** - The gamma rays resulting from neutron capture may mimic our multiple-scatter signal of interest. However, the total energy released is expected to be much higher than our signal region, so we'll assume that these are negligible.\n",
    "2. **Radionuclides produced by thermal neutron capture** - We may get backgrounds from radiogenic Xe isotopes created by thermal neutron capture. The only such product of any interest is Xe-137, which B-decays with a Q-value well above the ROI. However, this has only two decay modes, either a naked beta (no gammas emitted) or the emission of a single gamma ray at ~450 keV. The former is highly unlikely to create a background, but the latter may fall ito our ROI if the beta undergoes bremmstrahlung and produces a second gamma of ~500 keV. We can simulate 10^6 of these and see how many pass our cuts.\n",
    "3. **High-energy neutron reactions** - Muogenic neutrons, which can have >10MeV energies, may interact via other reactions, e.g. (n,p), (n,a), or (n,2n). \n",
    "\n",
    "\n"
   ]
  },
  {
   "cell_type": "markdown",
   "metadata": {},
   "source": [
    "## High-energy neutron reactions\n",
    "\n",
    "For this one, we find that it's a bit complicated. High energy neutrons can penetrate shielding materials typically used in these experiments. XENON1T, for instance, has published simulations showing that 4m of water shielding only reduces the high energy muon flux by a factor of ~10^-2. So if we see appreciable rates here, this may be a problem."
   ]
  },
  {
   "cell_type": "markdown",
   "metadata": {},
   "source": [
    "### Xe-124(n,2n)Xe-123\n",
    "\n",
    "For the (n,2n) reaction, the danger is Xe-124(n,2n)Xe-123, which then decays via B+ emission with a Q-value of 2.6 MeV. This is a direct background to our 2nuB+EC signal. So, let's estimate a production rate at Gran Sasso (the shallowest lab under consideration)."
   ]
  },
  {
   "cell_type": "code",
   "execution_count": 83,
   "metadata": {},
   "outputs": [
    {
     "name": "stdout",
     "output_type": "stream",
     "text": [
      "Xe-123 production rate from muogenic neutrons:\n",
      "\t1.53e-01 atoms/kg(Xe124)/yr\n"
     ]
    }
   ],
   "source": [
    "muogenic_neutron_flux = 1.e-9 #n/cm2/s, from XENON1T water shield paper\n",
    "cross_section = 1.e-24 # cm2, from ENDF at ~15 - 20 MeV\n",
    "\n",
    "production_rate = cross_section*muogenic_neutron_flux*6.02e23*1.e3/124.*(60.*60.*24.*365)\n",
    "\n",
    "print('Xe-123 production rate from muogenic neutrons:')\n",
    "print('\\t{:.2e} atoms/kg(Xe124)/yr'.format(production_rate))"
   ]
  },
  {
   "cell_type": "markdown",
   "metadata": {},
   "source": [
    "If the half life for 2nuB+EC is ~10^24 years, this is only a factor of 10 less than the expected rate for our signal. However, the paper on the XENON1T water tank shows that the water shielding reduces the muogenic neutron flux by a factor of 10^-2. Therefore this would be a rate of 10^-3 times our signal rate. It is therefore negligible. \n",
    "\n",
    "\n",
    "This being said, the cross section is only evaluated up to 20 MeV, and muogenic neutrons can be produced up to ~GeV energies. There may be an enhancement in the cross section at higher energies, and these neutrons may also be more penetrating. These issues should be studied in more detail in a real experiment.\n",
    "\n",
    "Gran Sasso is a conservative assumption: the muon-induced neutron flux at Homestake and Sudbury are expected to be approximately 1 and 2 orders of magnitude lower, respectively. This background is therefore assumed to be negligible in both of these labs.\n",
    "\n"
   ]
  },
  {
   "cell_type": "markdown",
   "metadata": {},
   "source": [
    "### (n,a), (n,p), etc.\n",
    "\n",
    "\n",
    "These reactions all have cross sections of order 10^-2 barn. Following the calculation above, the production rate is negligible, particularly if we assume the water shielding has any effect whatsoever. As before, this is not well-measured at higher energies, but for our purposes here we can neglect this entirely. "
   ]
  },
  {
   "cell_type": "markdown",
   "metadata": {},
   "source": [
    "# Rn-222 daughters\n",
    "\n",
    "Rn-222 may dissolve into the active LXe volume and create backgrounds via beta decays that emit gamma rays. However, looking through the decay chain, there are only two beta decays with enough energy to create backgrounds in this analysis. The first, Bi-214, is accompanied by the Po-214 decay about 100us later. We therefore assume it can be rejected via a coincidence analysis. The second, Bi-210, has a Q-value of 1.2MeV (so just at the low energy end of our region of interest), but decays with no accompanying gamma. Therefore, we assume it will almost always be a single-scatter signal, and will therefore not pass our cuts. "
   ]
  },
  {
   "cell_type": "markdown",
   "metadata": {},
   "source": [
    "# Conclusions\n",
    "\n",
    "The work above narrows down the number of simulations we need to run to evaluate our backgrounds. We need to simulate:\n",
    "\n",
    "1. **External gamma ray backgrounds**\n",
    "2. **Xe-137 from neutron capture on Xe-136**\n",
    "3. **Cs-128 from neutrino capture on Xe-128**\n",
    "4. **Cs-129 from neutrino capture on Xe-129**\n",
    "5. **Cs-130 from neutrino capture on Xe-130**\n",
    "6. **Cs-132 from neutrino capture on Xe-132**\n",
    "7. **Cs-134 from neutrino capture on Xe-134**\n",
    "\n",
    "\n",
    "The analysis above also provides weighting factors for each of these potential backgrounds, so we can scale them appropriately to reach a final background rate."
   ]
  },
  {
   "cell_type": "code",
   "execution_count": 84,
   "metadata": {},
   "outputs": [
    {
     "name": "stdout",
     "output_type": "stream",
     "text": [
      "  1462.7 kg of copper, 121cm radius, 120cm tall\n",
      "2.438e+04 moles of copper\n",
      "1.468e+17 atoms of U or Th\n",
      "1.468e+07 decays per year\n"
     ]
    }
   ],
   "source": [
    "copper_mass = (757.*120.+46000.*2)*8/1000.\n",
    "\n",
    "print( \"{:8.5} kg of copper, 121cm radius, 120cm tall\".format(copper_mass))\n",
    "# 1.5 tons of copper for a nEXO-like detector.\n",
    "\n",
    "# Assume copper is ~10ppt U-238 and 10ppt Th-232\n",
    "# Copper is about 60AMU, so we have about 60g per mole.\n",
    "copper_moles = copper_mass/0.060\n",
    "print('{:4.4} moles of copper'.format(copper_moles))\n",
    "\n",
    "Uatoms = copper_moles*1e-11 * 6.02e23\n",
    "Thatoms = copper_moles*1e-11 * 6.02e23\n",
    "\n",
    "print('{:4.4} atoms of U or Th'.format(Uatoms))\n",
    "\n",
    "# Activity in decays per second should be:\n",
    "# probabilith density of an atom decaying is P = A*2^(-t/t1/2)\n",
    "#probability that an atom decays in one second is P = A*exp( - t / ())\n",
    "\n",
    "thalf = 10.**10\n",
    "decays_per_year = Uatoms/thalf\n",
    "print('{:4.4} decays per year'.format(decays_per_year))"
   ]
  },
  {
   "cell_type": "code",
   "execution_count": 86,
   "metadata": {},
   "outputs": [
    {
     "data": {
      "text/plain": [
       "4.933409667914596"
      ]
     },
     "execution_count": 86,
     "metadata": {},
     "output_type": "execute_result"
    }
   ],
   "source": [
    "10**np.log(2)"
   ]
  },
  {
   "cell_type": "code",
   "execution_count": 90,
   "metadata": {},
   "outputs": [
    {
     "name": "stdout",
     "output_type": "stream",
     "text": [
      "Threshold = 10.48\n"
     ]
    }
   ],
   "source": [
    "#Threshold for n,2n scattering on Xe-124\n",
    "m_n = 939.5654133 # MeV\n",
    "m_p = 938.2720813 # MeV\n",
    "m_xe124 = 123.905893 # amu\n",
    "m_xe123 = 122.908482 # amu\n",
    "mev_per_amu = 931.49410242\n",
    "\n",
    "print('Threshold = {:4.4}'.format((m_xe123*mev_per_amu + 2 * m_n) - (m_xe124*mev_per_amu + m_n)) )"
   ]
  },
  {
   "cell_type": "code",
   "execution_count": null,
   "metadata": {},
   "outputs": [],
   "source": []
  },
  {
   "cell_type": "code",
   "execution_count": null,
   "metadata": {},
   "outputs": [],
   "source": []
  },
  {
   "cell_type": "code",
   "execution_count": null,
   "metadata": {},
   "outputs": [],
   "source": []
  },
  {
   "cell_type": "code",
   "execution_count": null,
   "metadata": {},
   "outputs": [],
   "source": []
  },
  {
   "cell_type": "code",
   "execution_count": null,
   "metadata": {},
   "outputs": [],
   "source": []
  },
  {
   "cell_type": "code",
   "execution_count": null,
   "metadata": {},
   "outputs": [],
   "source": []
  }
 ],
 "metadata": {
  "kernelspec": {
   "display_name": "Python 3",
   "language": "python",
   "name": "python3"
  },
  "language_info": {
   "codemirror_mode": {
    "name": "ipython",
    "version": 3
   },
   "file_extension": ".py",
   "mimetype": "text/x-python",
   "name": "python",
   "nbconvert_exporter": "python",
   "pygments_lexer": "ipython3",
   "version": "3.7.3"
  }
 },
 "nbformat": 4,
 "nbformat_minor": 2
}
