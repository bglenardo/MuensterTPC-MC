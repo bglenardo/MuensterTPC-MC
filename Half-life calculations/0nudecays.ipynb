{
 "cells": [
  {
   "cell_type": "code",
   "execution_count": 1,
   "metadata": {
    "collapsed": true
   },
   "outputs": [],
   "source": [
    "import numpy as np\n",
    "from uncertainties import ufloat #All numbers with Gaussian error-propagation are treated as ufloat for automation of error propagation.\n",
    "import matplotlib\n",
    "import matplotlib.pyplot as plt"
   ]
  },
  {
   "cell_type": "code",
   "execution_count": 2,
   "metadata": {
    "collapsed": true
   },
   "outputs": [],
   "source": [
    "%matplotlib inline\n",
    "plt.rcParams['figure.dpi'] = 200\n",
    "matplotlib.rcParams['axes.linewidth'] = 0.75 #set the value globally\n",
    "matplotlib.rcParams['xtick.major.width'] = 0.75\n",
    "matplotlib.rcParams['ytick.major.width'] = 0.75\n",
    "matplotlib.rcParams['axes.labelsize'] = 7\n",
    "matplotlib.rcParams['xtick.direction'] = 'in'\n",
    "matplotlib.rcParams['ytick.direction'] = 'in'\n",
    "matplotlib.rcParams['xtick.labelsize'] = 6\n",
    "matplotlib.rcParams['ytick.labelsize'] = 6\n",
    "matplotlib.rcParams['legend.fontsize'] =5\n",
    "matplotlib.rcParams['pdf.fonttype']=42\n",
    "\n",
    "\n",
    "matplotlib.rcParams['figure.figsize'] = (3.4908516673585166, 2.327234444905678)\n",
    "matplotlib.rcParams['savefig.dpi'] = 300\n",
    "matplotlib.rc('font', size= 7)\n",
    "params= {'text.latex.preamble' : [r'\\usepackage{amsmath}']}\n",
    "plt.rcParams.update(params)"
   ]
  },
  {
   "cell_type": "markdown",
   "metadata": {},
   "source": [
    "### Phase-space factors (PSFs) for neutrinoless decays $^{124}$Xe\n",
    "\n",
    "-  **KI**\n",
    "       Phys. Rev. C 87 (2013) 057301 (0vECb+, 0vb+b+)\n",
    "       Phys. Rev. C 89 (2014) 064319 (0vECEC) \n",
    "\n",
    "-  **DK**        \n",
    "       Reference therein **[35]**: Doi M, Kotani T\n",
    "       \"Neutrino emitting of double beta decay\",\n",
    "       Prog Theor Phys. 87 (1992) 1207–31. \n",
    "\n",
    "- **SM**\n",
    "       Reference therein **[39]**: own work by S. Stoica and M. Mirea"
   ]
  },
  {
   "cell_type": "code",
   "execution_count": 3,
   "metadata": {
    "collapsed": false
   },
   "outputs": [
    {
     "name": "stdout",
     "output_type": "stream",
     "text": [
      "PSF for 0vECEC: (2.5700000000000003+/-0)e-19\n",
      "PSF for 0vECb+: (2.00+/-0.29)e-17\n",
      "PSF for 0vb+b+: (1.15+/-0.08)e-18\n"
     ]
    }
   ],
   "source": [
    "G_0vecec = {'SM': None, \n",
    "            'KI': 25.7e-20, \n",
    "            'DK': None\n",
    "           }\n",
    "\n",
    "g0vecec = ufloat(25.7e-20,0)\n",
    "delta_g0vecec = 0\n",
    "\n",
    "\n",
    "G_0vecbp = {'SM': 1710e-20, \n",
    "            'KI': 1970e-20, \n",
    "            'DK': 2290e-20\n",
    "           }\n",
    "\n",
    "g0vecbp = np.divide(np.max(np.array([G_0vecbp['SM'],G_0vecbp['KI'],G_0vecbp['DK']]))+np.min(np.array([G_0vecbp['SM'],G_0vecbp['KI'],G_0vecbp['DK']])),2)\n",
    "delta_g0vecbp = np.divide(np.max(np.array([G_0vecbp['SM'],G_0vecbp['KI'],G_0vecbp['DK']]))-np.min(np.array([G_0vecbp['SM'],G_0vecbp['KI'],G_0vecbp['DK']])),2)\n",
    "g0vecbp = ufloat(g0vecbp, delta_g0vecbp)\n",
    "\n",
    "\n",
    "G_0vbpbp = {'SM': 107.8e-20, \n",
    "            'KI': 114e-20, \n",
    "            'DK': 123e-20\n",
    "           }\n",
    "\n",
    "g0vbpbp = np.divide(np.max(np.array([G_0vbpbp['SM'],G_0vbpbp['KI'],G_0vbpbp['DK']]))+np.min(np.array([G_0vbpbp['SM'],G_0vbpbp['KI'],G_0vbpbp['DK']])),2)\n",
    "delta_g0vbpbp = np.divide(np.max(np.array([G_0vbpbp['SM'],G_0vbpbp['KI'],G_0vbpbp['DK']]))-np.min(np.array([G_0vbpbp['SM'],G_0vbpbp['KI'],G_0vbpbp['DK']])),2)\n",
    "g0vbpbp = ufloat(g0vbpbp, delta_g0vbpbp)\n",
    "\n",
    "print('PSF for 0vECEC:',g0vecec)\n",
    "print('PSF for 0vECb+:',g0vecbp)\n",
    "print('PSF for 0vb+b+:',g0vbpbp)"
   ]
  },
  {
   "cell_type": "markdown",
   "metadata": {},
   "source": [
    "### Nuclear matrix elements (NME) for neutrinoless decays of $^{124}$Xe\n",
    "\n",
    "- **QRPA**\n",
    "       Suhonen, J. Phys. G 40 (2013), 075102\n",
    "\n",
    "-  **IBM** \n",
    "       Kotila, Barea, Iachello, Phys. Rev. C 91 (2015), 034304 (0vECb+, 0vb+b+)\n",
    "       Kotila, Barea, Iachello, Phys. Rev. C 89 (2014), 064319 (0vECEC) \n",
    "\n",
    "-  **NSM**        \n",
    "       Javier Menendez, Personal communication (analogous to Menendez, J. Phys. G 45 (2018) no. 1, 014003)\n"
   ]
  },
  {
   "cell_type": "markdown",
   "metadata": {
    "collapsed": true
   },
   "source": [
    "## Method 1: Direct calculation using existing neutrino mass limits"
   ]
  },
  {
   "cell_type": "markdown",
   "metadata": {},
   "source": [
    "### What to do with $g_A$?\n",
    "- **QRPA** \n",
    "     \n",
    "     $g_A=[1,\\,1.25]$ are discussed in the paper. \n",
    "     However factoring out $g_A$ is not trivial, since the Gamow-Teller and Fermi-Matrix elements themselves differ for $g_A$ (Tab. 2).\n",
    "     We assume the larger value $g_A=1.25$\n",
    "\n",
    "\n",
    "- **IBM** \n",
    "    \n",
    "    One has to has to multiply $M=M_x \\cdot g_{A,eff}^2$ and $g_{A,eff}=[1.269 \\cdot A^{-0.18},\\,1.269]$.\n",
    "    Here one can factorize out $g_A$. \n",
    "    As for QRPA we assume an unquenched $g_A = 1.269$.\n",
    "\n",
    "\n",
    "- **NSM** \n",
    "    \n",
    "    We do not consider $g_A$-quenching in the shell model, as the corresponding effects are accounted for by nuclear correlations\n"
   ]
  },
  {
   "cell_type": "code",
   "execution_count": 4,
   "metadata": {
    "collapsed": true
   },
   "outputs": [],
   "source": [
    "gA_xe124 = {'QRPA': [1, 1.25],\n",
    "            'IBM': [1.269*(124**(-0.18)), 1.269] #For Xe136 exchange 124 -> 136\n",
    "           }"
   ]
  },
  {
   "cell_type": "code",
   "execution_count": 5,
   "metadata": {
    "collapsed": false
   },
   "outputs": [],
   "source": [
    "M_0vecec = {'QRPA': [1.080,1.298], #range stems from use of different bases and sets of correlations\n",
    "            'IBM': 0.297 #no uncertainty given in the publication\n",
    "           }\n",
    "\n",
    "M_0vecbp = {'QRPA': [4.692,6.617], #range stems from use of different bases and sets of correlations\n",
    "            'IBM': ufloat(4.74,76),\n",
    "            'NSM': [2.22,4.77]\n",
    "           }\n",
    "\n",
    "M_0vbpbp = M_0vecbp\n",
    "\n"
   ]
  },
  {
   "cell_type": "code",
   "execution_count": 17,
   "metadata": {
    "collapsed": false
   },
   "outputs": [],
   "source": [
    "# 1.1 eV: M. Aker et al. (KATRIN), Phys. Rev. Lett.123, 221802 (2019), 1909.06048\n",
    "# 0.3 eV: I. Esteban, M.C. Gonzalez-Garcia, A. Hernandez-Cabezudo, M. Maltoni, and T. Schwetz, JHEP 01, 106 (2019)\n",
    "mnu = (0.3e-3, 1.1e-3) #keV \n",
    "\n",
    "#PDG (2018): http://pdg.lbl.gov/2018/listings/rpp2018-list-electron.pdf\n",
    "me = ufloat(510.9989461, 0.0000031) #keV\n",
    "\n",
    "# Nesterenko et. al. \n",
    "R = ufloat(2.42,0.47) "
   ]
  },
  {
   "cell_type": "code",
   "execution_count": 112,
   "metadata": {
    "collapsed": true
   },
   "outputs": [],
   "source": [
    "def sample_halflife_mnusquare(me, mnusquare, NME, PSF, R=ufloat(1,0), samples=10000):\n",
    "    '''Input Gaussian PDFs of all parameters and sample from those. Then make 90% C.L. lower limit.'''\n",
    "\n",
    "    \n",
    "    samples_me = np.random.normal(me.nominal_value, me.std_dev, samples)\n",
    "    samples_mnusquare = np.random.normal(mnusquare.nominal_value, mnusquare.std_dev, samples)\n",
    "    samples_NME = np.random.normal(NME.nominal_value, NME.std_dev, samples)\n",
    "    samples_PSF = np.random.normal(PSF.nominal_value, PSF.std_dev, samples)\n",
    "    samples_R = np.random.normal(R.nominal_value, R.std_dev, samples)\n",
    "    \n",
    "    halflives = np.divide(1,np.multiply(np.power(samples_NME,2),np.multiply(samples_PSF, np.multiply(np.divide(samples_mnusquare,np.power(samples_me,2)), samples_R))))\n",
    "    \n",
    "    #sample from distribution of each parameter and calculate half-life for each sample\n",
    "    #Find 90% lower limit from ensemble\n",
    "    return halflives \n",
    "\n",
    "\n",
    "#Try uniform distributions where one samples from 10% and 90% of the time\n",
    "def sample_halflife_mnu(me, mnu, NME, PSF, R=ufloat(1,0), samples=10000):\n",
    "    '''Input Gaussian PDFs of all parameters and sample from those. Then make 90% C.L. lower limit.'''\n",
    "\n",
    "    \n",
    "    samples_me = np.random.normal(me.nominal_value, me.std_dev, samples)\n",
    "    samples_mnu = np.random.normal(mnu.nominal_value, mnusquare.std_dev, samples)\n",
    "    samples_NME = np.random.normal(NME.nominal_value, NME.std_dev, samples)\n",
    "    samples_PSF = np.random.normal(PSF.nominal_value, PSF.std_dev, samples)\n",
    "    samples_R = np.random.normal(R.nominal_value, R.std_dev, samples)\n",
    "    \n",
    "    halflives = np.divide(1,np.multiply(np.power(samples_NME,2),np.multiply(samples_PSF, np.multiply(np.divide(np.power(samples_mnu,2),np.power(samples_me,2)), samples_R))))\n",
    "    \n",
    "    #sample from distribution of each parameter and calculate half-life for each sample\n",
    "    #Find 90% lower limit from ensemble\n",
    "    return halflives "
   ]
  },
  {
   "cell_type": "markdown",
   "metadata": {},
   "source": [
    "### 0$\\nu$ECEC"
   ]
  },
  {
   "cell_type": "code",
   "execution_count": 108,
   "metadata": {
    "collapsed": false
   },
   "outputs": [
    {
     "name": "stdout",
     "output_type": "stream",
     "text": [
      "Half-life range for QRPA at gA=1.25: [3.2997823928531955e+30+/-8.813302371601753e+29\n",
      " 2.4543835979899792e+29+/-6.555348871439318e+28] \n",
      "\n",
      "Half-life range for IBM at gA=1.269: [2.0393399316703734e+31+/-3.96070152018627e+30\n",
      " 1.5168644119862278e+30+/-2.945976337328629e+29] \n",
      "\n"
     ]
    }
   ],
   "source": [
    "#QRPA at gA=1.25\n",
    "m0vecec_qrpa=np.mean(M_0vecec['QRPA'])\n",
    "delta_m0vecec_qrpa=np.std(M_0vecec['QRPA'])\n",
    "\n",
    "m0vecec_qrpa = ufloat(m0vecec_qrpa,delta_m0vecec_qrpa)\n",
    "\n",
    "T_0vecec_qrpa = np.divide(1,np.multiply((m0vecec_qrpa**2) * (g0vecec) * R * ((1/me)**2), np.power(mnu,2)))\n",
    "\n",
    "print('Half-life range for QRPA at gA=1.25:', T_0vecec_qrpa, '\\n')\n",
    "\n",
    "#IBM at gA=1.269\n",
    "m0vecec_ibm = M_0vecec['IBM']*(np.max(gA_xe124['IBM'])**2)\n",
    "\n",
    "T_0vecec_ibm = np.divide(1,np.multiply((m0vecec_ibm**2) * (g0vecec) * R * ((1/me)**2), np.power(mnu,2)))\n",
    "\n",
    "print('Half-life range for IBM at gA=1.269:', T_0vecec_ibm, '\\n')\n"
   ]
  },
  {
   "cell_type": "code",
   "execution_count": 114,
   "metadata": {
    "collapsed": false
   },
   "outputs": [
    {
     "ename": "MemoryError",
     "evalue": "Unable to allocate array with shape (100000000,) and data type float64",
     "output_type": "error",
     "traceback": [
      "\u001b[1;31m---------------------------------------------------------------------------\u001b[0m",
      "\u001b[1;31mMemoryError\u001b[0m                               Traceback (most recent call last)",
      "\u001b[1;32m<ipython-input-114-a1571e6d04d8>\u001b[0m in \u001b[0;36m<module>\u001b[1;34m()\u001b[0m\n\u001b[0;32m      8\u001b[0m \u001b[0mmnu_square_katrin\u001b[0m \u001b[1;33m=\u001b[0m \u001b[0mufloat\u001b[0m\u001b[1;33m(\u001b[0m\u001b[1;33m-\u001b[0m\u001b[1;36m1.0e-6\u001b[0m\u001b[1;33m,\u001b[0m \u001b[1;36m1.0e-6\u001b[0m\u001b[1;33m)\u001b[0m\u001b[1;33m\u001b[0m\u001b[0m\n\u001b[0;32m      9\u001b[0m \u001b[1;33m\u001b[0m\u001b[0m\n\u001b[1;32m---> 10\u001b[1;33m \u001b[0mt0vecec_qrpa\u001b[0m\u001b[1;33m=\u001b[0m\u001b[0msample_halflife_mnusquare\u001b[0m\u001b[1;33m(\u001b[0m\u001b[0mme\u001b[0m\u001b[1;33m,\u001b[0m \u001b[0mmnu_square_katrin\u001b[0m\u001b[1;33m,\u001b[0m \u001b[0mm0vecec_qrpa\u001b[0m\u001b[1;33m,\u001b[0m \u001b[0mg0vecec\u001b[0m\u001b[1;33m,\u001b[0m \u001b[0mR\u001b[0m\u001b[1;33m,\u001b[0m \u001b[1;36m100000000\u001b[0m\u001b[1;33m)\u001b[0m\u001b[1;33m\u001b[0m\u001b[0m\n\u001b[0m\u001b[0;32m     11\u001b[0m \u001b[1;31m#Select positive values => Is that correct?\u001b[0m\u001b[1;33m\u001b[0m\u001b[1;33m\u001b[0m\u001b[0m\n\u001b[0;32m     12\u001b[0m \u001b[0mt0vecec_qrpa\u001b[0m\u001b[1;33m=\u001b[0m\u001b[0mt0vecec_qrpa\u001b[0m\u001b[1;33m[\u001b[0m\u001b[0mt0vecec_qrpa\u001b[0m\u001b[1;33m>\u001b[0m\u001b[1;36m0\u001b[0m\u001b[1;33m]\u001b[0m\u001b[1;33m\u001b[0m\u001b[0m\n",
      "\u001b[1;32m<ipython-input-112-6ff6570af4fe>\u001b[0m in \u001b[0;36msample_halflife_mnusquare\u001b[1;34m(me, mnusquare, NME, PSF, R, samples)\u001b[0m\n\u001b[0;32m      9\u001b[0m     \u001b[0msamples_R\u001b[0m \u001b[1;33m=\u001b[0m \u001b[0mnp\u001b[0m\u001b[1;33m.\u001b[0m\u001b[0mrandom\u001b[0m\u001b[1;33m.\u001b[0m\u001b[0mnormal\u001b[0m\u001b[1;33m(\u001b[0m\u001b[0mR\u001b[0m\u001b[1;33m.\u001b[0m\u001b[0mnominal_value\u001b[0m\u001b[1;33m,\u001b[0m \u001b[0mR\u001b[0m\u001b[1;33m.\u001b[0m\u001b[0mstd_dev\u001b[0m\u001b[1;33m,\u001b[0m \u001b[0msamples\u001b[0m\u001b[1;33m)\u001b[0m\u001b[1;33m\u001b[0m\u001b[0m\n\u001b[0;32m     10\u001b[0m \u001b[1;33m\u001b[0m\u001b[0m\n\u001b[1;32m---> 11\u001b[1;33m     \u001b[0mhalflives\u001b[0m \u001b[1;33m=\u001b[0m \u001b[0mnp\u001b[0m\u001b[1;33m.\u001b[0m\u001b[0mdivide\u001b[0m\u001b[1;33m(\u001b[0m\u001b[1;36m1\u001b[0m\u001b[1;33m,\u001b[0m\u001b[0mnp\u001b[0m\u001b[1;33m.\u001b[0m\u001b[0mmultiply\u001b[0m\u001b[1;33m(\u001b[0m\u001b[0mnp\u001b[0m\u001b[1;33m.\u001b[0m\u001b[0mpower\u001b[0m\u001b[1;33m(\u001b[0m\u001b[0msamples_NME\u001b[0m\u001b[1;33m,\u001b[0m\u001b[1;36m2\u001b[0m\u001b[1;33m)\u001b[0m\u001b[1;33m,\u001b[0m\u001b[0mnp\u001b[0m\u001b[1;33m.\u001b[0m\u001b[0mmultiply\u001b[0m\u001b[1;33m(\u001b[0m\u001b[0msamples_PSF\u001b[0m\u001b[1;33m,\u001b[0m \u001b[0mnp\u001b[0m\u001b[1;33m.\u001b[0m\u001b[0mmultiply\u001b[0m\u001b[1;33m(\u001b[0m\u001b[0mnp\u001b[0m\u001b[1;33m.\u001b[0m\u001b[0mdivide\u001b[0m\u001b[1;33m(\u001b[0m\u001b[0msamples_mnusquare\u001b[0m\u001b[1;33m,\u001b[0m\u001b[0mnp\u001b[0m\u001b[1;33m.\u001b[0m\u001b[0mpower\u001b[0m\u001b[1;33m(\u001b[0m\u001b[0msamples_me\u001b[0m\u001b[1;33m,\u001b[0m\u001b[1;36m2\u001b[0m\u001b[1;33m)\u001b[0m\u001b[1;33m)\u001b[0m\u001b[1;33m,\u001b[0m \u001b[0msamples_R\u001b[0m\u001b[1;33m)\u001b[0m\u001b[1;33m)\u001b[0m\u001b[1;33m)\u001b[0m\u001b[1;33m)\u001b[0m\u001b[1;33m\u001b[0m\u001b[0m\n\u001b[0m\u001b[0;32m     12\u001b[0m \u001b[1;33m\u001b[0m\u001b[0m\n\u001b[0;32m     13\u001b[0m     \u001b[1;31m#sample from distribution of each parameter and calculate half-life for each sample\u001b[0m\u001b[1;33m\u001b[0m\u001b[1;33m\u001b[0m\u001b[0m\n",
      "\u001b[1;31mMemoryError\u001b[0m: Unable to allocate array with shape (100000000,) and data type float64"
     ]
    }
   ],
   "source": [
    "def plot_loghist(x, nbins=100, histrange=(1,1e32), **kwargs):\n",
    "    hist, bins = np.histogram(x, bins=nbins, range=histrange)\n",
    "    logbins = np.logspace(np.log10(bins[0]),np.log10(bins[-1]),len(bins))\n",
    "    plt.hist(x, bins=logbins, range=histrange, **kwargs)\n",
    "    plt.xscale('log')\n",
    "\n",
    "\n",
    "mnu_square_katrin = ufloat(-1.0e-6, 1.0e-6)\n",
    "\n",
    "t0vecec_qrpa=sample_halflife_mnusquare(me, mnu_square_katrin, m0vecec_qrpa, g0vecec, R, 100000000)\n",
    "#Select positive values => Is that correct?\n",
    "t0vecec_qrpa=t0vecec_qrpa[t0vecec_qrpa>0]\n",
    "                      \n",
    "lowerlimit = np.quantile(t0vecec_qrpa, [0.1])\n",
    "print('Lower limit on the half-life:', lowerlimit, 'yr')\n",
    "\n",
    "#Show negative values by multiplying with -1\n",
    "#plot_loghist(-t0vecec_qrpa, 1000, histrange=(1e25,1e36), facecolor='royalblue', edgecolor='royalblue')\n",
    "plot_loghist(t0vecec_qrpa, 1000, histrange=(1e27,1e34), facecolor='darkred', edgecolor='royalblue')\n",
    "\n",
    "plt.axvline(lowerlimit, color='black')\n",
    "plt.xlabel('$T_{1/2}$ (yr)')\n",
    "plt.ylabel('Number of samples')\n",
    "\n",
    "plt.draw()\n",
    "plt.show()"
   ]
  },
  {
   "cell_type": "markdown",
   "metadata": {},
   "source": [
    "### 0$\\nu$EC$\\beta^+$"
   ]
  },
  {
   "cell_type": "code",
   "execution_count": 110,
   "metadata": {
    "collapsed": false
   },
   "outputs": [
    {
     "name": "stdout",
     "output_type": "stream",
     "text": [
      "Half-life range for QRPA at gA=1.25: [4.5371076839120285e+27+/-1.6788661259118924e+27\n",
      " 3.37470819464531e+26+/-1.2487433994385973e+26] \n",
      "\n",
      "Half-life range for IBM at gA=1.269: [2.489799251459543e+27+/-7.984247997169464e+28\n",
      " 1.851916798606271e+26+/-5.938696857398773e+27] \n",
      "\n",
      "Half-life range for NSM: [1.187608079736548e+28+/-8.834408888454594e+27\n",
      " 8.833448526966058e+26+/-6.571047933561265e+26] \n",
      "\n"
     ]
    }
   ],
   "source": [
    "#QRPA at gA=1.25\n",
    "m0vecbp_qrpa=np.mean(M_0vecbp['QRPA'])\n",
    "delta_m0vecbp_qrpa=np.std(M_0vecbp['QRPA'])\n",
    "\n",
    "m0vecbp_qrpa = ufloat(m0vecbp_qrpa,delta_m0vecbp_qrpa)\n",
    "\n",
    "T_0vecbp_qrpa = np.divide(1,np.multiply((m0vecbp_qrpa**2) * (g0vecbp) * ((1/me)**2), np.power(mnu,2)))\n",
    "\n",
    "print('Half-life range for QRPA at gA=1.25:', T_0vecbp_qrpa, '\\n')\n",
    "\n",
    "#IBM at gA=1.269\n",
    "m0vecbp_ibm = M_0vecbp['IBM']*(np.max(gA_xe124['IBM'])**2)\n",
    "\n",
    "T_0vecbp_ibm = np.divide(1,np.multiply((m0vecbp_ibm**2) * (g0vecbp) * ((1/me)**2), np.power(mnu,2)))\n",
    "\n",
    "print('Half-life range for IBM at gA=1.269:', T_0vecbp_ibm, '\\n')\n",
    "\n",
    "#NSM\n",
    "m0vecbp_nsm=np.mean(M_0vecbp['NSM'])\n",
    "delta_m0vecbp_nsm=np.std(M_0vecbp['NSM'])\n",
    "\n",
    "m0vecbp_nsm = ufloat(m0vecbp_nsm,delta_m0vecbp_nsm)\n",
    "\n",
    "T_0vecbp_nsm = np.divide(1,np.multiply((m0vecbp_nsm**2) * (g0vecbp) * ((1/me)**2), np.power(mnu,2)))\n",
    "\n",
    "print('Half-life range for NSM:', T_0vecbp_nsm, '\\n')"
   ]
  },
  {
   "cell_type": "markdown",
   "metadata": {},
   "source": [
    "### 0$\\nu\\beta^+\\beta^+$"
   ]
  },
  {
   "cell_type": "code",
   "execution_count": 111,
   "metadata": {
    "collapsed": false
   },
   "outputs": [
    {
     "name": "stdout",
     "output_type": "stream",
     "text": [
      "Half-life range for QRPA at gA=1.25: [7.863271549240951e+28+/-2.726577245323339e+28\n",
      " 5.848714375468475e+27+/-2.028032661810748e+27] \n",
      "\n",
      "Half-life range for IBM at gA=1.269: [4.315076692304233e+28+/-1.3837405916367264e+30\n",
      " 3.2095611760940573e+27+/-1.029228539233929e+29] \n",
      "\n",
      "Half-life range for NSM: [2.0582462387115216e+29+/-1.507830037143068e+29\n",
      " 1.530926954413528e+28+/-1.121526473908067e+28] \n",
      "\n"
     ]
    }
   ],
   "source": [
    "#QRPA at gA=1.25\n",
    "m0vbpbp_qrpa=np.mean(M_0vbpbp['QRPA'])\n",
    "delta_m0vbpbp_qrpa=np.std(M_0vbpbp['QRPA'])\n",
    "\n",
    "m0vbpbp_qrpa = ufloat(m0vbpbp_qrpa,delta_m0vbpbp_qrpa)\n",
    "\n",
    "T_0vbpbp_qrpa = np.divide(1,np.multiply((m0vbpbp_qrpa**2) * (g0vbpbp) * ((1/me)**2), np.power(mnu,2)))\n",
    "\n",
    "print('Half-life range for QRPA at gA=1.25:', T_0vbpbp_qrpa, '\\n')\n",
    "\n",
    "#IBM at gA=1.269\n",
    "m0vbpbp_ibm = M_0vbpbp['IBM']*(np.max(gA_xe124['IBM'])**2)\n",
    "\n",
    "T_0vbpbp_ibm = np.divide(1,np.multiply((m0vbpbp_ibm**2) * (g0vbpbp) * ((1/me)**2), np.power(mnu,2)))\n",
    "\n",
    "print('Half-life range for IBM at gA=1.269:', T_0vbpbp_ibm, '\\n')\n",
    "\n",
    "#NSM\n",
    "m0vbpbp_nsm=np.mean(M_0vbpbp['NSM'])\n",
    "delta_m0vbpbp_nsm=np.std(M_0vbpbp['NSM'])\n",
    "\n",
    "m0vbpbp_nsm = ufloat(m0vbpbp_nsm,delta_m0vbpbp_nsm)\n",
    "\n",
    "T_0vbpbp_nsm = np.divide(1,np.multiply((m0vbpbp_nsm**2) * (g0vbpbp) * ((1/me)**2), np.power(mnu,2)))\n",
    "\n",
    "print('Half-life range for NSM:', T_0vbpbp_nsm, '\\n')"
   ]
  },
  {
   "cell_type": "markdown",
   "metadata": {},
   "source": [
    "## Method 2: Calculation using measured 90 % C.L. half-life limits for $^{136}$Xe from KamLAND Zen and NME calculations\n",
    "\n",
    "As only the IBM model allows to easily factor out $g_A$, we illustrate the method on this."
   ]
  },
  {
   "cell_type": "code",
   "execution_count": 38,
   "metadata": {
    "collapsed": true
   },
   "outputs": [],
   "source": [
    "T_0vbb = 1.07e26 # T_1/2 > 1.07 * 10^26 yr at 90% CL\n",
    "G_136Xe = ufloat(14.56, 0.02) # mean and std from Kotila, Iachello, PRC 85 (2012), 034316 and Mirea, Stoica, Rep.Phys. 67 (2015)\n",
    "M_136Xe = {'IBM': 3.05, # IBM-2 without gA_eff**2 from Kotila, Barea, Iachello, PRC91 (2015) 034304\n",
    "           'NSM': [2.28, 2.45] # NSM from Menendez, J.Phys. G 45 (2018), no. 1, 014003\n",
    "          } \n",
    "\n"
   ]
  },
  {
   "cell_type": "markdown",
   "metadata": {},
   "source": [
    "### How similar is $g_A$ for A=124 and A=136 for the IBM method?"
   ]
  },
  {
   "cell_type": "code",
   "execution_count": 33,
   "metadata": {
    "collapsed": false
   },
   "outputs": [
    {
     "name": "stdout",
     "output_type": "stream",
     "text": [
      "Value for gA_eff(Xe-136): 0.5241\n",
      "Value for gA_eff(Xe-124): 0.5329\n",
      "Ratio of [gA_eff(Xe-124)/gA_eff(Xe-136)]**2: 1.0338\n"
     ]
    }
   ],
   "source": [
    "print('Value for gA_eff(Xe-136): %3.4f' % (1.269*(136**(-0.18))) )\n",
    "print('Value for gA_eff(Xe-124): %3.4f' % (1.269*(124**(-0.18))) )\n",
    "\n",
    "\n",
    "print('Ratio of [gA_eff(Xe-124)/gA_eff(Xe-136)]**2: %3.4f' % ( ((1.269*(124**(-0.18)))**2)/((1.269*(136**(-0.18)))**2) ) )"
   ]
  },
  {
   "cell_type": "code",
   "execution_count": null,
   "metadata": {
    "collapsed": true
   },
   "outputs": [],
   "source": []
  },
  {
   "cell_type": "code",
   "execution_count": null,
   "metadata": {
    "collapsed": true
   },
   "outputs": [],
   "source": []
  }
 ],
 "metadata": {
  "kernelspec": {
   "display_name": "Python 3",
   "language": "python",
   "name": "python3"
  },
  "language_info": {
   "codemirror_mode": {
    "name": "ipython",
    "version": 3
   },
   "file_extension": ".py",
   "mimetype": "text/x-python",
   "name": "python",
   "nbconvert_exporter": "python",
   "pygments_lexer": "ipython3",
   "version": "3.5.1"
  }
 },
 "nbformat": 4,
 "nbformat_minor": 2
}
