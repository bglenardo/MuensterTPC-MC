{
 "cells": [
  {
   "cell_type": "code",
   "execution_count": 17,
   "metadata": {},
   "outputs": [],
   "source": [
    "import numpy as np"
   ]
  },
  {
   "cell_type": "code",
   "execution_count": 18,
   "metadata": {},
   "outputs": [],
   "source": [
    "# 2nuECEC\n",
    "# \n",
    "# Review Article: Stoica S and Mirea M, \n",
    "#    \"Phase Space Factors for Double-Beta Decays\", \n",
    "#    Front. Phys. 7 (201) 12.\n",
    "#    doi: 10.3389/fphy.2019.00012\n",
    "\n",
    "# KI\n",
    "# Reference therein [12]: Kotila J, Iachello F, \n",
    "#    \"Phase space factors for β+β+ decay and competing modes of double-β decay\", \n",
    "#    Phys. Rev. C 87 (2013) 024313.\n",
    "#    doi: 10.1103/PhysRevC.87.024313\n",
    "# DK\n",
    "# Reference therein [35]: Doi M, Kotani T\n",
    "#    \"Neutrino emitting of double beta decay\",\n",
    "#    Prog Theor Phys. 87 (1992) 1207–31. \n",
    "\n",
    "# SM\n",
    "# Reference therein [39]: own work by S. Stoica and M. Mirea"
   ]
  },
  {
   "cell_type": "code",
   "execution_count": 19,
   "metadata": {},
   "outputs": [
    {
     "name": "stdout",
     "output_type": "stream",
     "text": [
      "PSF 2nubb:  4.555e-26 +/- 2.9500000000000003e-27\n",
      "PSF 2nubEC:  1.4799999999999998e-21 +/- 2.3999999999999996e-22\n",
      "PSF 2nuECEC:  1.765e-20 +/- 2.5500000000000004e-21\n"
     ]
    }
   ],
   "source": [
    "# Phase space factors (PSF)\n",
    "#\n",
    "# 2nubeta+beta+\n",
    "G_2nubb_12 = 4.85*10**(-26)\n",
    "G_2nubb_35 = 4.77*10**(-26)\n",
    "G_2nubb_39 = 4.26*10**(-26)\n",
    "G_2nubb=(G_2nubb_12+G_2nubb_39)/2.\n",
    "D_G_2nubb=(G_2nubb_12-G_2nubb_39)/2.\n",
    "print(\"PSF 2nubb: \",G_2nubb,\"+/-\",D_G_2nubb)\n",
    "#\n",
    "# 2nubeta+EC\n",
    "G_2nubEC_12 = 1.53*10**(-21)\n",
    "G_2nubEC_35 = 1.72*10**(-21)\n",
    "G_2nubEC_39 = 1.24*10**(-21)\n",
    "G_2nubEC=(G_2nubEC_35+G_2nubEC_39)/2.\n",
    "D_G_2nubEC=(G_2nubEC_35-G_2nubEC_39)/2.\n",
    "print(\"PSF 2nubEC: \",G_2nubEC,\"+/-\",D_G_2nubEC)\n",
    "#\n",
    "# 2nuECEC\n",
    "G_2nuECEC_12 = 1.72*10**(-20)\n",
    "G_2nuECEC_35 = 2.02*10**(-20)\n",
    "G_2nuECEC_39 = 1.51*10**(-20)\n",
    "G_2nuECEC=(G_2nuECEC_35+G_2nuECEC_39)/2.\n",
    "D_G_2nuECEC=(G_2nuECEC_35-G_2nuECEC_39)/2.\n",
    "print(\"PSF 2nuECEC: \",G_2nuECEC,\"+/-\",D_G_2nuECEC)\n",
    "#"
   ]
  },
  {
   "cell_type": "code",
   "execution_count": 20,
   "metadata": {},
   "outputs": [],
   "source": [
    "G_0vecec = {'SM': None, \n",
    "            'KI': 25.7e-20, \n",
    "            'DK': None\n",
    "           }\n",
    "\n",
    "G_0vecbp = {'SM': 1710, \n",
    "            'KI': 1970, \n",
    "            'DK': 2290\n",
    "           }\n",
    "\n",
    "G_0vbpbp = {'SM': 107.8, \n",
    "            'KI': 114, \n",
    "            'DK': 123\n",
    "           }\n",
    "\n",
    "\n",
    "M_0vecec = {'QRPA': (1.080,1.298), \n",
    "            'IBM': 0.297 #no uncertainty?\n",
    "           }\n",
    "\n",
    "M_0vecbp = {'QRPA': (4.692,6.617), \n",
    "            'IBM': 4.74, #uncertainty 4.74(76)\n",
    "            'NSM': (2.22,4.66)\n",
    "           }\n",
    "\n",
    "M_0vbpbp = M_0vecbp"
   ]
  },
  {
   "cell_type": "markdown",
   "metadata": {
    "collapsed": true
   },
   "source": [
    "## Method 1: Direct calculation using existing neutrino mass limits"
   ]
  },
  {
   "cell_type": "code",
   "execution_count": null,
   "metadata": {},
   "outputs": [],
   "source": []
  },
  {
   "cell_type": "markdown",
   "metadata": {},
   "source": [
    "## Method 2: Calculation using measured 90 % C.L. half-life limits for $^{136}$Xe from KamLAND Zen and NME calculations"
   ]
  },
  {
   "cell_type": "code",
   "execution_count": 21,
   "metadata": {},
   "outputs": [],
   "source": [
    "T_0vbb = 1.07e26 #yr at 90% CL\n",
    "G_0vbb = {'12': 1, '35': 1, '39': 1}\n",
    "M_0vbb = {'QRPA': 1, 'IBM': 1, 'NSM': 1}"
   ]
  }
 ],
 "metadata": {
  "kernelspec": {
   "display_name": "Python 3",
   "language": "python",
   "name": "python3"
  },
  "language_info": {
   "codemirror_mode": {
    "name": "ipython",
    "version": 3
   },
   "file_extension": ".py",
   "mimetype": "text/x-python",
   "name": "python",
   "nbconvert_exporter": "python",
   "pygments_lexer": "ipython3",
   "version": "3.7.4"
  }
 },
 "nbformat": 4,
 "nbformat_minor": 2
}
