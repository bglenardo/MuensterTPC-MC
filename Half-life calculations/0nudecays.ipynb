{
 "cells": [
  {
   "cell_type": "code",
   "execution_count": 1,
   "metadata": {
    "collapsed": true
   },
   "outputs": [],
   "source": [
    "import numpy as np\n",
    "from uncertainties import ufloat \n",
    "#All numbers with Gaussian error-propagation are treated as ufloat for automation of error propagation."
   ]
  },
  {
   "cell_type": "markdown",
   "metadata": {},
   "source": [
    "### Phase-space factors (PSFs) for neutrinoless decays\n",
    "\n",
    "-  **KI**\n",
    "       Phys. Rev. C 87 (2013) 057301 (0vECb+, 0vb+b+)\n",
    "       Phys. Rev. C 89 (2014) 064319 (0vECEC) \n",
    "\n",
    "-  **DK**        \n",
    "       Reference therein **[35]**: Doi M, Kotani T\n",
    "       \"Neutrino emitting of double beta decay\",\n",
    "       Prog Theor Phys. 87 (1992) 1207–31. \n",
    "\n",
    "- **SM**\n",
    "       Reference therein **[39]**: own work by S. Stoica and M. Mirea"
   ]
  },
  {
   "cell_type": "code",
   "execution_count": 2,
   "metadata": {
    "collapsed": false
   },
   "outputs": [
    {
     "name": "stdout",
     "output_type": "stream",
     "text": [
      "PSF for 0vECEC: 2.57e-19\n",
      "PSF for 0vECb+: (2.00+/-0.29)e-17\n",
      "PSF for 0vb+b+: (1.15+/-0.08)e-18\n"
     ]
    }
   ],
   "source": [
    "G_0vecec = {'SM': None, \n",
    "            'KI': 25.7e-20, \n",
    "            'DK': None\n",
    "           }\n",
    "\n",
    "g0vecec = 25.7e-20\n",
    "delta_g0vecec = 0\n",
    "\n",
    "\n",
    "G_0vecbp = {'SM': 1710e-20, \n",
    "            'KI': 1970e-20, \n",
    "            'DK': 2290e-20\n",
    "           }\n",
    "\n",
    "g0vecbp = np.divide(np.max(np.array([G_0vecbp['SM'],G_0vecbp['KI'],G_0vecbp['DK']]))+np.min(np.array([G_0vecbp['SM'],G_0vecbp['KI'],G_0vecbp['DK']])),2)\n",
    "delta_g0vecbp = np.divide(np.max(np.array([G_0vecbp['SM'],G_0vecbp['KI'],G_0vecbp['DK']]))-np.min(np.array([G_0vecbp['SM'],G_0vecbp['KI'],G_0vecbp['DK']])),2)\n",
    "g0vecbp = ufloat(g0vecbp, delta_g0vecbp)\n",
    "\n",
    "\n",
    "G_0vbpbp = {'SM': 107.8e-20, \n",
    "            'KI': 114e-20, \n",
    "            'DK': 123e-20\n",
    "           }\n",
    "\n",
    "g0vbpbp = np.divide(np.max(np.array([G_0vbpbp['SM'],G_0vbpbp['KI'],G_0vbpbp['DK']]))+np.min(np.array([G_0vbpbp['SM'],G_0vbpbp['KI'],G_0vbpbp['DK']])),2)\n",
    "delta_g0vbpbp = np.divide(np.max(np.array([G_0vbpbp['SM'],G_0vbpbp['KI'],G_0vbpbp['DK']]))-np.min(np.array([G_0vbpbp['SM'],G_0vbpbp['KI'],G_0vbpbp['DK']])),2)\n",
    "g0vbpbp = ufloat(g0vbpbp, delta_g0vbpbp)\n",
    "\n",
    "print('PSF for 0vECEC:',g0vecec)\n",
    "print('PSF for 0vECb+:',g0vecbp)\n",
    "print('PSF for 0vb+b+:',g0vbpbp)"
   ]
  },
  {
   "cell_type": "markdown",
   "metadata": {},
   "source": [
    "### Nuclear matrix elements (NME) for neutrinoless decays\n",
    "\n",
    "- **QRPA**\n",
    "       Suhonen, J. Phys. G 40 (2013), 075102\n",
    "\n",
    "-  **IBM** \n",
    "       Kotila, Barea, Iachello, Phys. Rev. C 91 (2015), 034304 (0vECb+, 0vb+b+)\n",
    "       Kotila, Barea, Iachello, Phys. Rev. C 89 (2014), 064319 (0vECEC) \n",
    "\n",
    "-  **NSM**        \n",
    "       Javier Menendez, Personal communication (analogous to Menendez, J. Phys. G 45 (2018) no. 1, 014003)"
   ]
  },
  {
   "cell_type": "code",
   "execution_count": 3,
   "metadata": {
    "collapsed": false
   },
   "outputs": [],
   "source": [
    "\n",
    "M_0vecec = {'QRPA': (1.080,1.298), \n",
    "            'IBM': 0.297 #no uncertainty?\n",
    "           }\n",
    "\n",
    "M_0vecbp = {'QRPA': (4.692,6.617), \n",
    "            'IBM': ufloat(4.74,76)* 1.269**2,\n",
    "            'NSM': (2.22,4.66)\n",
    "           }\n",
    "\n",
    "M_0vbpbp = M_0vecbp\n",
    "\n",
    "#What to do with gA\n",
    "#QRPA \n",
    "# gA=1.25 is already included above with M = M'*(gV/gA)**2 with gV=1. \n",
    "# The paper also gives values for gA=1. For this we have to divide M by 1.25**2.\n",
    "\n",
    "#IBM \n",
    "#One has to has to multiply M with gA_eff**2 and gA_eff=[1.269*A**(-0.18), 1.269].\n",
    "#Like for QRPA we have included the latter above and have to divide accordingly for the former.\n",
    "\n",
    "#NSM \n",
    "#We do not consider gA quenching in the shell model, as the corresponding effects are accounted for by nuclear correlations\n",
    "\n",
    "\n",
    "gA_xe124 = {'QRPA': (1/1.25, 1),\n",
    "            'IBM': ((1.269*(124**(-0.18)))/1.269, 1)\n",
    "           }"
   ]
  },
  {
   "cell_type": "markdown",
   "metadata": {
    "collapsed": true
   },
   "source": [
    "## Method 1: Direct calculation using existing neutrino mass limits"
   ]
  },
  {
   "cell_type": "code",
   "execution_count": 4,
   "metadata": {
    "collapsed": false
   },
   "outputs": [],
   "source": [
    "mnu = (0.3e-3, 1.1e-3) #keV\n",
    "me = 511 #keV\n",
    "F = ufloat(2.42,0.47)"
   ]
  },
  {
   "cell_type": "markdown",
   "metadata": {},
   "source": [
    "### 0$\\nu$ECEC"
   ]
  },
  {
   "cell_type": "code",
   "execution_count": 5,
   "metadata": {
    "collapsed": false
   },
   "outputs": [
    {
     "name": "stdout",
     "output_type": "stream",
     "text": [
      "Half-life range for QRPA at gA=1.25: [1.3635520677741167e+30+/-5.8568319023061885e+29\n",
      " 1.0142122818154585e+29+/-4.356321249649231e+28] \n",
      "\n",
      "Half-life range for IBM at gA=1.269: [2.1853577217808756e+31+/-8.48857958047117e+30\n",
      " 1.6254726856221386e+30+/-6.3138195226645046e+29] \n",
      "\n"
     ]
    }
   ],
   "source": [
    "#QRPA at gA=1.25\n",
    "m0vecec_qrpa=np.mean(M_0vecec['QRPA'])\n",
    "delta_m0vecec_qrpa=np.std(M_0vecec['QRPA'])\n",
    "\n",
    "m0vecec_qrpa = ufloat(m0vecec_qrpa,delta_m0vecec_qrpa)\n",
    "\n",
    "T_0vecec_qrpa = np.divide(1,np.multiply((m0vecec_qrpa**2) * (g0vecec) * (F**2) * ((1/me)**2), np.power(mnu,2)))\n",
    "\n",
    "print('Half-life range for QRPA at gA=1.25:', T_0vecec_qrpa, '\\n')\n",
    "\n",
    "#IBM at gA=1.269\n",
    "m0vecec_ibm = M_0vecec['IBM']\n",
    "\n",
    "T_0vecec_ibm = np.divide(1,np.multiply((m0vecec_ibm**2) * (g0vecec) * (F**2) * ((1/me)**2), np.power(mnu,2)))\n",
    "\n",
    "print('Half-life range for IBM at gA=1.269:', T_0vecec_ibm, '\\n')\n"
   ]
  },
  {
   "cell_type": "markdown",
   "metadata": {},
   "source": [
    "### 0$\\nu$EC$\\beta^+$"
   ]
  },
  {
   "cell_type": "code",
   "execution_count": 6,
   "metadata": {
    "collapsed": false
   },
   "outputs": [
    {
     "name": "stdout",
     "output_type": "stream",
     "text": [
      "Half-life range for QRPA at gA=1.25: [4.537126398873207e+27+/-1.6788730510096764e+27\n",
      " 3.374722114864369e+26+/-1.2487485503377755e+26] \n",
      "\n",
      "Half-life range for IBM at gA=1.269: [2.489809521547797e+27+/-7.984280931122484e+28\n",
      " 1.85192443751489e+26+/-5.938721353727465e+27] \n",
      "\n",
      "Half-life range for NSM: [1.2258925620455504e+28+/-8.875113246176391e+27\n",
      " 9.118209139181778e+26+/-6.601323902114673e+26] \n",
      "\n"
     ]
    }
   ],
   "source": [
    "#QRPA at gA=1.25\n",
    "m0vecbp_qrpa=np.mean(M_0vecbp['QRPA'])\n",
    "delta_m0vecbp_qrpa=np.std(M_0vecbp['QRPA'])\n",
    "\n",
    "m0vecbp_qrpa = ufloat(m0vecbp_qrpa,delta_m0vecbp_qrpa)\n",
    "\n",
    "T_0vecbp_qrpa = np.divide(1,np.multiply((m0vecbp_qrpa**2) * (g0vecbp) * ((1/me)**2), np.power(mnu,2)))\n",
    "\n",
    "print('Half-life range for QRPA at gA=1.25:', T_0vecbp_qrpa, '\\n')\n",
    "\n",
    "#IBM at gA=1.269\n",
    "m0vecbp_ibm = M_0vecbp['IBM']\n",
    "\n",
    "T_0vecbp_ibm = np.divide(1,np.multiply((m0vecbp_ibm**2) * (g0vecbp) * ((1/me)**2), np.power(mnu,2)))\n",
    "\n",
    "print('Half-life range for IBM at gA=1.269:', T_0vecbp_ibm, '\\n')\n",
    "\n",
    "#NSM\n",
    "m0vecbp_nsm=np.mean(M_0vecbp['NSM'])\n",
    "delta_m0vecbp_nsm=np.std(M_0vecbp['NSM'])\n",
    "\n",
    "m0vecbp_nsm = ufloat(m0vecbp_nsm,delta_m0vecbp_nsm)\n",
    "\n",
    "T_0vecbp_nsm = np.divide(1,np.multiply((m0vecbp_nsm**2) * (g0vecbp) * ((1/me)**2), np.power(mnu,2)))\n",
    "\n",
    "print('Half-life range for NSM:', T_0vecbp_nsm, '\\n')"
   ]
  },
  {
   "cell_type": "markdown",
   "metadata": {},
   "source": [
    "### 0$\\nu\\beta^+\\beta^+$"
   ]
  },
  {
   "cell_type": "code",
   "execution_count": 7,
   "metadata": {
    "collapsed": false
   },
   "outputs": [
    {
     "name": "stdout",
     "output_type": "stream",
     "text": [
      "Half-life range for QRPA at gA=1.25: [7.863303984182336e+28+/-2.726588492089086e+28\n",
      " 5.848738500631488e+27+/-2.0280410271736996e+27] \n",
      "\n",
      "Half-life range for IBM at gA=1.269: [4.315094491417326e+28+/-1.3837462993812325e+30\n",
      " 3.2095744151037954e+27+/-1.0292327846637259e+29] \n",
      "\n",
      "Half-life range for NSM: [2.124597161257453e+29+/-1.513463539741102e+29\n",
      " 1.5802788802741383e+28+/-1.1257166824520593e+28] \n",
      "\n"
     ]
    }
   ],
   "source": [
    "#QRPA at gA=1.25\n",
    "m0vbpbp_qrpa=np.mean(M_0vbpbp['QRPA'])\n",
    "delta_m0vbpbp_qrpa=np.std(M_0vbpbp['QRPA'])\n",
    "\n",
    "m0vbpbp_qrpa = ufloat(m0vbpbp_qrpa,delta_m0vbpbp_qrpa)\n",
    "\n",
    "T_0vbpbp_qrpa = np.divide(1,np.multiply((m0vbpbp_qrpa**2) * (g0vbpbp) * ((1/me)**2), np.power(mnu,2)))\n",
    "\n",
    "print('Half-life range for QRPA at gA=1.25:', T_0vbpbp_qrpa, '\\n')\n",
    "\n",
    "#IBM at gA=1.269\n",
    "m0vbpbp_ibm = M_0vbpbp['IBM']\n",
    "\n",
    "T_0vbpbp_ibm = np.divide(1,np.multiply((m0vbpbp_ibm**2) * (g0vbpbp) * ((1/me)**2), np.power(mnu,2)))\n",
    "\n",
    "print('Half-life range for IBM at gA=1.269:', T_0vbpbp_ibm, '\\n')\n",
    "\n",
    "#NSM\n",
    "m0vbpbp_nsm=np.mean(M_0vbpbp['NSM'])\n",
    "delta_m0vbpbp_nsm=np.std(M_0vbpbp['NSM'])\n",
    "\n",
    "m0vbpbp_nsm = ufloat(m0vbpbp_nsm,delta_m0vbpbp_nsm)\n",
    "\n",
    "T_0vbpbp_nsm = np.divide(1,np.multiply((m0vbpbp_nsm**2) * (g0vbpbp) * ((1/me)**2), np.power(mnu,2)))\n",
    "\n",
    "print('Half-life range for NSM:', T_0vbpbp_nsm, '\\n')"
   ]
  },
  {
   "cell_type": "markdown",
   "metadata": {},
   "source": [
    "### Cross-check with result from EXO-200 or KamLAND Zen"
   ]
  },
  {
   "cell_type": "markdown",
   "metadata": {},
   "source": [
    "## Method 2: Calculation using measured 90 % C.L. half-life limits for $^{136}$Xe from KamLAND Zen and NME calculations"
   ]
  },
  {
   "cell_type": "code",
   "execution_count": 8,
   "metadata": {
    "collapsed": true
   },
   "outputs": [],
   "source": [
    "T_0vbb = 1.07e26 #yr at 90% CL\n",
    "G_0vbb = {'12': 1, '35': 1, '39': 1}\n",
    "M_0vbb = {'QRPA': 1, 'IBM': 1, 'NSM': 1}"
   ]
  },
  {
   "cell_type": "code",
   "execution_count": null,
   "metadata": {
    "collapsed": true
   },
   "outputs": [],
   "source": []
  }
 ],
 "metadata": {
  "kernelspec": {
   "display_name": "Python 3",
   "language": "python",
   "name": "python3"
  },
  "language_info": {
   "codemirror_mode": {
    "name": "ipython",
    "version": 3
   },
   "file_extension": ".py",
   "mimetype": "text/x-python",
   "name": "python",
   "nbconvert_exporter": "python",
   "pygments_lexer": "ipython3",
   "version": "3.5.1"
  }
 },
 "nbformat": 4,
 "nbformat_minor": 2
}
