{
 "cells": [
  {
   "cell_type": "code",
   "execution_count": 3,
   "metadata": {
    "collapsed": true
   },
   "outputs": [],
   "source": [
    "# 2nuECEC\n",
    "#\n",
    "# Review Article: Stoica S and Mirea M, \n",
    "#    \"Phase Space Factors for Double-Beta Decays\", \n",
    "#    Front. Phys. 7 (201) 12.\n",
    "#    doi: 10.3389/fphy.2019.00012\n",
    "# \n",
    "# Reference therein [12]: Kotila J, Iachello F, \n",
    "#    \"Phase space factors for β+β+ decay and competing modes of double-β decay\", \n",
    "#    Phys. Rev. C 87 (2013) 024313.\n",
    "#    doi: 10.1103/PhysRevC.87.024313\n",
    "# Reference therein [35]: Doi M, Kotani T\n",
    "#    \"Neutrino emitting of double beta decay\",\n",
    "#    Prog Theor Phys. 87 (1992) 1207–31. \n",
    "# Reference therein [39]: own work by S. Stoica and M. Mirea"
   ]
  },
  {
   "cell_type": "code",
   "execution_count": 6,
   "metadata": {},
   "outputs": [
    {
     "name": "stdout",
     "output_type": "stream",
     "text": [
      "PSF 2nubb: 4.555e-26 +/- 2.9500000000000003e-27\n",
      "1.4799999999999998e-21 2.3999999999999996e-22\n",
      "1.765e-20 2.5500000000000004e-21\n"
     ]
    }
   ],
   "source": [
    "# Phase space factors (PSF)\n",
    "#\n",
    "# 2nubeta+beta+\n",
    "G_2nubb_12 = 4.85*10**(-26)\n",
    "G_2nubb_35 = 4.77*10**(-26)\n",
    "G_2nubb_39 = 4.26*10**(-26)\n",
    "G_2nubb=(G_2nubb_12+G_2nubb_39)/2.\n",
    "D_G_2nubb=(G_2nubb_12-G_2nubb_39)/2.\n",
    "print(\"PSF 2nubb: \",G_2nubb,\"+/-\",D_G_2nubb)\n",
    "#\n",
    "# 2nubeta+EC\n",
    "G_2nubEC_12 = 1.53*10**(-21)\n",
    "G_2nubEC_35 = 1.72*10**(-21)\n",
    "G_2nubEC_39 = 1.24*10**(-21)\n",
    "G_2nubEC=(G_2nubEC_35+G_2nubEC_39)/2.\n",
    "D_G_2nubEC=(G_2nubEC_35-G_2nubEC_39)/2.\n",
    "print(\"PSF 2nubEC: \",G_2nubEC,\"+/-\",D_G_2nubEC)\n",
    "#\n",
    "# 2nuECEC\n",
    "G_2nuECEC_12 = 1.72*10**(-20)\n",
    "G_2nuECEC_35 = 2.02*10**(-20)\n",
    "G_2nuECEC_39 = 1.51*10**(-20)\n",
    "G_2nuECEC=(G_2nuECEC_35+G_2nuECEC_39)/2.\n",
    "D_G_2nuECEC=(G_2nuECEC_35-G_2nuECEC_39)/2.\n",
    "print(\"PSF 2nuECEC: \",G_2nuECEC,\"+/-\",D_G_2nuECEC)\n",
    "#"
   ]
  },
  {
   "cell_type": "code",
   "execution_count": 8,
   "metadata": {},
   "outputs": [
    {
     "name": "stdout",
     "output_type": "stream",
     "text": [
      "T_1/2_2nubEC:  1.6695945945945947e+23 +/- 5.992019192900851e+22\n",
      "T_1/2_2nubb:  2.1699231613611417e+28 +/- 7.088057239873794e+27\n"
     ]
    }
   ],
   "source": [
    "T_2nuECEC = 1.4*10**22\n",
    "D_T_2nuECEC = 0.4*10**22\n",
    "#\n",
    "T_2nubEC = T_2nuECEC*G_2nuECEC/G_2nubEC\n",
    "D_T_2nubEC = T_2nubEC*( (D_T_2nuECEC/T_2nuECEC)**2 + (D_G_2nuECEC/G_2nuECEC)**2 + (D_G_2nubEC/G_2nubEC)**2)**0.5\n",
    "print(\"T_1/2_2nubEC: \",T_2nubEC,\"+/-\",D_T_2nubEC)\n",
    "#\n",
    "T_2nubb = 4.0*T_2nuECEC*G_2nuECEC/G_2nubb\n",
    "D_T_2nubb = T_2nubb*( (D_T_2nuECEC/T_2nuECEC)**2 + (D_G_2nuECEC/G_2nuECEC)**2 + (D_G_2nubb/G_2nubb)**2)**0.5\n",
    "print(\"T_1/2_2nubb: \",T_2nubb,\"+/-\",D_T_2nubb)\n",
    "\n"
   ]
  },
  {
   "cell_type": "code",
   "execution_count": null,
   "metadata": {
    "collapsed": true
   },
   "outputs": [],
   "source": []
  }
 ],
 "metadata": {
  "kernelspec": {
   "display_name": "Python 3",
   "language": "python",
   "name": "python3"
  },
  "language_info": {
   "codemirror_mode": {
    "name": "ipython",
    "version": 3
   },
   "file_extension": ".py",
   "mimetype": "text/x-python",
   "name": "python",
   "nbconvert_exporter": "python",
   "pygments_lexer": "ipython3",
   "version": "3.7.4"
  }
 },
 "nbformat": 4,
 "nbformat_minor": 2
}
