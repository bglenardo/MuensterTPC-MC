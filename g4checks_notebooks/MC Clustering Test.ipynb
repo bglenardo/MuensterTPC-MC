{
 "cells": [
  {
   "cell_type": "code",
   "execution_count": 1,
   "metadata": {
    "collapsed": false
   },
   "outputs": [],
   "source": [
    "from init import *\n",
    "from rootIO import *"
   ]
  },
  {
   "cell_type": "code",
   "execution_count": 2,
   "metadata": {
    "collapsed": false
   },
   "outputs": [
    {
     "name": "stdout",
     "output_type": "stream",
     "text": [
      "/Users/christianwittweg/geant4_workdir/MuensterTPC-MC/example_spectra_decay0/*_Decay0_Xe124_0nukbplus.root\n",
      "\n"
     ]
    }
   ],
   "source": [
    "_files_dir = '/Users/christianwittweg/geant4_workdir/MuensterTPC-MC/example_spectra_decay0/'\n",
    "_filename = '*_Decay0_Xe124_0nukbplus.root'\n",
    "\n",
    "_file = _files_dir + _filename\n",
    "\n",
    "branches= ['eventid','ed', 'xp', 'yp', 'zp', 'type', 'trackid', 'time', 'parentid','etot']\n",
    "\n",
    "df = g4root_to_df(_file,branches,1)"
   ]
  },
  {
   "cell_type": "code",
   "execution_count": 7,
   "metadata": {
    "collapsed": false
   },
   "outputs": [
    {
     "data": {
      "text/plain": [
       "eventid                                                     0\n",
       "ed          [5.4169, 26.38311, 0.0, 615.6132, 226.3245, 18...\n",
       "xp          [60.100067, 60.099113, 60.099113, 59.986206, 5...\n",
       "yp          [457.28595, 457.28647, 457.28647, 457.69543, 4...\n",
       "zp          [68.28037, 68.28062, 68.28062, 68.87473, 68.80...\n",
       "type        [b'gamma', b'e-', b'e-', b'e+', b'e+', b'e+', ...\n",
       "trackid     [2, 3, 3, 1, 1, 1, 1, 1, 1, 1, 1, 1, 1, 1, 1, ...\n",
       "time        [1.5160789e-13, 1.6361859e-13, 1.6361859e-13, ...\n",
       "parentid    [0, 2, 2, 0, 0, 0, 0, 0, 0, 0, 0, 0, 0, 0, 0, ...\n",
       "etot                                                  2856.72\n",
       "Name: 0, dtype: object"
      ]
     },
     "execution_count": 7,
     "metadata": {},
     "output_type": "execute_result"
    }
   ],
   "source": [
    "df.iloc[0]"
   ]
  },
  {
   "cell_type": "code",
   "execution_count": null,
   "metadata": {
    "collapsed": true
   },
   "outputs": [],
   "source": []
  }
 ],
 "metadata": {
  "kernelspec": {
   "display_name": "Python 3",
   "language": "python",
   "name": "python3"
  },
  "language_info": {
   "codemirror_mode": {
    "name": "ipython",
    "version": 3
   },
   "file_extension": ".py",
   "mimetype": "text/x-python",
   "name": "python",
   "nbconvert_exporter": "python",
   "pygments_lexer": "ipython3",
   "version": "3.6.0"
  },
  "widgets": {
   "state": {
    "942bf0dfb1db4adbaff85ea2878866ea": {
     "views": [
      {
       "cell_index": 1
      }
     ]
    }
   },
   "version": "1.2.0"
  }
 },
 "nbformat": 4,
 "nbformat_minor": 2
}
