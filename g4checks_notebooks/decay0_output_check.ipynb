{
 "cells": [
  {
   "cell_type": "markdown",
   "metadata": {},
   "source": [
    "# Taking a look at the DECAY0 files"
   ]
  },
  {
   "cell_type": "code",
   "execution_count": 2,
   "metadata": {
    "collapsed": false,
    "jupyter": {
     "outputs_hidden": false
    }
   },
   "outputs": [],
   "source": [
    "import pandas as pd\n",
    "import numpy as np\n",
    "import numba\n",
    "import matplotlib.pyplot as plt\n",
    "from tqdm import tqdm_notebook\n",
    "%matplotlib inline"
   ]
  },
  {
   "cell_type": "markdown",
   "metadata": {},
   "source": [
    "## 1. Open file and load content into dataframe"
   ]
  },
  {
   "cell_type": "code",
   "execution_count": 4,
   "metadata": {
    "collapsed": false,
    "jupyter": {
     "outputs_hidden": false
    }
   },
   "outputs": [],
   "source": [
    "#f = open('test_all_states.dat', \"r\")\n",
    "#f = open('test_all_branches_20192308.dat','r')\n",
    "f = open('../macros/events/0nukk_1e5_events.dat','r')\n",
    "lines = f.readlines()\n",
    "f.close()"
   ]
  },
  {
   "cell_type": "code",
   "execution_count": 5,
   "metadata": {
    "collapsed": false,
    "jupyter": {
     "outputs_hidden": false
    }
   },
   "outputs": [
    {
     "data": {
      "text/html": [
       "<div>\n",
       "<style scoped>\n",
       "    .dataframe tbody tr th:only-of-type {\n",
       "        vertical-align: middle;\n",
       "    }\n",
       "\n",
       "    .dataframe tbody tr th {\n",
       "        vertical-align: top;\n",
       "    }\n",
       "\n",
       "    .dataframe thead th {\n",
       "        text-align: right;\n",
       "    }\n",
       "</style>\n",
       "<table border=\"1\" class=\"dataframe\">\n",
       "  <thead>\n",
       "    <tr style=\"text-align: right;\">\n",
       "      <th></th>\n",
       "      <th>event</th>\n",
       "      <th>n</th>\n",
       "      <th>px</th>\n",
       "      <th>py</th>\n",
       "      <th>pz</th>\n",
       "      <th>t</th>\n",
       "      <th>ptype</th>\n",
       "      <th>ptot</th>\n",
       "    </tr>\n",
       "  </thead>\n",
       "  <tbody>\n",
       "    <tr>\n",
       "      <th>0</th>\n",
       "      <td>1</td>\n",
       "      <td>5</td>\n",
       "      <td>-0.006142</td>\n",
       "      <td>0.016628</td>\n",
       "      <td>0.026840</td>\n",
       "      <td>0.000000e+00</td>\n",
       "      <td>1</td>\n",
       "      <td>0.032165</td>\n",
       "    </tr>\n",
       "    <tr>\n",
       "      <th>1</th>\n",
       "      <td>1</td>\n",
       "      <td>5</td>\n",
       "      <td>-0.016250</td>\n",
       "      <td>-0.027643</td>\n",
       "      <td>0.002525</td>\n",
       "      <td>0.000000e+00</td>\n",
       "      <td>1</td>\n",
       "      <td>0.032165</td>\n",
       "    </tr>\n",
       "    <tr>\n",
       "      <th>2</th>\n",
       "      <td>1</td>\n",
       "      <td>5</td>\n",
       "      <td>0.946642</td>\n",
       "      <td>0.508665</td>\n",
       "      <td>0.995167</td>\n",
       "      <td>0.000000e+00</td>\n",
       "      <td>1</td>\n",
       "      <td>1.464660</td>\n",
       "    </tr>\n",
       "    <tr>\n",
       "      <th>3</th>\n",
       "      <td>1</td>\n",
       "      <td>5</td>\n",
       "      <td>0.167859</td>\n",
       "      <td>0.587333</td>\n",
       "      <td>-0.386363</td>\n",
       "      <td>3.673480e-13</td>\n",
       "      <td>1</td>\n",
       "      <td>0.722781</td>\n",
       "    </tr>\n",
       "    <tr>\n",
       "      <th>4</th>\n",
       "      <td>1</td>\n",
       "      <td>5</td>\n",
       "      <td>-0.575412</td>\n",
       "      <td>0.054495</td>\n",
       "      <td>-0.170913</td>\n",
       "      <td>4.514200e-12</td>\n",
       "      <td>1</td>\n",
       "      <td>0.602727</td>\n",
       "    </tr>\n",
       "  </tbody>\n",
       "</table>\n",
       "</div>"
      ],
      "text/plain": [
       "   event  n        px        py        pz             t  ptype      ptot\n",
       "0      1  5 -0.006142  0.016628  0.026840  0.000000e+00      1  0.032165\n",
       "1      1  5 -0.016250 -0.027643  0.002525  0.000000e+00      1  0.032165\n",
       "2      1  5  0.946642  0.508665  0.995167  0.000000e+00      1  1.464660\n",
       "3      1  5  0.167859  0.587333 -0.386363  3.673480e-13      1  0.722781\n",
       "4      1  5 -0.575412  0.054495 -0.170913  4.514200e-12      1  0.602727"
      ]
     },
     "execution_count": 5,
     "metadata": {},
     "output_type": "execute_result"
    }
   ],
   "source": [
    "splitted=[line.split() for line in lines[22:]] # Start at 22nd entry after all text lines in the file\n",
    "index=0\n",
    "event=[]\n",
    "px=[]\n",
    "py=[]\n",
    "pz=[]\n",
    "t=[]\n",
    "n=[]\n",
    "ptype=[]\n",
    "for chunk in splitted:\n",
    "    \n",
    "    \n",
    "    if len(chunk)==5:\n",
    "        event.append(index)\n",
    "        n.append(nentries)\n",
    "        ptype.append(int(chunk[0]))\n",
    "        px.append(float(chunk[1]))\n",
    "        py.append(float(chunk[2]))\n",
    "        pz.append(float(chunk[3]))\n",
    "        t.append(float(chunk[4]))\n",
    "    elif len(chunk)==3:\n",
    "        nentries=int(chunk[2])\n",
    "        #print(nentries)\n",
    "        index+=1\n",
    "        \n",
    "df=pd.DataFrame()\n",
    "df['event']=np.asarray(event)\n",
    "df['n']=np.asarray(n)\n",
    "df['px']=np.asarray(px)\n",
    "df['py']=np.asarray(py)\n",
    "df['pz']=np.asarray(pz)\n",
    "df['t']=np.asarray(t)\n",
    "df['ptype']=np.asarray(ptype)\n",
    "df['ptot']=np.sqrt(np.power(df.px,2)+np.power(df.py,2)+np.power(df.pz,2))\n",
    "df.head()"
   ]
  },
  {
   "cell_type": "markdown",
   "metadata": {},
   "source": [
    "### Check branching ratios"
   ]
  },
  {
   "cell_type": "code",
   "execution_count": 6,
   "metadata": {
    "collapsed": false,
    "jupyter": {
     "outputs_hidden": false
    }
   },
   "outputs": [
    {
     "name": "stdout",
     "output_type": "stream",
     "text": [
      "27.436\n",
      "57.029\n",
      "9.387\n",
      "3.726\n",
      "2.221\n"
     ]
    }
   ],
   "source": [
    "# Should be 27.3 %\n",
    "print(len(np.unique(df[np.all([df.ptot>=2.18], axis=0)].event))/1000)\n",
    "\n",
    "# Should be 3.8 % and 2.2 %\n",
    "print(len(np.unique(df[np.all([df.ptot>=0.72, df.ptot<=0.73], axis=0)].event))/1000)\n",
    "print(len(np.unique(df[np.all([df.ptot>=1.32, df.ptot<=1.33], axis=0)].event))/1000)\n",
    "\n",
    "# Should be 57.4% and 9.3 %\n",
    "print(len(np.unique(df[np.all([df.ptot>=1.436, df.ptot<=1.437], axis=0)].event))/1000)\n",
    "print(len(np.unique(df[np.all([df.ptot>=2.0, df.ptot<=2.1], axis=0)].event))/1000)"
   ]
  },
  {
   "cell_type": "markdown",
   "metadata": {},
   "source": [
    "## 2. What about events with more than 5 entries?\n",
    "\n",
    "Those are events with a conversion electron (ptype = 3). These do not yet have the correct angular correlation. However, they make up less than 1 % of all events in a sample of 10000 events. So it might be overkill to also include the correct $\\gamma$-$e^-$ correlation."
   ]
  },
  {
   "cell_type": "code",
   "execution_count": 7,
   "metadata": {
    "collapsed": false,
    "jupyter": {
     "outputs_hidden": false
    },
    "scrolled": true
   },
   "outputs": [
    {
     "name": "stdout",
     "output_type": "stream",
     "text": [
      "Number of events containing a conversion electron: 510\n",
      "Fraction of events containing a conversion electron: 0.51 %\n"
     ]
    },
    {
     "data": {
      "text/html": [
       "<div>\n",
       "<style scoped>\n",
       "    .dataframe tbody tr th:only-of-type {\n",
       "        vertical-align: middle;\n",
       "    }\n",
       "\n",
       "    .dataframe tbody tr th {\n",
       "        vertical-align: top;\n",
       "    }\n",
       "\n",
       "    .dataframe thead th {\n",
       "        text-align: right;\n",
       "    }\n",
       "</style>\n",
       "<table border=\"1\" class=\"dataframe\">\n",
       "  <thead>\n",
       "    <tr style=\"text-align: right;\">\n",
       "      <th></th>\n",
       "      <th>event</th>\n",
       "      <th>n</th>\n",
       "      <th>px</th>\n",
       "      <th>py</th>\n",
       "      <th>pz</th>\n",
       "      <th>t</th>\n",
       "      <th>ptype</th>\n",
       "      <th>ptot</th>\n",
       "    </tr>\n",
       "  </thead>\n",
       "  <tbody>\n",
       "    <tr>\n",
       "      <th>1508</th>\n",
       "      <td>328</td>\n",
       "      <td>6</td>\n",
       "      <td>0.026698</td>\n",
       "      <td>0.008610</td>\n",
       "      <td>-0.015737</td>\n",
       "      <td>0.000000e+00</td>\n",
       "      <td>1</td>\n",
       "      <td>0.032165</td>\n",
       "    </tr>\n",
       "    <tr>\n",
       "      <th>1509</th>\n",
       "      <td>328</td>\n",
       "      <td>6</td>\n",
       "      <td>0.031710</td>\n",
       "      <td>-0.000422</td>\n",
       "      <td>0.005374</td>\n",
       "      <td>0.000000e+00</td>\n",
       "      <td>1</td>\n",
       "      <td>0.032165</td>\n",
       "    </tr>\n",
       "    <tr>\n",
       "      <th>1510</th>\n",
       "      <td>328</td>\n",
       "      <td>6</td>\n",
       "      <td>-0.427764</td>\n",
       "      <td>-1.344890</td>\n",
       "      <td>-0.391801</td>\n",
       "      <td>0.000000e+00</td>\n",
       "      <td>1</td>\n",
       "      <td>1.464657</td>\n",
       "    </tr>\n",
       "    <tr>\n",
       "      <th>1511</th>\n",
       "      <td>328</td>\n",
       "      <td>6</td>\n",
       "      <td>-0.651363</td>\n",
       "      <td>-0.641742</td>\n",
       "      <td>-0.589518</td>\n",
       "      <td>4.520900e-13</td>\n",
       "      <td>3</td>\n",
       "      <td>1.087951</td>\n",
       "    </tr>\n",
       "    <tr>\n",
       "      <th>1512</th>\n",
       "      <td>328</td>\n",
       "      <td>6</td>\n",
       "      <td>0.011672</td>\n",
       "      <td>-0.026046</td>\n",
       "      <td>-0.014022</td>\n",
       "      <td>0.000000e+00</td>\n",
       "      <td>1</td>\n",
       "      <td>0.031800</td>\n",
       "    </tr>\n",
       "    <tr>\n",
       "      <th>1513</th>\n",
       "      <td>328</td>\n",
       "      <td>6</td>\n",
       "      <td>0.602309</td>\n",
       "      <td>-0.016543</td>\n",
       "      <td>0.015178</td>\n",
       "      <td>4.095650e-12</td>\n",
       "      <td>1</td>\n",
       "      <td>0.602727</td>\n",
       "    </tr>\n",
       "    <tr>\n",
       "      <th>1575</th>\n",
       "      <td>342</td>\n",
       "      <td>6</td>\n",
       "      <td>0.017806</td>\n",
       "      <td>0.025069</td>\n",
       "      <td>0.009438</td>\n",
       "      <td>0.000000e+00</td>\n",
       "      <td>1</td>\n",
       "      <td>0.032165</td>\n",
       "    </tr>\n",
       "    <tr>\n",
       "      <th>1576</th>\n",
       "      <td>342</td>\n",
       "      <td>6</td>\n",
       "      <td>0.006367</td>\n",
       "      <td>0.008594</td>\n",
       "      <td>0.030335</td>\n",
       "      <td>0.000000e+00</td>\n",
       "      <td>1</td>\n",
       "      <td>0.032165</td>\n",
       "    </tr>\n",
       "    <tr>\n",
       "      <th>1577</th>\n",
       "      <td>342</td>\n",
       "      <td>6</td>\n",
       "      <td>0.162634</td>\n",
       "      <td>-0.903946</td>\n",
       "      <td>-1.140900</td>\n",
       "      <td>0.000000e+00</td>\n",
       "      <td>1</td>\n",
       "      <td>1.464657</td>\n",
       "    </tr>\n",
       "    <tr>\n",
       "      <th>1578</th>\n",
       "      <td>342</td>\n",
       "      <td>6</td>\n",
       "      <td>-0.320079</td>\n",
       "      <td>0.519106</td>\n",
       "      <td>-0.387934</td>\n",
       "      <td>5.402740e-13</td>\n",
       "      <td>1</td>\n",
       "      <td>0.722782</td>\n",
       "    </tr>\n",
       "    <tr>\n",
       "      <th>1579</th>\n",
       "      <td>342</td>\n",
       "      <td>6</td>\n",
       "      <td>-0.415494</td>\n",
       "      <td>0.803882</td>\n",
       "      <td>-0.300969</td>\n",
       "      <td>2.110820e-12</td>\n",
       "      <td>3</td>\n",
       "      <td>0.953648</td>\n",
       "    </tr>\n",
       "    <tr>\n",
       "      <th>1580</th>\n",
       "      <td>342</td>\n",
       "      <td>6</td>\n",
       "      <td>-0.025409</td>\n",
       "      <td>0.015476</td>\n",
       "      <td>0.011232</td>\n",
       "      <td>0.000000e+00</td>\n",
       "      <td>1</td>\n",
       "      <td>0.031800</td>\n",
       "    </tr>\n",
       "    <tr>\n",
       "      <th>2999</th>\n",
       "      <td>648</td>\n",
       "      <td>6</td>\n",
       "      <td>-0.003545</td>\n",
       "      <td>0.007191</td>\n",
       "      <td>0.031150</td>\n",
       "      <td>0.000000e+00</td>\n",
       "      <td>1</td>\n",
       "      <td>0.032165</td>\n",
       "    </tr>\n",
       "    <tr>\n",
       "      <th>3000</th>\n",
       "      <td>648</td>\n",
       "      <td>6</td>\n",
       "      <td>-0.024982</td>\n",
       "      <td>0.018274</td>\n",
       "      <td>-0.008750</td>\n",
       "      <td>0.000000e+00</td>\n",
       "      <td>1</td>\n",
       "      <td>0.032165</td>\n",
       "    </tr>\n",
       "    <tr>\n",
       "      <th>3001</th>\n",
       "      <td>648</td>\n",
       "      <td>6</td>\n",
       "      <td>-0.857382</td>\n",
       "      <td>-0.533377</td>\n",
       "      <td>1.060960</td>\n",
       "      <td>0.000000e+00</td>\n",
       "      <td>1</td>\n",
       "      <td>1.464661</td>\n",
       "    </tr>\n",
       "    <tr>\n",
       "      <th>3002</th>\n",
       "      <td>648</td>\n",
       "      <td>6</td>\n",
       "      <td>-0.696063</td>\n",
       "      <td>0.766284</td>\n",
       "      <td>-0.334579</td>\n",
       "      <td>3.480770e-12</td>\n",
       "      <td>3</td>\n",
       "      <td>1.087951</td>\n",
       "    </tr>\n",
       "    <tr>\n",
       "      <th>3003</th>\n",
       "      <td>648</td>\n",
       "      <td>6</td>\n",
       "      <td>-0.029739</td>\n",
       "      <td>-0.007176</td>\n",
       "      <td>-0.008679</td>\n",
       "      <td>0.000000e+00</td>\n",
       "      <td>1</td>\n",
       "      <td>0.031800</td>\n",
       "    </tr>\n",
       "    <tr>\n",
       "      <th>3004</th>\n",
       "      <td>648</td>\n",
       "      <td>6</td>\n",
       "      <td>-0.216843</td>\n",
       "      <td>-0.529104</td>\n",
       "      <td>-0.190546</td>\n",
       "      <td>1.445470e-11</td>\n",
       "      <td>1</td>\n",
       "      <td>0.602727</td>\n",
       "    </tr>\n",
       "    <tr>\n",
       "      <th>3884</th>\n",
       "      <td>839</td>\n",
       "      <td>6</td>\n",
       "      <td>-0.008950</td>\n",
       "      <td>0.014893</td>\n",
       "      <td>-0.027068</td>\n",
       "      <td>0.000000e+00</td>\n",
       "      <td>1</td>\n",
       "      <td>0.032165</td>\n",
       "    </tr>\n",
       "    <tr>\n",
       "      <th>3885</th>\n",
       "      <td>839</td>\n",
       "      <td>6</td>\n",
       "      <td>0.024445</td>\n",
       "      <td>0.013349</td>\n",
       "      <td>-0.016088</td>\n",
       "      <td>0.000000e+00</td>\n",
       "      <td>1</td>\n",
       "      <td>0.032165</td>\n",
       "    </tr>\n",
       "    <tr>\n",
       "      <th>3886</th>\n",
       "      <td>839</td>\n",
       "      <td>6</td>\n",
       "      <td>-0.461495</td>\n",
       "      <td>-0.701132</td>\n",
       "      <td>1.200280</td>\n",
       "      <td>0.000000e+00</td>\n",
       "      <td>1</td>\n",
       "      <td>1.464662</td>\n",
       "    </tr>\n",
       "    <tr>\n",
       "      <th>3887</th>\n",
       "      <td>839</td>\n",
       "      <td>6</td>\n",
       "      <td>-0.939628</td>\n",
       "      <td>0.200133</td>\n",
       "      <td>-0.510572</td>\n",
       "      <td>2.175610e-13</td>\n",
       "      <td>3</td>\n",
       "      <td>1.087951</td>\n",
       "    </tr>\n",
       "    <tr>\n",
       "      <th>3888</th>\n",
       "      <td>839</td>\n",
       "      <td>6</td>\n",
       "      <td>0.021195</td>\n",
       "      <td>-0.022699</td>\n",
       "      <td>-0.006839</td>\n",
       "      <td>0.000000e+00</td>\n",
       "      <td>1</td>\n",
       "      <td>0.031800</td>\n",
       "    </tr>\n",
       "    <tr>\n",
       "      <th>3889</th>\n",
       "      <td>839</td>\n",
       "      <td>6</td>\n",
       "      <td>-0.570739</td>\n",
       "      <td>-0.193448</td>\n",
       "      <td>0.010718</td>\n",
       "      <td>4.486090e-12</td>\n",
       "      <td>1</td>\n",
       "      <td>0.602727</td>\n",
       "    </tr>\n",
       "    <tr>\n",
       "      <th>4282</th>\n",
       "      <td>927</td>\n",
       "      <td>6</td>\n",
       "      <td>-0.009520</td>\n",
       "      <td>-0.030046</td>\n",
       "      <td>0.006421</td>\n",
       "      <td>0.000000e+00</td>\n",
       "      <td>1</td>\n",
       "      <td>0.032165</td>\n",
       "    </tr>\n",
       "    <tr>\n",
       "      <th>4283</th>\n",
       "      <td>927</td>\n",
       "      <td>6</td>\n",
       "      <td>0.000146</td>\n",
       "      <td>-0.031130</td>\n",
       "      <td>0.008095</td>\n",
       "      <td>0.000000e+00</td>\n",
       "      <td>1</td>\n",
       "      <td>0.032165</td>\n",
       "    </tr>\n",
       "    <tr>\n",
       "      <th>4284</th>\n",
       "      <td>927</td>\n",
       "      <td>6</td>\n",
       "      <td>0.896054</td>\n",
       "      <td>1.130510</td>\n",
       "      <td>-0.253507</td>\n",
       "      <td>0.000000e+00</td>\n",
       "      <td>1</td>\n",
       "      <td>1.464661</td>\n",
       "    </tr>\n",
       "    <tr>\n",
       "      <th>4285</th>\n",
       "      <td>927</td>\n",
       "      <td>6</td>\n",
       "      <td>0.270423</td>\n",
       "      <td>-0.543834</td>\n",
       "      <td>-0.391829</td>\n",
       "      <td>1.830030e-13</td>\n",
       "      <td>1</td>\n",
       "      <td>0.722782</td>\n",
       "    </tr>\n",
       "    <tr>\n",
       "      <th>4286</th>\n",
       "      <td>927</td>\n",
       "      <td>6</td>\n",
       "      <td>-0.234939</td>\n",
       "      <td>0.722312</td>\n",
       "      <td>0.576639</td>\n",
       "      <td>2.895520e-11</td>\n",
       "      <td>3</td>\n",
       "      <td>0.953647</td>\n",
       "    </tr>\n",
       "    <tr>\n",
       "      <th>4287</th>\n",
       "      <td>927</td>\n",
       "      <td>6</td>\n",
       "      <td>0.003700</td>\n",
       "      <td>0.002502</td>\n",
       "      <td>-0.031485</td>\n",
       "      <td>0.000000e+00</td>\n",
       "      <td>1</td>\n",
       "      <td>0.031800</td>\n",
       "    </tr>\n",
       "  </tbody>\n",
       "</table>\n",
       "</div>"
      ],
      "text/plain": [
       "      event  n        px        py        pz             t  ptype      ptot\n",
       "1508    328  6  0.026698  0.008610 -0.015737  0.000000e+00      1  0.032165\n",
       "1509    328  6  0.031710 -0.000422  0.005374  0.000000e+00      1  0.032165\n",
       "1510    328  6 -0.427764 -1.344890 -0.391801  0.000000e+00      1  1.464657\n",
       "1511    328  6 -0.651363 -0.641742 -0.589518  4.520900e-13      3  1.087951\n",
       "1512    328  6  0.011672 -0.026046 -0.014022  0.000000e+00      1  0.031800\n",
       "1513    328  6  0.602309 -0.016543  0.015178  4.095650e-12      1  0.602727\n",
       "1575    342  6  0.017806  0.025069  0.009438  0.000000e+00      1  0.032165\n",
       "1576    342  6  0.006367  0.008594  0.030335  0.000000e+00      1  0.032165\n",
       "1577    342  6  0.162634 -0.903946 -1.140900  0.000000e+00      1  1.464657\n",
       "1578    342  6 -0.320079  0.519106 -0.387934  5.402740e-13      1  0.722782\n",
       "1579    342  6 -0.415494  0.803882 -0.300969  2.110820e-12      3  0.953648\n",
       "1580    342  6 -0.025409  0.015476  0.011232  0.000000e+00      1  0.031800\n",
       "2999    648  6 -0.003545  0.007191  0.031150  0.000000e+00      1  0.032165\n",
       "3000    648  6 -0.024982  0.018274 -0.008750  0.000000e+00      1  0.032165\n",
       "3001    648  6 -0.857382 -0.533377  1.060960  0.000000e+00      1  1.464661\n",
       "3002    648  6 -0.696063  0.766284 -0.334579  3.480770e-12      3  1.087951\n",
       "3003    648  6 -0.029739 -0.007176 -0.008679  0.000000e+00      1  0.031800\n",
       "3004    648  6 -0.216843 -0.529104 -0.190546  1.445470e-11      1  0.602727\n",
       "3884    839  6 -0.008950  0.014893 -0.027068  0.000000e+00      1  0.032165\n",
       "3885    839  6  0.024445  0.013349 -0.016088  0.000000e+00      1  0.032165\n",
       "3886    839  6 -0.461495 -0.701132  1.200280  0.000000e+00      1  1.464662\n",
       "3887    839  6 -0.939628  0.200133 -0.510572  2.175610e-13      3  1.087951\n",
       "3888    839  6  0.021195 -0.022699 -0.006839  0.000000e+00      1  0.031800\n",
       "3889    839  6 -0.570739 -0.193448  0.010718  4.486090e-12      1  0.602727\n",
       "4282    927  6 -0.009520 -0.030046  0.006421  0.000000e+00      1  0.032165\n",
       "4283    927  6  0.000146 -0.031130  0.008095  0.000000e+00      1  0.032165\n",
       "4284    927  6  0.896054  1.130510 -0.253507  0.000000e+00      1  1.464661\n",
       "4285    927  6  0.270423 -0.543834 -0.391829  1.830030e-13      1  0.722782\n",
       "4286    927  6 -0.234939  0.722312  0.576639  2.895520e-11      3  0.953647\n",
       "4287    927  6  0.003700  0.002502 -0.031485  0.000000e+00      1  0.031800"
      ]
     },
     "execution_count": 7,
     "metadata": {},
     "output_type": "execute_result"
    }
   ],
   "source": [
    "df_sub=df[df.n>=6]\n",
    "print('Number of events containing a conversion electron:', len(np.unique(df_sub.event)))\n",
    "print('Fraction of events containing a conversion electron:', len(np.unique(df_sub.event))/len(np.unique(df.event))*100,'%')\n",
    "\n",
    "df_sub.head(30)\n"
   ]
  },
  {
   "cell_type": "markdown",
   "metadata": {},
   "source": [
    "## 3. Check out angular correlations"
   ]
  },
  {
   "cell_type": "code",
   "execution_count": 8,
   "metadata": {
    "collapsed": false,
    "jupyter": {
     "outputs_hidden": false
    }
   },
   "outputs": [],
   "source": [
    "def vangle(v1,v2):\n",
    "    'Returns cos(theta) of the angle theta between two vectors.'\n",
    "    enumerator=np.sum(np.multiply(v1,v2))\n",
    "    denominator=np.multiply(np.sqrt(np.sum(np.power(v1,2))),np.sqrt(np.sum(np.power(v2,2))))\n",
    "    costheta=enumerator/denominator\n",
    "    return costheta\n",
    "\n",
    "def wtheta(a2,a4,costheta):\n",
    "    return np.add(1+(a2/2)*(3*np.power(costheta,2)-1),(a4/8)*(35*np.power(costheta,4)-30*np.power(costheta,2)+3))"
   ]
  },
  {
   "cell_type": "code",
   "execution_count": 9,
   "metadata": {
    "collapsed": false,
    "jupyter": {
     "outputs_hidden": false
    }
   },
   "outputs": [
    {
     "name": "stdout",
     "output_type": "stream",
     "text": [
      "1.0\n",
      "0.0\n"
     ]
    }
   ],
   "source": [
    "print(vangle((1,0,0),(1,0,0)))\n",
    "print(vangle((0,1,0),(1,0,0)))"
   ]
  },
  {
   "cell_type": "markdown",
   "metadata": {},
   "source": [
    "### 3.1 Transitions with two $\\gamma$-rays (0+ $\\rightarrow$ 2+ $\\rightarrow$ 0+)"
   ]
  },
  {
   "cell_type": "code",
   "execution_count": 10,
   "metadata": {
    "collapsed": false,
    "jupyter": {
     "outputs_hidden": false
    }
   },
   "outputs": [
    {
     "data": {
      "text/html": [
       "<div>\n",
       "<style scoped>\n",
       "    .dataframe tbody tr th:only-of-type {\n",
       "        vertical-align: middle;\n",
       "    }\n",
       "\n",
       "    .dataframe tbody tr th {\n",
       "        vertical-align: top;\n",
       "    }\n",
       "\n",
       "    .dataframe thead th {\n",
       "        text-align: right;\n",
       "    }\n",
       "</style>\n",
       "<table border=\"1\" class=\"dataframe\">\n",
       "  <thead>\n",
       "    <tr style=\"text-align: right;\">\n",
       "      <th></th>\n",
       "      <th>event</th>\n",
       "      <th>n</th>\n",
       "      <th>px</th>\n",
       "      <th>py</th>\n",
       "      <th>pz</th>\n",
       "      <th>t</th>\n",
       "      <th>ptype</th>\n",
       "      <th>ptot</th>\n",
       "    </tr>\n",
       "  </thead>\n",
       "  <tbody>\n",
       "    <tr>\n",
       "      <th>5</th>\n",
       "      <td>2</td>\n",
       "      <td>4</td>\n",
       "      <td>0.017686</td>\n",
       "      <td>0.015753</td>\n",
       "      <td>0.021763</td>\n",
       "      <td>0.000000e+00</td>\n",
       "      <td>1</td>\n",
       "      <td>0.032165</td>\n",
       "    </tr>\n",
       "    <tr>\n",
       "      <th>6</th>\n",
       "      <td>2</td>\n",
       "      <td>4</td>\n",
       "      <td>-0.017208</td>\n",
       "      <td>0.021115</td>\n",
       "      <td>-0.017106</td>\n",
       "      <td>0.000000e+00</td>\n",
       "      <td>1</td>\n",
       "      <td>0.032165</td>\n",
       "    </tr>\n",
       "    <tr>\n",
       "      <th>7</th>\n",
       "      <td>2</td>\n",
       "      <td>4</td>\n",
       "      <td>1.999220</td>\n",
       "      <td>-0.022687</td>\n",
       "      <td>0.888781</td>\n",
       "      <td>0.000000e+00</td>\n",
       "      <td>1</td>\n",
       "      <td>2.187996</td>\n",
       "    </tr>\n",
       "    <tr>\n",
       "      <th>8</th>\n",
       "      <td>2</td>\n",
       "      <td>4</td>\n",
       "      <td>-0.561456</td>\n",
       "      <td>-0.105458</td>\n",
       "      <td>0.192162</td>\n",
       "      <td>1.422340e-11</td>\n",
       "      <td>1</td>\n",
       "      <td>0.602728</td>\n",
       "    </tr>\n",
       "    <tr>\n",
       "      <th>24</th>\n",
       "      <td>6</td>\n",
       "      <td>4</td>\n",
       "      <td>-0.002000</td>\n",
       "      <td>-0.028280</td>\n",
       "      <td>-0.015194</td>\n",
       "      <td>0.000000e+00</td>\n",
       "      <td>1</td>\n",
       "      <td>0.032165</td>\n",
       "    </tr>\n",
       "  </tbody>\n",
       "</table>\n",
       "</div>"
      ],
      "text/plain": [
       "    event  n        px        py        pz             t  ptype      ptot\n",
       "5       2  4  0.017686  0.015753  0.021763  0.000000e+00      1  0.032165\n",
       "6       2  4 -0.017208  0.021115 -0.017106  0.000000e+00      1  0.032165\n",
       "7       2  4  1.999220 -0.022687  0.888781  0.000000e+00      1  2.187996\n",
       "8       2  4 -0.561456 -0.105458  0.192162  1.422340e-11      1  0.602728\n",
       "24      6  4 -0.002000 -0.028280 -0.015194  0.000000e+00      1  0.032165"
      ]
     },
     "execution_count": 10,
     "metadata": {},
     "output_type": "execute_result"
    }
   ],
   "source": [
    "df020=df[df.n==4]\n",
    "df020.head()"
   ]
  },
  {
   "cell_type": "code",
   "execution_count": 11,
   "metadata": {
    "collapsed": false,
    "jupyter": {
     "outputs_hidden": false
    }
   },
   "outputs": [],
   "source": [
    "#df020 = df020.groupby('event')\n",
    "#df_test=df020.agg({'px': lambda x: x.iloc[-2]})\n",
    "#df_test"
   ]
  },
  {
   "cell_type": "code",
   "execution_count": 12,
   "metadata": {
    "collapsed": false,
    "jupyter": {
     "outputs_hidden": false
    }
   },
   "outputs": [
    {
     "name": "stderr",
     "output_type": "stream",
     "text": [
      "<ipython-input-12-4aa8e96c015e>:1: NumbaWarning: \u001b[1m\n",
      "Compilation is falling back to object mode WITH looplifting enabled because Function \"iterate_df_angles\" failed type inference due to: \u001b[1mUntyped global name 'tqdm_notebook':\u001b[0m \u001b[1m\u001b[1mcannot determine Numba type of <class 'function'>\u001b[0m\n",
      "\u001b[1m\n",
      "File \"<ipython-input-12-4aa8e96c015e>\", line 6:\u001b[0m\n",
      "\u001b[1mdef iterate_df_angles(dataframe,ngammas,igamma1,igamma2,egreater=0,esmaller=np.inf):\n",
      "    <source elided>\n",
      "    angles=[]\n",
      "\u001b[1m    for i in tqdm_notebook(data.event):\n",
      "\u001b[0m    \u001b[1m^\u001b[0m\u001b[0m\n",
      "\u001b[0m\u001b[0m\n",
      "  @numba.jit\n",
      "<ipython-input-12-4aa8e96c015e>:1: NumbaWarning: \u001b[1m\n",
      "Compilation is falling back to object mode WITHOUT looplifting enabled because Function \"iterate_df_angles\" failed type inference due to: \u001b[1m\u001b[1mcannot determine Numba type of <class 'numba.dispatcher.LiftedLoop'>\u001b[0m\n",
      "\u001b[1m\n",
      "File \"<ipython-input-12-4aa8e96c015e>\", line 6:\u001b[0m\n",
      "\u001b[1mdef iterate_df_angles(dataframe,ngammas,igamma1,igamma2,egreater=0,esmaller=np.inf):\n",
      "    <source elided>\n",
      "    angles=[]\n",
      "\u001b[1m    for i in tqdm_notebook(data.event):\n",
      "\u001b[0m    \u001b[1m^\u001b[0m\u001b[0m\n",
      "\u001b[0m\u001b[0m\n",
      "  @numba.jit\n",
      "/Applications/anaconda3/lib/python3.7/site-packages/numba/object_mode_passes.py:178: NumbaWarning: \u001b[1mFunction \"iterate_df_angles\" was compiled in object mode without forceobj=True, but has lifted loops.\n",
      "\u001b[1m\n",
      "File \"<ipython-input-12-4aa8e96c015e>\", line 4:\u001b[0m\n",
      "\u001b[1mdef iterate_df_angles(dataframe,ngammas,igamma1,igamma2,egreater=0,esmaller=np.inf):\n",
      "    <source elided>\n",
      "    # Cut dataframe\n",
      "\u001b[1m    data=dataframe[dataframe.n==int(ngammas+2)]\n",
      "\u001b[0m    \u001b[1m^\u001b[0m\u001b[0m\n",
      "\u001b[0m\n",
      "  state.func_ir.loc))\n",
      "/Applications/anaconda3/lib/python3.7/site-packages/numba/object_mode_passes.py:188: NumbaDeprecationWarning: \u001b[1m\n",
      "Fall-back from the nopython compilation path to the object mode compilation path has been detected, this is deprecated behaviour.\n",
      "\n",
      "For more information visit http://numba.pydata.org/numba-doc/latest/reference/deprecation.html#deprecation-of-object-mode-fall-back-behaviour-when-using-jit\n",
      "\u001b[1m\n",
      "File \"<ipython-input-12-4aa8e96c015e>\", line 4:\u001b[0m\n",
      "\u001b[1mdef iterate_df_angles(dataframe,ngammas,igamma1,igamma2,egreater=0,esmaller=np.inf):\n",
      "    <source elided>\n",
      "    # Cut dataframe\n",
      "\u001b[1m    data=dataframe[dataframe.n==int(ngammas+2)]\n",
      "\u001b[0m    \u001b[1m^\u001b[0m\u001b[0m\n",
      "\u001b[0m\n",
      "  state.func_ir.loc))\n",
      "<ipython-input-12-4aa8e96c015e>:1: NumbaWarning: \u001b[1m\n",
      "Compilation is falling back to object mode WITHOUT looplifting enabled because Function \"iterate_df_angles\" failed type inference due to: \u001b[1mUntyped global name 'tqdm_notebook':\u001b[0m \u001b[1m\u001b[1mcannot determine Numba type of <class 'function'>\u001b[0m\n",
      "\u001b[1m\n",
      "File \"<ipython-input-12-4aa8e96c015e>\", line 6:\u001b[0m\n",
      "\u001b[1mdef iterate_df_angles(dataframe,ngammas,igamma1,igamma2,egreater=0,esmaller=np.inf):\n",
      "    <source elided>\n",
      "    angles=[]\n",
      "\u001b[1m    for i in tqdm_notebook(data.event):\n",
      "\u001b[0m    \u001b[1m^\u001b[0m\u001b[0m\n",
      "\u001b[0m\u001b[0m\n",
      "  @numba.jit\n",
      "/Applications/anaconda3/lib/python3.7/site-packages/numba/object_mode_passes.py:178: NumbaWarning: \u001b[1mFunction \"iterate_df_angles\" was compiled in object mode without forceobj=True.\n",
      "\u001b[1m\n",
      "File \"<ipython-input-12-4aa8e96c015e>\", line 6:\u001b[0m\n",
      "\u001b[1mdef iterate_df_angles(dataframe,ngammas,igamma1,igamma2,egreater=0,esmaller=np.inf):\n",
      "    <source elided>\n",
      "    angles=[]\n",
      "\u001b[1m    for i in tqdm_notebook(data.event):\n",
      "\u001b[0m    \u001b[1m^\u001b[0m\u001b[0m\n",
      "\u001b[0m\n",
      "  state.func_ir.loc))\n",
      "/Applications/anaconda3/lib/python3.7/site-packages/numba/object_mode_passes.py:188: NumbaDeprecationWarning: \u001b[1m\n",
      "Fall-back from the nopython compilation path to the object mode compilation path has been detected, this is deprecated behaviour.\n",
      "\n",
      "For more information visit http://numba.pydata.org/numba-doc/latest/reference/deprecation.html#deprecation-of-object-mode-fall-back-behaviour-when-using-jit\n",
      "\u001b[1m\n",
      "File \"<ipython-input-12-4aa8e96c015e>\", line 6:\u001b[0m\n",
      "\u001b[1mdef iterate_df_angles(dataframe,ngammas,igamma1,igamma2,egreater=0,esmaller=np.inf):\n",
      "    <source elided>\n",
      "    angles=[]\n",
      "\u001b[1m    for i in tqdm_notebook(data.event):\n",
      "\u001b[0m    \u001b[1m^\u001b[0m\u001b[0m\n",
      "\u001b[0m\n",
      "  state.func_ir.loc))\n",
      "/Applications/anaconda3/lib/python3.7/site-packages/ipykernel_launcher.py:17: TqdmDeprecationWarning: This function will be removed in tqdm==5.0.0\n",
      "Please use `tqdm.notebook.tqdm` instead of `tqdm.tqdm_notebook`\n"
     ]
    },
    {
     "data": {
      "application/vnd.jupyter.widget-view+json": {
       "model_id": "c103e1ff254046639ce0d618e9070641",
       "version_major": 2,
       "version_minor": 0
      },
      "text/plain": [
       "HBox(children=(FloatProgress(value=0.0, max=155596.0), HTML(value='')))"
      ]
     },
     "metadata": {},
     "output_type": "display_data"
    },
    {
     "ename": "KeyboardInterrupt",
     "evalue": "",
     "output_type": "error",
     "traceback": [
      "\u001b[0;31m---------------------------------------------------------------------------\u001b[0m",
      "\u001b[0;31mKeyboardInterrupt\u001b[0m                         Traceback (most recent call last)",
      "\u001b[0;32m<ipython-input-12-4aa8e96c015e>\u001b[0m in \u001b[0;36m<module>\u001b[0;34m\u001b[0m\n\u001b[1;32m     15\u001b[0m     \u001b[0;32mreturn\u001b[0m \u001b[0mangles\u001b[0m\u001b[0;34m\u001b[0m\u001b[0;34m\u001b[0m\u001b[0m\n\u001b[1;32m     16\u001b[0m \u001b[0;34m\u001b[0m\u001b[0m\n\u001b[0;32m---> 17\u001b[0;31m \u001b[0mangles\u001b[0m\u001b[0;34m=\u001b[0m\u001b[0miterate_df_angles\u001b[0m\u001b[0;34m(\u001b[0m\u001b[0mdataframe\u001b[0m\u001b[0;34m=\u001b[0m\u001b[0mdf020\u001b[0m\u001b[0;34m,\u001b[0m\u001b[0mngammas\u001b[0m\u001b[0;34m=\u001b[0m\u001b[0;36m2\u001b[0m\u001b[0;34m,\u001b[0m\u001b[0migamma1\u001b[0m\u001b[0;34m=\u001b[0m\u001b[0;36m1\u001b[0m\u001b[0;34m,\u001b[0m\u001b[0migamma2\u001b[0m\u001b[0;34m=\u001b[0m\u001b[0;36m2\u001b[0m\u001b[0;34m,\u001b[0m\u001b[0megreater\u001b[0m\u001b[0;34m=\u001b[0m\u001b[0;36m0\u001b[0m\u001b[0;34m,\u001b[0m\u001b[0mesmaller\u001b[0m\u001b[0;34m=\u001b[0m\u001b[0mnp\u001b[0m\u001b[0;34m.\u001b[0m\u001b[0minf\u001b[0m\u001b[0;34m)\u001b[0m\u001b[0;34m\u001b[0m\u001b[0;34m\u001b[0m\u001b[0m\n\u001b[0m",
      "\u001b[0;32m/Applications/anaconda3/lib/python3.7/site-packages/pandas/core/frame.py\u001b[0m in \u001b[0;36m__getitem__\u001b[0;34m(self, key)\u001b[0m\n\u001b[1;32m   2789\u001b[0m         \u001b[0;31m# Do we have a (boolean) 1d indexer?\u001b[0m\u001b[0;34m\u001b[0m\u001b[0;34m\u001b[0m\u001b[0;34m\u001b[0m\u001b[0m\n\u001b[1;32m   2790\u001b[0m         \u001b[0;32mif\u001b[0m \u001b[0mcom\u001b[0m\u001b[0;34m.\u001b[0m\u001b[0mis_bool_indexer\u001b[0m\u001b[0;34m(\u001b[0m\u001b[0mkey\u001b[0m\u001b[0;34m)\u001b[0m\u001b[0;34m:\u001b[0m\u001b[0;34m\u001b[0m\u001b[0;34m\u001b[0m\u001b[0m\n\u001b[0;32m-> 2791\u001b[0;31m             \u001b[0;32mreturn\u001b[0m \u001b[0mself\u001b[0m\u001b[0;34m.\u001b[0m\u001b[0m_getitem_bool_array\u001b[0m\u001b[0;34m(\u001b[0m\u001b[0mkey\u001b[0m\u001b[0;34m)\u001b[0m\u001b[0;34m\u001b[0m\u001b[0;34m\u001b[0m\u001b[0m\n\u001b[0m\u001b[1;32m   2792\u001b[0m \u001b[0;34m\u001b[0m\u001b[0m\n\u001b[1;32m   2793\u001b[0m         \u001b[0;31m# We are left with two options: a single key, and a collection of keys,\u001b[0m\u001b[0;34m\u001b[0m\u001b[0;34m\u001b[0m\u001b[0;34m\u001b[0m\u001b[0m\n",
      "\u001b[0;32m/Applications/anaconda3/lib/python3.7/site-packages/pandas/core/frame.py\u001b[0m in \u001b[0;36m_getitem_bool_array\u001b[0;34m(self, key)\u001b[0m\n\u001b[1;32m   2843\u001b[0m         \u001b[0mkey\u001b[0m \u001b[0;34m=\u001b[0m \u001b[0mcheck_bool_indexer\u001b[0m\u001b[0;34m(\u001b[0m\u001b[0mself\u001b[0m\u001b[0;34m.\u001b[0m\u001b[0mindex\u001b[0m\u001b[0;34m,\u001b[0m \u001b[0mkey\u001b[0m\u001b[0;34m)\u001b[0m\u001b[0;34m\u001b[0m\u001b[0;34m\u001b[0m\u001b[0m\n\u001b[1;32m   2844\u001b[0m         \u001b[0mindexer\u001b[0m \u001b[0;34m=\u001b[0m \u001b[0mkey\u001b[0m\u001b[0;34m.\u001b[0m\u001b[0mnonzero\u001b[0m\u001b[0;34m(\u001b[0m\u001b[0;34m)\u001b[0m\u001b[0;34m[\u001b[0m\u001b[0;36m0\u001b[0m\u001b[0;34m]\u001b[0m\u001b[0;34m\u001b[0m\u001b[0;34m\u001b[0m\u001b[0m\n\u001b[0;32m-> 2845\u001b[0;31m         \u001b[0;32mreturn\u001b[0m \u001b[0mself\u001b[0m\u001b[0;34m.\u001b[0m\u001b[0m_take_with_is_copy\u001b[0m\u001b[0;34m(\u001b[0m\u001b[0mindexer\u001b[0m\u001b[0;34m,\u001b[0m \u001b[0maxis\u001b[0m\u001b[0;34m=\u001b[0m\u001b[0;36m0\u001b[0m\u001b[0;34m)\u001b[0m\u001b[0;34m\u001b[0m\u001b[0;34m\u001b[0m\u001b[0m\n\u001b[0m\u001b[1;32m   2846\u001b[0m \u001b[0;34m\u001b[0m\u001b[0m\n\u001b[1;32m   2847\u001b[0m     \u001b[0;32mdef\u001b[0m \u001b[0m_getitem_multilevel\u001b[0m\u001b[0;34m(\u001b[0m\u001b[0mself\u001b[0m\u001b[0;34m,\u001b[0m \u001b[0mkey\u001b[0m\u001b[0;34m)\u001b[0m\u001b[0;34m:\u001b[0m\u001b[0;34m\u001b[0m\u001b[0;34m\u001b[0m\u001b[0m\n",
      "\u001b[0;32m/Applications/anaconda3/lib/python3.7/site-packages/pandas/core/generic.py\u001b[0m in \u001b[0;36m_take_with_is_copy\u001b[0;34m(self, indices, axis, **kwargs)\u001b[0m\n\u001b[1;32m   3407\u001b[0m         \u001b[0mSee\u001b[0m \u001b[0mthe\u001b[0m \u001b[0mdocstring\u001b[0m \u001b[0mof\u001b[0m\u001b[0;31m \u001b[0m\u001b[0;31m`\u001b[0m\u001b[0mtake\u001b[0m\u001b[0;31m`\u001b[0m \u001b[0;32mfor\u001b[0m \u001b[0mfull\u001b[0m \u001b[0mexplanation\u001b[0m \u001b[0mof\u001b[0m \u001b[0mthe\u001b[0m \u001b[0mparameters\u001b[0m\u001b[0;34m.\u001b[0m\u001b[0;34m\u001b[0m\u001b[0;34m\u001b[0m\u001b[0m\n\u001b[1;32m   3408\u001b[0m         \"\"\"\n\u001b[0;32m-> 3409\u001b[0;31m         \u001b[0mresult\u001b[0m \u001b[0;34m=\u001b[0m \u001b[0mself\u001b[0m\u001b[0;34m.\u001b[0m\u001b[0mtake\u001b[0m\u001b[0;34m(\u001b[0m\u001b[0mindices\u001b[0m\u001b[0;34m=\u001b[0m\u001b[0mindices\u001b[0m\u001b[0;34m,\u001b[0m \u001b[0maxis\u001b[0m\u001b[0;34m=\u001b[0m\u001b[0maxis\u001b[0m\u001b[0;34m,\u001b[0m \u001b[0;34m**\u001b[0m\u001b[0mkwargs\u001b[0m\u001b[0;34m)\u001b[0m\u001b[0;34m\u001b[0m\u001b[0;34m\u001b[0m\u001b[0m\n\u001b[0m\u001b[1;32m   3410\u001b[0m         \u001b[0;31m# Maybe set copy if we didn't actually change the index.\u001b[0m\u001b[0;34m\u001b[0m\u001b[0;34m\u001b[0m\u001b[0;34m\u001b[0m\u001b[0m\n\u001b[1;32m   3411\u001b[0m         \u001b[0;32mif\u001b[0m \u001b[0;32mnot\u001b[0m \u001b[0mresult\u001b[0m\u001b[0;34m.\u001b[0m\u001b[0m_get_axis\u001b[0m\u001b[0;34m(\u001b[0m\u001b[0maxis\u001b[0m\u001b[0;34m)\u001b[0m\u001b[0;34m.\u001b[0m\u001b[0mequals\u001b[0m\u001b[0;34m(\u001b[0m\u001b[0mself\u001b[0m\u001b[0;34m.\u001b[0m\u001b[0m_get_axis\u001b[0m\u001b[0;34m(\u001b[0m\u001b[0maxis\u001b[0m\u001b[0;34m)\u001b[0m\u001b[0;34m)\u001b[0m\u001b[0;34m:\u001b[0m\u001b[0;34m\u001b[0m\u001b[0;34m\u001b[0m\u001b[0m\n",
      "\u001b[0;32m/Applications/anaconda3/lib/python3.7/site-packages/pandas/core/generic.py\u001b[0m in \u001b[0;36mtake\u001b[0;34m(self, indices, axis, is_copy, **kwargs)\u001b[0m\n\u001b[1;32m   3393\u001b[0m \u001b[0;34m\u001b[0m\u001b[0m\n\u001b[1;32m   3394\u001b[0m         new_data = self._data.take(\n\u001b[0;32m-> 3395\u001b[0;31m             \u001b[0mindices\u001b[0m\u001b[0;34m,\u001b[0m \u001b[0maxis\u001b[0m\u001b[0;34m=\u001b[0m\u001b[0mself\u001b[0m\u001b[0;34m.\u001b[0m\u001b[0m_get_block_manager_axis\u001b[0m\u001b[0;34m(\u001b[0m\u001b[0maxis\u001b[0m\u001b[0;34m)\u001b[0m\u001b[0;34m,\u001b[0m \u001b[0mverify\u001b[0m\u001b[0;34m=\u001b[0m\u001b[0;32mTrue\u001b[0m\u001b[0;34m\u001b[0m\u001b[0;34m\u001b[0m\u001b[0m\n\u001b[0m\u001b[1;32m   3396\u001b[0m         )\n\u001b[1;32m   3397\u001b[0m         \u001b[0;32mreturn\u001b[0m \u001b[0mself\u001b[0m\u001b[0;34m.\u001b[0m\u001b[0m_constructor\u001b[0m\u001b[0;34m(\u001b[0m\u001b[0mnew_data\u001b[0m\u001b[0;34m)\u001b[0m\u001b[0;34m.\u001b[0m\u001b[0m__finalize__\u001b[0m\u001b[0;34m(\u001b[0m\u001b[0mself\u001b[0m\u001b[0;34m)\u001b[0m\u001b[0;34m\u001b[0m\u001b[0;34m\u001b[0m\u001b[0m\n",
      "\u001b[0;32m/Applications/anaconda3/lib/python3.7/site-packages/pandas/core/internals/managers.py\u001b[0m in \u001b[0;36mtake\u001b[0;34m(self, indexer, axis, verify, convert)\u001b[0m\n\u001b[1;32m   1390\u001b[0m                 \u001b[0;32mraise\u001b[0m \u001b[0mException\u001b[0m\u001b[0;34m(\u001b[0m\u001b[0;34m\"Indices must be nonzero and less than the axis length\"\u001b[0m\u001b[0;34m)\u001b[0m\u001b[0;34m\u001b[0m\u001b[0;34m\u001b[0m\u001b[0m\n\u001b[1;32m   1391\u001b[0m \u001b[0;34m\u001b[0m\u001b[0m\n\u001b[0;32m-> 1392\u001b[0;31m         \u001b[0mnew_labels\u001b[0m \u001b[0;34m=\u001b[0m \u001b[0mself\u001b[0m\u001b[0;34m.\u001b[0m\u001b[0maxes\u001b[0m\u001b[0;34m[\u001b[0m\u001b[0maxis\u001b[0m\u001b[0;34m]\u001b[0m\u001b[0;34m.\u001b[0m\u001b[0mtake\u001b[0m\u001b[0;34m(\u001b[0m\u001b[0mindexer\u001b[0m\u001b[0;34m)\u001b[0m\u001b[0;34m\u001b[0m\u001b[0;34m\u001b[0m\u001b[0m\n\u001b[0m\u001b[1;32m   1393\u001b[0m         return self.reindex_indexer(\n\u001b[1;32m   1394\u001b[0m             \u001b[0mnew_axis\u001b[0m\u001b[0;34m=\u001b[0m\u001b[0mnew_labels\u001b[0m\u001b[0;34m,\u001b[0m \u001b[0mindexer\u001b[0m\u001b[0;34m=\u001b[0m\u001b[0mindexer\u001b[0m\u001b[0;34m,\u001b[0m \u001b[0maxis\u001b[0m\u001b[0;34m=\u001b[0m\u001b[0maxis\u001b[0m\u001b[0;34m,\u001b[0m \u001b[0mallow_dups\u001b[0m\u001b[0;34m=\u001b[0m\u001b[0;32mTrue\u001b[0m\u001b[0;34m\u001b[0m\u001b[0;34m\u001b[0m\u001b[0m\n",
      "\u001b[0;32m/Applications/anaconda3/lib/python3.7/site-packages/pandas/core/indexes/base.py\u001b[0m in \u001b[0;36mtake\u001b[0;34m(self, indices, axis, allow_fill, fill_value, **kwargs)\u001b[0m\n\u001b[1;32m    762\u001b[0m                 )\n\u001b[1;32m    763\u001b[0m             \u001b[0mtaken\u001b[0m \u001b[0;34m=\u001b[0m \u001b[0mself\u001b[0m\u001b[0;34m.\u001b[0m\u001b[0mvalues\u001b[0m\u001b[0;34m.\u001b[0m\u001b[0mtake\u001b[0m\u001b[0;34m(\u001b[0m\u001b[0mindices\u001b[0m\u001b[0;34m)\u001b[0m\u001b[0;34m\u001b[0m\u001b[0;34m\u001b[0m\u001b[0m\n\u001b[0;32m--> 764\u001b[0;31m         \u001b[0;32mreturn\u001b[0m \u001b[0mself\u001b[0m\u001b[0;34m.\u001b[0m\u001b[0m_shallow_copy\u001b[0m\u001b[0;34m(\u001b[0m\u001b[0mtaken\u001b[0m\u001b[0;34m)\u001b[0m\u001b[0;34m\u001b[0m\u001b[0;34m\u001b[0m\u001b[0m\n\u001b[0m\u001b[1;32m    765\u001b[0m \u001b[0;34m\u001b[0m\u001b[0m\n\u001b[1;32m    766\u001b[0m     def _assert_take_fillable(\n",
      "\u001b[0;32m/Applications/anaconda3/lib/python3.7/site-packages/pandas/core/indexes/numeric.py\u001b[0m in \u001b[0;36m_shallow_copy\u001b[0;34m(self, values, **kwargs)\u001b[0m\n\u001b[1;32m    109\u001b[0m         \u001b[0;32mif\u001b[0m \u001b[0mvalues\u001b[0m \u001b[0;32mis\u001b[0m \u001b[0;32mnot\u001b[0m \u001b[0;32mNone\u001b[0m \u001b[0;32mand\u001b[0m \u001b[0;32mnot\u001b[0m \u001b[0mself\u001b[0m\u001b[0;34m.\u001b[0m\u001b[0m_can_hold_na\u001b[0m\u001b[0;34m:\u001b[0m\u001b[0;34m\u001b[0m\u001b[0;34m\u001b[0m\u001b[0m\n\u001b[1;32m    110\u001b[0m             \u001b[0;31m# Ensure we are not returning an Int64Index with float data:\u001b[0m\u001b[0;34m\u001b[0m\u001b[0;34m\u001b[0m\u001b[0;34m\u001b[0m\u001b[0m\n\u001b[0;32m--> 111\u001b[0;31m             \u001b[0;32mreturn\u001b[0m \u001b[0mself\u001b[0m\u001b[0;34m.\u001b[0m\u001b[0m_shallow_copy_with_infer\u001b[0m\u001b[0;34m(\u001b[0m\u001b[0mvalues\u001b[0m\u001b[0;34m=\u001b[0m\u001b[0mvalues\u001b[0m\u001b[0;34m,\u001b[0m \u001b[0;34m**\u001b[0m\u001b[0mkwargs\u001b[0m\u001b[0;34m)\u001b[0m\u001b[0;34m\u001b[0m\u001b[0;34m\u001b[0m\u001b[0m\n\u001b[0m\u001b[1;32m    112\u001b[0m         \u001b[0;32mreturn\u001b[0m \u001b[0msuper\u001b[0m\u001b[0;34m(\u001b[0m\u001b[0;34m)\u001b[0m\u001b[0;34m.\u001b[0m\u001b[0m_shallow_copy\u001b[0m\u001b[0;34m(\u001b[0m\u001b[0mvalues\u001b[0m\u001b[0;34m=\u001b[0m\u001b[0mvalues\u001b[0m\u001b[0;34m,\u001b[0m \u001b[0;34m**\u001b[0m\u001b[0mkwargs\u001b[0m\u001b[0;34m)\u001b[0m\u001b[0;34m\u001b[0m\u001b[0;34m\u001b[0m\u001b[0m\n\u001b[1;32m    113\u001b[0m \u001b[0;34m\u001b[0m\u001b[0m\n",
      "\u001b[0;31mKeyboardInterrupt\u001b[0m: "
     ]
    }
   ],
   "source": [
    "@numba.jit\n",
    "def iterate_df_angles(dataframe,ngammas,igamma1,igamma2,egreater=0,esmaller=np.inf):\n",
    "    # Cut dataframe\n",
    "    data=dataframe[dataframe.n==int(ngammas+2)]\n",
    "    angles=[]\n",
    "    for i in tqdm_notebook(data.event):\n",
    "        dftemp=data[data.event==i]\n",
    "        #Get momentum of first gamma (second to last entry for 2 gammas)\n",
    "        p1=(dftemp.iloc[-int(ngammas-igamma1+1)]['px'], dftemp.iloc[-int(ngammas-igamma1+1)]['py'], dftemp.iloc[-int(ngammas-igamma1+1)]['pz'])\n",
    "        #Get momentum of first gamma (Last entry for 2 gammas)\n",
    "        p2=(dftemp.iloc[-int(ngammas-igamma2+1)]['px'], dftemp.iloc[-int(ngammas-igamma2+1)]['py'], dftemp.iloc[-int(ngammas-igamma2+1)]['pz'])\n",
    "        # Check if energy of first gamma is correct and append angle between momentum vectors to dataframe\n",
    "        if dftemp.iloc[-int(ngammas-igamma1+1)]['ptot']>egreater and dftemp.iloc[-int(ngammas-igamma1+1)]['ptot']<esmaller:\n",
    "            angles.append(vangle(p1,p2))\n",
    "    return angles\n",
    "\n",
    "angles=iterate_df_angles(dataframe=df020,ngammas=2,igamma1=1,igamma2=2,egreater=0,esmaller=np.inf)\n"
   ]
  },
  {
   "cell_type": "code",
   "execution_count": 13,
   "metadata": {
    "collapsed": false,
    "jupyter": {
     "outputs_hidden": false
    }
   },
   "outputs": [
    {
     "ename": "NameError",
     "evalue": "name 'angles' is not defined",
     "output_type": "error",
     "traceback": [
      "\u001b[0;31m---------------------------------------------------------------------------\u001b[0m",
      "\u001b[0;31mNameError\u001b[0m                                 Traceback (most recent call last)",
      "\u001b[0;32m<ipython-input-13-1ad37cbe44f2>\u001b[0m in \u001b[0;36m<module>\u001b[0;34m\u001b[0m\n\u001b[1;32m      8\u001b[0m \u001b[0mnbins\u001b[0m\u001b[0;34m=\u001b[0m\u001b[0;36m40\u001b[0m\u001b[0;34m\u001b[0m\u001b[0;34m\u001b[0m\u001b[0m\n\u001b[1;32m      9\u001b[0m \u001b[0mbinwidth\u001b[0m\u001b[0;34m=\u001b[0m\u001b[0;36m2\u001b[0m\u001b[0;34m/\u001b[0m\u001b[0mnbins\u001b[0m\u001b[0;34m\u001b[0m\u001b[0;34m\u001b[0m\u001b[0m\n\u001b[0;32m---> 10\u001b[0;31m \u001b[0mcounts\u001b[0m\u001b[0;34m,\u001b[0m \u001b[0medges\u001b[0m \u001b[0;34m=\u001b[0m \u001b[0mnp\u001b[0m\u001b[0;34m.\u001b[0m\u001b[0mhistogram\u001b[0m\u001b[0;34m(\u001b[0m\u001b[0mangles\u001b[0m\u001b[0;34m,\u001b[0m\u001b[0mbins\u001b[0m\u001b[0;34m=\u001b[0m\u001b[0mnbins\u001b[0m\u001b[0;34m,\u001b[0m\u001b[0mrange\u001b[0m\u001b[0;34m=\u001b[0m\u001b[0;34m(\u001b[0m\u001b[0;34m-\u001b[0m\u001b[0;36m1\u001b[0m\u001b[0;34m,\u001b[0m\u001b[0;36m1\u001b[0m\u001b[0;34m)\u001b[0m\u001b[0;34m)\u001b[0m\u001b[0;34m\u001b[0m\u001b[0;34m\u001b[0m\u001b[0m\n\u001b[0m\u001b[1;32m     11\u001b[0m \u001b[0mcenters\u001b[0m\u001b[0;34m=\u001b[0m\u001b[0medges\u001b[0m\u001b[0;34m[\u001b[0m\u001b[0;34m:\u001b[0m\u001b[0;34m-\u001b[0m\u001b[0;36m1\u001b[0m\u001b[0;34m]\u001b[0m\u001b[0;34m+\u001b[0m\u001b[0mbinwidth\u001b[0m\u001b[0;34m/\u001b[0m\u001b[0;36m2\u001b[0m\u001b[0;34m\u001b[0m\u001b[0;34m\u001b[0m\u001b[0m\n\u001b[1;32m     12\u001b[0m \u001b[0mnorm\u001b[0m\u001b[0;34m=\u001b[0m\u001b[0mnp\u001b[0m\u001b[0;34m.\u001b[0m\u001b[0msum\u001b[0m\u001b[0;34m(\u001b[0m\u001b[0mnp\u001b[0m\u001b[0;34m.\u001b[0m\u001b[0mmultiply\u001b[0m\u001b[0;34m(\u001b[0m\u001b[0mcounts\u001b[0m\u001b[0;34m,\u001b[0m\u001b[0mbinwidth\u001b[0m\u001b[0;34m)\u001b[0m\u001b[0;34m)\u001b[0m\u001b[0;34m\u001b[0m\u001b[0;34m\u001b[0m\u001b[0m\n",
      "\u001b[0;31mNameError\u001b[0m: name 'angles' is not defined"
     ]
    }
   ],
   "source": [
    "#Correlation formula normalization\n",
    "stepsize=0.001\n",
    "costet=np.arange(-1,1.01,stepsize)\n",
    "w=wtheta(0.3571,1.1429,costet)\n",
    "areaw=np.sum(w*stepsize)\n",
    "\n",
    "#Histogram normalization\n",
    "nbins=40\n",
    "binwidth=2/nbins\n",
    "counts, edges = np.histogram(angles,bins=nbins,range=(-1,1))\n",
    "centers=edges[:-1]+binwidth/2\n",
    "norm=np.sum(np.multiply(counts,binwidth))\n",
    "normed_counts=np.divide(counts,norm)\n",
    "normed_counts_err=np.divide(np.sqrt(counts),norm)\n",
    "\n",
    "plt.errorbar(centers,normed_counts,normed_counts_err, color='royalblue', marker='o', linestyle='', \n",
    "             ms=4, elinewidth=1, label='DECAY0')\n",
    "plt.plot(costet,w/areaw, linestyle='-', marker='', linewidth=2, color='orangered', label='Theory')\n",
    "plt.xlabel('cos($\\\\theta$)')\n",
    "plt.ylabel('$W(\\\\theta)_{\\\\rm{normed}}$')\n",
    "plt.legend()\n",
    "plt.xlim(-1,1)\n",
    "plt.show()"
   ]
  },
  {
   "cell_type": "markdown",
   "metadata": {},
   "source": [
    "### 3.2 Transitions with three $\\gamma$-rays (0+ $\\rightarrow$ 2+ $\\rightarrow$ 2+ $\\rightarrow$ 0+)\n",
    "\n",
    "#### 3.2.1 The 0+ $\\rightarrow$ 2+ $\\rightarrow$ 2+ transition with $E_1 = 1465$ keV, $E_2 = 723$ keV  and $\\delta_{2+\\rightarrow2+} = -3.4$"
   ]
  },
  {
   "cell_type": "code",
   "execution_count": 14,
   "metadata": {
    "collapsed": false,
    "jupyter": {
     "outputs_hidden": false
    }
   },
   "outputs": [
    {
     "data": {
      "text/html": [
       "<div>\n",
       "<style scoped>\n",
       "    .dataframe tbody tr th:only-of-type {\n",
       "        vertical-align: middle;\n",
       "    }\n",
       "\n",
       "    .dataframe tbody tr th {\n",
       "        vertical-align: top;\n",
       "    }\n",
       "\n",
       "    .dataframe thead th {\n",
       "        text-align: right;\n",
       "    }\n",
       "</style>\n",
       "<table border=\"1\" class=\"dataframe\">\n",
       "  <thead>\n",
       "    <tr style=\"text-align: right;\">\n",
       "      <th></th>\n",
       "      <th>event</th>\n",
       "      <th>n</th>\n",
       "      <th>px</th>\n",
       "      <th>py</th>\n",
       "      <th>pz</th>\n",
       "      <th>t</th>\n",
       "      <th>ptype</th>\n",
       "      <th>ptot</th>\n",
       "    </tr>\n",
       "  </thead>\n",
       "  <tbody>\n",
       "    <tr>\n",
       "      <th>0</th>\n",
       "      <td>1</td>\n",
       "      <td>5</td>\n",
       "      <td>-0.006142</td>\n",
       "      <td>0.016628</td>\n",
       "      <td>0.026840</td>\n",
       "      <td>0.000000e+00</td>\n",
       "      <td>1</td>\n",
       "      <td>0.032165</td>\n",
       "    </tr>\n",
       "    <tr>\n",
       "      <th>1</th>\n",
       "      <td>1</td>\n",
       "      <td>5</td>\n",
       "      <td>-0.016250</td>\n",
       "      <td>-0.027643</td>\n",
       "      <td>0.002525</td>\n",
       "      <td>0.000000e+00</td>\n",
       "      <td>1</td>\n",
       "      <td>0.032165</td>\n",
       "    </tr>\n",
       "    <tr>\n",
       "      <th>2</th>\n",
       "      <td>1</td>\n",
       "      <td>5</td>\n",
       "      <td>0.946642</td>\n",
       "      <td>0.508665</td>\n",
       "      <td>0.995167</td>\n",
       "      <td>0.000000e+00</td>\n",
       "      <td>1</td>\n",
       "      <td>1.464660</td>\n",
       "    </tr>\n",
       "    <tr>\n",
       "      <th>3</th>\n",
       "      <td>1</td>\n",
       "      <td>5</td>\n",
       "      <td>0.167859</td>\n",
       "      <td>0.587333</td>\n",
       "      <td>-0.386363</td>\n",
       "      <td>3.673480e-13</td>\n",
       "      <td>1</td>\n",
       "      <td>0.722781</td>\n",
       "    </tr>\n",
       "    <tr>\n",
       "      <th>4</th>\n",
       "      <td>1</td>\n",
       "      <td>5</td>\n",
       "      <td>-0.575412</td>\n",
       "      <td>0.054495</td>\n",
       "      <td>-0.170913</td>\n",
       "      <td>4.514200e-12</td>\n",
       "      <td>1</td>\n",
       "      <td>0.602727</td>\n",
       "    </tr>\n",
       "    <tr>\n",
       "      <th>9</th>\n",
       "      <td>3</td>\n",
       "      <td>5</td>\n",
       "      <td>0.027525</td>\n",
       "      <td>0.006809</td>\n",
       "      <td>-0.015185</td>\n",
       "      <td>0.000000e+00</td>\n",
       "      <td>1</td>\n",
       "      <td>0.032165</td>\n",
       "    </tr>\n",
       "    <tr>\n",
       "      <th>10</th>\n",
       "      <td>3</td>\n",
       "      <td>5</td>\n",
       "      <td>0.025516</td>\n",
       "      <td>0.010538</td>\n",
       "      <td>-0.016506</td>\n",
       "      <td>0.000000e+00</td>\n",
       "      <td>1</td>\n",
       "      <td>0.032165</td>\n",
       "    </tr>\n",
       "    <tr>\n",
       "      <th>11</th>\n",
       "      <td>3</td>\n",
       "      <td>5</td>\n",
       "      <td>-0.073952</td>\n",
       "      <td>-1.446350</td>\n",
       "      <td>0.218730</td>\n",
       "      <td>0.000000e+00</td>\n",
       "      <td>1</td>\n",
       "      <td>1.464664</td>\n",
       "    </tr>\n",
       "    <tr>\n",
       "      <th>12</th>\n",
       "      <td>3</td>\n",
       "      <td>5</td>\n",
       "      <td>0.396968</td>\n",
       "      <td>0.108559</td>\n",
       "      <td>-0.594176</td>\n",
       "      <td>1.348480e-12</td>\n",
       "      <td>1</td>\n",
       "      <td>0.722782</td>\n",
       "    </tr>\n",
       "    <tr>\n",
       "      <th>13</th>\n",
       "      <td>3</td>\n",
       "      <td>5</td>\n",
       "      <td>-0.470161</td>\n",
       "      <td>-0.197970</td>\n",
       "      <td>-0.320993</td>\n",
       "      <td>1.448980e-11</td>\n",
       "      <td>1</td>\n",
       "      <td>0.602727</td>\n",
       "    </tr>\n",
       "  </tbody>\n",
       "</table>\n",
       "</div>"
      ],
      "text/plain": [
       "    event  n        px        py        pz             t  ptype      ptot\n",
       "0       1  5 -0.006142  0.016628  0.026840  0.000000e+00      1  0.032165\n",
       "1       1  5 -0.016250 -0.027643  0.002525  0.000000e+00      1  0.032165\n",
       "2       1  5  0.946642  0.508665  0.995167  0.000000e+00      1  1.464660\n",
       "3       1  5  0.167859  0.587333 -0.386363  3.673480e-13      1  0.722781\n",
       "4       1  5 -0.575412  0.054495 -0.170913  4.514200e-12      1  0.602727\n",
       "9       3  5  0.027525  0.006809 -0.015185  0.000000e+00      1  0.032165\n",
       "10      3  5  0.025516  0.010538 -0.016506  0.000000e+00      1  0.032165\n",
       "11      3  5 -0.073952 -1.446350  0.218730  0.000000e+00      1  1.464664\n",
       "12      3  5  0.396968  0.108559 -0.594176  1.348480e-12      1  0.722782\n",
       "13      3  5 -0.470161 -0.197970 -0.320993  1.448980e-11      1  0.602727"
      ]
     },
     "execution_count": 14,
     "metadata": {},
     "output_type": "execute_result"
    }
   ],
   "source": [
    "df0220=df[df.n==5]\n",
    "df0220.head(10)"
   ]
  },
  {
   "cell_type": "code",
   "execution_count": 15,
   "metadata": {
    "collapsed": false,
    "jupyter": {
     "outputs_hidden": false
    }
   },
   "outputs": [
    {
     "name": "stderr",
     "output_type": "stream",
     "text": [
      "<ipython-input-12-4aa8e96c015e>:1: NumbaWarning: \u001b[1m\n",
      "Compilation is falling back to object mode WITH looplifting enabled because Function \"iterate_df_angles\" failed type inference due to: \u001b[1mUntyped global name 'tqdm_notebook':\u001b[0m \u001b[1m\u001b[1mcannot determine Numba type of <class 'function'>\u001b[0m\n",
      "\u001b[1m\n",
      "File \"<ipython-input-12-4aa8e96c015e>\", line 6:\u001b[0m\n",
      "\u001b[1mdef iterate_df_angles(dataframe,ngammas,igamma1,igamma2,egreater=0,esmaller=np.inf):\n",
      "    <source elided>\n",
      "    angles=[]\n",
      "\u001b[1m    for i in tqdm_notebook(data.event):\n",
      "\u001b[0m    \u001b[1m^\u001b[0m\u001b[0m\n",
      "\u001b[0m\u001b[0m\n",
      "  @numba.jit\n",
      "<ipython-input-12-4aa8e96c015e>:1: NumbaWarning: \u001b[1m\n",
      "Compilation is falling back to object mode WITHOUT looplifting enabled because Function \"iterate_df_angles\" failed type inference due to: \u001b[1m\u001b[1mcannot determine Numba type of <class 'numba.dispatcher.LiftedLoop'>\u001b[0m\n",
      "\u001b[1m\n",
      "File \"<ipython-input-12-4aa8e96c015e>\", line 6:\u001b[0m\n",
      "\u001b[1mdef iterate_df_angles(dataframe,ngammas,igamma1,igamma2,egreater=0,esmaller=np.inf):\n",
      "    <source elided>\n",
      "    angles=[]\n",
      "\u001b[1m    for i in tqdm_notebook(data.event):\n",
      "\u001b[0m    \u001b[1m^\u001b[0m\u001b[0m\n",
      "\u001b[0m\u001b[0m\n",
      "  @numba.jit\n",
      "/Applications/anaconda3/lib/python3.7/site-packages/numba/object_mode_passes.py:178: NumbaWarning: \u001b[1mFunction \"iterate_df_angles\" was compiled in object mode without forceobj=True, but has lifted loops.\n",
      "\u001b[1m\n",
      "File \"<ipython-input-12-4aa8e96c015e>\", line 4:\u001b[0m\n",
      "\u001b[1mdef iterate_df_angles(dataframe,ngammas,igamma1,igamma2,egreater=0,esmaller=np.inf):\n",
      "    <source elided>\n",
      "    # Cut dataframe\n",
      "\u001b[1m    data=dataframe[dataframe.n==int(ngammas+2)]\n",
      "\u001b[0m    \u001b[1m^\u001b[0m\u001b[0m\n",
      "\u001b[0m\n",
      "  state.func_ir.loc))\n",
      "/Applications/anaconda3/lib/python3.7/site-packages/numba/object_mode_passes.py:188: NumbaDeprecationWarning: \u001b[1m\n",
      "Fall-back from the nopython compilation path to the object mode compilation path has been detected, this is deprecated behaviour.\n",
      "\n",
      "For more information visit http://numba.pydata.org/numba-doc/latest/reference/deprecation.html#deprecation-of-object-mode-fall-back-behaviour-when-using-jit\n",
      "\u001b[1m\n",
      "File \"<ipython-input-12-4aa8e96c015e>\", line 4:\u001b[0m\n",
      "\u001b[1mdef iterate_df_angles(dataframe,ngammas,igamma1,igamma2,egreater=0,esmaller=np.inf):\n",
      "    <source elided>\n",
      "    # Cut dataframe\n",
      "\u001b[1m    data=dataframe[dataframe.n==int(ngammas+2)]\n",
      "\u001b[0m    \u001b[1m^\u001b[0m\u001b[0m\n",
      "\u001b[0m\n",
      "  state.func_ir.loc))\n",
      "<ipython-input-12-4aa8e96c015e>:1: NumbaWarning: \u001b[1m\n",
      "Compilation is falling back to object mode WITHOUT looplifting enabled because Function \"iterate_df_angles\" failed type inference due to: \u001b[1mUntyped global name 'tqdm_notebook':\u001b[0m \u001b[1m\u001b[1mcannot determine Numba type of <class 'function'>\u001b[0m\n",
      "\u001b[1m\n",
      "File \"<ipython-input-12-4aa8e96c015e>\", line 6:\u001b[0m\n",
      "\u001b[1mdef iterate_df_angles(dataframe,ngammas,igamma1,igamma2,egreater=0,esmaller=np.inf):\n",
      "    <source elided>\n",
      "    angles=[]\n",
      "\u001b[1m    for i in tqdm_notebook(data.event):\n",
      "\u001b[0m    \u001b[1m^\u001b[0m\u001b[0m\n",
      "\u001b[0m\u001b[0m\n",
      "  @numba.jit\n",
      "/Applications/anaconda3/lib/python3.7/site-packages/numba/object_mode_passes.py:178: NumbaWarning: \u001b[1mFunction \"iterate_df_angles\" was compiled in object mode without forceobj=True.\n",
      "\u001b[1m\n",
      "File \"<ipython-input-12-4aa8e96c015e>\", line 6:\u001b[0m\n",
      "\u001b[1mdef iterate_df_angles(dataframe,ngammas,igamma1,igamma2,egreater=0,esmaller=np.inf):\n",
      "    <source elided>\n",
      "    angles=[]\n",
      "\u001b[1m    for i in tqdm_notebook(data.event):\n",
      "\u001b[0m    \u001b[1m^\u001b[0m\u001b[0m\n",
      "\u001b[0m\n",
      "  state.func_ir.loc))\n",
      "/Applications/anaconda3/lib/python3.7/site-packages/numba/object_mode_passes.py:188: NumbaDeprecationWarning: \u001b[1m\n",
      "Fall-back from the nopython compilation path to the object mode compilation path has been detected, this is deprecated behaviour.\n",
      "\n",
      "For more information visit http://numba.pydata.org/numba-doc/latest/reference/deprecation.html#deprecation-of-object-mode-fall-back-behaviour-when-using-jit\n",
      "\u001b[1m\n",
      "File \"<ipython-input-12-4aa8e96c015e>\", line 6:\u001b[0m\n",
      "\u001b[1mdef iterate_df_angles(dataframe,ngammas,igamma1,igamma2,egreater=0,esmaller=np.inf):\n",
      "    <source elided>\n",
      "    angles=[]\n",
      "\u001b[1m    for i in tqdm_notebook(data.event):\n",
      "\u001b[0m    \u001b[1m^\u001b[0m\u001b[0m\n",
      "\u001b[0m\n",
      "  state.func_ir.loc))\n",
      "/Applications/anaconda3/lib/python3.7/site-packages/ipykernel_launcher.py:1: TqdmDeprecationWarning: This function will be removed in tqdm==5.0.0\n",
      "Please use `tqdm.notebook.tqdm` instead of `tqdm.tqdm_notebook`\n",
      "  \"\"\"Entry point for launching an IPython kernel.\n"
     ]
    },
    {
     "data": {
      "application/vnd.jupyter.widget-view+json": {
       "model_id": "88d919ab510e4ce8bb67a99c3b0feddb",
       "version_major": 2,
       "version_minor": 0
      },
      "text/plain": [
       "HBox(children=(FloatProgress(value=0.0, max=302955.0), HTML(value='')))"
      ]
     },
     "metadata": {},
     "output_type": "display_data"
    },
    {
     "name": "stdout",
     "output_type": "stream",
     "text": [
      "\n"
     ]
    }
   ],
   "source": [
    "angles21=iterate_df_angles(dataframe=df0220,ngammas=3,igamma1=1,igamma2=2,egreater=1.464,esmaller=np.inf)"
   ]
  },
  {
   "cell_type": "code",
   "execution_count": 16,
   "metadata": {
    "collapsed": false,
    "jupyter": {
     "outputs_hidden": false
    }
   },
   "outputs": [
    {
     "data": {
      "image/png": "[encoded data removed]",
      "text/plain": [
       "<Figure size 432x288 with 1 Axes>"
      ]
     },
     "metadata": {
      "needs_background": "light"
     },
     "output_type": "display_data"
    }
   ],
   "source": [
    "#Function normalization\n",
    "stepsize=0.001\n",
    "costet=np.arange(-1,1.01,stepsize)\n",
    "w=wtheta(-0.2487,0.3005,costet)\n",
    "areaw=np.sum(w*stepsize)\n",
    "\n",
    "#Histogram normalization\n",
    "nbins=40\n",
    "binwidth=2/nbins\n",
    "counts, edges = np.histogram(angles21,bins=nbins,range=(-1,1))\n",
    "centers=edges[:-1]+binwidth/2\n",
    "norm=np.sum(np.multiply(counts,binwidth))\n",
    "normed_counts=np.divide(counts,norm)\n",
    "normed_counts_err=np.divide(np.sqrt(counts),norm)\n",
    "\n",
    "plt.errorbar(centers,normed_counts,normed_counts_err, color='royalblue', marker='o', linestyle='', \n",
    "             ms=4, elinewidth=1, label='DECAY0')\n",
    "plt.plot(costet,w/areaw, linestyle='-', marker='', linewidth=2, color='orangered', label='Theory')\n",
    "plt.xlabel('cos($\\\\theta$)')\n",
    "plt.ylabel('$W(\\\\theta)_{\\\\rm{normed}}$')\n",
    "plt.xlim(-1,1)\n",
    "plt.legend()\n",
    "plt.show()"
   ]
  },
  {
   "cell_type": "markdown",
   "metadata": {},
   "source": [
    "#### 3.2.2 The 2+ $\\rightarrow$ 2+ $\\rightarrow$ 0+ transition with $E_2 = 723$ keV, $E_3 = 603$ keV  and $\\delta_{2+\\rightarrow2+} = -3.4$"
   ]
  },
  {
   "cell_type": "code",
   "execution_count": null,
   "metadata": {
    "collapsed": false,
    "jupyter": {
     "outputs_hidden": false
    }
   },
   "outputs": [],
   "source": [
    "angles22=iterate_df_angles(dataframe=df0220,ngammas=3,igamma1=2,igamma2=3,egreater=0,esmaller=0.724)"
   ]
  },
  {
   "cell_type": "code",
   "execution_count": null,
   "metadata": {
    "collapsed": false,
    "jupyter": {
     "outputs_hidden": false
    }
   },
   "outputs": [],
   "source": [
    "#Function normalization\n",
    "stepsize=0.001\n",
    "costet=np.arange(-1,1.01,stepsize)\n",
    "w=wtheta(0.1476,0.3005,costet)\n",
    "areaw=np.sum(w*stepsize)\n",
    "\n",
    "#Histogram normalization\n",
    "nbins=40\n",
    "binwidth=2/nbins\n",
    "counts, edges = np.histogram(angles22,bins=nbins,range=(-1,1))\n",
    "centers=edges[:-1]+binwidth/2\n",
    "norm=np.sum(np.multiply(counts,binwidth))\n",
    "normed_counts=np.divide(counts,norm)\n",
    "normed_counts_err=np.divide(np.sqrt(counts),norm)\n",
    "\n",
    "plt.errorbar(centers,normed_counts,normed_counts_err, color='royalblue', marker='o', linestyle='', \n",
    "             ms=4, elinewidth=1, label='DECAY0')\n",
    "plt.plot(costet,w/areaw, linestyle='-', marker='', linewidth=2, color='orangered', label='Theory')\n",
    "plt.xlabel('cos($\\\\theta$)')\n",
    "plt.ylabel('$W(\\\\theta)_{\\\\rm{normed}}$')\n",
    "plt.xlim(-1,1)\n",
    "plt.legend()\n",
    "plt.show()"
   ]
  },
  {
   "cell_type": "markdown",
   "metadata": {},
   "source": [
    "#### 3.2.3 The 0+ $\\rightarrow$ 2+ $\\rightarrow$ 2+ transition with $E_1 = 752$ keV, $E_2 = 1437$ keV  and $\\delta = 0.13$"
   ]
  },
  {
   "cell_type": "code",
   "execution_count": null,
   "metadata": {
    "collapsed": false,
    "jupyter": {
     "outputs_hidden": false
    }
   },
   "outputs": [],
   "source": [
    "angles23=iterate_df_angles(dataframe=df0220,ngammas=3,igamma1=1,igamma2=2,egreater=0,esmaller=0.753)"
   ]
  },
  {
   "cell_type": "code",
   "execution_count": null,
   "metadata": {
    "collapsed": false,
    "jupyter": {
     "outputs_hidden": false
    }
   },
   "outputs": [],
   "source": [
    "#Function normalization\n",
    "stepsize=0.001\n",
    "costet=np.arange(-1,1.01,stepsize)\n",
    "w=wtheta(0.3381,0.0054,costet)\n",
    "areaw=np.sum(w*stepsize)\n",
    "\n",
    "#Histogram normalization\n",
    "nbins=10\n",
    "binwidth=2/nbins\n",
    "counts, edges = np.histogram(angles23,bins=nbins,range=(-1,1))\n",
    "centers=edges[:-1]+binwidth/2\n",
    "norm=np.sum(np.multiply(counts,binwidth))\n",
    "normed_counts=np.divide(counts,norm)\n",
    "normed_counts_err=np.divide(np.sqrt(counts),norm)\n",
    "\n",
    "plt.errorbar(centers,normed_counts,normed_counts_err, color='royalblue', marker='o', linestyle='', \n",
    "             ms=4, elinewidth=1, label='DECAY0')\n",
    "plt.plot(costet,w/areaw, linestyle='-', marker='', linewidth=2, color='orangered', label='Theory')\n",
    "plt.xlabel('cos($\\\\theta$)')\n",
    "plt.ylabel('$W(\\\\theta)_{\\\\rm{normed}}$')\n",
    "plt.xlim(-1,1)\n",
    "plt.legend()\n",
    "plt.show()"
   ]
  },
  {
   "cell_type": "markdown",
   "metadata": {},
   "source": [
    "#### 3.2.2 The 2+ $\\rightarrow$ 2+ $\\rightarrow$ 0+ transition with $E_2 = 1437$ keV, $E_3 = 603$ keV  and $\\delta_{2+\\rightarrow2+} = 0.13$"
   ]
  },
  {
   "cell_type": "code",
   "execution_count": null,
   "metadata": {
    "collapsed": false,
    "jupyter": {
     "outputs_hidden": false
    }
   },
   "outputs": [],
   "source": [
    "angles24=iterate_df_angles(dataframe=df0220,ngammas=3,igamma1=2,igamma2=3,egreater=0.724,esmaller=np.inf)"
   ]
  },
  {
   "cell_type": "code",
   "execution_count": null,
   "metadata": {
    "collapsed": false,
    "jupyter": {
     "outputs_hidden": false
    }
   },
   "outputs": [],
   "source": [
    "#Function normalization\n",
    "stepsize=0.001\n",
    "costet=np.arange(-1,1.01,stepsize)\n",
    "w=wtheta(0.1510,0.0054,costet)\n",
    "areaw=np.sum(w*stepsize)\n",
    "\n",
    "#Histogram normalization\n",
    "nbins=10\n",
    "binwidth=2/nbins\n",
    "counts, edges = np.histogram(angles24,bins=nbins,range=(-1,1))\n",
    "centers=edges[:-1]+binwidth/2\n",
    "norm=np.sum(np.multiply(counts,binwidth))\n",
    "normed_counts=np.divide(counts,norm)\n",
    "normed_counts_err=np.divide(np.sqrt(counts),norm)\n",
    "\n",
    "plt.errorbar(centers,normed_counts,normed_counts_err, color='royalblue', marker='o', linestyle='', \n",
    "             ms=4, elinewidth=1, label='DECAY0')\n",
    "plt.plot(costet,w/areaw, linestyle='-', marker='', linewidth=2, color='orangered', label='Theory')\n",
    "plt.xlabel('cos($\\\\theta$)')\n",
    "plt.ylabel('$W(\\\\theta)_{\\\\rm{normed}}$')\n",
    "plt.xlim(-1,1)\n",
    "plt.legend()\n",
    "plt.show()"
   ]
  },
  {
   "cell_type": "code",
   "execution_count": null,
   "metadata": {
    "collapsed": true,
    "jupyter": {
     "outputs_hidden": true
    }
   },
   "outputs": [],
   "source": []
  },
  {
   "cell_type": "code",
   "execution_count": null,
   "metadata": {
    "collapsed": true,
    "jupyter": {
     "outputs_hidden": true
    }
   },
   "outputs": [],
   "source": []
  }
 ],
 "metadata": {
  "kernelspec": {
   "display_name": "Python 3",
   "language": "python",
   "name": "python3"
  },
  "language_info": {
   "codemirror_mode": {
    "name": "ipython",
    "version": 3
   },
   "file_extension": ".py",
   "mimetype": "text/x-python",
   "name": "python",
   "nbconvert_exporter": "python",
   "pygments_lexer": "ipython3",
   "version": "3.7.6"
  }
 },
 "nbformat": 4,
 "nbformat_minor": 4
}
