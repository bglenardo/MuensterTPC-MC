{
 "cells": [
  {
   "cell_type": "markdown",
   "metadata": {},
   "source": [
    "# Taking a look at the DECAY0 files"
   ]
  },
  {
   "cell_type": "code",
   "execution_count": 1,
   "metadata": {
    "collapsed": false
   },
   "outputs": [
    {
     "name": "stderr",
     "output_type": "stream",
     "text": [
      "/home/c_witt19/.local/lib/python3.5/site-packages/numba/errors.py:131: UserWarning: Insufficiently recent colorama version found. Numba requires colorama >= 0.3.9\n",
      "  warnings.warn(msg)\n"
     ]
    }
   ],
   "source": [
    "import pandas as pd\n",
    "import numpy as np\n",
    "import numba\n",
    "import matplotlib.pyplot as plt\n",
    "from tqdm import tqdm_notebook\n",
    "%matplotlib inline"
   ]
  },
  {
   "cell_type": "markdown",
   "metadata": {},
   "source": [
    "## 1. Open file and load content into dataframe"
   ]
  },
  {
   "cell_type": "code",
   "execution_count": 2,
   "metadata": {
    "collapsed": false
   },
   "outputs": [],
   "source": [
    "#f = open('test_all_states.dat', \"r\")\n",
    "#f = open('test_all_branches_20192308.dat','r')\n",
    "f = open('/home/c_witt19/Decay0/Fortran/0nukk_1e5_events.dat','r')\n",
    "lines = f.readlines()\n",
    "f.close()"
   ]
  },
  {
   "cell_type": "code",
   "execution_count": 3,
   "metadata": {
    "collapsed": false
   },
   "outputs": [
    {
     "data": {
      "text/html": [
       "<div>\n",
       "<table border=\"1\" class=\"dataframe\">\n",
       "  <thead>\n",
       "    <tr style=\"text-align: right;\">\n",
       "      <th></th>\n",
       "      <th>event</th>\n",
       "      <th>n</th>\n",
       "      <th>px</th>\n",
       "      <th>py</th>\n",
       "      <th>pz</th>\n",
       "      <th>t</th>\n",
       "      <th>ptype</th>\n",
       "      <th>ptot</th>\n",
       "    </tr>\n",
       "  </thead>\n",
       "  <tbody>\n",
       "    <tr>\n",
       "      <th>0</th>\n",
       "      <td>1</td>\n",
       "      <td>5</td>\n",
       "      <td>-0.006142</td>\n",
       "      <td>0.016628</td>\n",
       "      <td>0.026840</td>\n",
       "      <td>0.000000e+00</td>\n",
       "      <td>1</td>\n",
       "      <td>0.032165</td>\n",
       "    </tr>\n",
       "    <tr>\n",
       "      <th>1</th>\n",
       "      <td>1</td>\n",
       "      <td>5</td>\n",
       "      <td>-0.016250</td>\n",
       "      <td>-0.027643</td>\n",
       "      <td>0.002525</td>\n",
       "      <td>0.000000e+00</td>\n",
       "      <td>1</td>\n",
       "      <td>0.032165</td>\n",
       "    </tr>\n",
       "    <tr>\n",
       "      <th>2</th>\n",
       "      <td>1</td>\n",
       "      <td>5</td>\n",
       "      <td>0.946642</td>\n",
       "      <td>0.508665</td>\n",
       "      <td>0.995167</td>\n",
       "      <td>0.000000e+00</td>\n",
       "      <td>1</td>\n",
       "      <td>1.464660</td>\n",
       "    </tr>\n",
       "    <tr>\n",
       "      <th>3</th>\n",
       "      <td>1</td>\n",
       "      <td>5</td>\n",
       "      <td>0.167859</td>\n",
       "      <td>0.587333</td>\n",
       "      <td>-0.386363</td>\n",
       "      <td>3.673480e-13</td>\n",
       "      <td>1</td>\n",
       "      <td>0.722781</td>\n",
       "    </tr>\n",
       "    <tr>\n",
       "      <th>4</th>\n",
       "      <td>1</td>\n",
       "      <td>5</td>\n",
       "      <td>-0.575412</td>\n",
       "      <td>0.054495</td>\n",
       "      <td>-0.170913</td>\n",
       "      <td>4.514200e-12</td>\n",
       "      <td>1</td>\n",
       "      <td>0.602727</td>\n",
       "    </tr>\n",
       "  </tbody>\n",
       "</table>\n",
       "</div>"
      ],
      "text/plain": [
       "   event  n        px        py        pz             t  ptype      ptot\n",
       "0      1  5 -0.006142  0.016628  0.026840  0.000000e+00      1  0.032165\n",
       "1      1  5 -0.016250 -0.027643  0.002525  0.000000e+00      1  0.032165\n",
       "2      1  5  0.946642  0.508665  0.995167  0.000000e+00      1  1.464660\n",
       "3      1  5  0.167859  0.587333 -0.386363  3.673480e-13      1  0.722781\n",
       "4      1  5 -0.575412  0.054495 -0.170913  4.514200e-12      1  0.602727"
      ]
     },
     "execution_count": 3,
     "metadata": {},
     "output_type": "execute_result"
    }
   ],
   "source": [
    "splitted=[line.split() for line in lines[22:]] # Start at 22nd entry after all text lines in the file\n",
    "index=0\n",
    "event=[]\n",
    "px=[]\n",
    "py=[]\n",
    "pz=[]\n",
    "t=[]\n",
    "n=[]\n",
    "ptype=[]\n",
    "for chunk in splitted:\n",
    "    \n",
    "    \n",
    "    if len(chunk)==5:\n",
    "        event.append(index)\n",
    "        n.append(nentries)\n",
    "        ptype.append(int(chunk[0]))\n",
    "        px.append(float(chunk[1]))\n",
    "        py.append(float(chunk[2]))\n",
    "        pz.append(float(chunk[3]))\n",
    "        t.append(float(chunk[4]))\n",
    "    elif len(chunk)==3:\n",
    "        nentries=int(chunk[2])\n",
    "        #print(nentries)\n",
    "        index+=1\n",
    "        \n",
    "df=pd.DataFrame()\n",
    "df['event']=np.asarray(event)\n",
    "df['n']=np.asarray(n)\n",
    "df['px']=np.asarray(px)\n",
    "df['py']=np.asarray(py)\n",
    "df['pz']=np.asarray(pz)\n",
    "df['t']=np.asarray(t)\n",
    "df['ptype']=np.asarray(ptype)\n",
    "df['ptot']=np.sqrt(np.power(df.px,2)+np.power(df.py,2)+np.power(df.pz,2))\n",
    "df.head()"
   ]
  },
  {
   "cell_type": "markdown",
   "metadata": {},
   "source": [
    "### Check branching ratios"
   ]
  },
  {
   "cell_type": "code",
   "execution_count": 6,
   "metadata": {
    "collapsed": false
   },
   "outputs": [
    {
     "name": "stdout",
     "output_type": "stream",
     "text": [
      "27.436\n",
      "57.029\n",
      "9.387\n",
      "3.726\n",
      "2.221\n"
     ]
    }
   ],
   "source": [
    "# Should be 27.3 %\n",
    "print(len(np.unique(df[np.all([df.ptot>=2.18], axis=0)].event))/1000)\n",
    "\n",
    "# Should be 3.8 % and 2.2 %\n",
    "print(len(np.unique(df[np.all([df.ptot>=0.72, df.ptot<=0.73], axis=0)].event))/1000)\n",
    "print(len(np.unique(df[np.all([df.ptot>=1.32, df.ptot<=1.33], axis=0)].event))/1000)\n",
    "\n",
    "# Should be 57.4% and 9.3 %\n",
    "print(len(np.unique(df[np.all([df.ptot>=1.436, df.ptot<=1.437], axis=0)].event))/1000)\n",
    "print(len(np.unique(df[np.all([df.ptot>=2.0, df.ptot<=2.1], axis=0)].event))/1000)"
   ]
  },
  {
   "cell_type": "markdown",
   "metadata": {},
   "source": [
    "## 2. What about events with more than 5 entries?\n",
    "\n",
    "Those are events with a conversion electron (ptype = 3). These do not yet have the correct angular correlation. However, they make up less than 1 % of all events in a sample of 10000 events. So it might be overkill to also include the correct $\\gamma$-$e^-$ correlation."
   ]
  },
  {
   "cell_type": "code",
   "execution_count": 4,
   "metadata": {
    "collapsed": false,
    "scrolled": true
   },
   "outputs": [
    {
     "name": "stdout",
     "output_type": "stream",
     "text": [
      "Number of events containing a conversion electron: 545\n",
      "Fraction of events containing a conversion electron: 0.545 %\n"
     ]
    },
    {
     "data": {
      "text/html": [
       "<div>\n",
       "<table border=\"1\" class=\"dataframe\">\n",
       "  <thead>\n",
       "    <tr style=\"text-align: right;\">\n",
       "      <th></th>\n",
       "      <th>event</th>\n",
       "      <th>n</th>\n",
       "      <th>px</th>\n",
       "      <th>py</th>\n",
       "      <th>pz</th>\n",
       "      <th>t</th>\n",
       "      <th>ptype</th>\n",
       "      <th>ptot</th>\n",
       "    </tr>\n",
       "  </thead>\n",
       "  <tbody>\n",
       "    <tr>\n",
       "      <th>487</th>\n",
       "      <td>105</td>\n",
       "      <td>6</td>\n",
       "      <td>0.024370</td>\n",
       "      <td>0.014879</td>\n",
       "      <td>-0.014810</td>\n",
       "      <td>0.000000e+00</td>\n",
       "      <td>1</td>\n",
       "      <td>0.032165</td>\n",
       "    </tr>\n",
       "    <tr>\n",
       "      <th>488</th>\n",
       "      <td>105</td>\n",
       "      <td>6</td>\n",
       "      <td>0.003022</td>\n",
       "      <td>0.027898</td>\n",
       "      <td>0.015721</td>\n",
       "      <td>0.000000e+00</td>\n",
       "      <td>1</td>\n",
       "      <td>0.032165</td>\n",
       "    </tr>\n",
       "    <tr>\n",
       "      <th>489</th>\n",
       "      <td>105</td>\n",
       "      <td>6</td>\n",
       "      <td>-0.139758</td>\n",
       "      <td>1.454300</td>\n",
       "      <td>0.103473</td>\n",
       "      <td>0.000000e+00</td>\n",
       "      <td>1</td>\n",
       "      <td>1.464659</td>\n",
       "    </tr>\n",
       "    <tr>\n",
       "      <th>490</th>\n",
       "      <td>105</td>\n",
       "      <td>6</td>\n",
       "      <td>0.275585</td>\n",
       "      <td>1.042820</td>\n",
       "      <td>0.142183</td>\n",
       "      <td>2.145770e-12</td>\n",
       "      <td>3</td>\n",
       "      <td>1.087951</td>\n",
       "    </tr>\n",
       "    <tr>\n",
       "      <th>491</th>\n",
       "      <td>105</td>\n",
       "      <td>6</td>\n",
       "      <td>0.030527</td>\n",
       "      <td>0.008280</td>\n",
       "      <td>0.003281</td>\n",
       "      <td>0.000000e+00</td>\n",
       "      <td>1</td>\n",
       "      <td>0.031800</td>\n",
       "    </tr>\n",
       "    <tr>\n",
       "      <th>492</th>\n",
       "      <td>105</td>\n",
       "      <td>6</td>\n",
       "      <td>0.526359</td>\n",
       "      <td>-0.227164</td>\n",
       "      <td>-0.186071</td>\n",
       "      <td>1.434740e-11</td>\n",
       "      <td>1</td>\n",
       "      <td>0.602727</td>\n",
       "    </tr>\n",
       "    <tr>\n",
       "      <th>1233</th>\n",
       "      <td>265</td>\n",
       "      <td>6</td>\n",
       "      <td>0.018608</td>\n",
       "      <td>-0.026135</td>\n",
       "      <td>0.002299</td>\n",
       "      <td>0.000000e+00</td>\n",
       "      <td>1</td>\n",
       "      <td>0.032165</td>\n",
       "    </tr>\n",
       "    <tr>\n",
       "      <th>1234</th>\n",
       "      <td>265</td>\n",
       "      <td>6</td>\n",
       "      <td>-0.002601</td>\n",
       "      <td>0.011450</td>\n",
       "      <td>-0.029945</td>\n",
       "      <td>0.000000e+00</td>\n",
       "      <td>1</td>\n",
       "      <td>0.032165</td>\n",
       "    </tr>\n",
       "    <tr>\n",
       "      <th>1235</th>\n",
       "      <td>265</td>\n",
       "      <td>6</td>\n",
       "      <td>-0.143858</td>\n",
       "      <td>-1.318100</td>\n",
       "      <td>-0.622217</td>\n",
       "      <td>0.000000e+00</td>\n",
       "      <td>1</td>\n",
       "      <td>1.464663</td>\n",
       "    </tr>\n",
       "    <tr>\n",
       "      <th>1236</th>\n",
       "      <td>265</td>\n",
       "      <td>6</td>\n",
       "      <td>0.112712</td>\n",
       "      <td>-0.491003</td>\n",
       "      <td>-0.518291</td>\n",
       "      <td>6.172340e-12</td>\n",
       "      <td>1</td>\n",
       "      <td>0.722782</td>\n",
       "    </tr>\n",
       "    <tr>\n",
       "      <th>1237</th>\n",
       "      <td>265</td>\n",
       "      <td>6</td>\n",
       "      <td>0.682316</td>\n",
       "      <td>-0.621357</td>\n",
       "      <td>0.240426</td>\n",
       "      <td>1.381270e-11</td>\n",
       "      <td>3</td>\n",
       "      <td>0.953648</td>\n",
       "    </tr>\n",
       "    <tr>\n",
       "      <th>1238</th>\n",
       "      <td>265</td>\n",
       "      <td>6</td>\n",
       "      <td>-0.017051</td>\n",
       "      <td>0.005502</td>\n",
       "      <td>-0.026272</td>\n",
       "      <td>0.000000e+00</td>\n",
       "      <td>1</td>\n",
       "      <td>0.031800</td>\n",
       "    </tr>\n",
       "    <tr>\n",
       "      <th>1528</th>\n",
       "      <td>329</td>\n",
       "      <td>6</td>\n",
       "      <td>0.026698</td>\n",
       "      <td>0.008610</td>\n",
       "      <td>-0.015737</td>\n",
       "      <td>0.000000e+00</td>\n",
       "      <td>1</td>\n",
       "      <td>0.032165</td>\n",
       "    </tr>\n",
       "    <tr>\n",
       "      <th>1529</th>\n",
       "      <td>329</td>\n",
       "      <td>6</td>\n",
       "      <td>0.031710</td>\n",
       "      <td>-0.000422</td>\n",
       "      <td>0.005374</td>\n",
       "      <td>0.000000e+00</td>\n",
       "      <td>1</td>\n",
       "      <td>0.032165</td>\n",
       "    </tr>\n",
       "    <tr>\n",
       "      <th>1530</th>\n",
       "      <td>329</td>\n",
       "      <td>6</td>\n",
       "      <td>-0.427764</td>\n",
       "      <td>-1.344890</td>\n",
       "      <td>-0.391801</td>\n",
       "      <td>0.000000e+00</td>\n",
       "      <td>1</td>\n",
       "      <td>1.464657</td>\n",
       "    </tr>\n",
       "    <tr>\n",
       "      <th>1531</th>\n",
       "      <td>329</td>\n",
       "      <td>6</td>\n",
       "      <td>-0.651363</td>\n",
       "      <td>-0.641742</td>\n",
       "      <td>-0.589518</td>\n",
       "      <td>4.520900e-13</td>\n",
       "      <td>3</td>\n",
       "      <td>1.087951</td>\n",
       "    </tr>\n",
       "    <tr>\n",
       "      <th>1532</th>\n",
       "      <td>329</td>\n",
       "      <td>6</td>\n",
       "      <td>0.011672</td>\n",
       "      <td>-0.026046</td>\n",
       "      <td>-0.014022</td>\n",
       "      <td>0.000000e+00</td>\n",
       "      <td>1</td>\n",
       "      <td>0.031800</td>\n",
       "    </tr>\n",
       "    <tr>\n",
       "      <th>1533</th>\n",
       "      <td>329</td>\n",
       "      <td>6</td>\n",
       "      <td>0.602309</td>\n",
       "      <td>-0.016543</td>\n",
       "      <td>0.015178</td>\n",
       "      <td>4.095650e-12</td>\n",
       "      <td>1</td>\n",
       "      <td>0.602727</td>\n",
       "    </tr>\n",
       "    <tr>\n",
       "      <th>1595</th>\n",
       "      <td>343</td>\n",
       "      <td>6</td>\n",
       "      <td>0.017806</td>\n",
       "      <td>0.025069</td>\n",
       "      <td>0.009438</td>\n",
       "      <td>0.000000e+00</td>\n",
       "      <td>1</td>\n",
       "      <td>0.032165</td>\n",
       "    </tr>\n",
       "    <tr>\n",
       "      <th>1596</th>\n",
       "      <td>343</td>\n",
       "      <td>6</td>\n",
       "      <td>0.006367</td>\n",
       "      <td>0.008594</td>\n",
       "      <td>0.030335</td>\n",
       "      <td>0.000000e+00</td>\n",
       "      <td>1</td>\n",
       "      <td>0.032165</td>\n",
       "    </tr>\n",
       "    <tr>\n",
       "      <th>1597</th>\n",
       "      <td>343</td>\n",
       "      <td>6</td>\n",
       "      <td>0.162634</td>\n",
       "      <td>-0.903946</td>\n",
       "      <td>-1.140900</td>\n",
       "      <td>0.000000e+00</td>\n",
       "      <td>1</td>\n",
       "      <td>1.464657</td>\n",
       "    </tr>\n",
       "    <tr>\n",
       "      <th>1598</th>\n",
       "      <td>343</td>\n",
       "      <td>6</td>\n",
       "      <td>-0.320079</td>\n",
       "      <td>0.519106</td>\n",
       "      <td>-0.387934</td>\n",
       "      <td>5.402740e-13</td>\n",
       "      <td>1</td>\n",
       "      <td>0.722782</td>\n",
       "    </tr>\n",
       "    <tr>\n",
       "      <th>1599</th>\n",
       "      <td>343</td>\n",
       "      <td>6</td>\n",
       "      <td>-0.415494</td>\n",
       "      <td>0.803882</td>\n",
       "      <td>-0.300969</td>\n",
       "      <td>2.110820e-12</td>\n",
       "      <td>3</td>\n",
       "      <td>0.953648</td>\n",
       "    </tr>\n",
       "    <tr>\n",
       "      <th>1600</th>\n",
       "      <td>343</td>\n",
       "      <td>6</td>\n",
       "      <td>-0.025409</td>\n",
       "      <td>0.015476</td>\n",
       "      <td>0.011232</td>\n",
       "      <td>0.000000e+00</td>\n",
       "      <td>1</td>\n",
       "      <td>0.031800</td>\n",
       "    </tr>\n",
       "    <tr>\n",
       "      <th>2406</th>\n",
       "      <td>516</td>\n",
       "      <td>6</td>\n",
       "      <td>0.028398</td>\n",
       "      <td>0.004557</td>\n",
       "      <td>0.014401</td>\n",
       "      <td>0.000000e+00</td>\n",
       "      <td>1</td>\n",
       "      <td>0.032165</td>\n",
       "    </tr>\n",
       "    <tr>\n",
       "      <th>2407</th>\n",
       "      <td>516</td>\n",
       "      <td>6</td>\n",
       "      <td>-0.022710</td>\n",
       "      <td>-0.022632</td>\n",
       "      <td>0.002580</td>\n",
       "      <td>0.000000e+00</td>\n",
       "      <td>1</td>\n",
       "      <td>0.032165</td>\n",
       "    </tr>\n",
       "    <tr>\n",
       "      <th>2408</th>\n",
       "      <td>516</td>\n",
       "      <td>6</td>\n",
       "      <td>-0.506397</td>\n",
       "      <td>-1.357880</td>\n",
       "      <td>0.212051</td>\n",
       "      <td>0.000000e+00</td>\n",
       "      <td>1</td>\n",
       "      <td>1.464664</td>\n",
       "    </tr>\n",
       "    <tr>\n",
       "      <th>2409</th>\n",
       "      <td>516</td>\n",
       "      <td>6</td>\n",
       "      <td>-0.874318</td>\n",
       "      <td>0.430440</td>\n",
       "      <td>0.483661</td>\n",
       "      <td>2.013340e-12</td>\n",
       "      <td>3</td>\n",
       "      <td>1.087952</td>\n",
       "    </tr>\n",
       "    <tr>\n",
       "      <th>2410</th>\n",
       "      <td>516</td>\n",
       "      <td>6</td>\n",
       "      <td>-0.030296</td>\n",
       "      <td>0.006868</td>\n",
       "      <td>0.006797</td>\n",
       "      <td>0.000000e+00</td>\n",
       "      <td>1</td>\n",
       "      <td>0.031800</td>\n",
       "    </tr>\n",
       "    <tr>\n",
       "      <th>2411</th>\n",
       "      <td>516</td>\n",
       "      <td>6</td>\n",
       "      <td>0.119641</td>\n",
       "      <td>0.539887</td>\n",
       "      <td>0.239766</td>\n",
       "      <td>1.404600e-11</td>\n",
       "      <td>1</td>\n",
       "      <td>0.602727</td>\n",
       "    </tr>\n",
       "  </tbody>\n",
       "</table>\n",
       "</div>"
      ],
      "text/plain": [
       "      event  n        px        py        pz             t  ptype      ptot\n",
       "487     105  6  0.024370  0.014879 -0.014810  0.000000e+00      1  0.032165\n",
       "488     105  6  0.003022  0.027898  0.015721  0.000000e+00      1  0.032165\n",
       "489     105  6 -0.139758  1.454300  0.103473  0.000000e+00      1  1.464659\n",
       "490     105  6  0.275585  1.042820  0.142183  2.145770e-12      3  1.087951\n",
       "491     105  6  0.030527  0.008280  0.003281  0.000000e+00      1  0.031800\n",
       "492     105  6  0.526359 -0.227164 -0.186071  1.434740e-11      1  0.602727\n",
       "1233    265  6  0.018608 -0.026135  0.002299  0.000000e+00      1  0.032165\n",
       "1234    265  6 -0.002601  0.011450 -0.029945  0.000000e+00      1  0.032165\n",
       "1235    265  6 -0.143858 -1.318100 -0.622217  0.000000e+00      1  1.464663\n",
       "1236    265  6  0.112712 -0.491003 -0.518291  6.172340e-12      1  0.722782\n",
       "1237    265  6  0.682316 -0.621357  0.240426  1.381270e-11      3  0.953648\n",
       "1238    265  6 -0.017051  0.005502 -0.026272  0.000000e+00      1  0.031800\n",
       "1528    329  6  0.026698  0.008610 -0.015737  0.000000e+00      1  0.032165\n",
       "1529    329  6  0.031710 -0.000422  0.005374  0.000000e+00      1  0.032165\n",
       "1530    329  6 -0.427764 -1.344890 -0.391801  0.000000e+00      1  1.464657\n",
       "1531    329  6 -0.651363 -0.641742 -0.589518  4.520900e-13      3  1.087951\n",
       "1532    329  6  0.011672 -0.026046 -0.014022  0.000000e+00      1  0.031800\n",
       "1533    329  6  0.602309 -0.016543  0.015178  4.095650e-12      1  0.602727\n",
       "1595    343  6  0.017806  0.025069  0.009438  0.000000e+00      1  0.032165\n",
       "1596    343  6  0.006367  0.008594  0.030335  0.000000e+00      1  0.032165\n",
       "1597    343  6  0.162634 -0.903946 -1.140900  0.000000e+00      1  1.464657\n",
       "1598    343  6 -0.320079  0.519106 -0.387934  5.402740e-13      1  0.722782\n",
       "1599    343  6 -0.415494  0.803882 -0.300969  2.110820e-12      3  0.953648\n",
       "1600    343  6 -0.025409  0.015476  0.011232  0.000000e+00      1  0.031800\n",
       "2406    516  6  0.028398  0.004557  0.014401  0.000000e+00      1  0.032165\n",
       "2407    516  6 -0.022710 -0.022632  0.002580  0.000000e+00      1  0.032165\n",
       "2408    516  6 -0.506397 -1.357880  0.212051  0.000000e+00      1  1.464664\n",
       "2409    516  6 -0.874318  0.430440  0.483661  2.013340e-12      3  1.087952\n",
       "2410    516  6 -0.030296  0.006868  0.006797  0.000000e+00      1  0.031800\n",
       "2411    516  6  0.119641  0.539887  0.239766  1.404600e-11      1  0.602727"
      ]
     },
     "execution_count": 4,
     "metadata": {},
     "output_type": "execute_result"
    }
   ],
   "source": [
    "df_sub=df[df.n>=6]\n",
    "print('Number of events containing a conversion electron:', len(np.unique(df_sub.event)))\n",
    "print('Fraction of events containing a conversion electron:', len(np.unique(df_sub.event))/len(np.unique(df.event))*100,'%')\n",
    "\n",
    "df_sub.head(30)\n"
   ]
  },
  {
   "cell_type": "markdown",
   "metadata": {},
   "source": [
    "## 3. Check out angular correlations"
   ]
  },
  {
   "cell_type": "code",
   "execution_count": 5,
   "metadata": {
    "collapsed": false
   },
   "outputs": [],
   "source": [
    "def vangle(v1,v2):\n",
    "    'Returns cos(theta) of the angle theta between two vectors.'\n",
    "    enumerator=np.sum(np.multiply(v1,v2))\n",
    "    denominator=np.multiply(np.sqrt(np.sum(np.power(v1,2))),np.sqrt(np.sum(np.power(v2,2))))\n",
    "    costheta=enumerator/denominator\n",
    "    return costheta\n",
    "\n",
    "def wtheta(a2,a4,costheta):\n",
    "    return np.add(1+(a2/2)*(3*np.power(costheta,2)-1),(a4/8)*(35*np.power(costheta,4)-30*np.power(costheta,2)+3))"
   ]
  },
  {
   "cell_type": "code",
   "execution_count": 6,
   "metadata": {
    "collapsed": false
   },
   "outputs": [
    {
     "name": "stdout",
     "output_type": "stream",
     "text": [
      "1.0\n",
      "0.0\n"
     ]
    }
   ],
   "source": [
    "print(vangle((1,0,0),(1,0,0)))\n",
    "print(vangle((0,1,0),(1,0,0)))"
   ]
  },
  {
   "cell_type": "markdown",
   "metadata": {},
   "source": [
    "### 3.1 Transitions with two $\\gamma$-rays (0+ $\\rightarrow$ 2+ $\\rightarrow$ 0+)"
   ]
  },
  {
   "cell_type": "code",
   "execution_count": 7,
   "metadata": {
    "collapsed": false
   },
   "outputs": [
    {
     "data": {
      "text/html": [
       "<div>\n",
       "<table border=\"1\" class=\"dataframe\">\n",
       "  <thead>\n",
       "    <tr style=\"text-align: right;\">\n",
       "      <th></th>\n",
       "      <th>event</th>\n",
       "      <th>n</th>\n",
       "      <th>px</th>\n",
       "      <th>py</th>\n",
       "      <th>pz</th>\n",
       "      <th>t</th>\n",
       "      <th>ptype</th>\n",
       "      <th>ptot</th>\n",
       "    </tr>\n",
       "  </thead>\n",
       "  <tbody>\n",
       "    <tr>\n",
       "      <th>5</th>\n",
       "      <td>2</td>\n",
       "      <td>4</td>\n",
       "      <td>0.017686</td>\n",
       "      <td>0.015753</td>\n",
       "      <td>0.021763</td>\n",
       "      <td>0.000000e+00</td>\n",
       "      <td>1</td>\n",
       "      <td>0.032165</td>\n",
       "    </tr>\n",
       "    <tr>\n",
       "      <th>6</th>\n",
       "      <td>2</td>\n",
       "      <td>4</td>\n",
       "      <td>-0.017208</td>\n",
       "      <td>0.021115</td>\n",
       "      <td>-0.017106</td>\n",
       "      <td>0.000000e+00</td>\n",
       "      <td>1</td>\n",
       "      <td>0.032165</td>\n",
       "    </tr>\n",
       "    <tr>\n",
       "      <th>7</th>\n",
       "      <td>2</td>\n",
       "      <td>4</td>\n",
       "      <td>1.999220</td>\n",
       "      <td>-0.022687</td>\n",
       "      <td>0.888781</td>\n",
       "      <td>0.000000e+00</td>\n",
       "      <td>1</td>\n",
       "      <td>2.187996</td>\n",
       "    </tr>\n",
       "    <tr>\n",
       "      <th>8</th>\n",
       "      <td>2</td>\n",
       "      <td>4</td>\n",
       "      <td>-0.561456</td>\n",
       "      <td>-0.105458</td>\n",
       "      <td>0.192162</td>\n",
       "      <td>1.422340e-11</td>\n",
       "      <td>1</td>\n",
       "      <td>0.602728</td>\n",
       "    </tr>\n",
       "    <tr>\n",
       "      <th>24</th>\n",
       "      <td>6</td>\n",
       "      <td>4</td>\n",
       "      <td>-0.002000</td>\n",
       "      <td>-0.028280</td>\n",
       "      <td>-0.015194</td>\n",
       "      <td>0.000000e+00</td>\n",
       "      <td>1</td>\n",
       "      <td>0.032165</td>\n",
       "    </tr>\n",
       "  </tbody>\n",
       "</table>\n",
       "</div>"
      ],
      "text/plain": [
       "    event  n        px        py        pz             t  ptype      ptot\n",
       "5       2  4  0.017686  0.015753  0.021763  0.000000e+00      1  0.032165\n",
       "6       2  4 -0.017208  0.021115 -0.017106  0.000000e+00      1  0.032165\n",
       "7       2  4  1.999220 -0.022687  0.888781  0.000000e+00      1  2.187996\n",
       "8       2  4 -0.561456 -0.105458  0.192162  1.422340e-11      1  0.602728\n",
       "24      6  4 -0.002000 -0.028280 -0.015194  0.000000e+00      1  0.032165"
      ]
     },
     "execution_count": 7,
     "metadata": {},
     "output_type": "execute_result"
    }
   ],
   "source": [
    "df020=df[df.n==4]\n",
    "df020.head()"
   ]
  },
  {
   "cell_type": "code",
   "execution_count": null,
   "metadata": {
    "collapsed": false
   },
   "outputs": [],
   "source": [
    "#df020 = df020.groupby('event')\n",
    "#df_test=df020.agg({'px': lambda x: x.iloc[-2]})\n",
    "#df_test"
   ]
  },
  {
   "cell_type": "code",
   "execution_count": null,
   "metadata": {
    "collapsed": false
   },
   "outputs": [],
   "source": [
    "@numba.jit\n",
    "def iterate_df_angles(dataframe,ngammas,igamma1,igamma2,egreater=0,esmaller=np.inf):\n",
    "    # Cut dataframe\n",
    "    data=dataframe[dataframe.n==int(ngammas+2)]\n",
    "    angles=[]\n",
    "    for i in tqdm_notebook(data.event):\n",
    "        dftemp=data[data.event==i]\n",
    "        #Get momentum of first gamma (second to last entry for 2 gammas)\n",
    "        p1=(dftemp.iloc[-int(ngammas-igamma1+1)]['px'], dftemp.iloc[-int(ngammas-igamma1+1)]['py'], dftemp.iloc[-int(ngammas-igamma1+1)]['pz'])\n",
    "        #Get momentum of first gamma (Last entry for 2 gammas)\n",
    "        p2=(dftemp.iloc[-int(ngammas-igamma2+1)]['px'], dftemp.iloc[-int(ngammas-igamma2+1)]['py'], dftemp.iloc[-int(ngammas-igamma2+1)]['pz'])\n",
    "        # Check if energy of first gamma is correct and append angle between momentum vectors to dataframe\n",
    "        if dftemp.iloc[-int(ngammas-igamma1+1)]['ptot']>egreater and dftemp.iloc[-int(ngammas-igamma1+1)]['ptot']<esmaller:\n",
    "            angles.append(vangle(p1,p2))\n",
    "    return angles\n",
    "\n",
    "angles=iterate_df_angles(dataframe=df020,ngammas=2,igamma1=1,igamma2=2,egreater=0,esmaller=np.inf)\n"
   ]
  },
  {
   "cell_type": "code",
   "execution_count": null,
   "metadata": {
    "collapsed": false
   },
   "outputs": [],
   "source": [
    "#Correlation formula normalization\n",
    "stepsize=0.001\n",
    "costet=np.arange(-1,1.01,stepsize)\n",
    "w=wtheta(0.3571,1.1429,costet)\n",
    "areaw=np.sum(w*stepsize)\n",
    "\n",
    "#Histogram normalization\n",
    "nbins=40\n",
    "binwidth=2/nbins\n",
    "counts, edges = np.histogram(angles,bins=nbins,range=(-1,1))\n",
    "centers=edges[:-1]+binwidth/2\n",
    "norm=np.sum(np.multiply(counts,binwidth))\n",
    "normed_counts=np.divide(counts,norm)\n",
    "normed_counts_err=np.divide(np.sqrt(counts),norm)\n",
    "\n",
    "plt.errorbar(centers,normed_counts,normed_counts_err, color='royalblue', marker='o', linestyle='', \n",
    "             ms=4, elinewidth=1, label='DECAY0')\n",
    "plt.plot(costet,w/areaw, linestyle='-', marker='', linewidth=2, color='orangered', label='Theory')\n",
    "plt.xlabel('cos($\\\\theta$)')\n",
    "plt.ylabel('$W(\\\\theta)_{\\\\rm{normed}}$')\n",
    "plt.legend()\n",
    "plt.xlim(-1,1)\n",
    "plt.show()"
   ]
  },
  {
   "cell_type": "markdown",
   "metadata": {},
   "source": [
    "### 3.2 Transitions with three $\\gamma$-rays (0+ $\\rightarrow$ 2+ $\\rightarrow$ 2+ $\\rightarrow$ 0+)\n",
    "\n",
    "#### 3.2.1 The 0+ $\\rightarrow$ 2+ $\\rightarrow$ 2+ transition with $E_1 = 1465$ keV, $E_2 = 723$ keV  and $\\delta_{2+\\rightarrow2+} = -3.4$"
   ]
  },
  {
   "cell_type": "code",
   "execution_count": null,
   "metadata": {
    "collapsed": false
   },
   "outputs": [],
   "source": [
    "df0220=df[df.n==5]\n",
    "df0220.head(10)"
   ]
  },
  {
   "cell_type": "code",
   "execution_count": null,
   "metadata": {
    "collapsed": false
   },
   "outputs": [],
   "source": [
    "angles21=iterate_df_angles(dataframe=df0220,ngammas=3,igamma1=1,igamma2=2,egreater=1.464,esmaller=np.inf)"
   ]
  },
  {
   "cell_type": "code",
   "execution_count": null,
   "metadata": {
    "collapsed": false
   },
   "outputs": [],
   "source": [
    "#Function normalization\n",
    "stepsize=0.001\n",
    "costet=np.arange(-1,1.01,stepsize)\n",
    "w=wtheta(-0.2487,0.3005,costet)\n",
    "areaw=np.sum(w*stepsize)\n",
    "\n",
    "#Histogram normalization\n",
    "nbins=40\n",
    "binwidth=2/nbins\n",
    "counts, edges = np.histogram(angles21,bins=nbins,range=(-1,1))\n",
    "centers=edges[:-1]+binwidth/2\n",
    "norm=np.sum(np.multiply(counts,binwidth))\n",
    "normed_counts=np.divide(counts,norm)\n",
    "normed_counts_err=np.divide(np.sqrt(counts),norm)\n",
    "\n",
    "plt.errorbar(centers,normed_counts,normed_counts_err, color='royalblue', marker='o', linestyle='', \n",
    "             ms=4, elinewidth=1, label='DECAY0')\n",
    "plt.plot(costet,w/areaw, linestyle='-', marker='', linewidth=2, color='orangered', label='Theory')\n",
    "plt.xlabel('cos($\\\\theta$)')\n",
    "plt.ylabel('$W(\\\\theta)_{\\\\rm{normed}}$')\n",
    "plt.xlim(-1,1)\n",
    "plt.legend()\n",
    "plt.show()"
   ]
  },
  {
   "cell_type": "markdown",
   "metadata": {},
   "source": [
    "#### 3.2.2 The 2+ $\\rightarrow$ 2+ $\\rightarrow$ 0+ transition with $E_2 = 723$ keV, $E_3 = 603$ keV  and $\\delta_{2+\\rightarrow2+} = -3.4$"
   ]
  },
  {
   "cell_type": "code",
   "execution_count": null,
   "metadata": {
    "collapsed": false
   },
   "outputs": [],
   "source": [
    "angles22=iterate_df_angles(dataframe=df0220,ngammas=3,igamma1=2,igamma2=3,egreater=0,esmaller=0.724)"
   ]
  },
  {
   "cell_type": "code",
   "execution_count": null,
   "metadata": {
    "collapsed": false
   },
   "outputs": [],
   "source": [
    "#Function normalization\n",
    "stepsize=0.001\n",
    "costet=np.arange(-1,1.01,stepsize)\n",
    "w=wtheta(0.1476,0.3005,costet)\n",
    "areaw=np.sum(w*stepsize)\n",
    "\n",
    "#Histogram normalization\n",
    "nbins=40\n",
    "binwidth=2/nbins\n",
    "counts, edges = np.histogram(angles22,bins=nbins,range=(-1,1))\n",
    "centers=edges[:-1]+binwidth/2\n",
    "norm=np.sum(np.multiply(counts,binwidth))\n",
    "normed_counts=np.divide(counts,norm)\n",
    "normed_counts_err=np.divide(np.sqrt(counts),norm)\n",
    "\n",
    "plt.errorbar(centers,normed_counts,normed_counts_err, color='royalblue', marker='o', linestyle='', \n",
    "             ms=4, elinewidth=1, label='DECAY0')\n",
    "plt.plot(costet,w/areaw, linestyle='-', marker='', linewidth=2, color='orangered', label='Theory')\n",
    "plt.xlabel('cos($\\\\theta$)')\n",
    "plt.ylabel('$W(\\\\theta)_{\\\\rm{normed}}$')\n",
    "plt.xlim(-1,1)\n",
    "plt.legend()\n",
    "plt.show()"
   ]
  },
  {
   "cell_type": "markdown",
   "metadata": {},
   "source": [
    "#### 3.2.3 The 0+ $\\rightarrow$ 2+ $\\rightarrow$ 2+ transition with $E_1 = 752$ keV, $E_2 = 1437$ keV  and $\\delta = 0.13$"
   ]
  },
  {
   "cell_type": "code",
   "execution_count": null,
   "metadata": {
    "collapsed": false
   },
   "outputs": [],
   "source": [
    "angles23=iterate_df_angles(dataframe=df0220,ngammas=3,igamma1=1,igamma2=2,egreater=0,esmaller=0.753)"
   ]
  },
  {
   "cell_type": "code",
   "execution_count": null,
   "metadata": {
    "collapsed": false
   },
   "outputs": [],
   "source": [
    "#Function normalization\n",
    "stepsize=0.001\n",
    "costet=np.arange(-1,1.01,stepsize)\n",
    "w=wtheta(0.3381,0.0054,costet)\n",
    "areaw=np.sum(w*stepsize)\n",
    "\n",
    "#Histogram normalization\n",
    "nbins=10\n",
    "binwidth=2/nbins\n",
    "counts, edges = np.histogram(angles23,bins=nbins,range=(-1,1))\n",
    "centers=edges[:-1]+binwidth/2\n",
    "norm=np.sum(np.multiply(counts,binwidth))\n",
    "normed_counts=np.divide(counts,norm)\n",
    "normed_counts_err=np.divide(np.sqrt(counts),norm)\n",
    "\n",
    "plt.errorbar(centers,normed_counts,normed_counts_err, color='royalblue', marker='o', linestyle='', \n",
    "             ms=4, elinewidth=1, label='DECAY0')\n",
    "plt.plot(costet,w/areaw, linestyle='-', marker='', linewidth=2, color='orangered', label='Theory')\n",
    "plt.xlabel('cos($\\\\theta$)')\n",
    "plt.ylabel('$W(\\\\theta)_{\\\\rm{normed}}$')\n",
    "plt.xlim(-1,1)\n",
    "plt.legend()\n",
    "plt.show()"
   ]
  },
  {
   "cell_type": "markdown",
   "metadata": {},
   "source": [
    "#### 3.2.2 The 2+ $\\rightarrow$ 2+ $\\rightarrow$ 0+ transition with $E_2 = 1437$ keV, $E_3 = 603$ keV  and $\\delta_{2+\\rightarrow2+} = 0.13$"
   ]
  },
  {
   "cell_type": "code",
   "execution_count": null,
   "metadata": {
    "collapsed": false
   },
   "outputs": [],
   "source": [
    "angles24=iterate_df_angles(dataframe=df0220,ngammas=3,igamma1=2,igamma2=3,egreater=0.724,esmaller=np.inf)"
   ]
  },
  {
   "cell_type": "code",
   "execution_count": null,
   "metadata": {
    "collapsed": false
   },
   "outputs": [],
   "source": [
    "#Function normalization\n",
    "stepsize=0.001\n",
    "costet=np.arange(-1,1.01,stepsize)\n",
    "w=wtheta(0.1510,0.0054,costet)\n",
    "areaw=np.sum(w*stepsize)\n",
    "\n",
    "#Histogram normalization\n",
    "nbins=10\n",
    "binwidth=2/nbins\n",
    "counts, edges = np.histogram(angles24,bins=nbins,range=(-1,1))\n",
    "centers=edges[:-1]+binwidth/2\n",
    "norm=np.sum(np.multiply(counts,binwidth))\n",
    "normed_counts=np.divide(counts,norm)\n",
    "normed_counts_err=np.divide(np.sqrt(counts),norm)\n",
    "\n",
    "plt.errorbar(centers,normed_counts,normed_counts_err, color='royalblue', marker='o', linestyle='', \n",
    "             ms=4, elinewidth=1, label='DECAY0')\n",
    "plt.plot(costet,w/areaw, linestyle='-', marker='', linewidth=2, color='orangered', label='Theory')\n",
    "plt.xlabel('cos($\\\\theta$)')\n",
    "plt.ylabel('$W(\\\\theta)_{\\\\rm{normed}}$')\n",
    "plt.xlim(-1,1)\n",
    "plt.legend()\n",
    "plt.show()"
   ]
  },
  {
   "cell_type": "code",
   "execution_count": null,
   "metadata": {
    "collapsed": true
   },
   "outputs": [],
   "source": []
  },
  {
   "cell_type": "code",
   "execution_count": null,
   "metadata": {
    "collapsed": true
   },
   "outputs": [],
   "source": []
  }
 ],
 "metadata": {
  "kernelspec": {
   "display_name": "Python 3",
   "language": "python",
   "name": "python3"
  },
  "language_info": {
   "codemirror_mode": {
    "name": "ipython",
    "version": 3
   },
   "file_extension": ".py",
   "mimetype": "text/x-python",
   "name": "python",
   "nbconvert_exporter": "python",
   "pygments_lexer": "ipython3",
   "version": "3.5.1"
  }
 },
 "nbformat": 4,
 "nbformat_minor": 0
}
