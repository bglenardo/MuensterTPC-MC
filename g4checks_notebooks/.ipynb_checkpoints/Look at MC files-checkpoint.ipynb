{
 "cells": [
  {
   "cell_type": "code",
   "execution_count": 2,
   "metadata": {
    "collapsed": false
   },
   "outputs": [],
   "source": [
    "from init import *\n",
    "from rootIO import *"
   ]
  },
  {
   "cell_type": "code",
   "execution_count": 12,
   "metadata": {
    "collapsed": false
   },
   "outputs": [
    {
     "name": "stdout",
     "output_type": "stream",
     "text": [
      "/Users/christianwittweg/geant4_workdir/MuensterTPC-MC/example_spectra_decay0/*_Decay0_Xe124_2nukbplus.root\n",
      "\n"
     ]
    }
   ],
   "source": [
    "_files_dir = '/Users/christianwittweg/geant4_workdir/MuensterTPC-MC/example_spectra_decay0/'\n",
    "_filename = '*_Decay0_Xe124_'\n",
    "_decayname = '2nukbplus'\n",
    "_suffix = '.root'\n",
    "\n",
    "_file = _files_dir + _filename + _decayname + _suffix\n",
    "\n",
    "branches= ['eventid','ed', 'xp', 'yp', 'zp', 'type', 'trackid', 'time', 'parentid','etot']\n",
    "\n",
    "df = g4root_to_df(_file,branches,1)\n"
   ]
  },
  {
   "cell_type": "code",
   "execution_count": 13,
   "metadata": {
    "collapsed": false
   },
   "outputs": [
    {
     "data": {
      "text/html": [
       "<div>\n",
       "<table border=\"1\" class=\"dataframe\">\n",
       "  <thead>\n",
       "    <tr style=\"text-align: right;\">\n",
       "      <th></th>\n",
       "      <th>eventid</th>\n",
       "      <th>ed</th>\n",
       "      <th>xp</th>\n",
       "      <th>yp</th>\n",
       "      <th>zp</th>\n",
       "      <th>type</th>\n",
       "      <th>trackid</th>\n",
       "      <th>time</th>\n",
       "      <th>parentid</th>\n",
       "      <th>etot</th>\n",
       "    </tr>\n",
       "    <tr>\n",
       "      <th>entry</th>\n",
       "      <th></th>\n",
       "      <th></th>\n",
       "      <th></th>\n",
       "      <th></th>\n",
       "      <th></th>\n",
       "      <th></th>\n",
       "      <th></th>\n",
       "      <th></th>\n",
       "      <th></th>\n",
       "      <th></th>\n",
       "    </tr>\n",
       "  </thead>\n",
       "  <tbody>\n",
       "    <tr>\n",
       "      <th>0</th>\n",
       "      <td>0</td>\n",
       "      <td>[5.4169, 26.383106, 0.0, 150.13332, 103.60142,...</td>\n",
       "      <td>[-438.8551, -438.8549, -438.8549, -439.1698, -...</td>\n",
       "      <td>[34.867226, 34.867844, 34.867844, 35.142376, 3...</td>\n",
       "      <td>[58.79835, 58.799255, 58.799255, 58.487923, 58...</td>\n",
       "      <td>[b'gamma', b'e-', b'e-', b'e+', b'e+', b'e+', ...</td>\n",
       "      <td>[2, 3, 3, 1, 1, 1, 1, 1, 1, 1, 5, 5, 8, 4, 4, ...</td>\n",
       "      <td>[2.1223704e-12, 2.134381e-12, 2.134381e-12, 6....</td>\n",
       "      <td>[0, 2, 2, 0, 0, 0, 0, 0, 0, 0, 1, 1, 5, 1, 1, ...</td>\n",
       "      <td>1629.711548</td>\n",
       "    </tr>\n",
       "    <tr>\n",
       "      <th>1</th>\n",
       "      <td>1</td>\n",
       "      <td>[0.14798, 31.652016, 0.0, 276.06726, 124.08265...</td>\n",
       "      <td>[-345.53702, -345.5378, -345.5378, -345.37518,...</td>\n",
       "      <td>[54.548355, 54.54736, 54.54736, 54.848946, 55....</td>\n",
       "      <td>[-220.74518, -220.74442, -220.74442, -220.4978...</td>\n",
       "      <td>[b'gamma', b'e-', b'e-', b'e+', b'e+', b'e+', ...</td>\n",
       "      <td>[2, 3, 3, 1, 1, 1, 1, 1, 1, 1, 1, 6, 6, 7, 7, ...</td>\n",
       "      <td>[1.4602027e-13, 1.6079592e-13, 1.6079592e-13, ...</td>\n",
       "      <td>[0, 2, 2, 0, 0, 0, 0, 0, 0, 0, 0, 1, 1, 6, 6, ...</td>\n",
       "      <td>1653.509766</td>\n",
       "    </tr>\n",
       "    <tr>\n",
       "      <th>2</th>\n",
       "      <td>2</td>\n",
       "      <td>[5.4169, 26.38309, 0.0, 238.88066, 146.04602, ...</td>\n",
       "      <td>[332.80054, 332.8012, 332.8012, 332.96414, 333...</td>\n",
       "      <td>[-370.1233, -370.124, -370.124, -369.72766, -3...</td>\n",
       "      <td>[-89.16863, -89.16917, -89.16917, -89.258934, ...</td>\n",
       "      <td>[b'gamma', b'e-', b'e-', b'e+', b'e+', b'e+', ...</td>\n",
       "      <td>[2, 3, 3, 1, 1, 1, 1, 1, 1, 1, 1, 1, 5, 5, 5, ...</td>\n",
       "      <td>[7.333081e-13, 7.453188e-13, 7.453188e-13, 1.2...</td>\n",
       "      <td>[0, 2, 2, 0, 0, 0, 0, 0, 0, 0, 0, 0, 1, 1, 1, ...</td>\n",
       "      <td>2055.351807</td>\n",
       "    </tr>\n",
       "    <tr>\n",
       "      <th>3</th>\n",
       "      <td>3</td>\n",
       "      <td>[5.4169, 26.383078, 0.0, 62.0584, 86.67277, 60...</td>\n",
       "      <td>[336.27747, 336.2785, 336.2785, 335.1887, 335....</td>\n",
       "      <td>[102.12111, 102.120926, 102.120926, 101.22068,...</td>\n",
       "      <td>[-296.0506, -296.05096, -296.05096, -295.88467...</td>\n",
       "      <td>[b'gamma', b'e-', b'e-', b'e+', b'e+', b'e+', ...</td>\n",
       "      <td>[2, 3, 3, 1, 1, 1, 1, 5, 4, 4, 9, 10, 10, 8, 8...</td>\n",
       "      <td>[4.631572e-12, 4.643583e-12, 4.643583e-12, 1.8...</td>\n",
       "      <td>[0, 2, 2, 0, 0, 0, 0, 1, 1, 1, 4, 9, 9, 4, 4, ...</td>\n",
       "      <td>752.156006</td>\n",
       "    </tr>\n",
       "    <tr>\n",
       "      <th>4</th>\n",
       "      <td>4</td>\n",
       "      <td>[1.122, 30.678024, 0.0, 77.57234, 93.675446, 1...</td>\n",
       "      <td>[250.73523, 250.7358, 250.7358, 250.07353, 250...</td>\n",
       "      <td>[280.5098, 280.5088, 280.5088, 280.03046, 279....</td>\n",
       "      <td>[29.311062, 29.310219, 29.310219, 29.97169, 29...</td>\n",
       "      <td>[b'gamma', b'e-', b'e-', b'e+', b'e+', b'e+', ...</td>\n",
       "      <td>[2, 3, 3, 1, 1, 1, 1, 1, 5, 5, 5, 4, 4, 4, 11,...</td>\n",
       "      <td>[3.2256999e-12, 3.2399643e-12, 3.2399643e-12, ...</td>\n",
       "      <td>[0, 2, 2, 0, 0, 0, 0, 0, 1, 1, 1, 1, 1, 1, 4, ...</td>\n",
       "      <td>1421.408081</td>\n",
       "    </tr>\n",
       "  </tbody>\n",
       "</table>\n",
       "</div>"
      ],
      "text/plain": [
       "       eventid                                                 ed  \\\n",
       "entry                                                               \n",
       "0            0  [5.4169, 26.383106, 0.0, 150.13332, 103.60142,...   \n",
       "1            1  [0.14798, 31.652016, 0.0, 276.06726, 124.08265...   \n",
       "2            2  [5.4169, 26.38309, 0.0, 238.88066, 146.04602, ...   \n",
       "3            3  [5.4169, 26.383078, 0.0, 62.0584, 86.67277, 60...   \n",
       "4            4  [1.122, 30.678024, 0.0, 77.57234, 93.675446, 1...   \n",
       "\n",
       "                                                      xp  \\\n",
       "entry                                                      \n",
       "0      [-438.8551, -438.8549, -438.8549, -439.1698, -...   \n",
       "1      [-345.53702, -345.5378, -345.5378, -345.37518,...   \n",
       "2      [332.80054, 332.8012, 332.8012, 332.96414, 333...   \n",
       "3      [336.27747, 336.2785, 336.2785, 335.1887, 335....   \n",
       "4      [250.73523, 250.7358, 250.7358, 250.07353, 250...   \n",
       "\n",
       "                                                      yp  \\\n",
       "entry                                                      \n",
       "0      [34.867226, 34.867844, 34.867844, 35.142376, 3...   \n",
       "1      [54.548355, 54.54736, 54.54736, 54.848946, 55....   \n",
       "2      [-370.1233, -370.124, -370.124, -369.72766, -3...   \n",
       "3      [102.12111, 102.120926, 102.120926, 101.22068,...   \n",
       "4      [280.5098, 280.5088, 280.5088, 280.03046, 279....   \n",
       "\n",
       "                                                      zp  \\\n",
       "entry                                                      \n",
       "0      [58.79835, 58.799255, 58.799255, 58.487923, 58...   \n",
       "1      [-220.74518, -220.74442, -220.74442, -220.4978...   \n",
       "2      [-89.16863, -89.16917, -89.16917, -89.258934, ...   \n",
       "3      [-296.0506, -296.05096, -296.05096, -295.88467...   \n",
       "4      [29.311062, 29.310219, 29.310219, 29.97169, 29...   \n",
       "\n",
       "                                                    type  \\\n",
       "entry                                                      \n",
       "0      [b'gamma', b'e-', b'e-', b'e+', b'e+', b'e+', ...   \n",
       "1      [b'gamma', b'e-', b'e-', b'e+', b'e+', b'e+', ...   \n",
       "2      [b'gamma', b'e-', b'e-', b'e+', b'e+', b'e+', ...   \n",
       "3      [b'gamma', b'e-', b'e-', b'e+', b'e+', b'e+', ...   \n",
       "4      [b'gamma', b'e-', b'e-', b'e+', b'e+', b'e+', ...   \n",
       "\n",
       "                                                 trackid  \\\n",
       "entry                                                      \n",
       "0      [2, 3, 3, 1, 1, 1, 1, 1, 1, 1, 5, 5, 8, 4, 4, ...   \n",
       "1      [2, 3, 3, 1, 1, 1, 1, 1, 1, 1, 1, 6, 6, 7, 7, ...   \n",
       "2      [2, 3, 3, 1, 1, 1, 1, 1, 1, 1, 1, 1, 5, 5, 5, ...   \n",
       "3      [2, 3, 3, 1, 1, 1, 1, 5, 4, 4, 9, 10, 10, 8, 8...   \n",
       "4      [2, 3, 3, 1, 1, 1, 1, 1, 5, 5, 5, 4, 4, 4, 11,...   \n",
       "\n",
       "                                                    time  \\\n",
       "entry                                                      \n",
       "0      [2.1223704e-12, 2.134381e-12, 2.134381e-12, 6....   \n",
       "1      [1.4602027e-13, 1.6079592e-13, 1.6079592e-13, ...   \n",
       "2      [7.333081e-13, 7.453188e-13, 7.453188e-13, 1.2...   \n",
       "3      [4.631572e-12, 4.643583e-12, 4.643583e-12, 1.8...   \n",
       "4      [3.2256999e-12, 3.2399643e-12, 3.2399643e-12, ...   \n",
       "\n",
       "                                                parentid         etot  \n",
       "entry                                                                  \n",
       "0      [0, 2, 2, 0, 0, 0, 0, 0, 0, 0, 1, 1, 5, 1, 1, ...  1629.711548  \n",
       "1      [0, 2, 2, 0, 0, 0, 0, 0, 0, 0, 0, 1, 1, 6, 6, ...  1653.509766  \n",
       "2      [0, 2, 2, 0, 0, 0, 0, 0, 0, 0, 0, 0, 1, 1, 1, ...  2055.351807  \n",
       "3      [0, 2, 2, 0, 0, 0, 0, 1, 1, 1, 4, 9, 9, 4, 4, ...   752.156006  \n",
       "4      [0, 2, 2, 0, 0, 0, 0, 0, 1, 1, 1, 1, 1, 1, 4, ...  1421.408081  "
      ]
     },
     "execution_count": 13,
     "metadata": {},
     "output_type": "execute_result"
    }
   ],
   "source": [
    "df.head()"
   ]
  },
  {
   "cell_type": "code",
   "execution_count": 14,
   "metadata": {
    "collapsed": false
   },
   "outputs": [
    {
     "data": {
      "image/png": "[encoded data removed]",
      "text/plain": [
       "<matplotlib.figure.Figure at 0x118a99390>"
      ]
     },
     "metadata": {},
     "output_type": "display_data"
    }
   ],
   "source": [
    "eventid=0\n",
    "\n",
    "plt.scatter((np.sqrt(df.xp[eventid]**2+df.yp[eventid]**2)), df.zp[eventid], c=df.time[eventid]*1e9, s=df.ed[eventid]/10)\n",
    "plt.colorbar(label='Time [ns]')\n",
    "plt.xlabel('R [mm]')\n",
    "plt.ylabel('Z [mm]')\n",
    "plt.draw()\n",
    "plt.show()"
   ]
  },
  {
   "cell_type": "code",
   "execution_count": 15,
   "metadata": {
    "collapsed": false
   },
   "outputs": [
    {
     "name": "stdout",
     "output_type": "stream",
     "text": [
      "1021.9978172034025\n",
      "607.7138438224792\n",
      "1629.7116610258818\n"
     ]
    }
   ],
   "source": [
    "esum_late=0\n",
    "for pair in zip(np.array(df.iloc[eventid]['time']),np.array(df.iloc[eventid]['ed'])):\n",
    "    if pair[0] > 0.02e-9:\n",
    "        esum_late+=pair[1]\n",
    "        \n",
    "print(esum_late)\n",
    "\n",
    "esum_early=0\n",
    "for pair in zip(np.array(df.iloc[eventid]['time']),np.array(df.iloc[eventid]['ed'])):\n",
    "    if pair[0] < 0.02e-9:\n",
    "        esum_early+=pair[1]\n",
    "        \n",
    "print(esum_early)\n",
    "\n",
    "print(esum_early+esum_late)"
   ]
  },
  {
   "cell_type": "code",
   "execution_count": 18,
   "metadata": {
    "collapsed": false
   },
   "outputs": [
    {
     "ename": "NameError",
     "evalue": "name 'decayname' is not defined",
     "output_type": "error",
     "traceback": [
      "\u001b[0;31m---------------------------------------------------------------------------\u001b[0m",
      "\u001b[0;31mNameError\u001b[0m                                 Traceback (most recent call last)",
      "\u001b[0;32m<ipython-input-18-fa2f897a3f75>\u001b[0m in \u001b[0;36m<module>\u001b[0;34m()\u001b[0m\n\u001b[1;32m      3\u001b[0m \u001b[0mplt\u001b[0m\u001b[0;34m.\u001b[0m\u001b[0mylabel\u001b[0m\u001b[0;34m(\u001b[0m\u001b[0;34m'Counts'\u001b[0m\u001b[0;34m)\u001b[0m\u001b[0;34m\u001b[0m\u001b[0m\n\u001b[1;32m      4\u001b[0m \u001b[0mplt\u001b[0m\u001b[0;34m.\u001b[0m\u001b[0mdraw\u001b[0m\u001b[0;34m(\u001b[0m\u001b[0;34m)\u001b[0m\u001b[0;34m\u001b[0m\u001b[0m\n\u001b[0;32m----> 5\u001b[0;31m \u001b[0mplt\u001b[0m\u001b[0;34m.\u001b[0m\u001b[0msavefig\u001b[0m\u001b[0;34m(\u001b[0m\u001b[0mdecayname\u001b[0m\u001b[0;34m+\u001b[0m\u001b[0;34m'_etot.pdf'\u001b[0m\u001b[0;34m,\u001b[0m \u001b[0mtransparent\u001b[0m\u001b[0;34m=\u001b[0m\u001b[0;32mTrue\u001b[0m\u001b[0;34m,\u001b[0m \u001b[0mbbox_inches\u001b[0m\u001b[0;34m=\u001b[0m\u001b[0;34m'tight'\u001b[0m\u001b[0;34m)\u001b[0m\u001b[0;34m\u001b[0m\u001b[0m\n\u001b[0m\u001b[1;32m      6\u001b[0m \u001b[0mplt\u001b[0m\u001b[0;34m.\u001b[0m\u001b[0mshow\u001b[0m\u001b[0;34m(\u001b[0m\u001b[0;34m)\u001b[0m\u001b[0;34m\u001b[0m\u001b[0m\n",
      "\u001b[0;31mNameError\u001b[0m: name 'decayname' is not defined"
     ]
    }
   ],
   "source": [
    "plt.hist(df.etot,range=(0,3000),bins=150)\n",
    "plt.xlabel('E$_{\\\\rm{tot}}$ [keV]')\n",
    "plt.ylabel('Counts')\n",
    "plt.draw()\n",
    "plt.savefig(_decayname+'_etot.pdf', transparent=True, bbox_inches='tight')\n",
    "plt.show()"
   ]
  },
  {
   "cell_type": "code",
   "execution_count": 17,
   "metadata": {
    "collapsed": false
   },
   "outputs": [
    {
     "name": "stdout",
     "output_type": "stream",
     "text": [
      "(2, b'gamma', 0)\n",
      "(3, b'e-', 2)\n",
      "(3, b'e-', 2)\n",
      "(1, b'e+', 0)\n",
      "(1, b'e+', 0)\n",
      "(1, b'e+', 0)\n",
      "(1, b'e+', 0)\n",
      "(1, b'e+', 0)\n",
      "(1, b'e+', 0)\n",
      "(1, b'e+', 0)\n",
      "(5, b'gamma', 1)\n",
      "(5, b'gamma', 1)\n",
      "(8, b'gamma', 5)\n",
      "(4, b'gamma', 1)\n",
      "(4, b'gamma', 1)\n",
      "(12, b'gamma', 4)\n",
      "(13, b'e-', 12)\n",
      "(13, b'e-', 12)\n",
      "(11, b'e-', 4)\n",
      "(11, b'e-', 4)\n",
      "(11, b'e-', 4)\n",
      "(11, b'e-', 4)\n",
      "(11, b'e-', 4)\n",
      "(10, b'e-', 4)\n",
      "(10, b'e-', 4)\n",
      "(10, b'e-', 4)\n",
      "(9, b'e-', 8)\n",
      "(9, b'e-', 8)\n",
      "(7, b'e-', 5)\n",
      "(7, b'e-', 5)\n",
      "(7, b'e-', 5)\n",
      "(6, b'e-', 5)\n",
      "(6, b'e-', 5)\n",
      "(6, b'e-', 5)\n",
      "(6, b'e-', 5)\n",
      "(6, b'e-', 5)\n"
     ]
    }
   ],
   "source": [
    "for pair in zip(df.trackid[eventid], df.type[eventid], df.parentid[eventid]):\n",
    "    print(pair)"
   ]
  },
  {
   "cell_type": "code",
   "execution_count": null,
   "metadata": {
    "collapsed": true
   },
   "outputs": [],
   "source": []
  },
  {
   "cell_type": "code",
   "execution_count": null,
   "metadata": {
    "collapsed": true
   },
   "outputs": [],
   "source": []
  }
 ],
 "metadata": {
  "kernelspec": {
   "display_name": "Python 3",
   "language": "python",
   "name": "python3"
  },
  "language_info": {
   "codemirror_mode": {
    "name": "ipython",
    "version": 3
   },
   "file_extension": ".py",
   "mimetype": "text/x-python",
   "name": "python",
   "nbconvert_exporter": "python",
   "pygments_lexer": "ipython3",
   "version": "3.6.0"
  },
  "widgets": {
   "state": {
    "962e91c1eb7b4c348648f235e5325f8a": {
     "views": [
      {
       "cell_index": 1
      }
     ]
    }
   },
   "version": "1.2.0"
  }
 },
 "nbformat": 4,
 "nbformat_minor": 2
}
