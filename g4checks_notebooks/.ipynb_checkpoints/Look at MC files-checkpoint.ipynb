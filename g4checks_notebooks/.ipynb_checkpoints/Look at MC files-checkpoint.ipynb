{
 "cells": [
  {
   "cell_type": "code",
   "execution_count": 13,
   "metadata": {
    "collapsed": false
   },
   "outputs": [],
   "source": [
    "from init import *\n",
    "from rootIO import *"
   ]
  },
  {
   "cell_type": "code",
   "execution_count": 14,
   "metadata": {
    "collapsed": false
   },
   "outputs": [
    {
     "name": "stdout",
     "output_type": "stream",
     "text": [
      "/Users/christianwittweg/geant4_workdir/MuensterTPC-MC/example_spectra_decay0/*_Decay0_Xe124_0nukk.root\n",
      "\n"
     ]
    }
   ],
   "source": [
    "_files_dir = '/Users/christianwittweg/geant4_workdir/MuensterTPC-MC/example_spectra_decay0/'\n",
    "_filename = '*_Decay0_Xe124_'\n",
    "_decayname = '0nukk'\n",
    "_suffix = '.root'\n",
    "\n",
    "_file = _files_dir + _filename + _decayname + _suffix\n",
    "\n",
    "branches= ['eventid','ed', 'xp', 'yp', 'zp', 'type', 'trackid', 'time', 'parentid','etot']\n",
    "\n",
    "df = g4root_to_df(_file,branches,1)\n"
   ]
  },
  {
   "cell_type": "code",
   "execution_count": 15,
   "metadata": {
    "collapsed": false
   },
   "outputs": [
    {
     "data": {
      "text/html": [
       "<div>\n",
       "<table border=\"1\" class=\"dataframe\">\n",
       "  <thead>\n",
       "    <tr style=\"text-align: right;\">\n",
       "      <th></th>\n",
       "      <th>eventid</th>\n",
       "      <th>ed</th>\n",
       "      <th>xp</th>\n",
       "      <th>yp</th>\n",
       "      <th>zp</th>\n",
       "      <th>type</th>\n",
       "      <th>trackid</th>\n",
       "      <th>time</th>\n",
       "      <th>parentid</th>\n",
       "      <th>etot</th>\n",
       "    </tr>\n",
       "    <tr>\n",
       "      <th>entry</th>\n",
       "      <th></th>\n",
       "      <th></th>\n",
       "      <th></th>\n",
       "      <th></th>\n",
       "      <th></th>\n",
       "      <th></th>\n",
       "      <th></th>\n",
       "      <th></th>\n",
       "      <th></th>\n",
       "      <th></th>\n",
       "    </tr>\n",
       "  </thead>\n",
       "  <tbody>\n",
       "    <tr>\n",
       "      <th>0</th>\n",
       "      <td>0</td>\n",
       "      <td>[0.98947, 4.7747, 86.64599, 92.45376, 0.0, 103...</td>\n",
       "      <td>[54.213753, 51.51388, 51.5026, 51.499546, 51.4...</td>\n",
       "      <td>[-96.5914, -97.8146, -97.827774, -97.83386, -9...</td>\n",
       "      <td>[-72.28212, -72.73715, -72.75388, -72.758705, ...</td>\n",
       "      <td>[b'gamma', b'gamma', b'e-', b'e-', b'e-', b'e-...</td>\n",
       "      <td>[6, 6, 8, 8, 8, 7, 7, 7, 7, 7, 9, 5, 4, 4, 4, ...</td>\n",
       "      <td>[8.961231e-11, 9.96151e-11, 9.9734714e-11, 9.9...</td>\n",
       "      <td>[0, 0, 6, 6, 6, 6, 6, 6, 6, 6, 6, 0, 0, 0, 0, ...</td>\n",
       "      <td>9361.942383</td>\n",
       "    </tr>\n",
       "    <tr>\n",
       "      <th>1</th>\n",
       "      <td>1</td>\n",
       "      <td>[0.06984, 0.0, 89.91214, 91.63193, 32.401287, ...</td>\n",
       "      <td>[77.86749, 43.199886, 77.88308, 77.88079, 77.8...</td>\n",
       "      <td>[162.60342, 119.57253, 162.57985, 162.58969, 1...</td>\n",
       "      <td>[-246.40016, -300.0, -246.38557, -246.3767, -2...</td>\n",
       "      <td>[b'gamma', b'gamma', b'e-', b'e-', b'e-', b'e-...</td>\n",
       "      <td>[6, 6, 7, 7, 7, 7, 5, 4, 4, 3, 2, 2, 1, 14, 14...</td>\n",
       "      <td>[2.3249502e-10, 4.89284e-10, 2.3264463e-10, 2....</td>\n",
       "      <td>[0, 0, 6, 6, 6, 6, 0, 0, 0, 0, 0, 0, 0, 1, 1, ...</td>\n",
       "      <td>8973.224609</td>\n",
       "    </tr>\n",
       "    <tr>\n",
       "      <th>2</th>\n",
       "      <td>2</td>\n",
       "      <td>[0.01096, 4.7747, 82.335396, 84.14929, 125.870...</td>\n",
       "      <td>[-125.84367, -112.00575, -111.95881, -111.9465...</td>\n",
       "      <td>[9.083109, 15.907622, 15.967271, 16.008968, 16...</td>\n",
       "      <td>[40.868763, 47.78672, 47.818733, 47.779438, 47...</td>\n",
       "      <td>[b'gamma', b'gamma', b'e-', b'e-', b'e-', b'e-...</td>\n",
       "      <td>[6, 6, 8, 8, 8, 8, 8, 7, 7, 7, 9, 9, 5, 4, 3, ...</td>\n",
       "      <td>[4.730452e-11, 1.0370746e-10, 1.0403935e-10, 1...</td>\n",
       "      <td>[0, 0, 6, 6, 6, 6, 6, 6, 6, 6, 6, 6, 0, 0, 0, ...</td>\n",
       "      <td>9361.932617</td>\n",
       "    </tr>\n",
       "    <tr>\n",
       "      <th>3</th>\n",
       "      <td>3</td>\n",
       "      <td>[0.06984, 5.1039, 114.17728, 43.167915, 0.0, 8...</td>\n",
       "      <td>[-157.63937, -157.35503, -157.3664, -157.366, ...</td>\n",
       "      <td>[-99.664764, -99.66359, -99.66735, -99.66888, ...</td>\n",
       "      <td>[226.25648, 224.7969, 224.78131, 224.78317, 22...</td>\n",
       "      <td>[b'gamma', b'gamma', b'e-', b'e-', b'e-', b'e-...</td>\n",
       "      <td>[6, 6, 8, 8, 8, 7, 7, 7, 7, 7, 7, 5, 4, 4, 4, ...</td>\n",
       "      <td>[3.716464e-10, 3.7660663e-10, 3.7670836e-10, 3...</td>\n",
       "      <td>[0, 0, 6, 6, 6, 6, 6, 6, 6, 6, 6, 0, 0, 0, 0, ...</td>\n",
       "      <td>9361.933594</td>\n",
       "    </tr>\n",
       "    <tr>\n",
       "      <th>4</th>\n",
       "      <td>4</td>\n",
       "      <td>[4.7747, 0.01096, 4.7747, 0.69091, 0.0, 4.7747...</td>\n",
       "      <td>[-493.3774, -525.13715, -525.9396, -525.76355,...</td>\n",
       "      <td>[-215.29431, -201.38448, -199.94518, -202.5556...</td>\n",
       "      <td>[187.87273, 206.95332, 209.32587, 208.57843, 2...</td>\n",
       "      <td>[b'gamma', b'gamma', b'gamma', b'gamma', b'gam...</td>\n",
       "      <td>[6, 6, 6, 6, 6, 6, 11, 11, 10, 10, 9, 9, 9, 8,...</td>\n",
       "      <td>[3.6554534e-11, 1.6856479e-10, 1.7820034e-10, ...</td>\n",
       "      <td>[0, 0, 0, 0, 0, 0, 6, 6, 6, 6, 6, 6, 6, 6, 6, ...</td>\n",
       "      <td>8850.937500</td>\n",
       "    </tr>\n",
       "  </tbody>\n",
       "</table>\n",
       "</div>"
      ],
      "text/plain": [
       "       eventid                                                 ed  \\\n",
       "entry                                                               \n",
       "0            0  [0.98947, 4.7747, 86.64599, 92.45376, 0.0, 103...   \n",
       "1            1  [0.06984, 0.0, 89.91214, 91.63193, 32.401287, ...   \n",
       "2            2  [0.01096, 4.7747, 82.335396, 84.14929, 125.870...   \n",
       "3            3  [0.06984, 5.1039, 114.17728, 43.167915, 0.0, 8...   \n",
       "4            4  [4.7747, 0.01096, 4.7747, 0.69091, 0.0, 4.7747...   \n",
       "\n",
       "                                                      xp  \\\n",
       "entry                                                      \n",
       "0      [54.213753, 51.51388, 51.5026, 51.499546, 51.4...   \n",
       "1      [77.86749, 43.199886, 77.88308, 77.88079, 77.8...   \n",
       "2      [-125.84367, -112.00575, -111.95881, -111.9465...   \n",
       "3      [-157.63937, -157.35503, -157.3664, -157.366, ...   \n",
       "4      [-493.3774, -525.13715, -525.9396, -525.76355,...   \n",
       "\n",
       "                                                      yp  \\\n",
       "entry                                                      \n",
       "0      [-96.5914, -97.8146, -97.827774, -97.83386, -9...   \n",
       "1      [162.60342, 119.57253, 162.57985, 162.58969, 1...   \n",
       "2      [9.083109, 15.907622, 15.967271, 16.008968, 16...   \n",
       "3      [-99.664764, -99.66359, -99.66735, -99.66888, ...   \n",
       "4      [-215.29431, -201.38448, -199.94518, -202.5556...   \n",
       "\n",
       "                                                      zp  \\\n",
       "entry                                                      \n",
       "0      [-72.28212, -72.73715, -72.75388, -72.758705, ...   \n",
       "1      [-246.40016, -300.0, -246.38557, -246.3767, -2...   \n",
       "2      [40.868763, 47.78672, 47.818733, 47.779438, 47...   \n",
       "3      [226.25648, 224.7969, 224.78131, 224.78317, 22...   \n",
       "4      [187.87273, 206.95332, 209.32587, 208.57843, 2...   \n",
       "\n",
       "                                                    type  \\\n",
       "entry                                                      \n",
       "0      [b'gamma', b'gamma', b'e-', b'e-', b'e-', b'e-...   \n",
       "1      [b'gamma', b'gamma', b'e-', b'e-', b'e-', b'e-...   \n",
       "2      [b'gamma', b'gamma', b'e-', b'e-', b'e-', b'e-...   \n",
       "3      [b'gamma', b'gamma', b'e-', b'e-', b'e-', b'e-...   \n",
       "4      [b'gamma', b'gamma', b'gamma', b'gamma', b'gam...   \n",
       "\n",
       "                                                 trackid  \\\n",
       "entry                                                      \n",
       "0      [6, 6, 8, 8, 8, 7, 7, 7, 7, 7, 9, 5, 4, 4, 4, ...   \n",
       "1      [6, 6, 7, 7, 7, 7, 5, 4, 4, 3, 2, 2, 1, 14, 14...   \n",
       "2      [6, 6, 8, 8, 8, 8, 8, 7, 7, 7, 9, 9, 5, 4, 3, ...   \n",
       "3      [6, 6, 8, 8, 8, 7, 7, 7, 7, 7, 7, 5, 4, 4, 4, ...   \n",
       "4      [6, 6, 6, 6, 6, 6, 11, 11, 10, 10, 9, 9, 9, 8,...   \n",
       "\n",
       "                                                    time  \\\n",
       "entry                                                      \n",
       "0      [8.961231e-11, 9.96151e-11, 9.9734714e-11, 9.9...   \n",
       "1      [2.3249502e-10, 4.89284e-10, 2.3264463e-10, 2....   \n",
       "2      [4.730452e-11, 1.0370746e-10, 1.0403935e-10, 1...   \n",
       "3      [3.716464e-10, 3.7660663e-10, 3.7670836e-10, 3...   \n",
       "4      [3.6554534e-11, 1.6856479e-10, 1.7820034e-10, ...   \n",
       "\n",
       "                                                parentid         etot  \n",
       "entry                                                                  \n",
       "0      [0, 0, 6, 6, 6, 6, 6, 6, 6, 6, 6, 0, 0, 0, 0, ...  9361.942383  \n",
       "1      [0, 0, 6, 6, 6, 6, 0, 0, 0, 0, 0, 0, 0, 1, 1, ...  8973.224609  \n",
       "2      [0, 0, 6, 6, 6, 6, 6, 6, 6, 6, 6, 6, 0, 0, 0, ...  9361.932617  \n",
       "3      [0, 0, 6, 6, 6, 6, 6, 6, 6, 6, 6, 0, 0, 0, 0, ...  9361.933594  \n",
       "4      [0, 0, 0, 0, 0, 0, 6, 6, 6, 6, 6, 6, 6, 6, 6, ...  8850.937500  "
      ]
     },
     "execution_count": 15,
     "metadata": {},
     "output_type": "execute_result"
    }
   ],
   "source": [
    "df.head()"
   ]
  },
  {
   "cell_type": "code",
   "execution_count": 16,
   "metadata": {
    "collapsed": false
   },
   "outputs": [
    {
     "data": {
      "image/png": "[encoded data removed]",
      "text/plain": [
       "<matplotlib.figure.Figure at 0x11ca91780>"
      ]
     },
     "metadata": {},
     "output_type": "display_data"
    }
   ],
   "source": [
    "eventid=1\n",
    "\n",
    "plt.scatter((np.sqrt(df.xp[eventid]**2+df.yp[eventid]**2)), df.zp[eventid], c=df.time[eventid]*1e9, s=df.ed[eventid]/10)\n",
    "plt.colorbar(label='Time [ns]')\n",
    "plt.xlabel('R [mm]')\n",
    "plt.ylabel('Z [mm]')\n",
    "plt.draw()\n",
    "plt.show()"
   ]
  },
  {
   "cell_type": "code",
   "execution_count": 17,
   "metadata": {
    "collapsed": false
   },
   "outputs": [
    {
     "name": "stdout",
     "output_type": "stream",
     "text": [
      "8906.494924711064\n",
      "66.72997134923935\n",
      "8973.224896060303\n"
     ]
    }
   ],
   "source": [
    "esum_late=0\n",
    "for pair in zip(np.array(df.iloc[eventid]['time']),np.array(df.iloc[eventid]['ed'])):\n",
    "    if pair[0] > 0.02e-9:\n",
    "        esum_late+=pair[1]\n",
    "        \n",
    "print(esum_late)\n",
    "\n",
    "esum_early=0\n",
    "for pair in zip(np.array(df.iloc[eventid]['time']),np.array(df.iloc[eventid]['ed'])):\n",
    "    if pair[0] < 0.02e-9:\n",
    "        esum_early+=pair[1]\n",
    "        \n",
    "print(esum_early)\n",
    "\n",
    "print(esum_early+esum_late)"
   ]
  },
  {
   "cell_type": "code",
   "execution_count": 18,
   "metadata": {
    "collapsed": false
   },
   "outputs": [
    {
     "data": {
      "image/png": "[encoded data removed]",
      "text/plain": [
       "<matplotlib.figure.Figure at 0x11d1a2400>"
      ]
     },
     "metadata": {},
     "output_type": "display_data"
    }
   ],
   "source": [
    "plt.hist(df.etot,range=(0,3000),bins=150)\n",
    "plt.xlabel('E$_{\\\\rm{tot}}$ [keV]')\n",
    "plt.ylabel('Counts')\n",
    "plt.draw()\n",
    "plt.savefig(_decayname+'_etot.pdf', transparent=True, bbox_inches='tight')\n",
    "plt.show()"
   ]
  },
  {
   "cell_type": "code",
   "execution_count": 19,
   "metadata": {
    "collapsed": false
   },
   "outputs": [
    {
     "name": "stdout",
     "output_type": "stream",
     "text": [
      "(6, b'gamma', 0)\n",
      "(6, b'gamma', 0)\n",
      "(7, b'e-', 6)\n",
      "(7, b'e-', 6)\n",
      "(7, b'e-', 6)\n",
      "(7, b'e-', 6)\n",
      "(5, b'gamma', 0)\n",
      "(4, b'gamma', 0)\n",
      "(4, b'gamma', 0)\n",
      "(3, b'gamma', 0)\n",
      "(2, b'gamma', 0)\n",
      "(2, b'gamma', 0)\n",
      "(1, b'gamma', 0)\n",
      "(14, b'e-', 1)\n",
      "(14, b'e-', 1)\n",
      "(13, b'e-', 2)\n",
      "(13, b'e-', 2)\n",
      "(12, b'e-', 3)\n",
      "(12, b'e-', 3)\n",
      "(11, b'e-', 4)\n",
      "(11, b'e-', 4)\n",
      "(11, b'e-', 4)\n",
      "(11, b'e-', 4)\n",
      "(11, b'e-', 4)\n",
      "(11, b'e-', 4)\n",
      "(11, b'e-', 4)\n",
      "(10, b'e-', 4)\n",
      "(10, b'e-', 4)\n",
      "(10, b'e-', 4)\n",
      "(10, b'e-', 4)\n",
      "(10, b'e-', 4)\n",
      "(10, b'e-', 4)\n",
      "(10, b'e-', 4)\n",
      "(10, b'e-', 4)\n",
      "(10, b'e-', 4)\n",
      "(8, b'e-', 5)\n",
      "(8, b'e-', 5)\n",
      "(8, b'e-', 5)\n",
      "(8, b'e-', 5)\n",
      "(8, b'e-', 5)\n",
      "(8, b'e-', 5)\n",
      "(8, b'e-', 5)\n",
      "(8, b'e-', 5)\n",
      "(8, b'e-', 5)\n",
      "(8, b'e-', 5)\n",
      "(8, b'e-', 5)\n",
      "(8, b'e-', 5)\n",
      "(18, b'gamma', 8)\n",
      "(20, b'gamma', 18)\n",
      "(20, b'gamma', 18)\n",
      "(17, b'gamma', 8)\n",
      "(17, b'gamma', 8)\n",
      "(24, b'gamma', 17)\n",
      "(16, b'gamma', 10)\n",
      "(27, b'gamma', 16)\n",
      "(15, b'gamma', 11)\n",
      "(9, b'e+', 5)\n",
      "(9, b'e+', 5)\n",
      "(9, b'e+', 5)\n",
      "(9, b'e+', 5)\n",
      "(9, b'e+', 5)\n",
      "(9, b'e+', 5)\n",
      "(9, b'e+', 5)\n",
      "(9, b'e+', 5)\n",
      "(9, b'e+', 5)\n",
      "(9, b'e+', 5)\n",
      "(9, b'e+', 5)\n",
      "(9, b'e+', 5)\n",
      "(9, b'e+', 5)\n",
      "(9, b'e+', 5)\n",
      "(9, b'e+', 5)\n",
      "(29, b'e-', 15)\n",
      "(29, b'e-', 15)\n",
      "(28, b'e-', 27)\n",
      "(28, b'e-', 27)\n",
      "(26, b'e-', 16)\n",
      "(26, b'e-', 16)\n",
      "(25, b'e-', 24)\n",
      "(25, b'e-', 24)\n",
      "(23, b'e-', 17)\n",
      "(23, b'e-', 17)\n",
      "(23, b'e-', 17)\n",
      "(22, b'e-', 17)\n",
      "(22, b'e-', 17)\n",
      "(22, b'e-', 17)\n",
      "(22, b'e-', 17)\n",
      "(21, b'e-', 20)\n",
      "(21, b'e-', 20)\n",
      "(19, b'e-', 18)\n",
      "(19, b'e-', 18)\n",
      "(33, b'gamma', 9)\n",
      "(35, b'gamma', 33)\n",
      "(32, b'gamma', 9)\n",
      "(32, b'gamma', 9)\n",
      "(32, b'gamma', 9)\n",
      "(40, b'gamma', 32)\n",
      "(31, b'gamma', 9)\n",
      "(30, b'gamma', 9)\n",
      "(44, b'gamma', 30)\n",
      "(44, b'gamma', 30)\n",
      "(45, b'e-', 44)\n",
      "(45, b'e-', 44)\n",
      "(43, b'e-', 30)\n",
      "(43, b'e-', 30)\n",
      "(42, b'e-', 31)\n",
      "(42, b'e-', 31)\n",
      "(41, b'e-', 40)\n",
      "(41, b'e-', 40)\n",
      "(39, b'e-', 32)\n",
      "(39, b'e-', 32)\n",
      "(39, b'e-', 32)\n",
      "(39, b'e-', 32)\n",
      "(38, b'e-', 32)\n",
      "(38, b'e-', 32)\n",
      "(37, b'e-', 32)\n",
      "(37, b'e-', 32)\n",
      "(37, b'e-', 32)\n",
      "(36, b'e-', 35)\n",
      "(36, b'e-', 35)\n",
      "(34, b'e-', 33)\n",
      "(34, b'e-', 33)\n",
      "(34, b'e-', 33)\n",
      "(34, b'e-', 33)\n",
      "(34, b'e-', 33)\n"
     ]
    }
   ],
   "source": [
    "for pair in zip(df.trackid[eventid], df.type[eventid], df.parentid[eventid]):\n",
    "    print(pair)"
   ]
  },
  {
   "cell_type": "code",
   "execution_count": null,
   "metadata": {
    "collapsed": true
   },
   "outputs": [],
   "source": []
  },
  {
   "cell_type": "code",
   "execution_count": null,
   "metadata": {
    "collapsed": true
   },
   "outputs": [],
   "source": []
  }
 ],
 "metadata": {
  "kernelspec": {
   "display_name": "Python 3",
   "language": "python",
   "name": "python3"
  },
  "language_info": {
   "codemirror_mode": {
    "name": "ipython",
    "version": 3
   },
   "file_extension": ".py",
   "mimetype": "text/x-python",
   "name": "python",
   "nbconvert_exporter": "python",
   "pygments_lexer": "ipython3",
   "version": "3.6.0"
  },
  "widgets": {
   "state": {
    "540a71309db34826b1102318f6bd75c8": {
     "views": [
      {
       "cell_index": 1
      }
     ]
    }
   },
   "version": "1.2.0"
  }
 },
 "nbformat": 4,
 "nbformat_minor": 2
}
