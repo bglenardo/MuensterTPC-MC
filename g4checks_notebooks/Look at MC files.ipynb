{
 "cells": [
  {
   "cell_type": "code",
   "execution_count": 18,
   "metadata": {
    "collapsed": false
   },
   "outputs": [],
   "source": [
    "from init import *\n",
    "from rootIO import *"
   ]
  },
  {
   "cell_type": "code",
   "execution_count": null,
   "metadata": {
    "collapsed": false
   },
   "outputs": [
    {
     "name": "stdout",
     "output_type": "stream",
     "text": [
      "/Users/christianwittweg/sciebo/0vECEC_paper/mc_files_for_0vecec_paper/*darwin_Decay0_Xe124_0nukk.root\n"
     ]
    }
   ],
   "source": [
    "#_files_dir = '/Users/christianwittweg/geant4_workdir/MuensterTPC-MC/example_spectra_decay0/'\n",
    "_files_dir = '/Users/christianwittweg/sciebo/0vECEC_paper/mc_files_for_0vecec_paper/'\n",
    "_filename = '*darwin_Decay0_Xe124_'\n",
    "_decayname = '0nukk'\n",
    "_suffix = '.root'\n",
    "\n",
    "_file = _files_dir + _filename + _decayname + _suffix\n",
    "\n",
    "branches= ['eventid','ed', 'xp', 'yp', 'zp', 'type', 'trackid', 'time', 'parentid','etot']\n",
    "\n",
    "df = g4root_to_df(_file,branches,1)\n"
   ]
  },
  {
   "cell_type": "code",
   "execution_count": null,
   "metadata": {
    "collapsed": false
   },
   "outputs": [],
   "source": [
    "df.head()"
   ]
  },
  {
   "cell_type": "code",
   "execution_count": null,
   "metadata": {
    "collapsed": false
   },
   "outputs": [],
   "source": [
    "xpl=np.divide(np.concatenate(df.xp).tolist(),10)\n",
    "ypl=np.divide(np.concatenate(df.yp).tolist(),10)\n",
    "zpl=np.divide(np.concatenate(df.zp).tolist(),10)\n",
    "\n",
    "plt.hist2d(np.power(xpl,2)+np.power(ypl,2), zpl, bins=(100,160), range=((-1000,4000),(-80,80)), norm=colors.LogNorm(), label='Location of energy depositions')\n",
    "plt.colorbar(label='Number of events')\n",
    "plt.vlines(0,-60,60, label='Detector boundary')\n",
    "plt.vlines(3600,-60,60)\n",
    "plt.hlines(-60,0,3600)\n",
    "plt.hlines(60,0,3600)\n",
    "plt.xlabel('$R^2$ (cm$^2$)')\n",
    "plt.ylabel('$Z$ (cm)')\n",
    "plt.legend()\n",
    "plt.draw()\n",
    "plt.show()"
   ]
  },
  {
   "cell_type": "code",
   "execution_count": null,
   "metadata": {
    "collapsed": false
   },
   "outputs": [],
   "source": [
    "eventid=2\n",
    "\n",
    "plt.scatter((np.sqrt(df.xp[eventid]**2+df.yp[eventid]**2)), df.zp[eventid], c=df.time[eventid]*1e9, s=df.ed[eventid]/10)\n",
    "plt.colorbar(label='Time [ns]')\n",
    "plt.xlabel('R [mm]')\n",
    "plt.ylabel('Z [mm]')\n",
    "plt.draw()\n",
    "plt.show()"
   ]
  },
  {
   "cell_type": "code",
   "execution_count": null,
   "metadata": {
    "collapsed": false
   },
   "outputs": [],
   "source": [
    "esum_late=0\n",
    "for pair in zip(np.array(df.iloc[eventid]['time']),np.array(df.iloc[eventid]['ed'])):\n",
    "    if pair[0] > 0.02e-9:\n",
    "        esum_late+=pair[1]\n",
    "        \n",
    "print(esum_late)\n",
    "\n",
    "esum_early=0\n",
    "for pair in zip(np.array(df.iloc[eventid]['time']),np.array(df.iloc[eventid]['ed'])):\n",
    "    if pair[0] < 0.02e-9:\n",
    "        esum_early+=pair[1]\n",
    "        \n",
    "print(esum_early)\n",
    "\n",
    "print(esum_early+esum_late)"
   ]
  },
  {
   "cell_type": "code",
   "execution_count": null,
   "metadata": {
    "collapsed": false
   },
   "outputs": [],
   "source": [
    "plt.hist(df.etot,range=(0,3000),bins=150, label='$E_{\\\\rm{tot}}$')\n",
    "plt.xlabel('E$_{\\\\rm{tot}}$ [keV]')\n",
    "plt.ylabel('Counts')\n",
    "plt.axvline(2856.73, linestyle='--', color='orangered', linewidth=1, label='Q-value 2856.73 keV')\n",
    "plt.axvline(64.33, linestyle='--', color='limegreen', linewidth=1, label='X-rays with 64.33 keV')\n",
    "plt.axvline(2188+64.33, linestyle='--', color='purple', linewidth=1, label='Excited nuclear states + X-rays')\n",
    "plt.axvline(603+64.33, linestyle='--', color='purple', linewidth=1)\n",
    "plt.axvline(1465+64.33, linestyle='--', color='purple', linewidth=1)\n",
    "plt.axvline(723+64.33, linestyle='--', color='purple', linewidth=1)\n",
    "plt.axvline(1326+64.33, linestyle='--', color='purple', linewidth=1)\n",
    "plt.axvline(752+64.33, linestyle='--', color='purple', linewidth=1)\n",
    "plt.axvline(1437+64.33, linestyle='--', color='purple', linewidth=1)\n",
    "plt.axvline(2039+64.33, linestyle='--', color='purple', linewidth=1)\n",
    "\n",
    "plt.yscale('log')\n",
    "\n",
    "plt.legend(frameon=True, loc='upper left')\n",
    "plt.draw()\n",
    "plt.savefig(_decayname+'_etot.pdf', transparent=True, bbox_inches='tight')\n",
    "plt.show()"
   ]
  },
  {
   "cell_type": "code",
   "execution_count": null,
   "metadata": {
    "collapsed": false
   },
   "outputs": [],
   "source": [
    "for pair in zip(df.trackid[eventid], df.type[eventid], df.parentid[eventid]):\n",
    "    print(pair)"
   ]
  },
  {
   "cell_type": "code",
   "execution_count": null,
   "metadata": {
    "collapsed": true
   },
   "outputs": [],
   "source": []
  },
  {
   "cell_type": "code",
   "execution_count": null,
   "metadata": {
    "collapsed": true
   },
   "outputs": [],
   "source": []
  }
 ],
 "metadata": {
  "kernelspec": {
   "display_name": "Python 3",
   "language": "python",
   "name": "python3"
  },
  "language_info": {
   "codemirror_mode": {
    "name": "ipython",
    "version": 3
   },
   "file_extension": ".py",
   "mimetype": "text/x-python",
   "name": "python",
   "nbconvert_exporter": "python",
   "pygments_lexer": "ipython3",
   "version": "3.6.0"
  },
  "widgets": {
   "state": {
    "6631491940154f76a6f4c46439c7b132": {
     "views": [
      {
       "cell_index": 1
      }
     ]
    }
   },
   "version": "1.2.0"
  }
 },
 "nbformat": 4,
 "nbformat_minor": 2
}
